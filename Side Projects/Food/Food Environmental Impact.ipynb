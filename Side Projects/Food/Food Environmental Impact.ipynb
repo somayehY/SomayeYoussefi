{
 "cells": [
  {
   "cell_type": "markdown",
   "id": "1d67db37",
   "metadata": {},
   "source": [
    "As the world’s population has expanded and gotten richer, the demand for food, energy and water has seen a rapid increase. Not only has demand for all three increased, but they are also strongly interlinked: food production requires water and energy; traditional energy production demands water resources; agriculture provides a potential energy source. This article focuses on the environmental impacts of food. Ensuring everyone in the world has access to a nutritious diet in a sustainable way is one of the greatest challenges we face. \n",
    "Columns\n",
    "\n",
    "Land use change - Kg CO2 - equivalents per kg product\n",
    "Animal Feed - Kg CO2 - equivalents per kg product\n",
    "Farm - Kg CO2 - equivalents per kg product\n",
    "Processing - Kg CO2 - equivalents per kg product\n",
    "Transport - Kg CO2 - equivalents per kg product\n",
    "Packaging - Kg CO2 - equivalents per kg product\n",
    "Retail - Kg CO2 - equivalents per kg product\n",
    "\n",
    "The data set can be found [here:]https://www.kaggle.com/selfvivek/environment-impact-of-food-production"
   ]
  }
 ],
 "metadata": {
  "kernelspec": {
   "display_name": "Python 3",
   "language": "python",
   "name": "python3"
  },
  "language_info": {
   "codemirror_mode": {
    "name": "ipython",
    "version": 3
   },
   "file_extension": ".py",
   "mimetype": "text/x-python",
   "name": "python",
   "nbconvert_exporter": "python",
   "pygments_lexer": "ipython3",
   "version": "3.8.8"
  }
 },
 "nbformat": 4,
 "nbformat_minor": 5
}
