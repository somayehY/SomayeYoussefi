{
 "cells": [
  {
   "cell_type": "markdown",
   "id": "927b5cfa",
   "metadata": {},
   "source": [
    "# Lending Club: a default ratio prediction study\n",
    "\n",
    "## Background\n",
    "\n",
    "LendingClub used to be the biggest peer to peer lending platform until 2020, when they changed their business focus. During its operation, LendingClub would establish a platform for borrowers and investors where borrowers were allowed to create loan requests on its website. They were also required to provide their information like credit score, credit history, desired loan amount and the debt-to-income ratio. Based on the data, LendingClub would decide if the loan request would be accepted and what the interest rate would be. Allowable loan range was between $1,000–40,000 and the return period was 3 or 5 years. Investors would make money from interest rates which were varied from 6.03% to 26.06%. LendingClub would make money from charging an origination fee to its borrowers and a service fee to its investors. The interest rates that LendingCub was offering were better for borrowers and lenders than most of banks and therefore, it was highly received. \n",
    "\n",
    "When a request was made, based on the requester’s information such as credit history, LendingClub would decide to either accept or reject the request. For the accepted loans, a credit grade ranging from A to G would be assigned. The credit grade along with other factors would determine the interest rate. For the rejected loan a risk score was assigned. Furthermore, the credit grade would also determine the amount of the origination fee that the requester would be charged, and it would be between 1.1–5.0% of the loan amount. The size of the service fee, that the investor would be charged, would be 1% of all amounts the borrower would pay, which was the requested amount plus the total interest. Therefore, higher interest rates would generate more revenue. However, higher interest rates also indicate a riskier loan which may end up on default and may cause investment loss for LendingClub. Therefore, having a robust method to predict the risk factor of a loan is very desirable. Statistical data shows that about 10% of loans will be defaulted. The question is if we can have a better risk analysis method and ultimately a robust predictive model to decrease loan default ratio by 50% in the next three years.\n",
    "\n",
    "\n",
    "## Data sources\n",
    "\n",
    "The data is from Kaggle website and can be found here: All Lending Club loan data | Kaggle The data is in two files and originate from Lending Club and include information of rejected and accepted loan applications from 2007 to 2018. The accepted file has 2260701 rows and 151 columns, and it includes information about type of loan, funded amount, length of loan, interest rate, grade, installment plan, employment condition (title, length), house ownership status, annual income, loan status, purpose, Fico score (low and high ranges) and if the loan was paid in full. The rejected file has 27648741 rows and 9 columns and include information about the applicant including the debt-to- income ratio, risk score, employment length and amount required.\n",
    "\n"
   ]
  },
  {
   "cell_type": "code",
   "execution_count": 120,
   "id": "ad99940c",
   "metadata": {},
   "outputs": [],
   "source": [
    "import pandas as pd\n",
    "import matplotlib.pyplot as plt\n",
    "import seaborn as sns\n",
    "import os\n",
    "import numpy as np\n",
    "import datetime as dt"
   ]
  },
  {
   "cell_type": "code",
   "execution_count": 151,
   "id": "3fb08f45",
   "metadata": {},
   "outputs": [
    {
     "name": "stderr",
     "output_type": "stream",
     "text": [
      "C:\\Users\\somfl\\anaconda3\\lib\\site-packages\\IPython\\core\\interactiveshell.py:3165: DtypeWarning: Columns (0,19,49,59,118,129,130,131,134,135,136,139,145,146,147) have mixed types.Specify dtype option on import or set low_memory=False.\n",
      "  has_raised = await self.run_ast_nodes(code_ast.body, cell_name,\n"
     ]
    }
   ],
   "source": [
    "filepath = \"C:\\\\Users\\\\somfl\\\\Documents\\\\Data Science Career Track\\\\LendingClub\\\\accepted_2007_to_2018Q4.csv\"\n",
    "df = pd.read_csv(filepath)"
   ]
  },
  {
   "cell_type": "code",
   "execution_count": 122,
   "id": "e2d3336d",
   "metadata": {},
   "outputs": [
    {
     "data": {
      "text/html": [
       "<div>\n",
       "<style scoped>\n",
       "    .dataframe tbody tr th:only-of-type {\n",
       "        vertical-align: middle;\n",
       "    }\n",
       "\n",
       "    .dataframe tbody tr th {\n",
       "        vertical-align: top;\n",
       "    }\n",
       "\n",
       "    .dataframe thead th {\n",
       "        text-align: right;\n",
       "    }\n",
       "</style>\n",
       "<table border=\"1\" class=\"dataframe\">\n",
       "  <thead>\n",
       "    <tr style=\"text-align: right;\">\n",
       "      <th></th>\n",
       "      <th>LoanStatNew</th>\n",
       "      <th>Description</th>\n",
       "    </tr>\n",
       "  </thead>\n",
       "  <tbody>\n",
       "    <tr>\n",
       "      <th>0</th>\n",
       "      <td>acc_now_delinq</td>\n",
       "      <td>The number of accounts on which the borrower i...</td>\n",
       "    </tr>\n",
       "    <tr>\n",
       "      <th>1</th>\n",
       "      <td>acc_open_past_24mths</td>\n",
       "      <td>Number of trades opened in past 24 months.</td>\n",
       "    </tr>\n",
       "    <tr>\n",
       "      <th>2</th>\n",
       "      <td>addr_state</td>\n",
       "      <td>The state provided by the borrower in the loan...</td>\n",
       "    </tr>\n",
       "    <tr>\n",
       "      <th>3</th>\n",
       "      <td>all_util</td>\n",
       "      <td>Balance to credit limit on all trades</td>\n",
       "    </tr>\n",
       "    <tr>\n",
       "      <th>4</th>\n",
       "      <td>annual_inc</td>\n",
       "      <td>The self-reported annual income provided by th...</td>\n",
       "    </tr>\n",
       "    <tr>\n",
       "      <th>...</th>\n",
       "      <td>...</td>\n",
       "      <td>...</td>\n",
       "    </tr>\n",
       "    <tr>\n",
       "      <th>148</th>\n",
       "      <td>settlement_amount</td>\n",
       "      <td>The loan amount that the borrower has agreed t...</td>\n",
       "    </tr>\n",
       "    <tr>\n",
       "      <th>149</th>\n",
       "      <td>settlement_percentage</td>\n",
       "      <td>The settlement amount as a percentage of the p...</td>\n",
       "    </tr>\n",
       "    <tr>\n",
       "      <th>150</th>\n",
       "      <td>settlement_term</td>\n",
       "      <td>The number of months that the borrower will be...</td>\n",
       "    </tr>\n",
       "    <tr>\n",
       "      <th>151</th>\n",
       "      <td>NaN</td>\n",
       "      <td>NaN</td>\n",
       "    </tr>\n",
       "    <tr>\n",
       "      <th>152</th>\n",
       "      <td>NaN</td>\n",
       "      <td>* Employer Title replaces Employer Name for al...</td>\n",
       "    </tr>\n",
       "  </tbody>\n",
       "</table>\n",
       "<p>153 rows × 2 columns</p>\n",
       "</div>"
      ],
      "text/plain": [
       "               LoanStatNew                                        Description\n",
       "0           acc_now_delinq  The number of accounts on which the borrower i...\n",
       "1     acc_open_past_24mths         Number of trades opened in past 24 months.\n",
       "2               addr_state  The state provided by the borrower in the loan...\n",
       "3                 all_util              Balance to credit limit on all trades\n",
       "4               annual_inc  The self-reported annual income provided by th...\n",
       "..                     ...                                                ...\n",
       "148      settlement_amount  The loan amount that the borrower has agreed t...\n",
       "149  settlement_percentage  The settlement amount as a percentage of the p...\n",
       "150        settlement_term  The number of months that the borrower will be...\n",
       "151                    NaN                                                NaN\n",
       "152                    NaN  * Employer Title replaces Employer Name for al...\n",
       "\n",
       "[153 rows x 2 columns]"
      ]
     },
     "execution_count": 122,
     "metadata": {},
     "output_type": "execute_result"
    }
   ],
   "source": [
    "# An excel file is available from LendingClub with the description of the variables in the data files. The excel sheet\n",
    "# is downloaded below.\n",
    "column_desc = pd.read_excel( 'https://resources.lendingclub.com/LCDataDictionary.xlsx')\n",
    "column_desc = column_desc.iloc[:,0:2]\n",
    "column_desc"
   ]
  },
  {
   "cell_type": "code",
   "execution_count": 118,
   "id": "30feac69",
   "metadata": {},
   "outputs": [],
   "source": [
    "# I need to find out what columns to drop. 151 columns are alot of data t work with. To decide what column to drop \n",
    "# I begin by finding the amount of missing data in each coulmn.\n",
    "\n",
    "missing1 = df.isnull().sum()\n",
    "missing2 = 100*df.isnull().mean()\n",
    "missing = pd.concat([missing1, missing2], axis=1)\n",
    "missing.columns = ['count', '%']"
   ]
  },
  {
   "cell_type": "code",
   "execution_count": 49,
   "id": "09fd9d7d",
   "metadata": {
    "scrolled": true
   },
   "outputs": [
    {
     "data": {
      "text/html": [
       "<div>\n",
       "<style scoped>\n",
       "    .dataframe tbody tr th:only-of-type {\n",
       "        vertical-align: middle;\n",
       "    }\n",
       "\n",
       "    .dataframe tbody tr th {\n",
       "        vertical-align: top;\n",
       "    }\n",
       "\n",
       "    .dataframe thead th {\n",
       "        text-align: right;\n",
       "    }\n",
       "</style>\n",
       "<table border=\"1\" class=\"dataframe\">\n",
       "  <thead>\n",
       "    <tr style=\"text-align: right;\">\n",
       "      <th></th>\n",
       "      <th>count</th>\n",
       "      <th>%</th>\n",
       "    </tr>\n",
       "  </thead>\n",
       "  <tbody>\n",
       "    <tr>\n",
       "      <th>member_id</th>\n",
       "      <td>2260701</td>\n",
       "      <td>100.000000</td>\n",
       "    </tr>\n",
       "    <tr>\n",
       "      <th>orig_projected_additional_accrued_interest</th>\n",
       "      <td>2252050</td>\n",
       "      <td>99.617331</td>\n",
       "    </tr>\n",
       "    <tr>\n",
       "      <th>hardship_end_date</th>\n",
       "      <td>2249784</td>\n",
       "      <td>99.517097</td>\n",
       "    </tr>\n",
       "    <tr>\n",
       "      <th>hardship_start_date</th>\n",
       "      <td>2249784</td>\n",
       "      <td>99.517097</td>\n",
       "    </tr>\n",
       "    <tr>\n",
       "      <th>hardship_type</th>\n",
       "      <td>2249784</td>\n",
       "      <td>99.517097</td>\n",
       "    </tr>\n",
       "    <tr>\n",
       "      <th>hardship_reason</th>\n",
       "      <td>2249784</td>\n",
       "      <td>99.517097</td>\n",
       "    </tr>\n",
       "    <tr>\n",
       "      <th>hardship_status</th>\n",
       "      <td>2249784</td>\n",
       "      <td>99.517097</td>\n",
       "    </tr>\n",
       "    <tr>\n",
       "      <th>deferral_term</th>\n",
       "      <td>2249784</td>\n",
       "      <td>99.517097</td>\n",
       "    </tr>\n",
       "    <tr>\n",
       "      <th>hardship_last_payment_amount</th>\n",
       "      <td>2249784</td>\n",
       "      <td>99.517097</td>\n",
       "    </tr>\n",
       "    <tr>\n",
       "      <th>hardship_payoff_balance_amount</th>\n",
       "      <td>2249784</td>\n",
       "      <td>99.517097</td>\n",
       "    </tr>\n",
       "    <tr>\n",
       "      <th>hardship_loan_status</th>\n",
       "      <td>2249784</td>\n",
       "      <td>99.517097</td>\n",
       "    </tr>\n",
       "    <tr>\n",
       "      <th>hardship_dpd</th>\n",
       "      <td>2249784</td>\n",
       "      <td>99.517097</td>\n",
       "    </tr>\n",
       "    <tr>\n",
       "      <th>hardship_length</th>\n",
       "      <td>2249784</td>\n",
       "      <td>99.517097</td>\n",
       "    </tr>\n",
       "    <tr>\n",
       "      <th>payment_plan_start_date</th>\n",
       "      <td>2249784</td>\n",
       "      <td>99.517097</td>\n",
       "    </tr>\n",
       "    <tr>\n",
       "      <th>hardship_amount</th>\n",
       "      <td>2249784</td>\n",
       "      <td>99.517097</td>\n",
       "    </tr>\n",
       "    <tr>\n",
       "      <th>settlement_term</th>\n",
       "      <td>2226455</td>\n",
       "      <td>98.485160</td>\n",
       "    </tr>\n",
       "    <tr>\n",
       "      <th>debt_settlement_flag_date</th>\n",
       "      <td>2226455</td>\n",
       "      <td>98.485160</td>\n",
       "    </tr>\n",
       "    <tr>\n",
       "      <th>settlement_status</th>\n",
       "      <td>2226455</td>\n",
       "      <td>98.485160</td>\n",
       "    </tr>\n",
       "    <tr>\n",
       "      <th>settlement_date</th>\n",
       "      <td>2226455</td>\n",
       "      <td>98.485160</td>\n",
       "    </tr>\n",
       "    <tr>\n",
       "      <th>settlement_amount</th>\n",
       "      <td>2226455</td>\n",
       "      <td>98.485160</td>\n",
       "    </tr>\n",
       "    <tr>\n",
       "      <th>settlement_percentage</th>\n",
       "      <td>2226455</td>\n",
       "      <td>98.485160</td>\n",
       "    </tr>\n",
       "    <tr>\n",
       "      <th>sec_app_mths_since_last_major_derog</th>\n",
       "      <td>2224759</td>\n",
       "      <td>98.410139</td>\n",
       "    </tr>\n",
       "    <tr>\n",
       "      <th>sec_app_revol_util</th>\n",
       "      <td>2154517</td>\n",
       "      <td>95.303050</td>\n",
       "    </tr>\n",
       "    <tr>\n",
       "      <th>revol_bal_joint</th>\n",
       "      <td>2152681</td>\n",
       "      <td>95.221836</td>\n",
       "    </tr>\n",
       "    <tr>\n",
       "      <th>sec_app_mort_acc</th>\n",
       "      <td>2152680</td>\n",
       "      <td>95.221792</td>\n",
       "    </tr>\n",
       "    <tr>\n",
       "      <th>sec_app_fico_range_low</th>\n",
       "      <td>2152680</td>\n",
       "      <td>95.221792</td>\n",
       "    </tr>\n",
       "    <tr>\n",
       "      <th>sec_app_fico_range_high</th>\n",
       "      <td>2152680</td>\n",
       "      <td>95.221792</td>\n",
       "    </tr>\n",
       "    <tr>\n",
       "      <th>sec_app_earliest_cr_line</th>\n",
       "      <td>2152680</td>\n",
       "      <td>95.221792</td>\n",
       "    </tr>\n",
       "    <tr>\n",
       "      <th>sec_app_inq_last_6mths</th>\n",
       "      <td>2152680</td>\n",
       "      <td>95.221792</td>\n",
       "    </tr>\n",
       "    <tr>\n",
       "      <th>sec_app_open_acc</th>\n",
       "      <td>2152680</td>\n",
       "      <td>95.221792</td>\n",
       "    </tr>\n",
       "    <tr>\n",
       "      <th>sec_app_open_act_il</th>\n",
       "      <td>2152680</td>\n",
       "      <td>95.221792</td>\n",
       "    </tr>\n",
       "    <tr>\n",
       "      <th>sec_app_num_rev_accts</th>\n",
       "      <td>2152680</td>\n",
       "      <td>95.221792</td>\n",
       "    </tr>\n",
       "    <tr>\n",
       "      <th>sec_app_chargeoff_within_12_mths</th>\n",
       "      <td>2152680</td>\n",
       "      <td>95.221792</td>\n",
       "    </tr>\n",
       "    <tr>\n",
       "      <th>sec_app_collections_12_mths_ex_med</th>\n",
       "      <td>2152680</td>\n",
       "      <td>95.221792</td>\n",
       "    </tr>\n",
       "    <tr>\n",
       "      <th>verification_status_joint</th>\n",
       "      <td>2144971</td>\n",
       "      <td>94.880791</td>\n",
       "    </tr>\n",
       "    <tr>\n",
       "      <th>dti_joint</th>\n",
       "      <td>2139995</td>\n",
       "      <td>94.660683</td>\n",
       "    </tr>\n",
       "    <tr>\n",
       "      <th>annual_inc_joint</th>\n",
       "      <td>2139991</td>\n",
       "      <td>94.660506</td>\n",
       "    </tr>\n",
       "    <tr>\n",
       "      <th>desc</th>\n",
       "      <td>2134634</td>\n",
       "      <td>94.423544</td>\n",
       "    </tr>\n",
       "    <tr>\n",
       "      <th>mths_since_last_record</th>\n",
       "      <td>1901545</td>\n",
       "      <td>84.113069</td>\n",
       "    </tr>\n",
       "    <tr>\n",
       "      <th>mths_since_recent_bc_dlq</th>\n",
       "      <td>1741000</td>\n",
       "      <td>77.011511</td>\n",
       "    </tr>\n",
       "    <tr>\n",
       "      <th>mths_since_last_major_derog</th>\n",
       "      <td>1679926</td>\n",
       "      <td>74.309960</td>\n",
       "    </tr>\n",
       "    <tr>\n",
       "      <th>mths_since_recent_revol_delinq</th>\n",
       "      <td>1520342</td>\n",
       "      <td>67.250910</td>\n",
       "    </tr>\n",
       "    <tr>\n",
       "      <th>next_pymnt_d</th>\n",
       "      <td>1345343</td>\n",
       "      <td>59.509993</td>\n",
       "    </tr>\n",
       "    <tr>\n",
       "      <th>mths_since_last_delinq</th>\n",
       "      <td>1158535</td>\n",
       "      <td>51.246715</td>\n",
       "    </tr>\n",
       "    <tr>\n",
       "      <th>il_util</th>\n",
       "      <td>1068883</td>\n",
       "      <td>47.281042</td>\n",
       "    </tr>\n",
       "    <tr>\n",
       "      <th>mths_since_rcnt_il</th>\n",
       "      <td>909957</td>\n",
       "      <td>40.251099</td>\n",
       "    </tr>\n",
       "    <tr>\n",
       "      <th>all_util</th>\n",
       "      <td>866381</td>\n",
       "      <td>38.323555</td>\n",
       "    </tr>\n",
       "    <tr>\n",
       "      <th>open_acc_6m</th>\n",
       "      <td>866163</td>\n",
       "      <td>38.313912</td>\n",
       "    </tr>\n",
       "    <tr>\n",
       "      <th>total_cu_tl</th>\n",
       "      <td>866163</td>\n",
       "      <td>38.313912</td>\n",
       "    </tr>\n",
       "    <tr>\n",
       "      <th>inq_last_12m</th>\n",
       "      <td>866163</td>\n",
       "      <td>38.313912</td>\n",
       "    </tr>\n",
       "  </tbody>\n",
       "</table>\n",
       "</div>"
      ],
      "text/plain": [
       "                                              count           %\n",
       "member_id                                   2260701  100.000000\n",
       "orig_projected_additional_accrued_interest  2252050   99.617331\n",
       "hardship_end_date                           2249784   99.517097\n",
       "hardship_start_date                         2249784   99.517097\n",
       "hardship_type                               2249784   99.517097\n",
       "hardship_reason                             2249784   99.517097\n",
       "hardship_status                             2249784   99.517097\n",
       "deferral_term                               2249784   99.517097\n",
       "hardship_last_payment_amount                2249784   99.517097\n",
       "hardship_payoff_balance_amount              2249784   99.517097\n",
       "hardship_loan_status                        2249784   99.517097\n",
       "hardship_dpd                                2249784   99.517097\n",
       "hardship_length                             2249784   99.517097\n",
       "payment_plan_start_date                     2249784   99.517097\n",
       "hardship_amount                             2249784   99.517097\n",
       "settlement_term                             2226455   98.485160\n",
       "debt_settlement_flag_date                   2226455   98.485160\n",
       "settlement_status                           2226455   98.485160\n",
       "settlement_date                             2226455   98.485160\n",
       "settlement_amount                           2226455   98.485160\n",
       "settlement_percentage                       2226455   98.485160\n",
       "sec_app_mths_since_last_major_derog         2224759   98.410139\n",
       "sec_app_revol_util                          2154517   95.303050\n",
       "revol_bal_joint                             2152681   95.221836\n",
       "sec_app_mort_acc                            2152680   95.221792\n",
       "sec_app_fico_range_low                      2152680   95.221792\n",
       "sec_app_fico_range_high                     2152680   95.221792\n",
       "sec_app_earliest_cr_line                    2152680   95.221792\n",
       "sec_app_inq_last_6mths                      2152680   95.221792\n",
       "sec_app_open_acc                            2152680   95.221792\n",
       "sec_app_open_act_il                         2152680   95.221792\n",
       "sec_app_num_rev_accts                       2152680   95.221792\n",
       "sec_app_chargeoff_within_12_mths            2152680   95.221792\n",
       "sec_app_collections_12_mths_ex_med          2152680   95.221792\n",
       "verification_status_joint                   2144971   94.880791\n",
       "dti_joint                                   2139995   94.660683\n",
       "annual_inc_joint                            2139991   94.660506\n",
       "desc                                        2134634   94.423544\n",
       "mths_since_last_record                      1901545   84.113069\n",
       "mths_since_recent_bc_dlq                    1741000   77.011511\n",
       "mths_since_last_major_derog                 1679926   74.309960\n",
       "mths_since_recent_revol_delinq              1520342   67.250910\n",
       "next_pymnt_d                                1345343   59.509993\n",
       "mths_since_last_delinq                      1158535   51.246715\n",
       "il_util                                     1068883   47.281042\n",
       "mths_since_rcnt_il                           909957   40.251099\n",
       "all_util                                     866381   38.323555\n",
       "open_acc_6m                                  866163   38.313912\n",
       "total_cu_tl                                  866163   38.313912\n",
       "inq_last_12m                                 866163   38.313912"
      ]
     },
     "execution_count": 49,
     "metadata": {},
     "output_type": "execute_result"
    }
   ],
   "source": [
    "missing.sort_values(\"count\", ascending=False)[0:50]"
   ]
  },
  {
   "cell_type": "code",
   "execution_count": 50,
   "id": "83796788",
   "metadata": {},
   "outputs": [
    {
     "data": {
      "text/html": [
       "<div>\n",
       "<style scoped>\n",
       "    .dataframe tbody tr th:only-of-type {\n",
       "        vertical-align: middle;\n",
       "    }\n",
       "\n",
       "    .dataframe tbody tr th {\n",
       "        vertical-align: top;\n",
       "    }\n",
       "\n",
       "    .dataframe thead th {\n",
       "        text-align: right;\n",
       "    }\n",
       "</style>\n",
       "<table border=\"1\" class=\"dataframe\">\n",
       "  <thead>\n",
       "    <tr style=\"text-align: right;\">\n",
       "      <th></th>\n",
       "      <th>count</th>\n",
       "      <th>%</th>\n",
       "    </tr>\n",
       "  </thead>\n",
       "  <tbody>\n",
       "    <tr>\n",
       "      <th>open_rv_24m</th>\n",
       "      <td>866162</td>\n",
       "      <td>38.313868</td>\n",
       "    </tr>\n",
       "    <tr>\n",
       "      <th>open_rv_12m</th>\n",
       "      <td>866162</td>\n",
       "      <td>38.313868</td>\n",
       "    </tr>\n",
       "    <tr>\n",
       "      <th>total_bal_il</th>\n",
       "      <td>866162</td>\n",
       "      <td>38.313868</td>\n",
       "    </tr>\n",
       "    <tr>\n",
       "      <th>open_il_24m</th>\n",
       "      <td>866162</td>\n",
       "      <td>38.313868</td>\n",
       "    </tr>\n",
       "    <tr>\n",
       "      <th>open_il_12m</th>\n",
       "      <td>866162</td>\n",
       "      <td>38.313868</td>\n",
       "    </tr>\n",
       "    <tr>\n",
       "      <th>open_act_il</th>\n",
       "      <td>866162</td>\n",
       "      <td>38.313868</td>\n",
       "    </tr>\n",
       "    <tr>\n",
       "      <th>max_bal_bc</th>\n",
       "      <td>866162</td>\n",
       "      <td>38.313868</td>\n",
       "    </tr>\n",
       "    <tr>\n",
       "      <th>inq_fi</th>\n",
       "      <td>866162</td>\n",
       "      <td>38.313868</td>\n",
       "    </tr>\n",
       "    <tr>\n",
       "      <th>mths_since_recent_inq</th>\n",
       "      <td>295468</td>\n",
       "      <td>13.069751</td>\n",
       "    </tr>\n",
       "    <tr>\n",
       "      <th>emp_title</th>\n",
       "      <td>167002</td>\n",
       "      <td>7.387178</td>\n",
       "    </tr>\n",
       "    <tr>\n",
       "      <th>num_tl_120dpd_2m</th>\n",
       "      <td>153690</td>\n",
       "      <td>6.798334</td>\n",
       "    </tr>\n",
       "    <tr>\n",
       "      <th>emp_length</th>\n",
       "      <td>146940</td>\n",
       "      <td>6.499754</td>\n",
       "    </tr>\n",
       "    <tr>\n",
       "      <th>mo_sin_old_il_acct</th>\n",
       "      <td>139104</td>\n",
       "      <td>6.153136</td>\n",
       "    </tr>\n",
       "    <tr>\n",
       "      <th>bc_util</th>\n",
       "      <td>76104</td>\n",
       "      <td>3.366389</td>\n",
       "    </tr>\n",
       "    <tr>\n",
       "      <th>percent_bc_gt_75</th>\n",
       "      <td>75412</td>\n",
       "      <td>3.335779</td>\n",
       "    </tr>\n",
       "    <tr>\n",
       "      <th>bc_open_to_buy</th>\n",
       "      <td>74968</td>\n",
       "      <td>3.316140</td>\n",
       "    </tr>\n",
       "    <tr>\n",
       "      <th>mths_since_recent_bc</th>\n",
       "      <td>73445</td>\n",
       "      <td>3.248771</td>\n",
       "    </tr>\n",
       "    <tr>\n",
       "      <th>pct_tl_nvr_dlq</th>\n",
       "      <td>70464</td>\n",
       "      <td>3.116909</td>\n",
       "    </tr>\n",
       "    <tr>\n",
       "      <th>avg_cur_bal</th>\n",
       "      <td>70379</td>\n",
       "      <td>3.113149</td>\n",
       "    </tr>\n",
       "    <tr>\n",
       "      <th>mo_sin_old_rev_tl_op</th>\n",
       "      <td>70310</td>\n",
       "      <td>3.110097</td>\n",
       "    </tr>\n",
       "    <tr>\n",
       "      <th>mo_sin_rcnt_rev_tl_op</th>\n",
       "      <td>70310</td>\n",
       "      <td>3.110097</td>\n",
       "    </tr>\n",
       "    <tr>\n",
       "      <th>num_rev_accts</th>\n",
       "      <td>70310</td>\n",
       "      <td>3.110097</td>\n",
       "    </tr>\n",
       "    <tr>\n",
       "      <th>mo_sin_rcnt_tl</th>\n",
       "      <td>70309</td>\n",
       "      <td>3.110053</td>\n",
       "    </tr>\n",
       "    <tr>\n",
       "      <th>num_tl_30dpd</th>\n",
       "      <td>70309</td>\n",
       "      <td>3.110053</td>\n",
       "    </tr>\n",
       "    <tr>\n",
       "      <th>num_accts_ever_120_pd</th>\n",
       "      <td>70309</td>\n",
       "      <td>3.110053</td>\n",
       "    </tr>\n",
       "    <tr>\n",
       "      <th>num_actv_rev_tl</th>\n",
       "      <td>70309</td>\n",
       "      <td>3.110053</td>\n",
       "    </tr>\n",
       "    <tr>\n",
       "      <th>num_il_tl</th>\n",
       "      <td>70309</td>\n",
       "      <td>3.110053</td>\n",
       "    </tr>\n",
       "    <tr>\n",
       "      <th>num_op_rev_tl</th>\n",
       "      <td>70309</td>\n",
       "      <td>3.110053</td>\n",
       "    </tr>\n",
       "    <tr>\n",
       "      <th>num_rev_tl_bal_gt_0</th>\n",
       "      <td>70309</td>\n",
       "      <td>3.110053</td>\n",
       "    </tr>\n",
       "    <tr>\n",
       "      <th>num_tl_90g_dpd_24m</th>\n",
       "      <td>70309</td>\n",
       "      <td>3.110053</td>\n",
       "    </tr>\n",
       "    <tr>\n",
       "      <th>num_tl_op_past_12m</th>\n",
       "      <td>70309</td>\n",
       "      <td>3.110053</td>\n",
       "    </tr>\n",
       "    <tr>\n",
       "      <th>tot_hi_cred_lim</th>\n",
       "      <td>70309</td>\n",
       "      <td>3.110053</td>\n",
       "    </tr>\n",
       "    <tr>\n",
       "      <th>total_il_high_credit_limit</th>\n",
       "      <td>70309</td>\n",
       "      <td>3.110053</td>\n",
       "    </tr>\n",
       "    <tr>\n",
       "      <th>num_bc_tl</th>\n",
       "      <td>70309</td>\n",
       "      <td>3.110053</td>\n",
       "    </tr>\n",
       "    <tr>\n",
       "      <th>num_actv_bc_tl</th>\n",
       "      <td>70309</td>\n",
       "      <td>3.110053</td>\n",
       "    </tr>\n",
       "    <tr>\n",
       "      <th>total_rev_hi_lim</th>\n",
       "      <td>70309</td>\n",
       "      <td>3.110053</td>\n",
       "    </tr>\n",
       "    <tr>\n",
       "      <th>tot_coll_amt</th>\n",
       "      <td>70309</td>\n",
       "      <td>3.110053</td>\n",
       "    </tr>\n",
       "    <tr>\n",
       "      <th>tot_cur_bal</th>\n",
       "      <td>70309</td>\n",
       "      <td>3.110053</td>\n",
       "    </tr>\n",
       "    <tr>\n",
       "      <th>num_bc_sats</th>\n",
       "      <td>58623</td>\n",
       "      <td>2.593134</td>\n",
       "    </tr>\n",
       "    <tr>\n",
       "      <th>num_sats</th>\n",
       "      <td>58623</td>\n",
       "      <td>2.593134</td>\n",
       "    </tr>\n",
       "    <tr>\n",
       "      <th>acc_open_past_24mths</th>\n",
       "      <td>50063</td>\n",
       "      <td>2.214490</td>\n",
       "    </tr>\n",
       "    <tr>\n",
       "      <th>mort_acc</th>\n",
       "      <td>50063</td>\n",
       "      <td>2.214490</td>\n",
       "    </tr>\n",
       "    <tr>\n",
       "      <th>total_bc_limit</th>\n",
       "      <td>50063</td>\n",
       "      <td>2.214490</td>\n",
       "    </tr>\n",
       "    <tr>\n",
       "      <th>total_bal_ex_mort</th>\n",
       "      <td>50063</td>\n",
       "      <td>2.214490</td>\n",
       "    </tr>\n",
       "    <tr>\n",
       "      <th>title</th>\n",
       "      <td>23358</td>\n",
       "      <td>1.033219</td>\n",
       "    </tr>\n",
       "    <tr>\n",
       "      <th>last_pymnt_d</th>\n",
       "      <td>2460</td>\n",
       "      <td>0.108816</td>\n",
       "    </tr>\n",
       "    <tr>\n",
       "      <th>revol_util</th>\n",
       "      <td>1835</td>\n",
       "      <td>0.081170</td>\n",
       "    </tr>\n",
       "    <tr>\n",
       "      <th>dti</th>\n",
       "      <td>1744</td>\n",
       "      <td>0.077144</td>\n",
       "    </tr>\n",
       "    <tr>\n",
       "      <th>pub_rec_bankruptcies</th>\n",
       "      <td>1398</td>\n",
       "      <td>0.061839</td>\n",
       "    </tr>\n",
       "    <tr>\n",
       "      <th>chargeoff_within_12_mths</th>\n",
       "      <td>178</td>\n",
       "      <td>0.007874</td>\n",
       "    </tr>\n",
       "  </tbody>\n",
       "</table>\n",
       "</div>"
      ],
      "text/plain": [
       "                             count          %\n",
       "open_rv_24m                 866162  38.313868\n",
       "open_rv_12m                 866162  38.313868\n",
       "total_bal_il                866162  38.313868\n",
       "open_il_24m                 866162  38.313868\n",
       "open_il_12m                 866162  38.313868\n",
       "open_act_il                 866162  38.313868\n",
       "max_bal_bc                  866162  38.313868\n",
       "inq_fi                      866162  38.313868\n",
       "mths_since_recent_inq       295468  13.069751\n",
       "emp_title                   167002   7.387178\n",
       "num_tl_120dpd_2m            153690   6.798334\n",
       "emp_length                  146940   6.499754\n",
       "mo_sin_old_il_acct          139104   6.153136\n",
       "bc_util                      76104   3.366389\n",
       "percent_bc_gt_75             75412   3.335779\n",
       "bc_open_to_buy               74968   3.316140\n",
       "mths_since_recent_bc         73445   3.248771\n",
       "pct_tl_nvr_dlq               70464   3.116909\n",
       "avg_cur_bal                  70379   3.113149\n",
       "mo_sin_old_rev_tl_op         70310   3.110097\n",
       "mo_sin_rcnt_rev_tl_op        70310   3.110097\n",
       "num_rev_accts                70310   3.110097\n",
       "mo_sin_rcnt_tl               70309   3.110053\n",
       "num_tl_30dpd                 70309   3.110053\n",
       "num_accts_ever_120_pd        70309   3.110053\n",
       "num_actv_rev_tl              70309   3.110053\n",
       "num_il_tl                    70309   3.110053\n",
       "num_op_rev_tl                70309   3.110053\n",
       "num_rev_tl_bal_gt_0          70309   3.110053\n",
       "num_tl_90g_dpd_24m           70309   3.110053\n",
       "num_tl_op_past_12m           70309   3.110053\n",
       "tot_hi_cred_lim              70309   3.110053\n",
       "total_il_high_credit_limit   70309   3.110053\n",
       "num_bc_tl                    70309   3.110053\n",
       "num_actv_bc_tl               70309   3.110053\n",
       "total_rev_hi_lim             70309   3.110053\n",
       "tot_coll_amt                 70309   3.110053\n",
       "tot_cur_bal                  70309   3.110053\n",
       "num_bc_sats                  58623   2.593134\n",
       "num_sats                     58623   2.593134\n",
       "acc_open_past_24mths         50063   2.214490\n",
       "mort_acc                     50063   2.214490\n",
       "total_bc_limit               50063   2.214490\n",
       "total_bal_ex_mort            50063   2.214490\n",
       "title                        23358   1.033219\n",
       "last_pymnt_d                  2460   0.108816\n",
       "revol_util                    1835   0.081170\n",
       "dti                           1744   0.077144\n",
       "pub_rec_bankruptcies          1398   0.061839\n",
       "chargeoff_within_12_mths       178   0.007874"
      ]
     },
     "execution_count": 50,
     "metadata": {},
     "output_type": "execute_result"
    }
   ],
   "source": [
    "missing.sort_values(\"count\", ascending=False)[50:100]"
   ]
  },
  {
   "cell_type": "code",
   "execution_count": 119,
   "id": "7a3c8603",
   "metadata": {},
   "outputs": [
    {
     "data": {
      "text/html": [
       "<div>\n",
       "<style scoped>\n",
       "    .dataframe tbody tr th:only-of-type {\n",
       "        vertical-align: middle;\n",
       "    }\n",
       "\n",
       "    .dataframe tbody tr th {\n",
       "        vertical-align: top;\n",
       "    }\n",
       "\n",
       "    .dataframe thead th {\n",
       "        text-align: right;\n",
       "    }\n",
       "</style>\n",
       "<table border=\"1\" class=\"dataframe\">\n",
       "  <thead>\n",
       "    <tr style=\"text-align: right;\">\n",
       "      <th></th>\n",
       "      <th>count</th>\n",
       "      <th>%</th>\n",
       "    </tr>\n",
       "  </thead>\n",
       "  <tbody>\n",
       "    <tr>\n",
       "      <th>collections_12_mths_ex_med</th>\n",
       "      <td>178</td>\n",
       "      <td>0.007874</td>\n",
       "    </tr>\n",
       "    <tr>\n",
       "      <th>tax_liens</th>\n",
       "      <td>138</td>\n",
       "      <td>0.006104</td>\n",
       "    </tr>\n",
       "    <tr>\n",
       "      <th>last_credit_pull_d</th>\n",
       "      <td>105</td>\n",
       "      <td>0.004645</td>\n",
       "    </tr>\n",
       "    <tr>\n",
       "      <th>inq_last_6mths</th>\n",
       "      <td>63</td>\n",
       "      <td>0.002787</td>\n",
       "    </tr>\n",
       "    <tr>\n",
       "      <th>total_acc</th>\n",
       "      <td>62</td>\n",
       "      <td>0.002743</td>\n",
       "    </tr>\n",
       "    <tr>\n",
       "      <th>delinq_2yrs</th>\n",
       "      <td>62</td>\n",
       "      <td>0.002743</td>\n",
       "    </tr>\n",
       "    <tr>\n",
       "      <th>earliest_cr_line</th>\n",
       "      <td>62</td>\n",
       "      <td>0.002743</td>\n",
       "    </tr>\n",
       "    <tr>\n",
       "      <th>open_acc</th>\n",
       "      <td>62</td>\n",
       "      <td>0.002743</td>\n",
       "    </tr>\n",
       "    <tr>\n",
       "      <th>pub_rec</th>\n",
       "      <td>62</td>\n",
       "      <td>0.002743</td>\n",
       "    </tr>\n",
       "    <tr>\n",
       "      <th>acc_now_delinq</th>\n",
       "      <td>62</td>\n",
       "      <td>0.002743</td>\n",
       "    </tr>\n",
       "    <tr>\n",
       "      <th>delinq_amnt</th>\n",
       "      <td>62</td>\n",
       "      <td>0.002743</td>\n",
       "    </tr>\n",
       "    <tr>\n",
       "      <th>annual_inc</th>\n",
       "      <td>37</td>\n",
       "      <td>0.001637</td>\n",
       "    </tr>\n",
       "    <tr>\n",
       "      <th>zip_code</th>\n",
       "      <td>34</td>\n",
       "      <td>0.001504</td>\n",
       "    </tr>\n",
       "    <tr>\n",
       "      <th>purpose</th>\n",
       "      <td>33</td>\n",
       "      <td>0.001460</td>\n",
       "    </tr>\n",
       "    <tr>\n",
       "      <th>issue_d</th>\n",
       "      <td>33</td>\n",
       "      <td>0.001460</td>\n",
       "    </tr>\n",
       "    <tr>\n",
       "      <th>url</th>\n",
       "      <td>33</td>\n",
       "      <td>0.001460</td>\n",
       "    </tr>\n",
       "    <tr>\n",
       "      <th>pymnt_plan</th>\n",
       "      <td>33</td>\n",
       "      <td>0.001460</td>\n",
       "    </tr>\n",
       "    <tr>\n",
       "      <th>sub_grade</th>\n",
       "      <td>33</td>\n",
       "      <td>0.001460</td>\n",
       "    </tr>\n",
       "    <tr>\n",
       "      <th>funded_amnt</th>\n",
       "      <td>33</td>\n",
       "      <td>0.001460</td>\n",
       "    </tr>\n",
       "    <tr>\n",
       "      <th>loan_status</th>\n",
       "      <td>33</td>\n",
       "      <td>0.001460</td>\n",
       "    </tr>\n",
       "    <tr>\n",
       "      <th>loan_amnt</th>\n",
       "      <td>33</td>\n",
       "      <td>0.001460</td>\n",
       "    </tr>\n",
       "    <tr>\n",
       "      <th>installment</th>\n",
       "      <td>33</td>\n",
       "      <td>0.001460</td>\n",
       "    </tr>\n",
       "    <tr>\n",
       "      <th>int_rate</th>\n",
       "      <td>33</td>\n",
       "      <td>0.001460</td>\n",
       "    </tr>\n",
       "    <tr>\n",
       "      <th>debt_settlement_flag</th>\n",
       "      <td>33</td>\n",
       "      <td>0.001460</td>\n",
       "    </tr>\n",
       "    <tr>\n",
       "      <th>verification_status</th>\n",
       "      <td>33</td>\n",
       "      <td>0.001460</td>\n",
       "    </tr>\n",
       "    <tr>\n",
       "      <th>grade</th>\n",
       "      <td>33</td>\n",
       "      <td>0.001460</td>\n",
       "    </tr>\n",
       "    <tr>\n",
       "      <th>term</th>\n",
       "      <td>33</td>\n",
       "      <td>0.001460</td>\n",
       "    </tr>\n",
       "    <tr>\n",
       "      <th>disbursement_method</th>\n",
       "      <td>33</td>\n",
       "      <td>0.001460</td>\n",
       "    </tr>\n",
       "    <tr>\n",
       "      <th>home_ownership</th>\n",
       "      <td>33</td>\n",
       "      <td>0.001460</td>\n",
       "    </tr>\n",
       "    <tr>\n",
       "      <th>funded_amnt_inv</th>\n",
       "      <td>33</td>\n",
       "      <td>0.001460</td>\n",
       "    </tr>\n",
       "    <tr>\n",
       "      <th>application_type</th>\n",
       "      <td>33</td>\n",
       "      <td>0.001460</td>\n",
       "    </tr>\n",
       "    <tr>\n",
       "      <th>hardship_flag</th>\n",
       "      <td>33</td>\n",
       "      <td>0.001460</td>\n",
       "    </tr>\n",
       "    <tr>\n",
       "      <th>addr_state</th>\n",
       "      <td>33</td>\n",
       "      <td>0.001460</td>\n",
       "    </tr>\n",
       "    <tr>\n",
       "      <th>last_fico_range_low</th>\n",
       "      <td>33</td>\n",
       "      <td>0.001460</td>\n",
       "    </tr>\n",
       "    <tr>\n",
       "      <th>last_fico_range_high</th>\n",
       "      <td>33</td>\n",
       "      <td>0.001460</td>\n",
       "    </tr>\n",
       "    <tr>\n",
       "      <th>last_pymnt_amnt</th>\n",
       "      <td>33</td>\n",
       "      <td>0.001460</td>\n",
       "    </tr>\n",
       "    <tr>\n",
       "      <th>collection_recovery_fee</th>\n",
       "      <td>33</td>\n",
       "      <td>0.001460</td>\n",
       "    </tr>\n",
       "    <tr>\n",
       "      <th>recoveries</th>\n",
       "      <td>33</td>\n",
       "      <td>0.001460</td>\n",
       "    </tr>\n",
       "    <tr>\n",
       "      <th>total_rec_late_fee</th>\n",
       "      <td>33</td>\n",
       "      <td>0.001460</td>\n",
       "    </tr>\n",
       "    <tr>\n",
       "      <th>total_rec_int</th>\n",
       "      <td>33</td>\n",
       "      <td>0.001460</td>\n",
       "    </tr>\n",
       "    <tr>\n",
       "      <th>total_rec_prncp</th>\n",
       "      <td>33</td>\n",
       "      <td>0.001460</td>\n",
       "    </tr>\n",
       "    <tr>\n",
       "      <th>total_pymnt_inv</th>\n",
       "      <td>33</td>\n",
       "      <td>0.001460</td>\n",
       "    </tr>\n",
       "    <tr>\n",
       "      <th>total_pymnt</th>\n",
       "      <td>33</td>\n",
       "      <td>0.001460</td>\n",
       "    </tr>\n",
       "    <tr>\n",
       "      <th>out_prncp_inv</th>\n",
       "      <td>33</td>\n",
       "      <td>0.001460</td>\n",
       "    </tr>\n",
       "    <tr>\n",
       "      <th>out_prncp</th>\n",
       "      <td>33</td>\n",
       "      <td>0.001460</td>\n",
       "    </tr>\n",
       "    <tr>\n",
       "      <th>initial_list_status</th>\n",
       "      <td>33</td>\n",
       "      <td>0.001460</td>\n",
       "    </tr>\n",
       "    <tr>\n",
       "      <th>policy_code</th>\n",
       "      <td>33</td>\n",
       "      <td>0.001460</td>\n",
       "    </tr>\n",
       "    <tr>\n",
       "      <th>revol_bal</th>\n",
       "      <td>33</td>\n",
       "      <td>0.001460</td>\n",
       "    </tr>\n",
       "    <tr>\n",
       "      <th>fico_range_high</th>\n",
       "      <td>33</td>\n",
       "      <td>0.001460</td>\n",
       "    </tr>\n",
       "    <tr>\n",
       "      <th>fico_range_low</th>\n",
       "      <td>33</td>\n",
       "      <td>0.001460</td>\n",
       "    </tr>\n",
       "    <tr>\n",
       "      <th>id</th>\n",
       "      <td>0</td>\n",
       "      <td>0.000000</td>\n",
       "    </tr>\n",
       "  </tbody>\n",
       "</table>\n",
       "</div>"
      ],
      "text/plain": [
       "                            count         %\n",
       "collections_12_mths_ex_med    178  0.007874\n",
       "tax_liens                     138  0.006104\n",
       "last_credit_pull_d            105  0.004645\n",
       "inq_last_6mths                 63  0.002787\n",
       "total_acc                      62  0.002743\n",
       "delinq_2yrs                    62  0.002743\n",
       "earliest_cr_line               62  0.002743\n",
       "open_acc                       62  0.002743\n",
       "pub_rec                        62  0.002743\n",
       "acc_now_delinq                 62  0.002743\n",
       "delinq_amnt                    62  0.002743\n",
       "annual_inc                     37  0.001637\n",
       "zip_code                       34  0.001504\n",
       "purpose                        33  0.001460\n",
       "issue_d                        33  0.001460\n",
       "url                            33  0.001460\n",
       "pymnt_plan                     33  0.001460\n",
       "sub_grade                      33  0.001460\n",
       "funded_amnt                    33  0.001460\n",
       "loan_status                    33  0.001460\n",
       "loan_amnt                      33  0.001460\n",
       "installment                    33  0.001460\n",
       "int_rate                       33  0.001460\n",
       "debt_settlement_flag           33  0.001460\n",
       "verification_status            33  0.001460\n",
       "grade                          33  0.001460\n",
       "term                           33  0.001460\n",
       "disbursement_method            33  0.001460\n",
       "home_ownership                 33  0.001460\n",
       "funded_amnt_inv                33  0.001460\n",
       "application_type               33  0.001460\n",
       "hardship_flag                  33  0.001460\n",
       "addr_state                     33  0.001460\n",
       "last_fico_range_low            33  0.001460\n",
       "last_fico_range_high           33  0.001460\n",
       "last_pymnt_amnt                33  0.001460\n",
       "collection_recovery_fee        33  0.001460\n",
       "recoveries                     33  0.001460\n",
       "total_rec_late_fee             33  0.001460\n",
       "total_rec_int                  33  0.001460\n",
       "total_rec_prncp                33  0.001460\n",
       "total_pymnt_inv                33  0.001460\n",
       "total_pymnt                    33  0.001460\n",
       "out_prncp_inv                  33  0.001460\n",
       "out_prncp                      33  0.001460\n",
       "initial_list_status            33  0.001460\n",
       "policy_code                    33  0.001460\n",
       "revol_bal                      33  0.001460\n",
       "fico_range_high                33  0.001460\n",
       "fico_range_low                 33  0.001460\n",
       "id                              0  0.000000"
      ]
     },
     "execution_count": 119,
     "metadata": {},
     "output_type": "execute_result"
    }
   ],
   "source": [
    "missing.sort_values(\"count\", ascending=False)[100:]"
   ]
  },
  {
   "attachments": {},
   "cell_type": "markdown",
   "id": "13c3d91c",
   "metadata": {},
   "source": [
    "## What features (columns) can be dropped?\n",
    "\n",
    "#### General features\n",
    "member_id: it's the id each borrower (or member) in LendingClub is given and because the source data is deidentified, member_ids are removed before publicizing. So the whole column can be dropped.\n",
    "url, \n",
    "zip_code\n",
    "#### Duplicate features.\n",
    "loan_amount is similar to funded amount, so is dropped.\n",
    "funded_amnt_inv is the amount investors fund, does not affect decision and is dropped.\n",
    "\n",
    "Because we are trying to find a better model to decide about loan applications, any feature that is not defined prior to the decision on the loan application can be dropped. Many of the avialble features in the source data refer to th applicant credit card performance during the loan and are irrelavent for initial decision making. These feature include number of bank cards, number of mortages, installments, trades during the loan, delinquecies and etc.  \n",
    "open_rv_24m\t\n",
    "open_rv_12m\t\n",
    "total_bal_il\t\n",
    "open_il_24m\t\n",
    "open_il_12m\t\n",
    "open_act_il\t\n",
    "max_bal_bc\t\t\n",
    "inq_fi\t\t\n",
    "mths_since_recent_inq\n",
    "mths_since_last_record\t\n",
    "mths_since_recent_bc_dlq\t\n",
    "mths_since_last_major_derog\t\n",
    "mths_since_recent_revol_delinq\t\n",
    "next_pymnt_d\t\n",
    "mths_since_last_delinq\t\n",
    "il_util\t\n",
    "mths_since_rcnt_il\t\n",
    "all_util\t\n",
    "open_acc_6m\t\n",
    "total_cu_tl\t\n",
    "inq_last_12m\n",
    "\n",
    "####  orig_projected_additional_accrued_interes:\n",
    "As the descriptive excel sheet describes this feature is the original projected additional interest amount that will accure for the given hardship payment plan as of the Hardship Start Date. This field will be null if the borrower has broken their hardship payment plan. So it's feature which is only available after application decision and in the case of the borrower's harship in returning the loan.\n",
    "#### hardship releven columns which include \n",
    "hardship_startdate, hardship_amount,  hardship_dpd, hardship_end_date, hardship_flag, hardship_last_payment_amount, hardship_length, hardship_loan_status, hardship_payoff_balance_amount, hardship_reason, hardship_start_date, hardship_status hardship_type, payment_plan_start_date, settlement_term, debt_settlement_flag_date, settlement_status\tsettlement_date, settlement_amount, settlement_percentage\n",
    "#### Secondary applicants' data\n",
    "less than 5 percent of applications are joint. For now, I'd like to focus on single applications. Therefore, I'll drop any columns and rows with data of the second applicants. These columns are: sec_app_chargeoff_within_12_mths \n",
    "sec_app_collections_12_mths_ex_med ,sec_app_earliest_cr_line, sec_app_fico_range_high, sec_app_fico_range_low, sec_app_inq_last_6mths, sec_app_mort_acc, sec_app_mths_since_last_major_derog, sec_app_num_rev_accts, sec_app_open_acc, sec_app_open_act_il, sec_app_revol_util, revol_bal_joint, verification_status_joint, dti_joint, annual_inc_joint, desc \n",
    "\n",
    "## What features (columns) are kept?\n",
    "Any feature which is established before the decision on the loan should be kept. Furthermore, features like loan amount,  interest rate and its term that reflect the decision on the loan should be kept.These features include:\n",
    "1.\trevol_util\t\n",
    "2.\tdti\t\t\n",
    "3.\tpub_rec_bankruptcies\t\n",
    "4.\tchargeoff_within_12_mths\t\n",
    "5.\tcollections_12_mths_ex_med\t\n",
    "6.\ttax_liens\t\n",
    "7.\tlast_credit_pull_d\n",
    "8.\tinq_last_6mths\t\n",
    "9.\ttotal_acc\t\n",
    "10.\tdelinq_2yrs\t\n",
    "11.\tearliest_cr_line\t\n",
    "12.\topen_acc\t\n",
    "13.\tpub_rec\t\n",
    "14.\tacc_now_delinq\t\n",
    "15.\tdelinq_amnt\t\t\n",
    "16.\tannual_inc\t\t\n",
    "17.\tpurpose\t\n",
    "18.\tissue_d\t\n",
    "19.\tpymnt_plan\t\n",
    "20.\tsub_grade\t\n",
    "21.\tfunded_amnt\t\n",
    "22.\tloan_status\t\t\n",
    "23.\tinstallment\t\n",
    "24.\tint_rate\t\t\n",
    "25.\tverification_status\t\n",
    "26.\tgrade\t\n",
    "27.\tterm\t\n",
    "28.\tdisbursement_method\t\n",
    "29.\thome_ownership\t\t\n",
    "30.\taddr_state\t\n",
    "31.\tlast_fico_range_low\t\n",
    "32.\tlast_fico_range_high\t\n",
    "33.\tlast_pymnt_amnt\t\n",
    "34.\tcollection_recovery_fee\t\n",
    "35.\trecoveries\t\n",
    "36.\ttotal_rec_late_fee\t\n",
    "37.\ttotal_rec_int\t\n",
    "38.\ttotal_rec_prncp\t\n",
    "39.\ttotal_pymnt_inv\t\n",
    "40.\ttotal_pymnt\t\n",
    "41.\tout_prncp_inv\t\n",
    "42.\tout_prncp\t\n",
    "43.\tinitial_list_status\t\n",
    "44.\tpolicy_code\t\n",
    "45.\trevol_bal\t\n",
    "46.\tfico_range_high\t\n",
    "47.\tfico_range_low\t\n",
    "48.\tid\n",
    "49. emp_length\n",
    "\n"
   ]
  },
  {
   "cell_type": "code",
   "execution_count": 152,
   "id": "d995002a",
   "metadata": {},
   "outputs": [],
   "source": [
    "keeplist = ['revol_util','dti', 'pub_rec_bankruptcies', 'chargeoff_within_12_mths', 'collections_12_mths_ex_med', 'tax_liens',\n",
    "            'last_credit_pull_d', 'inq_last_6mths','total_acc', 'delinq_2yrs', 'earliest_cr_line', 'open_acc', 'pub_rec', 'acc_now_delinq',\n",
    "            'delinq_amnt', 'annual_inc', 'purpose', 'issue_d', 'pymnt_plan', 'sub_grade', 'funded_amnt', 'loan_status', \n",
    "            'installment', 'int_rate', 'verification_status', 'grade', 'term', 'disbursement_method', 'home_ownership', 'addr_state',\n",
    "            'last_fico_range_low', 'last_fico_range_high', 'last_pymnt_amnt', 'collection_recovery_fee', 'recoveries', 'total_rec_late_fee',\n",
    "            'total_rec_int', 'total_rec_prncp', 'total_pymnt_inv', 'total_pymnt', 'out_prncp_inv', 'out_prncp', 'initial_list_status',\n",
    "            'policy_code', 'revol_bal', 'fico_range_high', 'fico_range_low', 'id', 'emp_length']"
   ]
  },
  {
   "cell_type": "code",
   "execution_count": 153,
   "id": "d99de8ea",
   "metadata": {},
   "outputs": [
    {
     "name": "stdout",
     "output_type": "stream",
     "text": [
      "(2139958, 151)\n"
     ]
    },
    {
     "data": {
      "text/plain": [
       "array(['Individual'], dtype=object)"
      ]
     },
     "execution_count": 153,
     "metadata": {},
     "output_type": "execute_result"
    }
   ],
   "source": [
    "# Before dropping unwanted columns, I first need to drop joint application rows.\n",
    "df =df[ df['application_type'] == \"Individual\"]\n",
    "print(df.shape)\n",
    "df['application_type'].unique()"
   ]
  },
  {
   "cell_type": "code",
   "execution_count": 154,
   "id": "bc846b1b",
   "metadata": {},
   "outputs": [
    {
     "data": {
      "text/plain": [
       "(2139958, 49)"
      ]
     },
     "execution_count": 154,
     "metadata": {},
     "output_type": "execute_result"
    }
   ],
   "source": [
    "# At this stage, I drop all irrelevant columns discussed before and only keep those columns in the keeplist. \n",
    "# After dropping unwanted columns, I check the dataframe shape. It can be seen there are 48 columns left.\n",
    "df = df[keeplist]\n",
    "df.shape"
   ]
  },
  {
   "cell_type": "markdown",
   "id": "5fd14f9f",
   "metadata": {},
   "source": [
    "## Checking the missing data in the truncated dataframe\n",
    "Now that we, have drop more than 100 columns and some rows, I check again if there are missing data"
   ]
  },
  {
   "cell_type": "code",
   "execution_count": 155,
   "id": "5cb034b6",
   "metadata": {},
   "outputs": [
    {
     "data": {
      "text/html": [
       "<div>\n",
       "<style scoped>\n",
       "    .dataframe tbody tr th:only-of-type {\n",
       "        vertical-align: middle;\n",
       "    }\n",
       "\n",
       "    .dataframe tbody tr th {\n",
       "        vertical-align: top;\n",
       "    }\n",
       "\n",
       "    .dataframe thead th {\n",
       "        text-align: right;\n",
       "    }\n",
       "</style>\n",
       "<table border=\"1\" class=\"dataframe\">\n",
       "  <thead>\n",
       "    <tr style=\"text-align: right;\">\n",
       "      <th></th>\n",
       "      <th>count</th>\n",
       "      <th>%</th>\n",
       "    </tr>\n",
       "  </thead>\n",
       "  <tbody>\n",
       "    <tr>\n",
       "      <th>emp_length</th>\n",
       "      <td>130357</td>\n",
       "      <td>6.091568</td>\n",
       "    </tr>\n",
       "    <tr>\n",
       "      <th>revol_util</th>\n",
       "      <td>1552</td>\n",
       "      <td>0.072525</td>\n",
       "    </tr>\n",
       "    <tr>\n",
       "      <th>pub_rec_bankruptcies</th>\n",
       "      <td>1365</td>\n",
       "      <td>0.063786</td>\n",
       "    </tr>\n",
       "    <tr>\n",
       "      <th>collections_12_mths_ex_med</th>\n",
       "      <td>145</td>\n",
       "      <td>0.006776</td>\n",
       "    </tr>\n",
       "    <tr>\n",
       "      <th>chargeoff_within_12_mths</th>\n",
       "      <td>145</td>\n",
       "      <td>0.006776</td>\n",
       "    </tr>\n",
       "    <tr>\n",
       "      <th>tax_liens</th>\n",
       "      <td>105</td>\n",
       "      <td>0.004907</td>\n",
       "    </tr>\n",
       "    <tr>\n",
       "      <th>last_credit_pull_d</th>\n",
       "      <td>71</td>\n",
       "      <td>0.003318</td>\n",
       "    </tr>\n",
       "    <tr>\n",
       "      <th>inq_last_6mths</th>\n",
       "      <td>30</td>\n",
       "      <td>0.001402</td>\n",
       "    </tr>\n",
       "    <tr>\n",
       "      <th>open_acc</th>\n",
       "      <td>29</td>\n",
       "      <td>0.001355</td>\n",
       "    </tr>\n",
       "    <tr>\n",
       "      <th>delinq_amnt</th>\n",
       "      <td>29</td>\n",
       "      <td>0.001355</td>\n",
       "    </tr>\n",
       "    <tr>\n",
       "      <th>acc_now_delinq</th>\n",
       "      <td>29</td>\n",
       "      <td>0.001355</td>\n",
       "    </tr>\n",
       "    <tr>\n",
       "      <th>pub_rec</th>\n",
       "      <td>29</td>\n",
       "      <td>0.001355</td>\n",
       "    </tr>\n",
       "    <tr>\n",
       "      <th>earliest_cr_line</th>\n",
       "      <td>29</td>\n",
       "      <td>0.001355</td>\n",
       "    </tr>\n",
       "    <tr>\n",
       "      <th>delinq_2yrs</th>\n",
       "      <td>29</td>\n",
       "      <td>0.001355</td>\n",
       "    </tr>\n",
       "    <tr>\n",
       "      <th>total_acc</th>\n",
       "      <td>29</td>\n",
       "      <td>0.001355</td>\n",
       "    </tr>\n",
       "    <tr>\n",
       "      <th>annual_inc</th>\n",
       "      <td>4</td>\n",
       "      <td>0.000187</td>\n",
       "    </tr>\n",
       "    <tr>\n",
       "      <th>out_prncp_inv</th>\n",
       "      <td>0</td>\n",
       "      <td>0.000000</td>\n",
       "    </tr>\n",
       "    <tr>\n",
       "      <th>recoveries</th>\n",
       "      <td>0</td>\n",
       "      <td>0.000000</td>\n",
       "    </tr>\n",
       "    <tr>\n",
       "      <th>total_rec_late_fee</th>\n",
       "      <td>0</td>\n",
       "      <td>0.000000</td>\n",
       "    </tr>\n",
       "    <tr>\n",
       "      <th>total_rec_int</th>\n",
       "      <td>0</td>\n",
       "      <td>0.000000</td>\n",
       "    </tr>\n",
       "    <tr>\n",
       "      <th>total_rec_prncp</th>\n",
       "      <td>0</td>\n",
       "      <td>0.000000</td>\n",
       "    </tr>\n",
       "    <tr>\n",
       "      <th>total_pymnt_inv</th>\n",
       "      <td>0</td>\n",
       "      <td>0.000000</td>\n",
       "    </tr>\n",
       "    <tr>\n",
       "      <th>total_pymnt</th>\n",
       "      <td>0</td>\n",
       "      <td>0.000000</td>\n",
       "    </tr>\n",
       "    <tr>\n",
       "      <th>fico_range_low</th>\n",
       "      <td>0</td>\n",
       "      <td>0.000000</td>\n",
       "    </tr>\n",
       "    <tr>\n",
       "      <th>out_prncp</th>\n",
       "      <td>0</td>\n",
       "      <td>0.000000</td>\n",
       "    </tr>\n",
       "    <tr>\n",
       "      <th>initial_list_status</th>\n",
       "      <td>0</td>\n",
       "      <td>0.000000</td>\n",
       "    </tr>\n",
       "    <tr>\n",
       "      <th>policy_code</th>\n",
       "      <td>0</td>\n",
       "      <td>0.000000</td>\n",
       "    </tr>\n",
       "    <tr>\n",
       "      <th>revol_bal</th>\n",
       "      <td>0</td>\n",
       "      <td>0.000000</td>\n",
       "    </tr>\n",
       "    <tr>\n",
       "      <th>fico_range_high</th>\n",
       "      <td>0</td>\n",
       "      <td>0.000000</td>\n",
       "    </tr>\n",
       "    <tr>\n",
       "      <th>last_pymnt_amnt</th>\n",
       "      <td>0</td>\n",
       "      <td>0.000000</td>\n",
       "    </tr>\n",
       "    <tr>\n",
       "      <th>id</th>\n",
       "      <td>0</td>\n",
       "      <td>0.000000</td>\n",
       "    </tr>\n",
       "    <tr>\n",
       "      <th>collection_recovery_fee</th>\n",
       "      <td>0</td>\n",
       "      <td>0.000000</td>\n",
       "    </tr>\n",
       "    <tr>\n",
       "      <th>grade</th>\n",
       "      <td>0</td>\n",
       "      <td>0.000000</td>\n",
       "    </tr>\n",
       "    <tr>\n",
       "      <th>last_fico_range_high</th>\n",
       "      <td>0</td>\n",
       "      <td>0.000000</td>\n",
       "    </tr>\n",
       "    <tr>\n",
       "      <th>last_fico_range_low</th>\n",
       "      <td>0</td>\n",
       "      <td>0.000000</td>\n",
       "    </tr>\n",
       "    <tr>\n",
       "      <th>addr_state</th>\n",
       "      <td>0</td>\n",
       "      <td>0.000000</td>\n",
       "    </tr>\n",
       "    <tr>\n",
       "      <th>home_ownership</th>\n",
       "      <td>0</td>\n",
       "      <td>0.000000</td>\n",
       "    </tr>\n",
       "    <tr>\n",
       "      <th>disbursement_method</th>\n",
       "      <td>0</td>\n",
       "      <td>0.000000</td>\n",
       "    </tr>\n",
       "    <tr>\n",
       "      <th>term</th>\n",
       "      <td>0</td>\n",
       "      <td>0.000000</td>\n",
       "    </tr>\n",
       "    <tr>\n",
       "      <th>dti</th>\n",
       "      <td>0</td>\n",
       "      <td>0.000000</td>\n",
       "    </tr>\n",
       "    <tr>\n",
       "      <th>int_rate</th>\n",
       "      <td>0</td>\n",
       "      <td>0.000000</td>\n",
       "    </tr>\n",
       "    <tr>\n",
       "      <th>installment</th>\n",
       "      <td>0</td>\n",
       "      <td>0.000000</td>\n",
       "    </tr>\n",
       "    <tr>\n",
       "      <th>loan_status</th>\n",
       "      <td>0</td>\n",
       "      <td>0.000000</td>\n",
       "    </tr>\n",
       "    <tr>\n",
       "      <th>funded_amnt</th>\n",
       "      <td>0</td>\n",
       "      <td>0.000000</td>\n",
       "    </tr>\n",
       "    <tr>\n",
       "      <th>sub_grade</th>\n",
       "      <td>0</td>\n",
       "      <td>0.000000</td>\n",
       "    </tr>\n",
       "    <tr>\n",
       "      <th>pymnt_plan</th>\n",
       "      <td>0</td>\n",
       "      <td>0.000000</td>\n",
       "    </tr>\n",
       "    <tr>\n",
       "      <th>issue_d</th>\n",
       "      <td>0</td>\n",
       "      <td>0.000000</td>\n",
       "    </tr>\n",
       "    <tr>\n",
       "      <th>purpose</th>\n",
       "      <td>0</td>\n",
       "      <td>0.000000</td>\n",
       "    </tr>\n",
       "    <tr>\n",
       "      <th>verification_status</th>\n",
       "      <td>0</td>\n",
       "      <td>0.000000</td>\n",
       "    </tr>\n",
       "  </tbody>\n",
       "</table>\n",
       "</div>"
      ],
      "text/plain": [
       "                             count         %\n",
       "emp_length                  130357  6.091568\n",
       "revol_util                    1552  0.072525\n",
       "pub_rec_bankruptcies          1365  0.063786\n",
       "collections_12_mths_ex_med     145  0.006776\n",
       "chargeoff_within_12_mths       145  0.006776\n",
       "tax_liens                      105  0.004907\n",
       "last_credit_pull_d              71  0.003318\n",
       "inq_last_6mths                  30  0.001402\n",
       "open_acc                        29  0.001355\n",
       "delinq_amnt                     29  0.001355\n",
       "acc_now_delinq                  29  0.001355\n",
       "pub_rec                         29  0.001355\n",
       "earliest_cr_line                29  0.001355\n",
       "delinq_2yrs                     29  0.001355\n",
       "total_acc                       29  0.001355\n",
       "annual_inc                       4  0.000187\n",
       "out_prncp_inv                    0  0.000000\n",
       "recoveries                       0  0.000000\n",
       "total_rec_late_fee               0  0.000000\n",
       "total_rec_int                    0  0.000000\n",
       "total_rec_prncp                  0  0.000000\n",
       "total_pymnt_inv                  0  0.000000\n",
       "total_pymnt                      0  0.000000\n",
       "fico_range_low                   0  0.000000\n",
       "out_prncp                        0  0.000000\n",
       "initial_list_status              0  0.000000\n",
       "policy_code                      0  0.000000\n",
       "revol_bal                        0  0.000000\n",
       "fico_range_high                  0  0.000000\n",
       "last_pymnt_amnt                  0  0.000000\n",
       "id                               0  0.000000\n",
       "collection_recovery_fee          0  0.000000\n",
       "grade                            0  0.000000\n",
       "last_fico_range_high             0  0.000000\n",
       "last_fico_range_low              0  0.000000\n",
       "addr_state                       0  0.000000\n",
       "home_ownership                   0  0.000000\n",
       "disbursement_method              0  0.000000\n",
       "term                             0  0.000000\n",
       "dti                              0  0.000000\n",
       "int_rate                         0  0.000000\n",
       "installment                      0  0.000000\n",
       "loan_status                      0  0.000000\n",
       "funded_amnt                      0  0.000000\n",
       "sub_grade                        0  0.000000\n",
       "pymnt_plan                       0  0.000000\n",
       "issue_d                          0  0.000000\n",
       "purpose                          0  0.000000\n",
       "verification_status              0  0.000000"
      ]
     },
     "execution_count": 155,
     "metadata": {},
     "output_type": "execute_result"
    }
   ],
   "source": [
    "# Check to see number and percentage of the missing data\n",
    "missing1 = df.isnull().sum()\n",
    "missing2 = 100*df.isnull().mean()\n",
    "missing = pd.concat([missing1, missing2], axis=1)\n",
    "missing.columns = ['count', '%']\n",
    "missing.sort_values(\"count\", ascending=False)"
   ]
  },
  {
   "cell_type": "code",
   "execution_count": 140,
   "id": "c66e0b10",
   "metadata": {},
   "outputs": [
    {
     "data": {
      "text/plain": [
       "array([ 0.,  1.,  2.,  3.,  6.,  7.,  4.,  5.,  9., 10., nan,  8.])"
      ]
     },
     "execution_count": 140,
     "metadata": {},
     "output_type": "execute_result"
    }
   ],
   "source": [
    "df[\"chargeoff_within_12_mths\"].unique()"
   ]
  },
  {
   "cell_type": "code",
   "execution_count": 138,
   "id": "831963ec",
   "metadata": {},
   "outputs": [
    {
     "data": {
      "text/plain": [
       "0          0.0\n",
       "1          0.0\n",
       "2          0.0\n",
       "3          0.0\n",
       "4          0.0\n",
       "          ... \n",
       "2260696    0.0\n",
       "2260697    0.0\n",
       "2260698    0.0\n",
       "2260699    NaN\n",
       "2260700    NaN\n",
       "Name: chargeoff_within_12_mths, Length: 2260701, dtype: float64"
      ]
     },
     "execution_count": 138,
     "metadata": {},
     "output_type": "execute_result"
    }
   ],
   "source": [
    "df[\"chargeoff_within_12_mths\"]"
   ]
  },
  {
   "cell_type": "code",
   "execution_count": 136,
   "id": "e28d9564",
   "metadata": {},
   "outputs": [
    {
     "data": {
      "text/html": [
       "<div>\n",
       "<style scoped>\n",
       "    .dataframe tbody tr th:only-of-type {\n",
       "        vertical-align: middle;\n",
       "    }\n",
       "\n",
       "    .dataframe tbody tr th {\n",
       "        vertical-align: top;\n",
       "    }\n",
       "\n",
       "    .dataframe thead th {\n",
       "        text-align: right;\n",
       "    }\n",
       "</style>\n",
       "<table border=\"1\" class=\"dataframe\">\n",
       "  <thead>\n",
       "    <tr style=\"text-align: right;\">\n",
       "      <th></th>\n",
       "      <th>issue_d</th>\n",
       "      <th>last_credit_pull_d</th>\n",
       "    </tr>\n",
       "  </thead>\n",
       "  <tbody>\n",
       "    <tr>\n",
       "      <th>1650743</th>\n",
       "      <td>Apr-2008</td>\n",
       "      <td>Apr-2009</td>\n",
       "    </tr>\n",
       "    <tr>\n",
       "      <th>1653630</th>\n",
       "      <td>Apr-2008</td>\n",
       "      <td>Apr-2009</td>\n",
       "    </tr>\n",
       "    <tr>\n",
       "      <th>1650739</th>\n",
       "      <td>Apr-2008</td>\n",
       "      <td>Apr-2010</td>\n",
       "    </tr>\n",
       "    <tr>\n",
       "      <th>1650819</th>\n",
       "      <td>Apr-2008</td>\n",
       "      <td>Apr-2010</td>\n",
       "    </tr>\n",
       "    <tr>\n",
       "      <th>1653622</th>\n",
       "      <td>Apr-2008</td>\n",
       "      <td>Apr-2010</td>\n",
       "    </tr>\n",
       "    <tr>\n",
       "      <th>...</th>\n",
       "      <td>...</td>\n",
       "      <td>...</td>\n",
       "    </tr>\n",
       "    <tr>\n",
       "      <th>2038502</th>\n",
       "      <td>NaN</td>\n",
       "      <td>NaN</td>\n",
       "    </tr>\n",
       "    <tr>\n",
       "      <th>2157151</th>\n",
       "      <td>NaN</td>\n",
       "      <td>NaN</td>\n",
       "    </tr>\n",
       "    <tr>\n",
       "      <th>2157152</th>\n",
       "      <td>NaN</td>\n",
       "      <td>NaN</td>\n",
       "    </tr>\n",
       "    <tr>\n",
       "      <th>2260699</th>\n",
       "      <td>NaN</td>\n",
       "      <td>NaN</td>\n",
       "    </tr>\n",
       "    <tr>\n",
       "      <th>2260700</th>\n",
       "      <td>NaN</td>\n",
       "      <td>NaN</td>\n",
       "    </tr>\n",
       "  </tbody>\n",
       "</table>\n",
       "<p>2260701 rows × 2 columns</p>\n",
       "</div>"
      ],
      "text/plain": [
       "          issue_d last_credit_pull_d\n",
       "1650743  Apr-2008           Apr-2009\n",
       "1653630  Apr-2008           Apr-2009\n",
       "1650739  Apr-2008           Apr-2010\n",
       "1650819  Apr-2008           Apr-2010\n",
       "1653622  Apr-2008           Apr-2010\n",
       "...           ...                ...\n",
       "2038502       NaN                NaN\n",
       "2157151       NaN                NaN\n",
       "2157152       NaN                NaN\n",
       "2260699       NaN                NaN\n",
       "2260700       NaN                NaN\n",
       "\n",
       "[2260701 rows x 2 columns]"
      ]
     },
     "execution_count": 136,
     "metadata": {},
     "output_type": "execute_result"
    }
   ],
   "source": [
    "# Should we keep \"last_credit_pull_d\"? Does it refer to before loan approval/rejection? To find out I looked at the two columns.\n",
    "\n",
    "df.loc[:, ['issue_d', 'last_credit_pull_d']].sort_values([\"issue_d\", \"last_credit_pull_d\"], ascending=True)"
   ]
  },
  {
   "cell_type": "code",
   "execution_count": 114,
   "id": "3ecbf8ec",
   "metadata": {},
   "outputs": [
    {
     "data": {
      "image/png": "[encoded data removed]",
      "text/plain": [
       "<Figure size 432x288 with 1 Axes>"
      ]
     },
     "metadata": {
      "needs_background": "light"
     },
     "output_type": "display_data"
    }
   ],
   "source": [
    "fig, ax=plt.subplots()\n",
    "ax.hist(df['hardship_amount'])\n",
    "ax.set_xlabel(\"hardship amount $\")\n",
    "ax.set_ylabel(\"# of observation\")\n",
    "plt.show()"
   ]
  },
  {
   "cell_type": "code",
   "execution_count": 112,
   "id": "15cb6c04",
   "metadata": {},
   "outputs": [
    {
     "data": {
      "text/plain": [
       "Late (16-30 days)     4770\n",
       "In Grace Period       2912\n",
       "Current               2769\n",
       "Late (31-120 days)     451\n",
       "Issued                  15\n",
       "Name: hardship_loan_status, dtype: int64"
      ]
     },
     "execution_count": 112,
     "metadata": {},
     "output_type": "execute_result"
    }
   ],
   "source": [
    "df['hardship_loan_status'].value_counts()"
   ]
  },
  {
   "cell_type": "code",
   "execution_count": 51,
   "id": "fd56aa14",
   "metadata": {},
   "outputs": [
    {
     "data": {
      "text/html": [
       "<div>\n",
       "<style scoped>\n",
       "    .dataframe tbody tr th:only-of-type {\n",
       "        vertical-align: middle;\n",
       "    }\n",
       "\n",
       "    .dataframe tbody tr th {\n",
       "        vertical-align: top;\n",
       "    }\n",
       "\n",
       "    .dataframe thead th {\n",
       "        text-align: right;\n",
       "    }\n",
       "</style>\n",
       "<table border=\"1\" class=\"dataframe\">\n",
       "  <thead>\n",
       "    <tr style=\"text-align: right;\">\n",
       "      <th></th>\n",
       "      <th>count</th>\n",
       "      <th>%</th>\n",
       "    </tr>\n",
       "  </thead>\n",
       "  <tbody>\n",
       "    <tr>\n",
       "      <th>collections_12_mths_ex_med</th>\n",
       "      <td>178</td>\n",
       "      <td>0.007874</td>\n",
       "    </tr>\n",
       "    <tr>\n",
       "      <th>tax_liens</th>\n",
       "      <td>138</td>\n",
       "      <td>0.006104</td>\n",
       "    </tr>\n",
       "    <tr>\n",
       "      <th>last_credit_pull_d</th>\n",
       "      <td>105</td>\n",
       "      <td>0.004645</td>\n",
       "    </tr>\n",
       "    <tr>\n",
       "      <th>inq_last_6mths</th>\n",
       "      <td>63</td>\n",
       "      <td>0.002787</td>\n",
       "    </tr>\n",
       "    <tr>\n",
       "      <th>total_acc</th>\n",
       "      <td>62</td>\n",
       "      <td>0.002743</td>\n",
       "    </tr>\n",
       "    <tr>\n",
       "      <th>delinq_2yrs</th>\n",
       "      <td>62</td>\n",
       "      <td>0.002743</td>\n",
       "    </tr>\n",
       "    <tr>\n",
       "      <th>earliest_cr_line</th>\n",
       "      <td>62</td>\n",
       "      <td>0.002743</td>\n",
       "    </tr>\n",
       "    <tr>\n",
       "      <th>open_acc</th>\n",
       "      <td>62</td>\n",
       "      <td>0.002743</td>\n",
       "    </tr>\n",
       "    <tr>\n",
       "      <th>pub_rec</th>\n",
       "      <td>62</td>\n",
       "      <td>0.002743</td>\n",
       "    </tr>\n",
       "    <tr>\n",
       "      <th>acc_now_delinq</th>\n",
       "      <td>62</td>\n",
       "      <td>0.002743</td>\n",
       "    </tr>\n",
       "    <tr>\n",
       "      <th>delinq_amnt</th>\n",
       "      <td>62</td>\n",
       "      <td>0.002743</td>\n",
       "    </tr>\n",
       "    <tr>\n",
       "      <th>annual_inc</th>\n",
       "      <td>37</td>\n",
       "      <td>0.001637</td>\n",
       "    </tr>\n",
       "    <tr>\n",
       "      <th>zip_code</th>\n",
       "      <td>34</td>\n",
       "      <td>0.001504</td>\n",
       "    </tr>\n",
       "    <tr>\n",
       "      <th>purpose</th>\n",
       "      <td>33</td>\n",
       "      <td>0.001460</td>\n",
       "    </tr>\n",
       "    <tr>\n",
       "      <th>issue_d</th>\n",
       "      <td>33</td>\n",
       "      <td>0.001460</td>\n",
       "    </tr>\n",
       "    <tr>\n",
       "      <th>url</th>\n",
       "      <td>33</td>\n",
       "      <td>0.001460</td>\n",
       "    </tr>\n",
       "    <tr>\n",
       "      <th>pymnt_plan</th>\n",
       "      <td>33</td>\n",
       "      <td>0.001460</td>\n",
       "    </tr>\n",
       "    <tr>\n",
       "      <th>sub_grade</th>\n",
       "      <td>33</td>\n",
       "      <td>0.001460</td>\n",
       "    </tr>\n",
       "    <tr>\n",
       "      <th>funded_amnt</th>\n",
       "      <td>33</td>\n",
       "      <td>0.001460</td>\n",
       "    </tr>\n",
       "    <tr>\n",
       "      <th>loan_status</th>\n",
       "      <td>33</td>\n",
       "      <td>0.001460</td>\n",
       "    </tr>\n",
       "    <tr>\n",
       "      <th>loan_amnt</th>\n",
       "      <td>33</td>\n",
       "      <td>0.001460</td>\n",
       "    </tr>\n",
       "    <tr>\n",
       "      <th>installment</th>\n",
       "      <td>33</td>\n",
       "      <td>0.001460</td>\n",
       "    </tr>\n",
       "    <tr>\n",
       "      <th>int_rate</th>\n",
       "      <td>33</td>\n",
       "      <td>0.001460</td>\n",
       "    </tr>\n",
       "    <tr>\n",
       "      <th>debt_settlement_flag</th>\n",
       "      <td>33</td>\n",
       "      <td>0.001460</td>\n",
       "    </tr>\n",
       "    <tr>\n",
       "      <th>verification_status</th>\n",
       "      <td>33</td>\n",
       "      <td>0.001460</td>\n",
       "    </tr>\n",
       "    <tr>\n",
       "      <th>grade</th>\n",
       "      <td>33</td>\n",
       "      <td>0.001460</td>\n",
       "    </tr>\n",
       "    <tr>\n",
       "      <th>term</th>\n",
       "      <td>33</td>\n",
       "      <td>0.001460</td>\n",
       "    </tr>\n",
       "    <tr>\n",
       "      <th>disbursement_method</th>\n",
       "      <td>33</td>\n",
       "      <td>0.001460</td>\n",
       "    </tr>\n",
       "    <tr>\n",
       "      <th>home_ownership</th>\n",
       "      <td>33</td>\n",
       "      <td>0.001460</td>\n",
       "    </tr>\n",
       "    <tr>\n",
       "      <th>funded_amnt_inv</th>\n",
       "      <td>33</td>\n",
       "      <td>0.001460</td>\n",
       "    </tr>\n",
       "    <tr>\n",
       "      <th>application_type</th>\n",
       "      <td>33</td>\n",
       "      <td>0.001460</td>\n",
       "    </tr>\n",
       "    <tr>\n",
       "      <th>hardship_flag</th>\n",
       "      <td>33</td>\n",
       "      <td>0.001460</td>\n",
       "    </tr>\n",
       "    <tr>\n",
       "      <th>addr_state</th>\n",
       "      <td>33</td>\n",
       "      <td>0.001460</td>\n",
       "    </tr>\n",
       "    <tr>\n",
       "      <th>last_fico_range_low</th>\n",
       "      <td>33</td>\n",
       "      <td>0.001460</td>\n",
       "    </tr>\n",
       "    <tr>\n",
       "      <th>last_fico_range_high</th>\n",
       "      <td>33</td>\n",
       "      <td>0.001460</td>\n",
       "    </tr>\n",
       "    <tr>\n",
       "      <th>last_pymnt_amnt</th>\n",
       "      <td>33</td>\n",
       "      <td>0.001460</td>\n",
       "    </tr>\n",
       "    <tr>\n",
       "      <th>collection_recovery_fee</th>\n",
       "      <td>33</td>\n",
       "      <td>0.001460</td>\n",
       "    </tr>\n",
       "    <tr>\n",
       "      <th>recoveries</th>\n",
       "      <td>33</td>\n",
       "      <td>0.001460</td>\n",
       "    </tr>\n",
       "    <tr>\n",
       "      <th>total_rec_late_fee</th>\n",
       "      <td>33</td>\n",
       "      <td>0.001460</td>\n",
       "    </tr>\n",
       "    <tr>\n",
       "      <th>total_rec_int</th>\n",
       "      <td>33</td>\n",
       "      <td>0.001460</td>\n",
       "    </tr>\n",
       "    <tr>\n",
       "      <th>total_rec_prncp</th>\n",
       "      <td>33</td>\n",
       "      <td>0.001460</td>\n",
       "    </tr>\n",
       "    <tr>\n",
       "      <th>total_pymnt_inv</th>\n",
       "      <td>33</td>\n",
       "      <td>0.001460</td>\n",
       "    </tr>\n",
       "    <tr>\n",
       "      <th>total_pymnt</th>\n",
       "      <td>33</td>\n",
       "      <td>0.001460</td>\n",
       "    </tr>\n",
       "    <tr>\n",
       "      <th>out_prncp_inv</th>\n",
       "      <td>33</td>\n",
       "      <td>0.001460</td>\n",
       "    </tr>\n",
       "    <tr>\n",
       "      <th>out_prncp</th>\n",
       "      <td>33</td>\n",
       "      <td>0.001460</td>\n",
       "    </tr>\n",
       "    <tr>\n",
       "      <th>initial_list_status</th>\n",
       "      <td>33</td>\n",
       "      <td>0.001460</td>\n",
       "    </tr>\n",
       "    <tr>\n",
       "      <th>policy_code</th>\n",
       "      <td>33</td>\n",
       "      <td>0.001460</td>\n",
       "    </tr>\n",
       "    <tr>\n",
       "      <th>revol_bal</th>\n",
       "      <td>33</td>\n",
       "      <td>0.001460</td>\n",
       "    </tr>\n",
       "    <tr>\n",
       "      <th>fico_range_high</th>\n",
       "      <td>33</td>\n",
       "      <td>0.001460</td>\n",
       "    </tr>\n",
       "    <tr>\n",
       "      <th>fico_range_low</th>\n",
       "      <td>33</td>\n",
       "      <td>0.001460</td>\n",
       "    </tr>\n",
       "    <tr>\n",
       "      <th>id</th>\n",
       "      <td>0</td>\n",
       "      <td>0.000000</td>\n",
       "    </tr>\n",
       "  </tbody>\n",
       "</table>\n",
       "</div>"
      ],
      "text/plain": [
       "                            count         %\n",
       "collections_12_mths_ex_med    178  0.007874\n",
       "tax_liens                     138  0.006104\n",
       "last_credit_pull_d            105  0.004645\n",
       "inq_last_6mths                 63  0.002787\n",
       "total_acc                      62  0.002743\n",
       "delinq_2yrs                    62  0.002743\n",
       "earliest_cr_line               62  0.002743\n",
       "open_acc                       62  0.002743\n",
       "pub_rec                        62  0.002743\n",
       "acc_now_delinq                 62  0.002743\n",
       "delinq_amnt                    62  0.002743\n",
       "annual_inc                     37  0.001637\n",
       "zip_code                       34  0.001504\n",
       "purpose                        33  0.001460\n",
       "issue_d                        33  0.001460\n",
       "url                            33  0.001460\n",
       "pymnt_plan                     33  0.001460\n",
       "sub_grade                      33  0.001460\n",
       "funded_amnt                    33  0.001460\n",
       "loan_status                    33  0.001460\n",
       "loan_amnt                      33  0.001460\n",
       "installment                    33  0.001460\n",
       "int_rate                       33  0.001460\n",
       "debt_settlement_flag           33  0.001460\n",
       "verification_status            33  0.001460\n",
       "grade                          33  0.001460\n",
       "term                           33  0.001460\n",
       "disbursement_method            33  0.001460\n",
       "home_ownership                 33  0.001460\n",
       "funded_amnt_inv                33  0.001460\n",
       "application_type               33  0.001460\n",
       "hardship_flag                  33  0.001460\n",
       "addr_state                     33  0.001460\n",
       "last_fico_range_low            33  0.001460\n",
       "last_fico_range_high           33  0.001460\n",
       "last_pymnt_amnt                33  0.001460\n",
       "collection_recovery_fee        33  0.001460\n",
       "recoveries                     33  0.001460\n",
       "total_rec_late_fee             33  0.001460\n",
       "total_rec_int                  33  0.001460\n",
       "total_rec_prncp                33  0.001460\n",
       "total_pymnt_inv                33  0.001460\n",
       "total_pymnt                    33  0.001460\n",
       "out_prncp_inv                  33  0.001460\n",
       "out_prncp                      33  0.001460\n",
       "initial_list_status            33  0.001460\n",
       "policy_code                    33  0.001460\n",
       "revol_bal                      33  0.001460\n",
       "fico_range_high                33  0.001460\n",
       "fico_range_low                 33  0.001460\n",
       "id                              0  0.000000"
      ]
     },
     "execution_count": 51,
     "metadata": {},
     "output_type": "execute_result"
    }
   ],
   "source": [
    "missing.sort_values(\"count\", ascending=False)[100:]"
   ]
  },
  {
   "cell_type": "code",
   "execution_count": null,
   "id": "10431a19",
   "metadata": {},
   "outputs": [],
   "source": []
  },
  {
   "cell_type": "code",
   "execution_count": 110,
   "id": "82f19b49",
   "metadata": {},
   "outputs": [
    {
     "data": {
      "text/plain": [
       "3.0    10917\n",
       "Name: deferral_term, dtype: int64"
      ]
     },
     "execution_count": 110,
     "metadata": {},
     "output_type": "execute_result"
    }
   ],
   "source": [
    "df['deferral_term'].value_counts()"
   ]
  },
  {
   "cell_type": "code",
   "execution_count": 4,
   "id": "e652ba84",
   "metadata": {},
   "outputs": [
    {
     "data": {
      "text/plain": [
       "array(['Fully Paid', 'Current', 'Charged Off', 'In Grace Period',\n",
       "       'Late (31-120 days)', 'Late (16-30 days)', 'Default', nan,\n",
       "       'Does not meet the credit policy. Status:Fully Paid',\n",
       "       'Does not meet the credit policy. Status:Charged Off'],\n",
       "      dtype=object)"
      ]
     },
     "execution_count": 4,
     "metadata": {},
     "output_type": "execute_result"
    }
   ],
   "source": [
    "df[\"loan_status\"].unique()"
   ]
  },
  {
   "cell_type": "code",
   "execution_count": 4,
   "id": "a3a43ef1",
   "metadata": {},
   "outputs": [
    {
     "data": {
      "text/plain": [
       "array([nan, 'BROKEN', 'COMPLETED', 'ACTIVE'], dtype=object)"
      ]
     },
     "execution_count": 4,
     "metadata": {},
     "output_type": "execute_result"
    }
   ],
   "source": [
    "df[\"hardship_status\"].unique()"
   ]
  },
  {
   "cell_type": "code",
   "execution_count": 6,
   "id": "7bce6664",
   "metadata": {},
   "outputs": [
    {
     "data": {
      "text/plain": [
       "COMPLETED    7819\n",
       "BROKEN       2266\n",
       "ACTIVE        832\n",
       "Name: hardship_status, dtype: int64"
      ]
     },
     "execution_count": 6,
     "metadata": {},
     "output_type": "execute_result"
    }
   ],
   "source": [
    "df[\"hardship_status\"].value_counts()"
   ]
  },
  {
   "cell_type": "code",
   "execution_count": 12,
   "id": "7c8742c9",
   "metadata": {},
   "outputs": [
    {
     "data": {
      "text/plain": [
       "array(['N', 'Y', nan], dtype=object)"
      ]
     },
     "execution_count": 12,
     "metadata": {},
     "output_type": "execute_result"
    }
   ],
   "source": [
    "df[\"hardship_flag\"].unique()"
   ]
  },
  {
   "cell_type": "code",
   "execution_count": 7,
   "id": "1abc7c12",
   "metadata": {},
   "outputs": [
    {
     "data": {
      "text/plain": [
       "N    2259836\n",
       "Y        832\n",
       "Name: hardship_flag, dtype: int64"
      ]
     },
     "execution_count": 7,
     "metadata": {},
     "output_type": "execute_result"
    }
   ],
   "source": [
    "df[\"hardship_flag\"].value_counts()"
   ]
  },
  {
   "cell_type": "code",
   "execution_count": 70,
   "id": "1d55a729",
   "metadata": {},
   "outputs": [
    {
     "data": {
      "text/plain": [
       "(1076751, 153)"
      ]
     },
     "execution_count": 70,
     "metadata": {},
     "output_type": "execute_result"
    }
   ],
   "source": [
    "dfFull = df.loc[df[\"loan_status\"]==\"Fully Paid\"]\n",
    "dfFull.shape"
   ]
  },
  {
   "cell_type": "code",
   "execution_count": 33,
   "id": "4a88a48a",
   "metadata": {},
   "outputs": [
    {
     "data": {
      "text/plain": [
       "COMPLETED    1602\n",
       "BROKEN         92\n",
       "Name: hardship_status, dtype: int64"
      ]
     },
     "execution_count": 33,
     "metadata": {},
     "output_type": "execute_result"
    }
   ],
   "source": [
    "dfFull[\"hardship_status\"].value_counts()"
   ]
  },
  {
   "cell_type": "code",
   "execution_count": 34,
   "id": "03fe630b",
   "metadata": {},
   "outputs": [
    {
     "data": {
      "text/plain": [
       "COMPLETED    7819\n",
       "BROKEN       2266\n",
       "ACTIVE        832\n",
       "Name: hardship_status, dtype: int64"
      ]
     },
     "execution_count": 34,
     "metadata": {},
     "output_type": "execute_result"
    }
   ],
   "source": [
    "df[\"hardship_status\"].value_counts()"
   ]
  },
  {
   "cell_type": "code",
   "execution_count": 35,
   "id": "3e7977bb",
   "metadata": {},
   "outputs": [
    {
     "data": {
      "text/plain": [
       "0.0    1076751\n",
       "Name: recoveries, dtype: int64"
      ]
     },
     "execution_count": 35,
     "metadata": {},
     "output_type": "execute_result"
    }
   ],
   "source": [
    "dfFull[\"recoveries\"].value_counts()"
   ]
  },
  {
   "cell_type": "code",
   "execution_count": 36,
   "id": "1bdc2876",
   "metadata": {},
   "outputs": [
    {
     "data": {
      "text/plain": [
       "count        5.00000\n",
       "mean      4179.50800\n",
       "std       5349.44805\n",
       "min        532.00000\n",
       "25%        926.00000\n",
       "50%       2059.00000\n",
       "75%       3926.54000\n",
       "max      13454.00000\n",
       "Name: settlement_amount, dtype: float64"
      ]
     },
     "execution_count": 36,
     "metadata": {},
     "output_type": "execute_result"
    }
   ],
   "source": [
    "dfFull[\"settlement_amount\"].describe()"
   ]
  },
  {
   "cell_type": "code",
   "execution_count": 49,
   "id": "d8dc41bf",
   "metadata": {},
   "outputs": [
    {
     "data": {
      "text/plain": [
       "1037401      532.00\n",
       "40024        926.00\n",
       "23601       2059.00\n",
       "2208257     3926.54\n",
       "1949206    13454.00\n",
       "0               NaN\n",
       "1               NaN\n",
       "2               NaN\n",
       "4               NaN\n",
       "5               NaN\n",
       "Name: settlement_amount, dtype: float64"
      ]
     },
     "execution_count": 49,
     "metadata": {},
     "output_type": "execute_result"
    }
   ],
   "source": [
    "dfFull[\"settlement_amount\"].sort_values()[0:10]"
   ]
  },
  {
   "cell_type": "code",
   "execution_count": 79,
   "id": "0a9bfb69",
   "metadata": {},
   "outputs": [
    {
     "data": {
      "text/html": [
       "<div>\n",
       "<style scoped>\n",
       "    .dataframe tbody tr th:only-of-type {\n",
       "        vertical-align: middle;\n",
       "    }\n",
       "\n",
       "    .dataframe tbody tr th {\n",
       "        vertical-align: top;\n",
       "    }\n",
       "\n",
       "    .dataframe thead th {\n",
       "        text-align: right;\n",
       "    }\n",
       "</style>\n",
       "<table border=\"1\" class=\"dataframe\">\n",
       "  <thead>\n",
       "    <tr style=\"text-align: right;\">\n",
       "      <th></th>\n",
       "      <th>hardship_flag</th>\n",
       "      <th>hardship_status</th>\n",
       "      <th>id</th>\n",
       "    </tr>\n",
       "  </thead>\n",
       "  <tbody>\n",
       "    <tr>\n",
       "      <th>23601</th>\n",
       "      <td>N</td>\n",
       "      <td>NaN</td>\n",
       "      <td>66575056</td>\n",
       "    </tr>\n",
       "    <tr>\n",
       "      <th>40024</th>\n",
       "      <td>N</td>\n",
       "      <td>NaN</td>\n",
       "      <td>66045658</td>\n",
       "    </tr>\n",
       "    <tr>\n",
       "      <th>1037401</th>\n",
       "      <td>N</td>\n",
       "      <td>NaN</td>\n",
       "      <td>73598772</td>\n",
       "    </tr>\n",
       "    <tr>\n",
       "      <th>1949206</th>\n",
       "      <td>N</td>\n",
       "      <td>NaN</td>\n",
       "      <td>89829046</td>\n",
       "    </tr>\n",
       "    <tr>\n",
       "      <th>2208257</th>\n",
       "      <td>N</td>\n",
       "      <td>COMPLETED</td>\n",
       "      <td>93051404</td>\n",
       "    </tr>\n",
       "  </tbody>\n",
       "</table>\n",
       "</div>"
      ],
      "text/plain": [
       "        hardship_flag hardship_status        id\n",
       "23601               N             NaN  66575056\n",
       "40024               N             NaN  66045658\n",
       "1037401             N             NaN  73598772\n",
       "1949206             N             NaN  89829046\n",
       "2208257             N       COMPLETED  93051404"
      ]
     },
     "execution_count": 79,
     "metadata": {},
     "output_type": "execute_result"
    }
   ],
   "source": [
    "dfFull.loc[dfFull[\"settlement_amount\"]>0 , [\"hardship_flag\", \"hardship_status\", \"id\"]]"
   ]
  },
  {
   "cell_type": "code",
   "execution_count": 78,
   "id": "a0822485",
   "metadata": {},
   "outputs": [
    {
     "data": {
      "text/html": [
       "<div>\n",
       "<style scoped>\n",
       "    .dataframe tbody tr th:only-of-type {\n",
       "        vertical-align: middle;\n",
       "    }\n",
       "\n",
       "    .dataframe tbody tr th {\n",
       "        vertical-align: top;\n",
       "    }\n",
       "\n",
       "    .dataframe thead th {\n",
       "        text-align: right;\n",
       "    }\n",
       "</style>\n",
       "<table border=\"1\" class=\"dataframe\">\n",
       "  <thead>\n",
       "    <tr style=\"text-align: right;\">\n",
       "      <th></th>\n",
       "      <th>id</th>\n",
       "      <th>member_id</th>\n",
       "      <th>loan_amnt</th>\n",
       "      <th>funded_amnt</th>\n",
       "      <th>funded_amnt_inv</th>\n",
       "      <th>term</th>\n",
       "      <th>int_rate</th>\n",
       "      <th>installment</th>\n",
       "      <th>grade</th>\n",
       "      <th>sub_grade</th>\n",
       "      <th>...</th>\n",
       "      <th>hardship_payoff_balance_amount</th>\n",
       "      <th>hardship_last_payment_amount</th>\n",
       "      <th>disbursement_method</th>\n",
       "      <th>debt_settlement_flag</th>\n",
       "      <th>debt_settlement_flag_date</th>\n",
       "      <th>settlement_status</th>\n",
       "      <th>settlement_date</th>\n",
       "      <th>settlement_amount</th>\n",
       "      <th>settlement_percentage</th>\n",
       "      <th>settlement_term</th>\n",
       "    </tr>\n",
       "  </thead>\n",
       "  <tbody>\n",
       "    <tr>\n",
       "      <th>2208257</th>\n",
       "      <td>93051404</td>\n",
       "      <td>NaN</td>\n",
       "      <td>7000.0</td>\n",
       "      <td>7000.0</td>\n",
       "      <td>7000.0</td>\n",
       "      <td>36 months</td>\n",
       "      <td>18.99</td>\n",
       "      <td>256.56</td>\n",
       "      <td>D</td>\n",
       "      <td>D3</td>\n",
       "      <td>...</td>\n",
       "      <td>3823.93</td>\n",
       "      <td>205.94</td>\n",
       "      <td>Cash</td>\n",
       "      <td>Y</td>\n",
       "      <td>May-2018</td>\n",
       "      <td>BROKEN</td>\n",
       "      <td>Nov-2017</td>\n",
       "      <td>3926.54</td>\n",
       "      <td>65.0</td>\n",
       "      <td>14.0</td>\n",
       "    </tr>\n",
       "  </tbody>\n",
       "</table>\n",
       "<p>1 rows × 151 columns</p>\n",
       "</div>"
      ],
      "text/plain": [
       "               id  member_id  loan_amnt  funded_amnt  funded_amnt_inv  \\\n",
       "2208257  93051404        NaN     7000.0       7000.0           7000.0   \n",
       "\n",
       "               term  int_rate  installment grade sub_grade  ...  \\\n",
       "2208257   36 months     18.99       256.56     D        D3  ...   \n",
       "\n",
       "        hardship_payoff_balance_amount hardship_last_payment_amount  \\\n",
       "2208257                        3823.93                       205.94   \n",
       "\n",
       "        disbursement_method  debt_settlement_flag debt_settlement_flag_date  \\\n",
       "2208257                Cash                     Y                  May-2018   \n",
       "\n",
       "        settlement_status settlement_date settlement_amount  \\\n",
       "2208257            BROKEN        Nov-2017           3926.54   \n",
       "\n",
       "        settlement_percentage settlement_term  \n",
       "2208257                  65.0            14.0  \n",
       "\n",
       "[1 rows x 151 columns]"
      ]
     },
     "execution_count": 78,
     "metadata": {},
     "output_type": "execute_result"
    }
   ],
   "source": [
    "dfFull[dfFull[\"id\"] ==93051404]"
   ]
  },
  {
   "cell_type": "code",
   "execution_count": null,
   "id": "0e2cd44e",
   "metadata": {},
   "outputs": [],
   "source": [
    "InvestList = [\"grade\", \"sub_grade\", \"\"]"
   ]
  },
  {
   "cell_type": "code",
   "execution_count": 32,
   "id": "cf3d4e49",
   "metadata": {},
   "outputs": [
    {
     "data": {
      "text/plain": [
       "id                          object\n",
       "member_id                  float64\n",
       "loan_amnt                  float64\n",
       "funded_amnt                float64\n",
       "funded_amnt_inv            float64\n",
       "term                        object\n",
       "int_rate                   float64\n",
       "installment                float64\n",
       "grade                       object\n",
       "sub_grade                   object\n",
       "emp_title                   object\n",
       "emp_length                  object\n",
       "home_ownership              object\n",
       "annual_inc                 float64\n",
       "verification_status         object\n",
       "issue_d                     object\n",
       "loan_status                 object\n",
       "pymnt_plan                  object\n",
       "url                         object\n",
       "desc                        object\n",
       "purpose                     object\n",
       "title                       object\n",
       "zip_code                    object\n",
       "addr_state                  object\n",
       "dti                        float64\n",
       "delinq_2yrs                float64\n",
       "earliest_cr_line            object\n",
       "fico_range_low             float64\n",
       "fico_range_high            float64\n",
       "inq_last_6mths             float64\n",
       "mths_since_last_delinq     float64\n",
       "mths_since_last_record     float64\n",
       "open_acc                   float64\n",
       "pub_rec                    float64\n",
       "revol_bal                  float64\n",
       "revol_util                 float64\n",
       "total_acc                  float64\n",
       "initial_list_status         object\n",
       "out_prncp                  float64\n",
       "out_prncp_inv              float64\n",
       "total_pymnt                float64\n",
       "total_pymnt_inv            float64\n",
       "total_rec_prncp            float64\n",
       "total_rec_int              float64\n",
       "total_rec_late_fee         float64\n",
       "recoveries                 float64\n",
       "collection_recovery_fee    float64\n",
       "last_pymnt_d                object\n",
       "last_pymnt_amnt            float64\n",
       "next_pymnt_d                object\n",
       "dtype: object"
      ]
     },
     "execution_count": 32,
     "metadata": {},
     "output_type": "execute_result"
    }
   ],
   "source": [
    "df.dtypes[0:50]"
   ]
  },
  {
   "cell_type": "code",
   "execution_count": 18,
   "id": "ea899527",
   "metadata": {},
   "outputs": [
    {
     "data": {
      "text/plain": [
       "array(['n', 'y', nan], dtype=object)"
      ]
     },
     "execution_count": 18,
     "metadata": {},
     "output_type": "execute_result"
    }
   ],
   "source": [
    "df[\"pymnt_plan\"].unique()"
   ]
  },
  {
   "cell_type": "code",
   "execution_count": 20,
   "id": "0d6e8152",
   "metadata": {},
   "outputs": [
    {
     "data": {
      "text/plain": [
       "array([' 36 months', ' 60 months', nan], dtype=object)"
      ]
     },
     "execution_count": 20,
     "metadata": {},
     "output_type": "execute_result"
    }
   ],
   "source": [
    "df[\"term\"].unique()"
   ]
  },
  {
   "cell_type": "code",
   "execution_count": 24,
   "id": "6a339b0a",
   "metadata": {},
   "outputs": [
    {
     "data": {
      "text/plain": [
       "<seaborn.axisgrid.FacetGrid at 0x2446bb7cd60>"
      ]
     },
     "execution_count": 24,
     "metadata": {},
     "output_type": "execute_result"
    },
    {
     "data": {
      "image/png": "[encoded data removed]",
      "text/plain": [
       "<Figure size 360x360 with 1 Axes>"
      ]
     },
     "metadata": {
      "needs_background": "light"
     },
     "output_type": "display_data"
    }
   ],
   "source": [
    "sns.catplot(x=\"term\",data=df, kind=\"count\")"
   ]
  },
  {
   "cell_type": "code",
   "execution_count": 27,
   "id": "8e16e580",
   "metadata": {},
   "outputs": [
    {
     "data": {
      "text/plain": [
       "<seaborn.axisgrid.FacetGrid at 0x2446bb6f370>"
      ]
     },
     "execution_count": 27,
     "metadata": {},
     "output_type": "execute_result"
    },
    {
     "data": {
      "image/png": "[encoded data removed]",
      "text/plain": [
       "<Figure size 360x360 with 1 Axes>"
      ]
     },
     "metadata": {
      "needs_background": "light"
     },
     "output_type": "display_data"
    }
   ],
   "source": [
    "sns.catplot(y=\"loan_status\",data=df, kind=\"count\")"
   ]
  },
  {
   "cell_type": "code",
   "execution_count": 26,
   "id": "c134564d",
   "metadata": {},
   "outputs": [
    {
     "data": {
      "text/plain": [
       "array(['Fully Paid', 'Current', 'Charged Off', 'In Grace Period',\n",
       "       'Late (31-120 days)', 'Late (16-30 days)', 'Default', nan,\n",
       "       'Does not meet the credit policy. Status:Fully Paid',\n",
       "       'Does not meet the credit policy. Status:Charged Off'],\n",
       "      dtype=object)"
      ]
     },
     "execution_count": 26,
     "metadata": {},
     "output_type": "execute_result"
    }
   ],
   "source": [
    "df['loan_status'].unique()"
   ]
  },
  {
   "cell_type": "code",
   "execution_count": 31,
   "id": "84a9e73a",
   "metadata": {},
   "outputs": [
    {
     "data": {
      "text/plain": [
       "Fully Paid                                             1076751\n",
       "Current                                                 878317\n",
       "Charged Off                                             268559\n",
       "Late (31-120 days)                                       21467\n",
       "In Grace Period                                           8436\n",
       "Late (16-30 days)                                         4349\n",
       "Does not meet the credit policy. Status:Fully Paid        1988\n",
       "Does not meet the credit policy. Status:Charged Off        761\n",
       "Default                                                     40\n",
       "Name: loan_status, dtype: int64"
      ]
     },
     "execution_count": 31,
     "metadata": {},
     "output_type": "execute_result"
    }
   ],
   "source": [
    "df['loan_status'].value_counts()"
   ]
  },
  {
   "cell_type": "code",
   "execution_count": 32,
   "id": "6e1fa04e",
   "metadata": {},
   "outputs": [
    {
     "data": {
      "text/plain": [
       "2260668"
      ]
     },
     "execution_count": 32,
     "metadata": {},
     "output_type": "execute_result"
    }
   ],
   "source": [
    "df['loan_status'].value_counts().sum()"
   ]
  },
  {
   "cell_type": "code",
   "execution_count": 33,
   "id": "041778eb",
   "metadata": {},
   "outputs": [
    {
     "data": {
      "text/plain": [
       "(2260701, 151)"
      ]
     },
     "execution_count": 33,
     "metadata": {},
     "output_type": "execute_result"
    }
   ],
   "source": [
    "df.shape"
   ]
  },
  {
   "cell_type": "code",
   "execution_count": 34,
   "id": "c3cede99",
   "metadata": {},
   "outputs": [
    {
     "data": {
      "text/plain": [
       "33"
      ]
     },
     "execution_count": 34,
     "metadata": {},
     "output_type": "execute_result"
    }
   ],
   "source": [
    "2260701-2260668\n"
   ]
  },
  {
   "cell_type": "code",
   "execution_count": 37,
   "id": "7aa74d94",
   "metadata": {},
   "outputs": [],
   "source": [
    "x = df.loc[2100000,\"issue_d\"]"
   ]
  },
  {
   "cell_type": "code",
   "execution_count": 38,
   "id": "62e1af69",
   "metadata": {},
   "outputs": [
    {
     "data": {
      "text/plain": [
       "'2017'"
      ]
     },
     "execution_count": 38,
     "metadata": {},
     "output_type": "execute_result"
    }
   ],
   "source": [
    "x[4:]"
   ]
  },
  {
   "cell_type": "code",
   "execution_count": 40,
   "id": "4ff5d5b9",
   "metadata": {},
   "outputs": [
    {
     "data": {
      "text/plain": [
       "str"
      ]
     },
     "execution_count": 40,
     "metadata": {},
     "output_type": "execute_result"
    }
   ],
   "source": [
    "type(x)"
   ]
  },
  {
   "cell_type": "code",
   "execution_count": 51,
   "id": "4cc01e9d",
   "metadata": {},
   "outputs": [],
   "source": [
    "df[\"issue_year\"] = df[\"issue_d\"].str[4:]"
   ]
  },
  {
   "cell_type": "code",
   "execution_count": 75,
   "id": "f8fc1fa5",
   "metadata": {},
   "outputs": [
    {
     "data": {
      "text/plain": [
       "<seaborn.axisgrid.FacetGrid at 0x1afd3c14820>"
      ]
     },
     "execution_count": 75,
     "metadata": {},
     "output_type": "execute_result"
    },
    {
     "data": {
      "image/png": "[encoded data removed]",
      "text/plain": [
       "<Figure size 360x360 with 1 Axes>"
      ]
     },
     "metadata": {
      "needs_background": "light"
     },
     "output_type": "display_data"
    }
   ],
   "source": [
    "sns.catplot(y=\"issue_year\", data=df, kind=\"count\", order=[\"2007\", '2008', '2009', '2010', '2011', '2012', '2013', '2014', '2015', '2016', '2017', '2018'])"
   ]
  },
  {
   "cell_type": "code",
   "execution_count": 57,
   "id": "8e92ea40",
   "metadata": {},
   "outputs": [
    {
     "data": {
      "text/plain": [
       "2018    495242\n",
       "2017    443579\n",
       "2016    434407\n",
       "2015    421095\n",
       "2014    235629\n",
       "2013    134814\n",
       "2012     53367\n",
       "2011     21721\n",
       "2010     12537\n",
       "2009      5281\n",
       "2008      2393\n",
       "2007       603\n",
       "Name: issue_year, dtype: int64"
      ]
     },
     "execution_count": 57,
     "metadata": {},
     "output_type": "execute_result"
    }
   ],
   "source": [
    "df[\"issue_year\"].value_counts()"
   ]
  },
  {
   "cell_type": "code",
   "execution_count": 54,
   "id": "0ff3e8c0",
   "metadata": {},
   "outputs": [
    {
     "data": {
      "text/plain": [
       "2260668"
      ]
     },
     "execution_count": 54,
     "metadata": {},
     "output_type": "execute_result"
    }
   ],
   "source": [
    "df[\"issue_year\"].value_counts().sum()"
   ]
  },
  {
   "cell_type": "code",
   "execution_count": 55,
   "id": "84489c82",
   "metadata": {},
   "outputs": [
    {
     "data": {
      "text/plain": [
       "(2260701, 152)"
      ]
     },
     "execution_count": 55,
     "metadata": {},
     "output_type": "execute_result"
    }
   ],
   "source": [
    "df.shape"
   ]
  },
  {
   "cell_type": "code",
   "execution_count": 56,
   "id": "c1f43c1e",
   "metadata": {},
   "outputs": [
    {
     "data": {
      "text/plain": [
       "33"
      ]
     },
     "execution_count": 56,
     "metadata": {},
     "output_type": "execute_result"
    }
   ],
   "source": [
    "2260701-2260668\n"
   ]
  },
  {
   "cell_type": "code",
   "execution_count": 62,
   "id": "010519c9",
   "metadata": {},
   "outputs": [
    {
     "data": {
      "text/plain": [
       "array(['C', 'B', 'F', 'A', 'E', 'D', 'G', nan], dtype=object)"
      ]
     },
     "execution_count": 62,
     "metadata": {},
     "output_type": "execute_result"
    }
   ],
   "source": [
    "df[\"grade\"].unique()"
   ]
  },
  {
   "cell_type": "code",
   "execution_count": 63,
   "id": "c210bbae",
   "metadata": {},
   "outputs": [
    {
     "data": {
      "text/plain": [
       "array(['C4', 'C1', 'B4', 'C5', 'F1', 'C3', 'B2', 'B1', 'A2', 'B5', 'C2',\n",
       "       'E2', 'A4', 'E3', 'A1', 'D4', 'F3', 'D1', 'B3', 'E4', 'D3', 'D2',\n",
       "       'D5', 'A5', 'F2', 'E1', 'F5', 'E5', 'A3', 'G2', 'G1', 'G3', 'G4',\n",
       "       'F4', 'G5', nan], dtype=object)"
      ]
     },
     "execution_count": 63,
     "metadata": {},
     "output_type": "execute_result"
    }
   ],
   "source": [
    "df[\"sub_grade\"].unique()"
   ]
  },
  {
   "cell_type": "code",
   "execution_count": 66,
   "id": "2468be51",
   "metadata": {},
   "outputs": [],
   "source": [
    "df[\"sub_g\"] = df[\"sub_grade\"].str[1]"
   ]
  },
  {
   "cell_type": "code",
   "execution_count": 73,
   "id": "a704f5af",
   "metadata": {},
   "outputs": [
    {
     "data": {
      "text/plain": [
       "Text(0.5, 1.0, 'All loans grade/subgrade distribution')"
      ]
     },
     "execution_count": 73,
     "metadata": {},
     "output_type": "execute_result"
    },
    {
     "data": {
      "image/png": "[encoded data removed]",
      "text/plain": [
       "<Figure size 432x288 with 1 Axes>"
      ]
     },
     "metadata": {
      "needs_background": "light"
     },
     "output_type": "display_data"
    }
   ],
   "source": [
    "sns.countplot(x=\"grade\", data=df, hue=\"sub_g\", order = ['A', 'B', 'C', 'D', 'E', 'F', 'G'], hue_order=['1', '2', '3', '4', '5'])\n",
    "plt.title(\"All loans grade/subgrade distribution\")"
   ]
  },
  {
   "cell_type": "code",
   "execution_count": 74,
   "id": "e70c271c",
   "metadata": {},
   "outputs": [
    {
     "data": {
      "text/plain": [
       "Text(0.5, 1.0, 'Fully-paid loans grade/subgrade distribution')"
      ]
     },
     "execution_count": 74,
     "metadata": {},
     "output_type": "execute_result"
    },
    {
     "data": {
      "image/png": "[encoded data removed]",
      "text/plain": [
       "<Figure size 432x288 with 1 Axes>"
      ]
     },
     "metadata": {
      "needs_background": "light"
     },
     "output_type": "display_data"
    }
   ],
   "source": [
    "sns.countplot(x=\"grade\", data=dfFull, hue=\"sub_g\", order = ['A', 'B', 'C', 'D', 'E', 'F', 'G'], hue_order=['1', '2', '3', '4', '5'])\n",
    "plt.title(\"Fully-paid loans grade/subgrade distribution\")"
   ]
  },
  {
   "cell_type": "code",
   "execution_count": 81,
   "id": "b9536606",
   "metadata": {},
   "outputs": [],
   "source": [
    "droplist=['collection_recovery_fee', 'collection_12_mths_ex_med', 'debt_settlement_flag', 'debt_settlement_flag_date', 'desc',\n",
    "         'disbursement_method', 'addr_state', 'initial_list_status', 'policy_code', 'purpose', 'title', 'url',\n",
    "         'verification_status', 'verified_status_joint', 'zip_code', 'member_id']"
   ]
  },
  {
   "cell_type": "code",
   "execution_count": 79,
   "id": "ddab1ad3",
   "metadata": {},
   "outputs": [
    {
     "data": {
      "text/plain": [
       "15"
      ]
     },
     "execution_count": 79,
     "metadata": {},
     "output_type": "execute_result"
    }
   ],
   "source": [
    "len(droplist)"
   ]
  },
  {
   "cell_type": "code",
   "execution_count": 80,
   "id": "e8afbdda",
   "metadata": {},
   "outputs": [
    {
     "data": {
      "text/plain": [
       "Individual    2139958\n",
       "Joint App      120710\n",
       "Name: application_type, dtype: int64"
      ]
     },
     "execution_count": 80,
     "metadata": {},
     "output_type": "execute_result"
    }
   ],
   "source": [
    "df[\"application_type\"].value_counts()"
   ]
  },
  {
   "cell_type": "code",
   "execution_count": 84,
   "id": "ed780435",
   "metadata": {},
   "outputs": [
    {
     "data": {
      "image/png": "[encoded data removed]",
      "text/plain": [
       "<Figure size 432x288 with 1 Axes>"
      ]
     },
     "metadata": {
      "needs_background": "light"
     },
     "output_type": "display_data"
    }
   ],
   "source": [
    "fig, ax=plt.subplots()\n",
    "ax.hist(df['loan_amnt'])\n",
    "ax.set_xlabel(\"Loan amount $\")\n",
    "ax.set_ylabel(\"# of observation\")\n",
    "plt.show()"
   ]
  },
  {
   "cell_type": "code",
   "execution_count": 104,
   "id": "6f86e4b2",
   "metadata": {},
   "outputs": [
    {
     "data": {
      "image/png": "[encoded data removed]",
      "text/plain": [
       "<Figure size 432x288 with 1 Axes>"
      ]
     },
     "metadata": {
      "needs_background": "light"
     },
     "output_type": "display_data"
    }
   ],
   "source": [
    "fig, ax=plt.subplots()\n",
    "ax.hist(df['funded_amnt'])\n",
    "ax.set_xlabel(\"Initial loan amount $\")\n",
    "ax.set_ylabel(\"# of observation\")\n",
    "plt.show()"
   ]
  },
  {
   "cell_type": "code",
   "execution_count": 108,
   "id": "c18d438c",
   "metadata": {},
   "outputs": [
    {
     "data": {
      "text/plain": [
       "0          0.0\n",
       "1          0.0\n",
       "2          0.0\n",
       "3          0.0\n",
       "4          0.0\n",
       "          ... \n",
       "2260696    0.0\n",
       "2260697    0.0\n",
       "2260698    0.0\n",
       "2260699    NaN\n",
       "2260700    NaN\n",
       "Length: 2260701, dtype: float64"
      ]
     },
     "execution_count": 108,
     "metadata": {},
     "output_type": "execute_result"
    }
   ],
   "source": [
    "(df['loan_amnt'] - df['funded_amnt'])\n"
   ]
  },
  {
   "cell_type": "code",
   "execution_count": null,
   "id": "bb50f68c",
   "metadata": {},
   "outputs": [],
   "source": []
  }
 ],
 "metadata": {
  "kernelspec": {
   "display_name": "Python 3",
   "language": "python",
   "name": "python3"
  },
  "language_info": {
   "codemirror_mode": {
    "name": "ipython",
    "version": 3
   },
   "file_extension": ".py",
   "mimetype": "text/x-python",
   "name": "python",
   "nbconvert_exporter": "python",
   "pygments_lexer": "ipython3",
   "version": "3.8.8"
  }
 },
 "nbformat": 4,
 "nbformat_minor": 5
}
