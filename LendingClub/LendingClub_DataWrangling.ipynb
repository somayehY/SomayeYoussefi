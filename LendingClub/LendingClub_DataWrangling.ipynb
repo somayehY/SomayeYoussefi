{
 "cells": [
  {
   "cell_type": "markdown",
   "id": "7b4accb1",
   "metadata": {},
   "source": [
    "# Lending Club: a default ratio prediction study\n",
    "\n",
    "## Background\n",
    "\n",
    "LendingClub used to be the biggest peer to peer lending platform until 2020, when they changed their business focus. During its operation, LendingClub would establish a platform for borrowers and investors where borrowers were allowed to create loan requests on its website. They were also required to provide their information like credit score, credit history, desired loan amount and the debt-to-income ratio. Based on the data, LendingClub would decide if the loan request would be accepted and what the interest rate would be. Allowable loan range was between $1,000–40,000 and the return period was 3 or 5 years. Investors would make money from interest rates which were varied from 6.03% to 26.06%. LendingClub would make money from charging an origination fee to its borrowers and a service fee to its investors. The interest rates that LendingCub was offering were better for borrowers and lenders than most of banks and therefore, it was highly received. \n",
    "\n",
    "When a request was made, based on the requester’s information such as credit history, LendingClub would decide to either accept or reject the request. For the accepted loans, a credit grade ranging from A to G would be assigned. The credit grade along with other factors would determine the interest rate. For the rejected loan a risk score was assigned. Furthermore, the credit grade would also determine the amount of the origination fee that the requester would be charged, and it would be between 1.1–5.0% of the loan amount. The size of the service fee, that the investor would be charged, would be 1% of all amounts the borrower would pay, which was the requested amount plus the total interest. Therefore, higher interest rates would generate more revenue. However, higher interest rates also indicate a riskier loan which may end up on default and may cause investment loss for LendingClub. Therefore, having a robust method to predict the risk factor of a loan is very desirable. Statistical data shows that about 10% of loans will be defaulted. The question is if we can have a better risk analysis method and ultimately a robust predictive model to decrease loan default ratio by 50% in the next three years.\n",
    "\n",
    "\n",
    "## Data sources\n",
    "\n",
    "The data is from Kaggle website and can be found here: All Lending Club loan data | Kaggle The data is in two files and originate from Lending Club and include information of rejected and accepted loan applications from 2007 to 2018. The accepted file has 2260701 rows and 151 columns, and it includes information about type of loan, funded amount, length of loan, interest rate, grade, installment plan, employment condition (title, length), house ownership status, annual income, loan status, purpose, Fico score (low and high ranges) and if the loan was paid in full. The rejected file has 27648741 rows and 9 columns and include information about the applicant including the debt-to- income ratio, risk score, employment length and amount required.\n",
    "\n"
   ]
  },
  {
   "cell_type": "code",
   "execution_count": 120,
   "id": "ad99940c",
   "metadata": {},
   "outputs": [],
   "source": [
    "import pandas as pd\n",
    "import matplotlib.pyplot as plt\n",
    "import seaborn as sns\n",
    "import os\n",
    "import numpy as np\n",
    "import datetime as dt"
   ]
  },
  {
   "cell_type": "code",
   "execution_count": 151,
   "id": "3fb08f45",
   "metadata": {},
   "outputs": [
    {
     "name": "stderr",
     "output_type": "stream",
     "text": [
      "C:\\Users\\somfl\\anaconda3\\lib\\site-packages\\IPython\\core\\interactiveshell.py:3165: DtypeWarning: Columns (0,19,49,59,118,129,130,131,134,135,136,139,145,146,147) have mixed types.Specify dtype option on import or set low_memory=False.\n",
      "  has_raised = await self.run_ast_nodes(code_ast.body, cell_name,\n"
     ]
    }
   ],
   "source": [
    "filepath = \"C:\\\\Users\\\\somfl\\\\Documents\\\\Data Science Career Track\\\\LendingClub\\\\accepted_2007_to_2018Q4.csv\"\n",
    "df = pd.read_csv(filepath)"
   ]
  },
  {
   "cell_type": "code",
   "execution_count": 122,
   "id": "ad3233ce",
   "metadata": {},
   "outputs": [
    {
     "data": {
      "text/html": [
       "<div>\n",
       "<style scoped>\n",
       "    .dataframe tbody tr th:only-of-type {\n",
       "        vertical-align: middle;\n",
       "    }\n",
       "\n",
       "    .dataframe tbody tr th {\n",
       "        vertical-align: top;\n",
       "    }\n",
       "\n",
       "    .dataframe thead th {\n",
       "        text-align: right;\n",
       "    }\n",
       "</style>\n",
       "<table border=\"1\" class=\"dataframe\">\n",
       "  <thead>\n",
       "    <tr style=\"text-align: right;\">\n",
       "      <th></th>\n",
       "      <th>LoanStatNew</th>\n",
       "      <th>Description</th>\n",
       "    </tr>\n",
       "  </thead>\n",
       "  <tbody>\n",
       "    <tr>\n",
       "      <th>0</th>\n",
       "      <td>acc_now_delinq</td>\n",
       "      <td>The number of accounts on which the borrower i...</td>\n",
       "    </tr>\n",
       "    <tr>\n",
       "      <th>1</th>\n",
       "      <td>acc_open_past_24mths</td>\n",
       "      <td>Number of trades opened in past 24 months.</td>\n",
       "    </tr>\n",
       "    <tr>\n",
       "      <th>2</th>\n",
       "      <td>addr_state</td>\n",
       "      <td>The state provided by the borrower in the loan...</td>\n",
       "    </tr>\n",
       "    <tr>\n",
       "      <th>3</th>\n",
       "      <td>all_util</td>\n",
       "      <td>Balance to credit limit on all trades</td>\n",
       "    </tr>\n",
       "    <tr>\n",
       "      <th>4</th>\n",
       "      <td>annual_inc</td>\n",
       "      <td>The self-reported annual income provided by th...</td>\n",
       "    </tr>\n",
       "    <tr>\n",
       "      <th>...</th>\n",
       "      <td>...</td>\n",
       "      <td>...</td>\n",
       "    </tr>\n",
       "    <tr>\n",
       "      <th>148</th>\n",
       "      <td>settlement_amount</td>\n",
       "      <td>The loan amount that the borrower has agreed t...</td>\n",
       "    </tr>\n",
       "    <tr>\n",
       "      <th>149</th>\n",
       "      <td>settlement_percentage</td>\n",
       "      <td>The settlement amount as a percentage of the p...</td>\n",
       "    </tr>\n",
       "    <tr>\n",
       "      <th>150</th>\n",
       "      <td>settlement_term</td>\n",
       "      <td>The number of months that the borrower will be...</td>\n",
       "    </tr>\n",
       "    <tr>\n",
       "      <th>151</th>\n",
       "      <td>NaN</td>\n",
       "      <td>NaN</td>\n",
       "    </tr>\n",
       "    <tr>\n",
       "      <th>152</th>\n",
       "      <td>NaN</td>\n",
       "      <td>* Employer Title replaces Employer Name for al...</td>\n",
       "    </tr>\n",
       "  </tbody>\n",
       "</table>\n",
       "<p>153 rows × 2 columns</p>\n",
       "</div>"
      ],
      "text/plain": [
       "               LoanStatNew                                        Description\n",
       "0           acc_now_delinq  The number of accounts on which the borrower i...\n",
       "1     acc_open_past_24mths         Number of trades opened in past 24 months.\n",
       "2               addr_state  The state provided by the borrower in the loan...\n",
       "3                 all_util              Balance to credit limit on all trades\n",
       "4               annual_inc  The self-reported annual income provided by th...\n",
       "..                     ...                                                ...\n",
       "148      settlement_amount  The loan amount that the borrower has agreed t...\n",
       "149  settlement_percentage  The settlement amount as a percentage of the p...\n",
       "150        settlement_term  The number of months that the borrower will be...\n",
       "151                    NaN                                                NaN\n",
       "152                    NaN  * Employer Title replaces Employer Name for al...\n",
       "\n",
       "[153 rows x 2 columns]"
      ]
     },
     "execution_count": 122,
     "metadata": {},
     "output_type": "execute_result"
    }
   ],
   "source": [
    "# An excel file is available from LendingClub with the description of the variables in the data files. The excel sheet\n",
    "# is downloaded below.\n",
    "column_desc = pd.read_excel( 'https://resources.lendingclub.com/LCDataDictionary.xlsx')\n",
    "column_desc = column_desc.iloc[:,0:2]\n",
    "column_desc"
   ]
  },
  {
   "cell_type": "code",
   "execution_count": 118,
   "id": "30feac69",
   "metadata": {},
   "outputs": [],
   "source": [
    "# I need to find out what columns to drop. 151 columns are alot of data t work with. To decide what column to drop \n",
    "# I begin by finding the amount of missing data in each coulmn.\n",
    "\n",
    "missing1 = df.isnull().sum()\n",
    "missing2 = 100*df.isnull().mean()\n",
    "missing = pd.concat([missing1, missing2], axis=1)\n",
    "missing.columns = ['count', '%']"
   ]
  },
  {
   "cell_type": "code",
   "execution_count": 49,
   "id": "09fd9d7d",
   "metadata": {
    "scrolled": true
   },
   "outputs": [
    {
     "data": {
      "text/html": [
       "<div>\n",
       "<style scoped>\n",
       "    .dataframe tbody tr th:only-of-type {\n",
       "        vertical-align: middle;\n",
       "    }\n",
       "\n",
       "    .dataframe tbody tr th {\n",
       "        vertical-align: top;\n",
       "    }\n",
       "\n",
       "    .dataframe thead th {\n",
       "        text-align: right;\n",
       "    }\n",
       "</style>\n",
       "<table border=\"1\" class=\"dataframe\">\n",
       "  <thead>\n",
       "    <tr style=\"text-align: right;\">\n",
       "      <th></th>\n",
       "      <th>count</th>\n",
       "      <th>%</th>\n",
       "    </tr>\n",
       "  </thead>\n",
       "  <tbody>\n",
       "    <tr>\n",
       "      <th>member_id</th>\n",
       "      <td>2260701</td>\n",
       "      <td>100.000000</td>\n",
       "    </tr>\n",
       "    <tr>\n",
       "      <th>orig_projected_additional_accrued_interest</th>\n",
       "      <td>2252050</td>\n",
       "      <td>99.617331</td>\n",
       "    </tr>\n",
       "    <tr>\n",
       "      <th>hardship_end_date</th>\n",
       "      <td>2249784</td>\n",
       "      <td>99.517097</td>\n",
       "    </tr>\n",
       "    <tr>\n",
       "      <th>hardship_start_date</th>\n",
       "      <td>2249784</td>\n",
       "      <td>99.517097</td>\n",
       "    </tr>\n",
       "    <tr>\n",
       "      <th>hardship_type</th>\n",
       "      <td>2249784</td>\n",
       "      <td>99.517097</td>\n",
       "    </tr>\n",
       "    <tr>\n",
       "      <th>hardship_reason</th>\n",
       "      <td>2249784</td>\n",
       "      <td>99.517097</td>\n",
       "    </tr>\n",
       "    <tr>\n",
       "      <th>hardship_status</th>\n",
       "      <td>2249784</td>\n",
       "      <td>99.517097</td>\n",
       "    </tr>\n",
       "    <tr>\n",
       "      <th>deferral_term</th>\n",
       "      <td>2249784</td>\n",
       "      <td>99.517097</td>\n",
       "    </tr>\n",
       "    <tr>\n",
       "      <th>hardship_last_payment_amount</th>\n",
       "      <td>2249784</td>\n",
       "      <td>99.517097</td>\n",
       "    </tr>\n",
       "    <tr>\n",
       "      <th>hardship_payoff_balance_amount</th>\n",
       "      <td>2249784</td>\n",
       "      <td>99.517097</td>\n",
       "    </tr>\n",
       "    <tr>\n",
       "      <th>hardship_loan_status</th>\n",
       "      <td>2249784</td>\n",
       "      <td>99.517097</td>\n",
       "    </tr>\n",
       "    <tr>\n",
       "      <th>hardship_dpd</th>\n",
       "      <td>2249784</td>\n",
       "      <td>99.517097</td>\n",
       "    </tr>\n",
       "    <tr>\n",
       "      <th>hardship_length</th>\n",
       "      <td>2249784</td>\n",
       "      <td>99.517097</td>\n",
       "    </tr>\n",
       "    <tr>\n",
       "      <th>payment_plan_start_date</th>\n",
       "      <td>2249784</td>\n",
       "      <td>99.517097</td>\n",
       "    </tr>\n",
       "    <tr>\n",
       "      <th>hardship_amount</th>\n",
       "      <td>2249784</td>\n",
       "      <td>99.517097</td>\n",
       "    </tr>\n",
       "    <tr>\n",
       "      <th>settlement_term</th>\n",
       "      <td>2226455</td>\n",
       "      <td>98.485160</td>\n",
       "    </tr>\n",
       "    <tr>\n",
       "      <th>debt_settlement_flag_date</th>\n",
       "      <td>2226455</td>\n",
       "      <td>98.485160</td>\n",
       "    </tr>\n",
       "    <tr>\n",
       "      <th>settlement_status</th>\n",
       "      <td>2226455</td>\n",
       "      <td>98.485160</td>\n",
       "    </tr>\n",
       "    <tr>\n",
       "      <th>settlement_date</th>\n",
       "      <td>2226455</td>\n",
       "      <td>98.485160</td>\n",
       "    </tr>\n",
       "    <tr>\n",
       "      <th>settlement_amount</th>\n",
       "      <td>2226455</td>\n",
       "      <td>98.485160</td>\n",
       "    </tr>\n",
       "    <tr>\n",
       "      <th>settlement_percentage</th>\n",
       "      <td>2226455</td>\n",
       "      <td>98.485160</td>\n",
       "    </tr>\n",
       "    <tr>\n",
       "      <th>sec_app_mths_since_last_major_derog</th>\n",
       "      <td>2224759</td>\n",
       "      <td>98.410139</td>\n",
       "    </tr>\n",
       "    <tr>\n",
       "      <th>sec_app_revol_util</th>\n",
       "      <td>2154517</td>\n",
       "      <td>95.303050</td>\n",
       "    </tr>\n",
       "    <tr>\n",
       "      <th>revol_bal_joint</th>\n",
       "      <td>2152681</td>\n",
       "      <td>95.221836</td>\n",
       "    </tr>\n",
       "    <tr>\n",
       "      <th>sec_app_mort_acc</th>\n",
       "      <td>2152680</td>\n",
       "      <td>95.221792</td>\n",
       "    </tr>\n",
       "    <tr>\n",
       "      <th>sec_app_fico_range_low</th>\n",
       "      <td>2152680</td>\n",
       "      <td>95.221792</td>\n",
       "    </tr>\n",
       "    <tr>\n",
       "      <th>sec_app_fico_range_high</th>\n",
       "      <td>2152680</td>\n",
       "      <td>95.221792</td>\n",
       "    </tr>\n",
       "    <tr>\n",
       "      <th>sec_app_earliest_cr_line</th>\n",
       "      <td>2152680</td>\n",
       "      <td>95.221792</td>\n",
       "    </tr>\n",
       "    <tr>\n",
       "      <th>sec_app_inq_last_6mths</th>\n",
       "      <td>2152680</td>\n",
       "      <td>95.221792</td>\n",
       "    </tr>\n",
       "    <tr>\n",
       "      <th>sec_app_open_acc</th>\n",
       "      <td>2152680</td>\n",
       "      <td>95.221792</td>\n",
       "    </tr>\n",
       "    <tr>\n",
       "      <th>sec_app_open_act_il</th>\n",
       "      <td>2152680</td>\n",
       "      <td>95.221792</td>\n",
       "    </tr>\n",
       "    <tr>\n",
       "      <th>sec_app_num_rev_accts</th>\n",
       "      <td>2152680</td>\n",
       "      <td>95.221792</td>\n",
       "    </tr>\n",
       "    <tr>\n",
       "      <th>sec_app_chargeoff_within_12_mths</th>\n",
       "      <td>2152680</td>\n",
       "      <td>95.221792</td>\n",
       "    </tr>\n",
       "    <tr>\n",
       "      <th>sec_app_collections_12_mths_ex_med</th>\n",
       "      <td>2152680</td>\n",
       "      <td>95.221792</td>\n",
       "    </tr>\n",
       "    <tr>\n",
       "      <th>verification_status_joint</th>\n",
       "      <td>2144971</td>\n",
       "      <td>94.880791</td>\n",
       "    </tr>\n",
       "    <tr>\n",
       "      <th>dti_joint</th>\n",
       "      <td>2139995</td>\n",
       "      <td>94.660683</td>\n",
       "    </tr>\n",
       "    <tr>\n",
       "      <th>annual_inc_joint</th>\n",
       "      <td>2139991</td>\n",
       "      <td>94.660506</td>\n",
       "    </tr>\n",
       "    <tr>\n",
       "      <th>desc</th>\n",
       "      <td>2134634</td>\n",
       "      <td>94.423544</td>\n",
       "    </tr>\n",
       "    <tr>\n",
       "      <th>mths_since_last_record</th>\n",
       "      <td>1901545</td>\n",
       "      <td>84.113069</td>\n",
       "    </tr>\n",
       "    <tr>\n",
       "      <th>mths_since_recent_bc_dlq</th>\n",
       "      <td>1741000</td>\n",
       "      <td>77.011511</td>\n",
       "    </tr>\n",
       "    <tr>\n",
       "      <th>mths_since_last_major_derog</th>\n",
       "      <td>1679926</td>\n",
       "      <td>74.309960</td>\n",
       "    </tr>\n",
       "    <tr>\n",
       "      <th>mths_since_recent_revol_delinq</th>\n",
       "      <td>1520342</td>\n",
       "      <td>67.250910</td>\n",
       "    </tr>\n",
       "    <tr>\n",
       "      <th>next_pymnt_d</th>\n",
       "      <td>1345343</td>\n",
       "      <td>59.509993</td>\n",
       "    </tr>\n",
       "    <tr>\n",
       "      <th>mths_since_last_delinq</th>\n",
       "      <td>1158535</td>\n",
       "      <td>51.246715</td>\n",
       "    </tr>\n",
       "    <tr>\n",
       "      <th>il_util</th>\n",
       "      <td>1068883</td>\n",
       "      <td>47.281042</td>\n",
       "    </tr>\n",
       "    <tr>\n",
       "      <th>mths_since_rcnt_il</th>\n",
       "      <td>909957</td>\n",
       "      <td>40.251099</td>\n",
       "    </tr>\n",
       "    <tr>\n",
       "      <th>all_util</th>\n",
       "      <td>866381</td>\n",
       "      <td>38.323555</td>\n",
       "    </tr>\n",
       "    <tr>\n",
       "      <th>open_acc_6m</th>\n",
       "      <td>866163</td>\n",
       "      <td>38.313912</td>\n",
       "    </tr>\n",
       "    <tr>\n",
       "      <th>total_cu_tl</th>\n",
       "      <td>866163</td>\n",
       "      <td>38.313912</td>\n",
       "    </tr>\n",
       "    <tr>\n",
       "      <th>inq_last_12m</th>\n",
       "      <td>866163</td>\n",
       "      <td>38.313912</td>\n",
       "    </tr>\n",
       "  </tbody>\n",
       "</table>\n",
       "</div>"
      ],
      "text/plain": [
       "                                              count           %\n",
       "member_id                                   2260701  100.000000\n",
       "orig_projected_additional_accrued_interest  2252050   99.617331\n",
       "hardship_end_date                           2249784   99.517097\n",
       "hardship_start_date                         2249784   99.517097\n",
       "hardship_type                               2249784   99.517097\n",
       "hardship_reason                             2249784   99.517097\n",
       "hardship_status                             2249784   99.517097\n",
       "deferral_term                               2249784   99.517097\n",
       "hardship_last_payment_amount                2249784   99.517097\n",
       "hardship_payoff_balance_amount              2249784   99.517097\n",
       "hardship_loan_status                        2249784   99.517097\n",
       "hardship_dpd                                2249784   99.517097\n",
       "hardship_length                             2249784   99.517097\n",
       "payment_plan_start_date                     2249784   99.517097\n",
       "hardship_amount                             2249784   99.517097\n",
       "settlement_term                             2226455   98.485160\n",
       "debt_settlement_flag_date                   2226455   98.485160\n",
       "settlement_status                           2226455   98.485160\n",
       "settlement_date                             2226455   98.485160\n",
       "settlement_amount                           2226455   98.485160\n",
       "settlement_percentage                       2226455   98.485160\n",
       "sec_app_mths_since_last_major_derog         2224759   98.410139\n",
       "sec_app_revol_util                          2154517   95.303050\n",
       "revol_bal_joint                             2152681   95.221836\n",
       "sec_app_mort_acc                            2152680   95.221792\n",
       "sec_app_fico_range_low                      2152680   95.221792\n",
       "sec_app_fico_range_high                     2152680   95.221792\n",
       "sec_app_earliest_cr_line                    2152680   95.221792\n",
       "sec_app_inq_last_6mths                      2152680   95.221792\n",
       "sec_app_open_acc                            2152680   95.221792\n",
       "sec_app_open_act_il                         2152680   95.221792\n",
       "sec_app_num_rev_accts                       2152680   95.221792\n",
       "sec_app_chargeoff_within_12_mths            2152680   95.221792\n",
       "sec_app_collections_12_mths_ex_med          2152680   95.221792\n",
       "verification_status_joint                   2144971   94.880791\n",
       "dti_joint                                   2139995   94.660683\n",
       "annual_inc_joint                            2139991   94.660506\n",
       "desc                                        2134634   94.423544\n",
       "mths_since_last_record                      1901545   84.113069\n",
       "mths_since_recent_bc_dlq                    1741000   77.011511\n",
       "mths_since_last_major_derog                 1679926   74.309960\n",
       "mths_since_recent_revol_delinq              1520342   67.250910\n",
       "next_pymnt_d                                1345343   59.509993\n",
       "mths_since_last_delinq                      1158535   51.246715\n",
       "il_util                                     1068883   47.281042\n",
       "mths_since_rcnt_il                           909957   40.251099\n",
       "all_util                                     866381   38.323555\n",
       "open_acc_6m                                  866163   38.313912\n",
       "total_cu_tl                                  866163   38.313912\n",
       "inq_last_12m                                 866163   38.313912"
      ]
     },
     "execution_count": 49,
     "metadata": {},
     "output_type": "execute_result"
    }
   ],
   "source": [
    "missing.sort_values(\"count\", ascending=False)[0:50]"
   ]
  },
  {
   "cell_type": "code",
   "execution_count": 50,
   "id": "83796788",
   "metadata": {},
   "outputs": [
    {
     "data": {
      "text/html": [
       "<div>\n",
       "<style scoped>\n",
       "    .dataframe tbody tr th:only-of-type {\n",
       "        vertical-align: middle;\n",
       "    }\n",
       "\n",
       "    .dataframe tbody tr th {\n",
       "        vertical-align: top;\n",
       "    }\n",
       "\n",
       "    .dataframe thead th {\n",
       "        text-align: right;\n",
       "    }\n",
       "</style>\n",
       "<table border=\"1\" class=\"dataframe\">\n",
       "  <thead>\n",
       "    <tr style=\"text-align: right;\">\n",
       "      <th></th>\n",
       "      <th>count</th>\n",
       "      <th>%</th>\n",
       "    </tr>\n",
       "  </thead>\n",
       "  <tbody>\n",
       "    <tr>\n",
       "      <th>open_rv_24m</th>\n",
       "      <td>866162</td>\n",
       "      <td>38.313868</td>\n",
       "    </tr>\n",
       "    <tr>\n",
       "      <th>open_rv_12m</th>\n",
       "      <td>866162</td>\n",
       "      <td>38.313868</td>\n",
       "    </tr>\n",
       "    <tr>\n",
       "      <th>total_bal_il</th>\n",
       "      <td>866162</td>\n",
       "      <td>38.313868</td>\n",
       "    </tr>\n",
       "    <tr>\n",
       "      <th>open_il_24m</th>\n",
       "      <td>866162</td>\n",
       "      <td>38.313868</td>\n",
       "    </tr>\n",
       "    <tr>\n",
       "      <th>open_il_12m</th>\n",
       "      <td>866162</td>\n",
       "      <td>38.313868</td>\n",
       "    </tr>\n",
       "    <tr>\n",
       "      <th>open_act_il</th>\n",
       "      <td>866162</td>\n",
       "      <td>38.313868</td>\n",
       "    </tr>\n",
       "    <tr>\n",
       "      <th>max_bal_bc</th>\n",
       "      <td>866162</td>\n",
       "      <td>38.313868</td>\n",
       "    </tr>\n",
       "    <tr>\n",
       "      <th>inq_fi</th>\n",
       "      <td>866162</td>\n",
       "      <td>38.313868</td>\n",
       "    </tr>\n",
       "    <tr>\n",
       "      <th>mths_since_recent_inq</th>\n",
       "      <td>295468</td>\n",
       "      <td>13.069751</td>\n",
       "    </tr>\n",
       "    <tr>\n",
       "      <th>emp_title</th>\n",
       "      <td>167002</td>\n",
       "      <td>7.387178</td>\n",
       "    </tr>\n",
       "    <tr>\n",
       "      <th>num_tl_120dpd_2m</th>\n",
       "      <td>153690</td>\n",
       "      <td>6.798334</td>\n",
       "    </tr>\n",
       "    <tr>\n",
       "      <th>emp_length</th>\n",
       "      <td>146940</td>\n",
       "      <td>6.499754</td>\n",
       "    </tr>\n",
       "    <tr>\n",
       "      <th>mo_sin_old_il_acct</th>\n",
       "      <td>139104</td>\n",
       "      <td>6.153136</td>\n",
       "    </tr>\n",
       "    <tr>\n",
       "      <th>bc_util</th>\n",
       "      <td>76104</td>\n",
       "      <td>3.366389</td>\n",
       "    </tr>\n",
       "    <tr>\n",
       "      <th>percent_bc_gt_75</th>\n",
       "      <td>75412</td>\n",
       "      <td>3.335779</td>\n",
       "    </tr>\n",
       "    <tr>\n",
       "      <th>bc_open_to_buy</th>\n",
       "      <td>74968</td>\n",
       "      <td>3.316140</td>\n",
       "    </tr>\n",
       "    <tr>\n",
       "      <th>mths_since_recent_bc</th>\n",
       "      <td>73445</td>\n",
       "      <td>3.248771</td>\n",
       "    </tr>\n",
       "    <tr>\n",
       "      <th>pct_tl_nvr_dlq</th>\n",
       "      <td>70464</td>\n",
       "      <td>3.116909</td>\n",
       "    </tr>\n",
       "    <tr>\n",
       "      <th>avg_cur_bal</th>\n",
       "      <td>70379</td>\n",
       "      <td>3.113149</td>\n",
       "    </tr>\n",
       "    <tr>\n",
       "      <th>mo_sin_old_rev_tl_op</th>\n",
       "      <td>70310</td>\n",
       "      <td>3.110097</td>\n",
       "    </tr>\n",
       "    <tr>\n",
       "      <th>mo_sin_rcnt_rev_tl_op</th>\n",
       "      <td>70310</td>\n",
       "      <td>3.110097</td>\n",
       "    </tr>\n",
       "    <tr>\n",
       "      <th>num_rev_accts</th>\n",
       "      <td>70310</td>\n",
       "      <td>3.110097</td>\n",
       "    </tr>\n",
       "    <tr>\n",
       "      <th>mo_sin_rcnt_tl</th>\n",
       "      <td>70309</td>\n",
       "      <td>3.110053</td>\n",
       "    </tr>\n",
       "    <tr>\n",
       "      <th>num_tl_30dpd</th>\n",
       "      <td>70309</td>\n",
       "      <td>3.110053</td>\n",
       "    </tr>\n",
       "    <tr>\n",
       "      <th>num_accts_ever_120_pd</th>\n",
       "      <td>70309</td>\n",
       "      <td>3.110053</td>\n",
       "    </tr>\n",
       "    <tr>\n",
       "      <th>num_actv_rev_tl</th>\n",
       "      <td>70309</td>\n",
       "      <td>3.110053</td>\n",
       "    </tr>\n",
       "    <tr>\n",
       "      <th>num_il_tl</th>\n",
       "      <td>70309</td>\n",
       "      <td>3.110053</td>\n",
       "    </tr>\n",
       "    <tr>\n",
       "      <th>num_op_rev_tl</th>\n",
       "      <td>70309</td>\n",
       "      <td>3.110053</td>\n",
       "    </tr>\n",
       "    <tr>\n",
       "      <th>num_rev_tl_bal_gt_0</th>\n",
       "      <td>70309</td>\n",
       "      <td>3.110053</td>\n",
       "    </tr>\n",
       "    <tr>\n",
       "      <th>num_tl_90g_dpd_24m</th>\n",
       "      <td>70309</td>\n",
       "      <td>3.110053</td>\n",
       "    </tr>\n",
       "    <tr>\n",
       "      <th>num_tl_op_past_12m</th>\n",
       "      <td>70309</td>\n",
       "      <td>3.110053</td>\n",
       "    </tr>\n",
       "    <tr>\n",
       "      <th>tot_hi_cred_lim</th>\n",
       "      <td>70309</td>\n",
       "      <td>3.110053</td>\n",
       "    </tr>\n",
       "    <tr>\n",
       "      <th>total_il_high_credit_limit</th>\n",
       "      <td>70309</td>\n",
       "      <td>3.110053</td>\n",
       "    </tr>\n",
       "    <tr>\n",
       "      <th>num_bc_tl</th>\n",
       "      <td>70309</td>\n",
       "      <td>3.110053</td>\n",
       "    </tr>\n",
       "    <tr>\n",
       "      <th>num_actv_bc_tl</th>\n",
       "      <td>70309</td>\n",
       "      <td>3.110053</td>\n",
       "    </tr>\n",
       "    <tr>\n",
       "      <th>total_rev_hi_lim</th>\n",
       "      <td>70309</td>\n",
       "      <td>3.110053</td>\n",
       "    </tr>\n",
       "    <tr>\n",
       "      <th>tot_coll_amt</th>\n",
       "      <td>70309</td>\n",
       "      <td>3.110053</td>\n",
       "    </tr>\n",
       "    <tr>\n",
       "      <th>tot_cur_bal</th>\n",
       "      <td>70309</td>\n",
       "      <td>3.110053</td>\n",
       "    </tr>\n",
       "    <tr>\n",
       "      <th>num_bc_sats</th>\n",
       "      <td>58623</td>\n",
       "      <td>2.593134</td>\n",
       "    </tr>\n",
       "    <tr>\n",
       "      <th>num_sats</th>\n",
       "      <td>58623</td>\n",
       "      <td>2.593134</td>\n",
       "    </tr>\n",
       "    <tr>\n",
       "      <th>acc_open_past_24mths</th>\n",
       "      <td>50063</td>\n",
       "      <td>2.214490</td>\n",
       "    </tr>\n",
       "    <tr>\n",
       "      <th>mort_acc</th>\n",
       "      <td>50063</td>\n",
       "      <td>2.214490</td>\n",
       "    </tr>\n",
       "    <tr>\n",
       "      <th>total_bc_limit</th>\n",
       "      <td>50063</td>\n",
       "      <td>2.214490</td>\n",
       "    </tr>\n",
       "    <tr>\n",
       "      <th>total_bal_ex_mort</th>\n",
       "      <td>50063</td>\n",
       "      <td>2.214490</td>\n",
       "    </tr>\n",
       "    <tr>\n",
       "      <th>title</th>\n",
       "      <td>23358</td>\n",
       "      <td>1.033219</td>\n",
       "    </tr>\n",
       "    <tr>\n",
       "      <th>last_pymnt_d</th>\n",
       "      <td>2460</td>\n",
       "      <td>0.108816</td>\n",
       "    </tr>\n",
       "    <tr>\n",
       "      <th>revol_util</th>\n",
       "      <td>1835</td>\n",
       "      <td>0.081170</td>\n",
       "    </tr>\n",
       "    <tr>\n",
       "      <th>dti</th>\n",
       "      <td>1744</td>\n",
       "      <td>0.077144</td>\n",
       "    </tr>\n",
       "    <tr>\n",
       "      <th>pub_rec_bankruptcies</th>\n",
       "      <td>1398</td>\n",
       "      <td>0.061839</td>\n",
       "    </tr>\n",
       "    <tr>\n",
       "      <th>chargeoff_within_12_mths</th>\n",
       "      <td>178</td>\n",
       "      <td>0.007874</td>\n",
       "    </tr>\n",
       "  </tbody>\n",
       "</table>\n",
       "</div>"
      ],
      "text/plain": [
       "                             count          %\n",
       "open_rv_24m                 866162  38.313868\n",
       "open_rv_12m                 866162  38.313868\n",
       "total_bal_il                866162  38.313868\n",
       "open_il_24m                 866162  38.313868\n",
       "open_il_12m                 866162  38.313868\n",
       "open_act_il                 866162  38.313868\n",
       "max_bal_bc                  866162  38.313868\n",
       "inq_fi                      866162  38.313868\n",
       "mths_since_recent_inq       295468  13.069751\n",
       "emp_title                   167002   7.387178\n",
       "num_tl_120dpd_2m            153690   6.798334\n",
       "emp_length                  146940   6.499754\n",
       "mo_sin_old_il_acct          139104   6.153136\n",
       "bc_util                      76104   3.366389\n",
       "percent_bc_gt_75             75412   3.335779\n",
       "bc_open_to_buy               74968   3.316140\n",
       "mths_since_recent_bc         73445   3.248771\n",
       "pct_tl_nvr_dlq               70464   3.116909\n",
       "avg_cur_bal                  70379   3.113149\n",
       "mo_sin_old_rev_tl_op         70310   3.110097\n",
       "mo_sin_rcnt_rev_tl_op        70310   3.110097\n",
       "num_rev_accts                70310   3.110097\n",
       "mo_sin_rcnt_tl               70309   3.110053\n",
       "num_tl_30dpd                 70309   3.110053\n",
       "num_accts_ever_120_pd        70309   3.110053\n",
       "num_actv_rev_tl              70309   3.110053\n",
       "num_il_tl                    70309   3.110053\n",
       "num_op_rev_tl                70309   3.110053\n",
       "num_rev_tl_bal_gt_0          70309   3.110053\n",
       "num_tl_90g_dpd_24m           70309   3.110053\n",
       "num_tl_op_past_12m           70309   3.110053\n",
       "tot_hi_cred_lim              70309   3.110053\n",
       "total_il_high_credit_limit   70309   3.110053\n",
       "num_bc_tl                    70309   3.110053\n",
       "num_actv_bc_tl               70309   3.110053\n",
       "total_rev_hi_lim             70309   3.110053\n",
       "tot_coll_amt                 70309   3.110053\n",
       "tot_cur_bal                  70309   3.110053\n",
       "num_bc_sats                  58623   2.593134\n",
       "num_sats                     58623   2.593134\n",
       "acc_open_past_24mths         50063   2.214490\n",
       "mort_acc                     50063   2.214490\n",
       "total_bc_limit               50063   2.214490\n",
       "total_bal_ex_mort            50063   2.214490\n",
       "title                        23358   1.033219\n",
       "last_pymnt_d                  2460   0.108816\n",
       "revol_util                    1835   0.081170\n",
       "dti                           1744   0.077144\n",
       "pub_rec_bankruptcies          1398   0.061839\n",
       "chargeoff_within_12_mths       178   0.007874"
      ]
     },
     "execution_count": 50,
     "metadata": {},
     "output_type": "execute_result"
    }
   ],
   "source": [
    "missing.sort_values(\"count\", ascending=False)[50:100]"
   ]
  },
  {
   "cell_type": "code",
   "execution_count": 119,
   "id": "a074bf68",
   "metadata": {},
   "outputs": [
    {
     "data": {
      "text/html": [
       "<div>\n",
       "<style scoped>\n",
       "    .dataframe tbody tr th:only-of-type {\n",
       "        vertical-align: middle;\n",
       "    }\n",
       "\n",
       "    .dataframe tbody tr th {\n",
       "        vertical-align: top;\n",
       "    }\n",
       "\n",
       "    .dataframe thead th {\n",
       "        text-align: right;\n",
       "    }\n",
       "</style>\n",
       "<table border=\"1\" class=\"dataframe\">\n",
       "  <thead>\n",
       "    <tr style=\"text-align: right;\">\n",
       "      <th></th>\n",
       "      <th>count</th>\n",
       "      <th>%</th>\n",
       "    </tr>\n",
       "  </thead>\n",
       "  <tbody>\n",
       "    <tr>\n",
       "      <th>collections_12_mths_ex_med</th>\n",
       "      <td>178</td>\n",
       "      <td>0.007874</td>\n",
       "    </tr>\n",
       "    <tr>\n",
       "      <th>tax_liens</th>\n",
       "      <td>138</td>\n",
       "      <td>0.006104</td>\n",
       "    </tr>\n",
       "    <tr>\n",
       "      <th>last_credit_pull_d</th>\n",
       "      <td>105</td>\n",
       "      <td>0.004645</td>\n",
       "    </tr>\n",
       "    <tr>\n",
       "      <th>inq_last_6mths</th>\n",
       "      <td>63</td>\n",
       "      <td>0.002787</td>\n",
       "    </tr>\n",
       "    <tr>\n",
       "      <th>total_acc</th>\n",
       "      <td>62</td>\n",
       "      <td>0.002743</td>\n",
       "    </tr>\n",
       "    <tr>\n",
       "      <th>delinq_2yrs</th>\n",
       "      <td>62</td>\n",
       "      <td>0.002743</td>\n",
       "    </tr>\n",
       "    <tr>\n",
       "      <th>earliest_cr_line</th>\n",
       "      <td>62</td>\n",
       "      <td>0.002743</td>\n",
       "    </tr>\n",
       "    <tr>\n",
       "      <th>open_acc</th>\n",
       "      <td>62</td>\n",
       "      <td>0.002743</td>\n",
       "    </tr>\n",
       "    <tr>\n",
       "      <th>pub_rec</th>\n",
       "      <td>62</td>\n",
       "      <td>0.002743</td>\n",
       "    </tr>\n",
       "    <tr>\n",
       "      <th>acc_now_delinq</th>\n",
       "      <td>62</td>\n",
       "      <td>0.002743</td>\n",
       "    </tr>\n",
       "    <tr>\n",
       "      <th>delinq_amnt</th>\n",
       "      <td>62</td>\n",
       "      <td>0.002743</td>\n",
       "    </tr>\n",
       "    <tr>\n",
       "      <th>annual_inc</th>\n",
       "      <td>37</td>\n",
       "      <td>0.001637</td>\n",
       "    </tr>\n",
       "    <tr>\n",
       "      <th>zip_code</th>\n",
       "      <td>34</td>\n",
       "      <td>0.001504</td>\n",
       "    </tr>\n",
       "    <tr>\n",
       "      <th>purpose</th>\n",
       "      <td>33</td>\n",
       "      <td>0.001460</td>\n",
       "    </tr>\n",
       "    <tr>\n",
       "      <th>issue_d</th>\n",
       "      <td>33</td>\n",
       "      <td>0.001460</td>\n",
       "    </tr>\n",
       "    <tr>\n",
       "      <th>url</th>\n",
       "      <td>33</td>\n",
       "      <td>0.001460</td>\n",
       "    </tr>\n",
       "    <tr>\n",
       "      <th>pymnt_plan</th>\n",
       "      <td>33</td>\n",
       "      <td>0.001460</td>\n",
       "    </tr>\n",
       "    <tr>\n",
       "      <th>sub_grade</th>\n",
       "      <td>33</td>\n",
       "      <td>0.001460</td>\n",
       "    </tr>\n",
       "    <tr>\n",
       "      <th>funded_amnt</th>\n",
       "      <td>33</td>\n",
       "      <td>0.001460</td>\n",
       "    </tr>\n",
       "    <tr>\n",
       "      <th>loan_status</th>\n",
       "      <td>33</td>\n",
       "      <td>0.001460</td>\n",
       "    </tr>\n",
       "    <tr>\n",
       "      <th>loan_amnt</th>\n",
       "      <td>33</td>\n",
       "      <td>0.001460</td>\n",
       "    </tr>\n",
       "    <tr>\n",
       "      <th>installment</th>\n",
       "      <td>33</td>\n",
       "      <td>0.001460</td>\n",
       "    </tr>\n",
       "    <tr>\n",
       "      <th>int_rate</th>\n",
       "      <td>33</td>\n",
       "      <td>0.001460</td>\n",
       "    </tr>\n",
       "    <tr>\n",
       "      <th>debt_settlement_flag</th>\n",
       "      <td>33</td>\n",
       "      <td>0.001460</td>\n",
       "    </tr>\n",
       "    <tr>\n",
       "      <th>verification_status</th>\n",
       "      <td>33</td>\n",
       "      <td>0.001460</td>\n",
       "    </tr>\n",
       "    <tr>\n",
       "      <th>grade</th>\n",
       "      <td>33</td>\n",
       "      <td>0.001460</td>\n",
       "    </tr>\n",
       "    <tr>\n",
       "      <th>term</th>\n",
       "      <td>33</td>\n",
       "      <td>0.001460</td>\n",
       "    </tr>\n",
       "    <tr>\n",
       "      <th>disbursement_method</th>\n",
       "      <td>33</td>\n",
       "      <td>0.001460</td>\n",
       "    </tr>\n",
       "    <tr>\n",
       "      <th>home_ownership</th>\n",
       "      <td>33</td>\n",
       "      <td>0.001460</td>\n",
       "    </tr>\n",
       "    <tr>\n",
       "      <th>funded_amnt_inv</th>\n",
       "      <td>33</td>\n",
       "      <td>0.001460</td>\n",
       "    </tr>\n",
       "    <tr>\n",
       "      <th>application_type</th>\n",
       "      <td>33</td>\n",
       "      <td>0.001460</td>\n",
       "    </tr>\n",
       "    <tr>\n",
       "      <th>hardship_flag</th>\n",
       "      <td>33</td>\n",
       "      <td>0.001460</td>\n",
       "    </tr>\n",
       "    <tr>\n",
       "      <th>addr_state</th>\n",
       "      <td>33</td>\n",
       "      <td>0.001460</td>\n",
       "    </tr>\n",
       "    <tr>\n",
       "      <th>last_fico_range_low</th>\n",
       "      <td>33</td>\n",
       "      <td>0.001460</td>\n",
       "    </tr>\n",
       "    <tr>\n",
       "      <th>last_fico_range_high</th>\n",
       "      <td>33</td>\n",
       "      <td>0.001460</td>\n",
       "    </tr>\n",
       "    <tr>\n",
       "      <th>last_pymnt_amnt</th>\n",
       "      <td>33</td>\n",
       "      <td>0.001460</td>\n",
       "    </tr>\n",
       "    <tr>\n",
       "      <th>collection_recovery_fee</th>\n",
       "      <td>33</td>\n",
       "      <td>0.001460</td>\n",
       "    </tr>\n",
       "    <tr>\n",
       "      <th>recoveries</th>\n",
       "      <td>33</td>\n",
       "      <td>0.001460</td>\n",
       "    </tr>\n",
       "    <tr>\n",
       "      <th>total_rec_late_fee</th>\n",
       "      <td>33</td>\n",
       "      <td>0.001460</td>\n",
       "    </tr>\n",
       "    <tr>\n",
       "      <th>total_rec_int</th>\n",
       "      <td>33</td>\n",
       "      <td>0.001460</td>\n",
       "    </tr>\n",
       "    <tr>\n",
       "      <th>total_rec_prncp</th>\n",
       "      <td>33</td>\n",
       "      <td>0.001460</td>\n",
       "    </tr>\n",
       "    <tr>\n",
       "      <th>total_pymnt_inv</th>\n",
       "      <td>33</td>\n",
       "      <td>0.001460</td>\n",
       "    </tr>\n",
       "    <tr>\n",
       "      <th>total_pymnt</th>\n",
       "      <td>33</td>\n",
       "      <td>0.001460</td>\n",
       "    </tr>\n",
       "    <tr>\n",
       "      <th>out_prncp_inv</th>\n",
       "      <td>33</td>\n",
       "      <td>0.001460</td>\n",
       "    </tr>\n",
       "    <tr>\n",
       "      <th>out_prncp</th>\n",
       "      <td>33</td>\n",
       "      <td>0.001460</td>\n",
       "    </tr>\n",
       "    <tr>\n",
       "      <th>initial_list_status</th>\n",
       "      <td>33</td>\n",
       "      <td>0.001460</td>\n",
       "    </tr>\n",
       "    <tr>\n",
       "      <th>policy_code</th>\n",
       "      <td>33</td>\n",
       "      <td>0.001460</td>\n",
       "    </tr>\n",
       "    <tr>\n",
       "      <th>revol_bal</th>\n",
       "      <td>33</td>\n",
       "      <td>0.001460</td>\n",
       "    </tr>\n",
       "    <tr>\n",
       "      <th>fico_range_high</th>\n",
       "      <td>33</td>\n",
       "      <td>0.001460</td>\n",
       "    </tr>\n",
       "    <tr>\n",
       "      <th>fico_range_low</th>\n",
       "      <td>33</td>\n",
       "      <td>0.001460</td>\n",
       "    </tr>\n",
       "    <tr>\n",
       "      <th>id</th>\n",
       "      <td>0</td>\n",
       "      <td>0.000000</td>\n",
       "    </tr>\n",
       "  </tbody>\n",
       "</table>\n",
       "</div>"
      ],
      "text/plain": [
       "                            count         %\n",
       "collections_12_mths_ex_med    178  0.007874\n",
       "tax_liens                     138  0.006104\n",
       "last_credit_pull_d            105  0.004645\n",
       "inq_last_6mths                 63  0.002787\n",
       "total_acc                      62  0.002743\n",
       "delinq_2yrs                    62  0.002743\n",
       "earliest_cr_line               62  0.002743\n",
       "open_acc                       62  0.002743\n",
       "pub_rec                        62  0.002743\n",
       "acc_now_delinq                 62  0.002743\n",
       "delinq_amnt                    62  0.002743\n",
       "annual_inc                     37  0.001637\n",
       "zip_code                       34  0.001504\n",
       "purpose                        33  0.001460\n",
       "issue_d                        33  0.001460\n",
       "url                            33  0.001460\n",
       "pymnt_plan                     33  0.001460\n",
       "sub_grade                      33  0.001460\n",
       "funded_amnt                    33  0.001460\n",
       "loan_status                    33  0.001460\n",
       "loan_amnt                      33  0.001460\n",
       "installment                    33  0.001460\n",
       "int_rate                       33  0.001460\n",
       "debt_settlement_flag           33  0.001460\n",
       "verification_status            33  0.001460\n",
       "grade                          33  0.001460\n",
       "term                           33  0.001460\n",
       "disbursement_method            33  0.001460\n",
       "home_ownership                 33  0.001460\n",
       "funded_amnt_inv                33  0.001460\n",
       "application_type               33  0.001460\n",
       "hardship_flag                  33  0.001460\n",
       "addr_state                     33  0.001460\n",
       "last_fico_range_low            33  0.001460\n",
       "last_fico_range_high           33  0.001460\n",
       "last_pymnt_amnt                33  0.001460\n",
       "collection_recovery_fee        33  0.001460\n",
       "recoveries                     33  0.001460\n",
       "total_rec_late_fee             33  0.001460\n",
       "total_rec_int                  33  0.001460\n",
       "total_rec_prncp                33  0.001460\n",
       "total_pymnt_inv                33  0.001460\n",
       "total_pymnt                    33  0.001460\n",
       "out_prncp_inv                  33  0.001460\n",
       "out_prncp                      33  0.001460\n",
       "initial_list_status            33  0.001460\n",
       "policy_code                    33  0.001460\n",
       "revol_bal                      33  0.001460\n",
       "fico_range_high                33  0.001460\n",
       "fico_range_low                 33  0.001460\n",
       "id                              0  0.000000"
      ]
     },
     "execution_count": 119,
     "metadata": {},
     "output_type": "execute_result"
    }
   ],
   "source": [
    "missing.sort_values(\"count\", ascending=False)[100:]"
   ]
  },
  {
   "attachments": {},
   "cell_type": "markdown",
   "id": "642147e5",
   "metadata": {},
   "source": [
    "## What features (columns) can be dropped?\n",
    "\n",
    "#### General features\n",
    "member_id: it's the id each borrower (or member) in LendingClub is given and because the source data is deidentified, member_ids are removed before publicizing. So the whole column can be dropped.\n",
    "url, \n",
    "zip_code\n",
    "#### Duplicate features.\n",
    "loan_amount is similar to funded amount, so is dropped.\n",
    "funded_amnt_inv is the amount investors fund, does not affect decision and is dropped.\n",
    "\n",
    "Because we are trying to find a better model to decide about loan applications, any feature that is not defined prior to the decision on the loan application can be dropped. Many of the avialble features in the source data refer to th applicant credit card performance during the loan and are irrelavent for initial decision making. These feature include number of bank cards, number of mortages, installments, trades during the loan, delinquecies and etc.  \n",
    "open_rv_24m\t\n",
    "open_rv_12m\t\n",
    "total_bal_il\t\n",
    "open_il_24m\t\n",
    "open_il_12m\t\n",
    "open_act_il\t\n",
    "max_bal_bc\t\t\n",
    "inq_fi\t\t\n",
    "mths_since_recent_inq\n",
    "mths_since_last_record\t\n",
    "mths_since_recent_bc_dlq\t\n",
    "mths_since_last_major_derog\t\n",
    "mths_since_recent_revol_delinq\t\n",
    "next_pymnt_d\t\n",
    "mths_since_last_delinq\t\n",
    "il_util\t\n",
    "mths_since_rcnt_il\t\n",
    "all_util\t\n",
    "open_acc_6m\t\n",
    "total_cu_tl\t\n",
    "inq_last_12m\n",
    "\n",
    "####  orig_projected_additional_accrued_interes:\n",
    "As the descriptive excel sheet describes this feature is the original projected additional interest amount that will accure for the given hardship payment plan as of the Hardship Start Date. This field will be null if the borrower has broken their hardship payment plan. So it's feature which is only available after application decision and in the case of the borrower's harship in returning the loan.\n",
    "#### hardship releven columns which include \n",
    "hardship_startdate, hardship_amount,  hardship_dpd, hardship_end_date, hardship_flag, hardship_last_payment_amount, hardship_length, hardship_loan_status, hardship_payoff_balance_amount, hardship_reason, hardship_start_date, hardship_status hardship_type, payment_plan_start_date, settlement_term, debt_settlement_flag_date, settlement_status\tsettlement_date, settlement_amount, settlement_percentage\n",
    "#### Secondary applicants' data\n",
    "less than 5 percent of applications are joint. For now, I'd like to focus on single applications. Therefore, I'll drop any columns and rows with data of the second applicants. These columns are: sec_app_chargeoff_within_12_mths \n",
    "sec_app_collections_12_mths_ex_med ,sec_app_earliest_cr_line, sec_app_fico_range_high, sec_app_fico_range_low, sec_app_inq_last_6mths, sec_app_mort_acc, sec_app_mths_since_last_major_derog, sec_app_num_rev_accts, sec_app_open_acc, sec_app_open_act_il, sec_app_revol_util, revol_bal_joint, verification_status_joint, dti_joint, annual_inc_joint, desc \n",
    "\n",
    "## What features (columns) are kept?\n",
    "Any feature which is established before the decision on the loan should be kept. Furthermore, features like loan amount,  interest rate and its term that reflect the decision on the loan should be kept.These features include:\n",
    "1.\trevol_util\t\n",
    "2.\tdti\t\t\n",
    "3.\tpub_rec_bankruptcies\t\n",
    "4.\tchargeoff_within_12_mths\t\n",
    "5.\tcollections_12_mths_ex_med\t\n",
    "6.\ttax_liens\t\n",
    "7.\tinq_last_6mths\t\n",
    "8.\ttotal_acc\t\n",
    "9.\tdelinq_2yrs\t\n",
    "10.\tearliest_cr_line\t\n",
    "11.\topen_acc\t\n",
    "12.\tpub_rec\t\n",
    "13.\tacc_now_delinq\t\n",
    "14.\tdelinq_amnt\t\t\n",
    "15.\tannual_inc\t\t\n",
    "16.\tpurpose\t\n",
    "17.\tissue_d\t\n",
    "18.\tpymnt_plan\t\n",
    "19.\tsub_grade\t\n",
    "20.\tfunded_amnt\t\n",
    "21.\tloan_status\t\t\n",
    "22.\tinstallment\t\n",
    "23.\tint_rate\t\t\n",
    "24.\tverification_status\t\n",
    "25.\tgrade\t\n",
    "26.\tterm\t\n",
    "27.\tdisbursement_method\t\n",
    "28.\thome_ownership\t\t\n",
    "29.\taddr_state\t\t\n",
    "30.\tinitial_list_status\t\n",
    "31.\tpolicy_code\t\n",
    "32.\trevol_bal\t\n",
    "33.\tfico_range_high\t\n",
    "34.\tfico_range_low\t\n",
    "35.\tid\n",
    "36. emp_length\n",
    "\n"
   ]
  },
  {
   "cell_type": "code",
   "execution_count": 205,
   "id": "914fd066",
   "metadata": {},
   "outputs": [],
   "source": [
    "keeplist = ['revol_util','dti', 'pub_rec_bankruptcies', 'chargeoff_within_12_mths', 'collections_12_mths_ex_med', 'tax_liens',\n",
    "            'inq_last_6mths','total_acc', 'delinq_2yrs', 'earliest_cr_line', 'open_acc', 'pub_rec', 'acc_now_delinq',\n",
    "            'delinq_amnt', 'annual_inc', 'purpose', 'issue_d', 'pymnt_plan', 'sub_grade', 'funded_amnt', 'loan_status', \n",
    "            'installment', 'int_rate', 'verification_status', 'grade', 'term', 'disbursement_method', 'home_ownership', 'addr_state',\n",
    "            'initial_list_status', 'policy_code', 'revol_bal', 'fico_range_high', 'fico_range_low', 'id', 'emp_length']"
   ]
  },
  {
   "cell_type": "code",
   "execution_count": 153,
   "id": "b6b7e721",
   "metadata": {},
   "outputs": [
    {
     "name": "stdout",
     "output_type": "stream",
     "text": [
      "(2139958, 151)\n"
     ]
    },
    {
     "data": {
      "text/plain": [
       "array(['Individual'], dtype=object)"
      ]
     },
     "execution_count": 153,
     "metadata": {},
     "output_type": "execute_result"
    }
   ],
   "source": [
    "# Before dropping unwanted columns, I first need to drop joint application rows.\n",
    "df =df[ df['application_type'] == \"Individual\"]\n",
    "print(df.shape)\n",
    "df['application_type'].unique()"
   ]
  },
  {
   "cell_type": "code",
   "execution_count": 206,
   "id": "adb87e2e",
   "metadata": {},
   "outputs": [
    {
     "data": {
      "text/plain": [
       "(2006744, 36)"
      ]
     },
     "execution_count": 206,
     "metadata": {},
     "output_type": "execute_result"
    }
   ],
   "source": [
    "# At this stage, I drop all irrelevant columns discussed before and only keep those columns in the keeplist. \n",
    "# After dropping unwanted columns, I check the dataframe shape. It can be seen there are 48 columns left.\n",
    "df = df[keeplist]\n",
    "df.shape"
   ]
  },
  {
   "cell_type": "markdown",
   "id": "184992eb",
   "metadata": {},
   "source": [
    "## Checking the missing data in the truncated dataframe\n",
    "Now that we, have drop more than 100 columns and some rows, I check again if there are missing data"
   ]
  },
  {
   "cell_type": "code",
   "execution_count": 232,
   "id": "78402ee2",
   "metadata": {},
   "outputs": [
    {
     "data": {
      "text/html": [
       "<div>\n",
       "<style scoped>\n",
       "    .dataframe tbody tr th:only-of-type {\n",
       "        vertical-align: middle;\n",
       "    }\n",
       "\n",
       "    .dataframe tbody tr th {\n",
       "        vertical-align: top;\n",
       "    }\n",
       "\n",
       "    .dataframe thead th {\n",
       "        text-align: right;\n",
       "    }\n",
       "</style>\n",
       "<table border=\"1\" class=\"dataframe\">\n",
       "  <thead>\n",
       "    <tr style=\"text-align: right;\">\n",
       "      <th></th>\n",
       "      <th>count</th>\n",
       "      <th>%</th>\n",
       "    </tr>\n",
       "  </thead>\n",
       "  <tbody>\n",
       "    <tr>\n",
       "      <th>\\trevol_util\\tdti\\tpub_rec_bankruptcies\\tchargeoff_within_12_mths\\tcollections_12_mths_ex_med\\ttax_liens\\tinq_last_6mths\\ttotal_acc\\tdelinq_2yrs\\tearliest_cr_line\\topen_acc\\tpub_rec\\tacc_now_delinq\\tdelinq_amnt\\tannual_inc\\tpurpose\\tissue_d\\tpymnt_plan\\tsub_grade\\tfunded_amnt\\tloan_status\\tinstallment\\tint_rate\\tverification_status\\tgrade\\tterm\\tdisbursement_method\\thome_ownership\\taddr_state\\tinitial_list_status\\tpolicy_code\\trevol_bal\\tfico_range_high\\tfico_range_low\\tid\\temp_length</th>\n",
       "      <td>0</td>\n",
       "      <td>0.0</td>\n",
       "    </tr>\n",
       "  </tbody>\n",
       "</table>\n",
       "</div>"
      ],
      "text/plain": [
       "                                                    count    %\n",
       "\\trevol_util\\tdti\\tpub_rec_bankruptcies\\tcharge...      0  0.0"
      ]
     },
     "execution_count": 232,
     "metadata": {},
     "output_type": "execute_result"
    }
   ],
   "source": [
    "# Check to see number and percentage of the missing data\n",
    "missing1 = df.isnull().sum()\n",
    "missing2 = 100*df.isnull().mean()\n",
    "missing = pd.concat([missing1, missing2], axis=1)\n",
    "missing.columns = ['count', '%']\n",
    "missing.sort_values(\"count\", ascending=False)"
   ]
  },
  {
   "cell_type": "markdown",
   "id": "aa78a0e3",
   "metadata": {},
   "source": [
    "### Dropping the rows with missing data\n",
    "Employment length has the higher number of missing points, about 6% (130,000) of employment length is missing. revolving utility rate and banckrupcy records have about 0.07% (1000) missing points. Taking account the huge size of data we can drop all applications, where there is missing data.  "
   ]
  },
  {
   "cell_type": "code",
   "execution_count": 208,
   "id": "af2ab207",
   "metadata": {},
   "outputs": [
    {
     "data": {
      "text/plain": [
       "(2006744, 36)"
      ]
     },
     "execution_count": 208,
     "metadata": {},
     "output_type": "execute_result"
    }
   ],
   "source": [
    "# Dropping the applications with missing data\n",
    "df = df.dropna()\n",
    "df.shape"
   ]
  },
  {
   "cell_type": "markdown",
   "id": "4eb6a78c",
   "metadata": {},
   "source": [
    "## Saving the new truncated data frame\n",
    "At this point that I have somehow cleaned the data, I'd like to save my new truncated dataframe, so that I will not need to open the source data file, which is very time consuming. "
   ]
  },
  {
   "cell_type": "code",
   "execution_count": 209,
   "id": "d30300ce",
   "metadata": {},
   "outputs": [],
   "source": [
    "# Saving the new dataframe for easy future references:\n",
    "\n",
    "SavePath = \"C:\\\\Users\\\\somfl\\\\Documents\\\\Data Science Career Track\\\\LendingClub\\\\TruncatedData.csv\"\n",
    "df.to_csv(SavePath, sep ='\\t')"
   ]
  },
  {
   "cell_type": "code",
   "execution_count": 272,
   "id": "c209e251",
   "metadata": {},
   "outputs": [
    {
     "data": {
      "text/html": [
       "<div>\n",
       "<style scoped>\n",
       "    .dataframe tbody tr th:only-of-type {\n",
       "        vertical-align: middle;\n",
       "    }\n",
       "\n",
       "    .dataframe tbody tr th {\n",
       "        vertical-align: top;\n",
       "    }\n",
       "\n",
       "    .dataframe thead th {\n",
       "        text-align: right;\n",
       "    }\n",
       "</style>\n",
       "<table border=\"1\" class=\"dataframe\">\n",
       "  <thead>\n",
       "    <tr style=\"text-align: right;\">\n",
       "      <th></th>\n",
       "      <th>Unnamed: 0</th>\n",
       "      <th>revol_util</th>\n",
       "      <th>dti</th>\n",
       "      <th>pub_rec_bankruptcies</th>\n",
       "      <th>chargeoff_within_12_mths</th>\n",
       "      <th>collections_12_mths_ex_med</th>\n",
       "      <th>tax_liens</th>\n",
       "      <th>inq_last_6mths</th>\n",
       "      <th>total_acc</th>\n",
       "      <th>delinq_2yrs</th>\n",
       "      <th>...</th>\n",
       "      <th>disbursement_method</th>\n",
       "      <th>home_ownership</th>\n",
       "      <th>addr_state</th>\n",
       "      <th>initial_list_status</th>\n",
       "      <th>policy_code</th>\n",
       "      <th>revol_bal</th>\n",
       "      <th>fico_range_high</th>\n",
       "      <th>fico_range_low</th>\n",
       "      <th>id</th>\n",
       "      <th>emp_length</th>\n",
       "    </tr>\n",
       "  </thead>\n",
       "  <tbody>\n",
       "    <tr>\n",
       "      <th>0</th>\n",
       "      <td>0</td>\n",
       "      <td>29.7</td>\n",
       "      <td>5.91</td>\n",
       "      <td>0.0</td>\n",
       "      <td>0.0</td>\n",
       "      <td>0.0</td>\n",
       "      <td>0.0</td>\n",
       "      <td>1.0</td>\n",
       "      <td>13.0</td>\n",
       "      <td>0.0</td>\n",
       "      <td>...</td>\n",
       "      <td>Cash</td>\n",
       "      <td>MORTGAGE</td>\n",
       "      <td>PA</td>\n",
       "      <td>w</td>\n",
       "      <td>1.0</td>\n",
       "      <td>2765.0</td>\n",
       "      <td>679.0</td>\n",
       "      <td>675.0</td>\n",
       "      <td>68407277</td>\n",
       "      <td>10+ years</td>\n",
       "    </tr>\n",
       "    <tr>\n",
       "      <th>1</th>\n",
       "      <td>1</td>\n",
       "      <td>19.2</td>\n",
       "      <td>16.06</td>\n",
       "      <td>0.0</td>\n",
       "      <td>0.0</td>\n",
       "      <td>0.0</td>\n",
       "      <td>0.0</td>\n",
       "      <td>4.0</td>\n",
       "      <td>38.0</td>\n",
       "      <td>1.0</td>\n",
       "      <td>...</td>\n",
       "      <td>Cash</td>\n",
       "      <td>MORTGAGE</td>\n",
       "      <td>SD</td>\n",
       "      <td>w</td>\n",
       "      <td>1.0</td>\n",
       "      <td>21470.0</td>\n",
       "      <td>719.0</td>\n",
       "      <td>715.0</td>\n",
       "      <td>68355089</td>\n",
       "      <td>10+ years</td>\n",
       "    </tr>\n",
       "    <tr>\n",
       "      <th>2</th>\n",
       "      <td>3</td>\n",
       "      <td>11.6</td>\n",
       "      <td>17.06</td>\n",
       "      <td>0.0</td>\n",
       "      <td>0.0</td>\n",
       "      <td>0.0</td>\n",
       "      <td>0.0</td>\n",
       "      <td>0.0</td>\n",
       "      <td>17.0</td>\n",
       "      <td>0.0</td>\n",
       "      <td>...</td>\n",
       "      <td>Cash</td>\n",
       "      <td>MORTGAGE</td>\n",
       "      <td>NJ</td>\n",
       "      <td>w</td>\n",
       "      <td>1.0</td>\n",
       "      <td>7802.0</td>\n",
       "      <td>789.0</td>\n",
       "      <td>785.0</td>\n",
       "      <td>66310712</td>\n",
       "      <td>10+ years</td>\n",
       "    </tr>\n",
       "    <tr>\n",
       "      <th>3</th>\n",
       "      <td>4</td>\n",
       "      <td>64.5</td>\n",
       "      <td>25.37</td>\n",
       "      <td>0.0</td>\n",
       "      <td>0.0</td>\n",
       "      <td>0.0</td>\n",
       "      <td>0.0</td>\n",
       "      <td>3.0</td>\n",
       "      <td>35.0</td>\n",
       "      <td>1.0</td>\n",
       "      <td>...</td>\n",
       "      <td>Cash</td>\n",
       "      <td>MORTGAGE</td>\n",
       "      <td>PA</td>\n",
       "      <td>w</td>\n",
       "      <td>1.0</td>\n",
       "      <td>21929.0</td>\n",
       "      <td>699.0</td>\n",
       "      <td>695.0</td>\n",
       "      <td>68476807</td>\n",
       "      <td>3 years</td>\n",
       "    </tr>\n",
       "    <tr>\n",
       "      <th>4</th>\n",
       "      <td>5</td>\n",
       "      <td>68.4</td>\n",
       "      <td>10.20</td>\n",
       "      <td>0.0</td>\n",
       "      <td>0.0</td>\n",
       "      <td>0.0</td>\n",
       "      <td>0.0</td>\n",
       "      <td>0.0</td>\n",
       "      <td>6.0</td>\n",
       "      <td>0.0</td>\n",
       "      <td>...</td>\n",
       "      <td>Cash</td>\n",
       "      <td>RENT</td>\n",
       "      <td>GA</td>\n",
       "      <td>w</td>\n",
       "      <td>1.0</td>\n",
       "      <td>8822.0</td>\n",
       "      <td>694.0</td>\n",
       "      <td>690.0</td>\n",
       "      <td>68426831</td>\n",
       "      <td>4 years</td>\n",
       "    </tr>\n",
       "  </tbody>\n",
       "</table>\n",
       "<p>5 rows × 37 columns</p>\n",
       "</div>"
      ],
      "text/plain": [
       "   Unnamed: 0  revol_util    dti  pub_rec_bankruptcies  \\\n",
       "0           0        29.7   5.91                   0.0   \n",
       "1           1        19.2  16.06                   0.0   \n",
       "2           3        11.6  17.06                   0.0   \n",
       "3           4        64.5  25.37                   0.0   \n",
       "4           5        68.4  10.20                   0.0   \n",
       "\n",
       "   chargeoff_within_12_mths  collections_12_mths_ex_med  tax_liens  \\\n",
       "0                       0.0                         0.0        0.0   \n",
       "1                       0.0                         0.0        0.0   \n",
       "2                       0.0                         0.0        0.0   \n",
       "3                       0.0                         0.0        0.0   \n",
       "4                       0.0                         0.0        0.0   \n",
       "\n",
       "   inq_last_6mths  total_acc  delinq_2yrs  ... disbursement_method  \\\n",
       "0             1.0       13.0          0.0  ...                Cash   \n",
       "1             4.0       38.0          1.0  ...                Cash   \n",
       "2             0.0       17.0          0.0  ...                Cash   \n",
       "3             3.0       35.0          1.0  ...                Cash   \n",
       "4             0.0        6.0          0.0  ...                Cash   \n",
       "\n",
       "   home_ownership  addr_state  initial_list_status  policy_code  revol_bal  \\\n",
       "0        MORTGAGE          PA                    w          1.0     2765.0   \n",
       "1        MORTGAGE          SD                    w          1.0    21470.0   \n",
       "2        MORTGAGE          NJ                    w          1.0     7802.0   \n",
       "3        MORTGAGE          PA                    w          1.0    21929.0   \n",
       "4            RENT          GA                    w          1.0     8822.0   \n",
       "\n",
       "  fico_range_high fico_range_low        id emp_length  \n",
       "0           679.0          675.0  68407277  10+ years  \n",
       "1           719.0          715.0  68355089  10+ years  \n",
       "2           789.0          785.0  66310712  10+ years  \n",
       "3           699.0          695.0  68476807    3 years  \n",
       "4           694.0          690.0  68426831    4 years  \n",
       "\n",
       "[5 rows x 37 columns]"
      ]
     },
     "execution_count": 272,
     "metadata": {},
     "output_type": "execute_result"
    }
   ],
   "source": [
    "df = pd.read_csv(SavePath, sep='\\t')\n",
    "df.head()"
   ]
  },
  {
   "cell_type": "code",
   "execution_count": 275,
   "id": "26543ab1",
   "metadata": {},
   "outputs": [
    {
     "data": {
      "text/plain": [
       "(2006744, 21)"
      ]
     },
     "execution_count": 275,
     "metadata": {},
     "output_type": "execute_result"
    }
   ],
   "source": [
    "dffloat = df.select_dtypes(np.number)\n",
    "dffloat.shape"
   ]
  },
  {
   "cell_type": "code",
   "execution_count": 276,
   "id": "66fa92c4",
   "metadata": {},
   "outputs": [
    {
     "data": {
      "text/plain": [
       "(2006744, 14)"
      ]
     },
     "execution_count": 276,
     "metadata": {},
     "output_type": "execute_result"
    }
   ],
   "source": [
    "dfobject = df.select_dtypes(object)\n",
    "dfobject.shape"
   ]
  },
  {
   "cell_type": "code",
   "execution_count": 277,
   "id": "e68e5a9a",
   "metadata": {},
   "outputs": [
    {
     "data": {
      "image/png": "[encoded data removed]",
      "text/plain": [
       "<Figure size 864x720 with 2 Axes>"
      ]
     },
     "metadata": {
      "needs_background": "light"
     },
     "output_type": "display_data"
    }
   ],
   "source": [
    "# Show a seaborn heatmap of correlations in dffloat\n",
    "#I call pandas' `corr()` method on `dffloat` and pass that into `sns.heatmap`\n",
    "plt.subplots(figsize=(12,10))\n",
    "sns.heatmap(dffloat.corr());"
   ]
  },
  {
   "cell_type": "markdown",
   "id": "852253c6",
   "metadata": {},
   "source": [
    "## What do we learn from the heat map?\n",
    "_'fico_range_low'_ and _'fico_range_high'_ are highly correlated, so probably an average value can replace the low and high ranges. \n",
    "\n",
    "While _'policy code'_ is a numerical value, it is not correlated to anything and I will look into it later again.\n",
    "\n",
    "_'installment'_ and _'funded amount'_ are correlated, which is not surprising.\n",
    "\n",
    "Number of _'open account'_ and _'total_account'_ are also correlated, as well as _'public_record'_ and _'pubilc_record_bankrupcies'_.\n",
    "\n"
   ]
  },
  {
   "cell_type": "code",
   "execution_count": 278,
   "id": "3cf78239",
   "metadata": {},
   "outputs": [
    {
     "name": "stdout",
     "output_type": "stream",
     "text": [
      "id\n",
      "27531874    5.0\n",
      "20760443    5.0\n",
      "78549809    5.0\n",
      "70580342    5.0\n",
      "56038421    5.0\n",
      "           ... \n",
      "76043266    4.0\n",
      "75750600    4.0\n",
      "76292405    4.0\n",
      "75417201    4.0\n",
      "88215728    4.0\n",
      "Length: 2006744, dtype: float64\n"
     ]
    },
    {
     "data": {
      "image/png": "[encoded data removed]",
      "text/plain": [
       "<Figure size 864x576 with 1 Axes>"
      ]
     },
     "metadata": {
      "needs_background": "light"
     },
     "output_type": "display_data"
    }
   ],
   "source": [
    "#Create a seaborn boxplot of the fico score to decide if they are similar. It can be seen they are \n",
    "\n",
    "plt.subplots(figsize=(12, 8))\n",
    "ax = sns.boxplot(data=df[['fico_range_high', 'fico_range_low']], orient='v', palette=\"Set2\")\n",
    "plt.xticks()\n",
    "plt.ylabel('Score');\n",
    "print((df['fico_range_high']-df['fico_range_low']).sort_values(ascending=False))"
   ]
  },
  {
   "cell_type": "code",
   "execution_count": 280,
   "id": "60f8aadc",
   "metadata": {},
   "outputs": [
    {
     "data": {
      "text/plain": [
       "(2006744, 34)"
      ]
     },
     "execution_count": 280,
     "metadata": {},
     "output_type": "execute_result"
    }
   ],
   "source": [
    "# the higher and lower fico score difference is either 5 or 4. Therefore, I used their average as 'fico_score' and drop the two\n",
    "# columns.\n",
    "df['fico_score'] = (df['fico_range_high']+df['fico_range_low'])/2\n",
    "df.drop(columns = ['fico_range_high', 'fico_range_low'], inplace = True)\n",
    "df.shape"
   ]
  },
  {
   "cell_type": "code",
   "execution_count": 281,
   "id": "09ef9c7d",
   "metadata": {},
   "outputs": [
    {
     "data": {
      "text/plain": [
       "id\n",
       "68407277    677.0\n",
       "68355089    717.0\n",
       "66310712    787.0\n",
       "68476807    697.0\n",
       "68426831    692.0\n",
       "            ...  \n",
       "89885898    667.0\n",
       "88977788    697.0\n",
       "88985880    707.0\n",
       "88224441    662.0\n",
       "88215728    662.0\n",
       "Name: fico_score, Length: 2006744, dtype: float64"
      ]
     },
     "execution_count": 281,
     "metadata": {},
     "output_type": "execute_result"
    }
   ],
   "source": [
    "df['fico_score']"
   ]
  },
  {
   "cell_type": "code",
   "execution_count": 282,
   "id": "e65e25c2",
   "metadata": {},
   "outputs": [
    {
     "data": {
      "text/plain": [
       "1.0    2006744\n",
       "Name: policy_code, dtype: int64"
      ]
     },
     "execution_count": 282,
     "metadata": {},
     "output_type": "execute_result"
    }
   ],
   "source": [
    "df['policy_code'].value_counts()"
   ]
  },
  {
   "cell_type": "code",
   "execution_count": 283,
   "id": "4335731b",
   "metadata": {},
   "outputs": [],
   "source": [
    "df.drop(columns = ['policy_code'], inplace = True)"
   ]
  },
  {
   "cell_type": "code",
   "execution_count": 284,
   "id": "ba116d52",
   "metadata": {},
   "outputs": [
    {
     "data": {
      "image/png": "[encoded data removed]",
      "text/plain": [
       "<Figure size 1440x1440 with 20 Axes>"
      ]
     },
     "metadata": {
      "needs_background": "light"
     },
     "output_type": "display_data"
    }
   ],
   "source": [
    "df.select_dtypes(np.number).hist(figsize=(20,20))\n",
    "plt.subplots_adjust(hspace=0.75, wspace=.75);"
   ]
  },
  {
   "cell_type": "code",
   "execution_count": 229,
   "id": "ea899527",
   "metadata": {},
   "outputs": [
    {
     "ename": "ValueError",
     "evalue": "too many values to unpack (expected 2)",
     "output_type": "error",
     "traceback": [
      "\u001b[1;31m---------------------------------------------------------------------------\u001b[0m",
      "\u001b[1;31mValueError\u001b[0m                                Traceback (most recent call last)",
      "\u001b[1;32m<ipython-input-229-7d042efc7afd>\u001b[0m in \u001b[0;36m<module>\u001b[1;34m\u001b[0m\n\u001b[0;32m      3\u001b[0m \u001b[0mplt\u001b[0m\u001b[1;33m.\u001b[0m\u001b[0msubplots\u001b[0m\u001b[1;33m(\u001b[0m\u001b[1;36m4\u001b[0m\u001b[1;33m,\u001b[0m\u001b[1;36m3\u001b[0m\u001b[1;33m)\u001b[0m\u001b[1;33m\u001b[0m\u001b[1;33m\u001b[0m\u001b[0m\n\u001b[0;32m      4\u001b[0m \u001b[0mi\u001b[0m \u001b[1;33m=\u001b[0m \u001b[1;36m0\u001b[0m\u001b[1;33m\u001b[0m\u001b[1;33m\u001b[0m\u001b[0m\n\u001b[1;32m----> 5\u001b[1;33m \u001b[1;32mfor\u001b[0m \u001b[0mi\u001b[0m\u001b[1;33m,\u001b[0m \u001b[0mitem\u001b[0m \u001b[1;32min\u001b[0m \u001b[0mrange\u001b[0m\u001b[1;33m(\u001b[0m\u001b[0mlen\u001b[0m\u001b[1;33m(\u001b[0m\u001b[0mobjectlist\u001b[0m\u001b[1;33m)\u001b[0m\u001b[1;33m)\u001b[0m\u001b[1;33m,\u001b[0m \u001b[0mobjectlist\u001b[0m\u001b[1;33m:\u001b[0m\u001b[1;33m\u001b[0m\u001b[1;33m\u001b[0m\u001b[0m\n\u001b[0m\u001b[0;32m      6\u001b[0m     \u001b[0max\u001b[0m\u001b[1;33m[\u001b[0m\u001b[0mi\u001b[0m\u001b[1;33m]\u001b[0m\u001b[1;33m=\u001b[0m \u001b[0mplt\u001b[0m\u001b[1;33m.\u001b[0m\u001b[0mcountplot\u001b[0m\u001b[1;33m(\u001b[0m\u001b[0mx\u001b[0m\u001b[1;33m=\u001b[0m\u001b[0mdf\u001b[0m\u001b[1;33m[\u001b[0m\u001b[0mitem\u001b[0m\u001b[1;33m]\u001b[0m\u001b[1;33m)\u001b[0m\u001b[1;33m\u001b[0m\u001b[1;33m\u001b[0m\u001b[0m\n\u001b[0;32m      7\u001b[0m \u001b[1;33m\u001b[0m\u001b[0m\n",
      "\u001b[1;31mValueError\u001b[0m: too many values to unpack (expected 2)"
     ]
    },
    {
     "data": {
      "image/png": "[encoded data removed]",
      "text/plain": [
       "<Figure size 432x288 with 12 Axes>"
      ]
     },
     "metadata": {
      "needs_background": "light"
     },
     "output_type": "display_data"
    }
   ],
   "source": [
    "objectlist = ['home_ownership', 'initial_list_status', 'addr_state', 'disbursement_method', 'pymnt_plan', 'grade', 'verification_status', \n",
    "'loan_status', 'sub_grade', 'term', 'emp_length']\n",
    "plt.subplots(4,3)\n",
    "i = 0\n",
    "for i, item in range(len(objectlist)), objectlist:\n",
    "    ax[i]= plt.countplot(x=df[item]) \n",
    "            "
   ]
  },
  {
   "cell_type": "code",
   "execution_count": 218,
   "id": "0d6e8152",
   "metadata": {},
   "outputs": [
    {
     "data": {
      "text/plain": [
       "array([' 36 months', ' 60 months'], dtype=object)"
      ]
     },
     "execution_count": 218,
     "metadata": {},
     "output_type": "execute_result"
    }
   ],
   "source": [
    "df[\"term\"].unique()"
   ]
  },
  {
   "cell_type": "code",
   "execution_count": 24,
   "id": "6a339b0a",
   "metadata": {},
   "outputs": [
    {
     "data": {
      "text/plain": [
       "<seaborn.axisgrid.FacetGrid at 0x2446bb7cd60>"
      ]
     },
     "execution_count": 24,
     "metadata": {},
     "output_type": "execute_result"
    },
    {
     "data": {
      "image/png": "[encoded data removed]",
      "text/plain": [
       "<Figure size 360x360 with 1 Axes>"
      ]
     },
     "metadata": {
      "needs_background": "light"
     },
     "output_type": "display_data"
    }
   ],
   "source": [
    "sns.catplot(x=\"term\",data=df, kind=\"count\")"
   ]
  },
  {
   "cell_type": "code",
   "execution_count": 27,
   "id": "8e16e580",
   "metadata": {},
   "outputs": [
    {
     "data": {
      "text/plain": [
       "<seaborn.axisgrid.FacetGrid at 0x2446bb6f370>"
      ]
     },
     "execution_count": 27,
     "metadata": {},
     "output_type": "execute_result"
    },
    {
     "data": {
      "image/png": "[encoded data removed]",
      "text/plain": [
       "<Figure size 360x360 with 1 Axes>"
      ]
     },
     "metadata": {
      "needs_background": "light"
     },
     "output_type": "display_data"
    }
   ],
   "source": [
    "sns.catplot(y=\"loan_status\",data=df, kind=\"count\")"
   ]
  },
  {
   "cell_type": "code",
   "execution_count": 26,
   "id": "c134564d",
   "metadata": {},
   "outputs": [
    {
     "data": {
      "text/plain": [
       "array(['Fully Paid', 'Current', 'Charged Off', 'In Grace Period',\n",
       "       'Late (31-120 days)', 'Late (16-30 days)', 'Default', nan,\n",
       "       'Does not meet the credit policy. Status:Fully Paid',\n",
       "       'Does not meet the credit policy. Status:Charged Off'],\n",
       "      dtype=object)"
      ]
     },
     "execution_count": 26,
     "metadata": {},
     "output_type": "execute_result"
    }
   ],
   "source": [
    "df['loan_status'].unique()"
   ]
  },
  {
   "cell_type": "code",
   "execution_count": 31,
   "id": "84a9e73a",
   "metadata": {},
   "outputs": [
    {
     "data": {
      "text/plain": [
       "Fully Paid                                             1076751\n",
       "Current                                                 878317\n",
       "Charged Off                                             268559\n",
       "Late (31-120 days)                                       21467\n",
       "In Grace Period                                           8436\n",
       "Late (16-30 days)                                         4349\n",
       "Does not meet the credit policy. Status:Fully Paid        1988\n",
       "Does not meet the credit policy. Status:Charged Off        761\n",
       "Default                                                     40\n",
       "Name: loan_status, dtype: int64"
      ]
     },
     "execution_count": 31,
     "metadata": {},
     "output_type": "execute_result"
    }
   ],
   "source": [
    "df['loan_status'].value_counts()"
   ]
  },
  {
   "cell_type": "code",
   "execution_count": 32,
   "id": "6e1fa04e",
   "metadata": {},
   "outputs": [
    {
     "data": {
      "text/plain": [
       "2260668"
      ]
     },
     "execution_count": 32,
     "metadata": {},
     "output_type": "execute_result"
    }
   ],
   "source": [
    "df['loan_status'].value_counts().sum()"
   ]
  },
  {
   "cell_type": "code",
   "execution_count": 33,
   "id": "041778eb",
   "metadata": {},
   "outputs": [
    {
     "data": {
      "text/plain": [
       "(2260701, 151)"
      ]
     },
     "execution_count": 33,
     "metadata": {},
     "output_type": "execute_result"
    }
   ],
   "source": [
    "df.shape"
   ]
  },
  {
   "cell_type": "code",
   "execution_count": 34,
   "id": "c3cede99",
   "metadata": {},
   "outputs": [
    {
     "data": {
      "text/plain": [
       "33"
      ]
     },
     "execution_count": 34,
     "metadata": {},
     "output_type": "execute_result"
    }
   ],
   "source": [
    "2260701-2260668\n"
   ]
  },
  {
   "cell_type": "code",
   "execution_count": 37,
   "id": "7aa74d94",
   "metadata": {},
   "outputs": [],
   "source": [
    "x = df.loc[2100000,\"issue_d\"]"
   ]
  },
  {
   "cell_type": "code",
   "execution_count": 38,
   "id": "ca05fa83",
   "metadata": {},
   "outputs": [
    {
     "data": {
      "text/plain": [
       "'2017'"
      ]
     },
     "execution_count": 38,
     "metadata": {},
     "output_type": "execute_result"
    }
   ],
   "source": [
    "x[4:]"
   ]
  },
  {
   "cell_type": "code",
   "execution_count": 40,
   "id": "7495394d",
   "metadata": {},
   "outputs": [
    {
     "data": {
      "text/plain": [
       "str"
      ]
     },
     "execution_count": 40,
     "metadata": {},
     "output_type": "execute_result"
    }
   ],
   "source": [
    "type(x)"
   ]
  },
  {
   "cell_type": "code",
   "execution_count": 51,
   "id": "6b75e3c4",
   "metadata": {},
   "outputs": [],
   "source": [
    "df[\"issue_year\"] = df[\"issue_d\"].str[4:]"
   ]
  },
  {
   "cell_type": "code",
   "execution_count": 75,
   "id": "f7140e28",
   "metadata": {},
   "outputs": [
    {
     "data": {
      "text/plain": [
       "<seaborn.axisgrid.FacetGrid at 0x1afd3c14820>"
      ]
     },
     "execution_count": 75,
     "metadata": {},
     "output_type": "execute_result"
    },
    {
     "data": {
      "image/png": "[encoded data removed]",
      "text/plain": [
       "<Figure size 360x360 with 1 Axes>"
      ]
     },
     "metadata": {
      "needs_background": "light"
     },
     "output_type": "display_data"
    }
   ],
   "source": [
    "sns.catplot(y=\"issue_year\", data=df, kind=\"count\", order=[\"2007\", '2008', '2009', '2010', '2011', '2012', '2013', '2014', '2015', '2016', '2017', '2018'])"
   ]
  },
  {
   "cell_type": "code",
   "execution_count": 57,
   "id": "5658db1d",
   "metadata": {},
   "outputs": [
    {
     "data": {
      "text/plain": [
       "2018    495242\n",
       "2017    443579\n",
       "2016    434407\n",
       "2015    421095\n",
       "2014    235629\n",
       "2013    134814\n",
       "2012     53367\n",
       "2011     21721\n",
       "2010     12537\n",
       "2009      5281\n",
       "2008      2393\n",
       "2007       603\n",
       "Name: issue_year, dtype: int64"
      ]
     },
     "execution_count": 57,
     "metadata": {},
     "output_type": "execute_result"
    }
   ],
   "source": [
    "df[\"issue_year\"].value_counts()"
   ]
  },
  {
   "cell_type": "code",
   "execution_count": 54,
   "id": "0053070e",
   "metadata": {},
   "outputs": [
    {
     "data": {
      "text/plain": [
       "2260668"
      ]
     },
     "execution_count": 54,
     "metadata": {},
     "output_type": "execute_result"
    }
   ],
   "source": [
    "df[\"issue_year\"].value_counts().sum()"
   ]
  },
  {
   "cell_type": "code",
   "execution_count": 55,
   "id": "189d3fb3",
   "metadata": {},
   "outputs": [
    {
     "data": {
      "text/plain": [
       "(2260701, 152)"
      ]
     },
     "execution_count": 55,
     "metadata": {},
     "output_type": "execute_result"
    }
   ],
   "source": [
    "df.shape"
   ]
  },
  {
   "cell_type": "code",
   "execution_count": 56,
   "id": "eac1055a",
   "metadata": {},
   "outputs": [
    {
     "data": {
      "text/plain": [
       "33"
      ]
     },
     "execution_count": 56,
     "metadata": {},
     "output_type": "execute_result"
    }
   ],
   "source": [
    "2260701-2260668\n"
   ]
  },
  {
   "cell_type": "code",
   "execution_count": 62,
   "id": "1f7c7ee1",
   "metadata": {},
   "outputs": [
    {
     "data": {
      "text/plain": [
       "array(['C', 'B', 'F', 'A', 'E', 'D', 'G', nan], dtype=object)"
      ]
     },
     "execution_count": 62,
     "metadata": {},
     "output_type": "execute_result"
    }
   ],
   "source": [
    "df[\"grade\"].unique()"
   ]
  },
  {
   "cell_type": "code",
   "execution_count": 63,
   "id": "ea6aecbf",
   "metadata": {},
   "outputs": [
    {
     "data": {
      "text/plain": [
       "array(['C4', 'C1', 'B4', 'C5', 'F1', 'C3', 'B2', 'B1', 'A2', 'B5', 'C2',\n",
       "       'E2', 'A4', 'E3', 'A1', 'D4', 'F3', 'D1', 'B3', 'E4', 'D3', 'D2',\n",
       "       'D5', 'A5', 'F2', 'E1', 'F5', 'E5', 'A3', 'G2', 'G1', 'G3', 'G4',\n",
       "       'F4', 'G5', nan], dtype=object)"
      ]
     },
     "execution_count": 63,
     "metadata": {},
     "output_type": "execute_result"
    }
   ],
   "source": [
    "df[\"sub_grade\"].unique()"
   ]
  },
  {
   "cell_type": "code",
   "execution_count": 66,
   "id": "d0086259",
   "metadata": {},
   "outputs": [],
   "source": [
    "df[\"sub_g\"] = df[\"sub_grade\"].str[1]"
   ]
  },
  {
   "cell_type": "code",
   "execution_count": 73,
   "id": "b54c2d82",
   "metadata": {},
   "outputs": [
    {
     "data": {
      "text/plain": [
       "Text(0.5, 1.0, 'All loans grade/subgrade distribution')"
      ]
     },
     "execution_count": 73,
     "metadata": {},
     "output_type": "execute_result"
    },
    {
     "data": {
      "image/png": "[encoded data removed]",
      "text/plain": [
       "<Figure size 432x288 with 1 Axes>"
      ]
     },
     "metadata": {
      "needs_background": "light"
     },
     "output_type": "display_data"
    }
   ],
   "source": [
    "sns.countplot(x=\"grade\", data=df, hue=\"sub_g\", order = ['A', 'B', 'C', 'D', 'E', 'F', 'G'], hue_order=['1', '2', '3', '4', '5'])\n",
    "plt.title(\"All loans grade/subgrade distribution\")"
   ]
  },
  {
   "cell_type": "code",
   "execution_count": 74,
   "id": "b63ff9d8",
   "metadata": {},
   "outputs": [
    {
     "data": {
      "text/plain": [
       "Text(0.5, 1.0, 'Fully-paid loans grade/subgrade distribution')"
      ]
     },
     "execution_count": 74,
     "metadata": {},
     "output_type": "execute_result"
    },
    {
     "data": {
      "image/png": "[encoded data removed]",
      "text/plain": [
       "<Figure size 432x288 with 1 Axes>"
      ]
     },
     "metadata": {
      "needs_background": "light"
     },
     "output_type": "display_data"
    }
   ],
   "source": [
    "sns.countplot(x=\"grade\", data=dfFull, hue=\"sub_g\", order = ['A', 'B', 'C', 'D', 'E', 'F', 'G'], hue_order=['1', '2', '3', '4', '5'])\n",
    "plt.title(\"Fully-paid loans grade/subgrade distribution\")"
   ]
  },
  {
   "cell_type": "code",
   "execution_count": 84,
   "id": "55b0ced7",
   "metadata": {},
   "outputs": [
    {
     "data": {
      "image/png": "[encoded data removed]",
      "text/plain": [
       "<Figure size 432x288 with 1 Axes>"
      ]
     },
     "metadata": {
      "needs_background": "light"
     },
     "output_type": "display_data"
    }
   ],
   "source": [
    "fig, ax=plt.subplots()\n",
    "ax.hist(df['loan_amnt'])\n",
    "ax.set_xlabel(\"Loan amount $\")\n",
    "ax.set_ylabel(\"# of observation\")\n",
    "plt.show()"
   ]
  },
  {
   "cell_type": "code",
   "execution_count": 104,
   "id": "eb57ba0a",
   "metadata": {},
   "outputs": [
    {
     "data": {
      "image/png": "[encoded data removed]",
      "text/plain": [
       "<Figure size 432x288 with 1 Axes>"
      ]
     },
     "metadata": {
      "needs_background": "light"
     },
     "output_type": "display_data"
    }
   ],
   "source": [
    "fig, ax=plt.subplots()\n",
    "ax.hist(df['funded_amnt'])\n",
    "ax.set_xlabel(\"Initial loan amount $\")\n",
    "ax.set_ylabel(\"# of observation\")\n",
    "plt.show()"
   ]
  },
  {
   "cell_type": "code",
   "execution_count": 108,
   "id": "996130d0",
   "metadata": {},
   "outputs": [
    {
     "data": {
      "text/plain": [
       "0          0.0\n",
       "1          0.0\n",
       "2          0.0\n",
       "3          0.0\n",
       "4          0.0\n",
       "          ... \n",
       "2260696    0.0\n",
       "2260697    0.0\n",
       "2260698    0.0\n",
       "2260699    NaN\n",
       "2260700    NaN\n",
       "Length: 2260701, dtype: float64"
      ]
     },
     "execution_count": 108,
     "metadata": {},
     "output_type": "execute_result"
    }
   ],
   "source": [
    "(df['loan_amnt'] - df['funded_amnt'])\n"
   ]
  },
  {
   "cell_type": "code",
   "execution_count": null,
   "id": "08c6924c",
   "metadata": {},
   "outputs": [],
   "source": []
  }
 ],
 "metadata": {
  "kernelspec": {
   "display_name": "Python 3",
   "language": "python",
   "name": "python3"
  },
  "language_info": {
   "codemirror_mode": {
    "name": "ipython",
    "version": 3
   },
   "file_extension": ".py",
   "mimetype": "text/x-python",
   "name": "python",
   "nbconvert_exporter": "python",
   "pygments_lexer": "ipython3",
   "version": "3.8.8"
  }
 },
 "nbformat": 4,
 "nbformat_minor": 5
}
