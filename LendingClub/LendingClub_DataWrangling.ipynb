{
 "cells": [
  {
   "cell_type": "markdown",
   "id": "2086991d",
   "metadata": {},
   "source": [
    "### Lending Club: a default ratio prediction study"
   ]
  },
  {
   "cell_type": "markdown",
   "id": "dc5924ba",
   "metadata": {},
   "source": [
    "* [1. Background](#Background)\n",
    "* [2. Data sources](#Data_sources)\n",
    "* [3. Importing required libraries](#Library)\n",
    "* [4. Openning the data file](#File)\n",
    "* [5. Checking for the missing data](#Missing)\n",
    "    * [5.1. What columns have the highest number of missing values](#MissingResult)\n",
    "    * [5.2. What features (columns) are kept?](#keep)\n",
    "    * [5.3 What features (columns) are dropped?](#Drop)\n",
    "        * [5.3.1. General features and duplicate features](#General)\n",
    "        * [5.3.2. Applicant credit performance during the life of loan](#Performance)\n",
    "        * [5.3.3. Secondary applicants' data](#Secondary)\n",
    "* [6. Checking the missing data in the truncated dataframe](#TruncatedMissing)\n",
    "    * [6.1. Dropping the rows with missing data](#ddrop)\n",
    "* [7. Heat Map of the numerical features](#HM)\n",
    "    * [7.1. What do we learn from the heat map?](#HML)\n",
    "        * [7.1.1. Are low and high Fico scores the same?](#Fico)\n",
    "        * [7.1.2. What is policy code?](#Code)\n",
    "* [8. Histograms of numerical features](#Hist)\n",
    "    * [8.1. What do we learn from histograms?](#HistL)\n",
    "        * [8.1.1. Applicants with more than 10 bankruptcies](#BankR)\n",
    "        * [8.1.2. Applicants with more than 250 utilization rate](#Util)\n",
    "* [9. Categorical features](#Cat)\n",
    "    * [9.1. Loan status](#LoanStatus)\n",
    "    * [9.2. Loan grade/subgrade distribution](#subgrade)\n",
    "    * [Distribution of loan issuance year](#year)\n",
    "    \n",
    "    \n",
    "\n",
    "\n",
    "\n"
   ]
  },
  {
   "cell_type": "markdown",
   "id": "3b348bc9",
   "metadata": {},
   "source": [
    "### 1. Background <a class=\"anchor\" id=\"Background\"></a>\n",
    "\n",
    "LendingClub used to be the biggest peer to peer lending platform until 2020, when they changed their business focus. During its operation, LendingClub would establish a platform for borrowers and investors where borrowers were allowed to create loan requests on its website. They were also required to provide their information like credit score, credit history, desired loan amount and the debt-to-income ratio. Based on the data, LendingClub would decide if the loan request would be accepted and what the interest rate would be. Allowable loan range was between $1,000–40,000 and the return period was 3 or 5 years. Investors would make money from interest rates which were varied from 6.03% to 26.06%. LendingClub would make money from charging an origination fee to its borrowers and a service fee to its investors. The interest rates that LendingCub was offering were better for borrowers and lenders than most of banks and therefore, it was highly received. \n",
    "\n",
    "When a request was made, based on the requester’s information such as credit history, LendingClub would decide to either accept or reject the request. For the accepted loans, a credit grade ranging from A to G would be assigned. The credit grade along with other factors would determine the interest rate. For the rejected loan a risk score was assigned. Furthermore, the credit grade would also determine the amount of the origination fee that the requester would be charged, and it would be between 1.1–5.0% of the loan amount. The size of the service fee, that the investor would be charged, would be 1% of all amounts the borrower would pay, which was the requested amount plus the total interest. Therefore, higher interest rates would generate more revenue. However, higher interest rates also indicate a riskier loan which may end up on default and may cause investment loss for LendingClub. Therefore, having a method to predict the risk factor accurately is very desirable. Statistical data shows that about 10% of loans will be defaulted. The question is if we can have a better risk analysis method and ultimately a strong predictive model to decrease loan default ratio by 50% in the next three years.\n"
   ]
  },
  {
   "cell_type": "markdown",
   "id": "6d6ee1a7",
   "metadata": {},
   "source": [
    "### 2. Data sources <a class=\"anchor\" id=\"Data_sources\"></a>\n",
    "\n",
    "The data is from Kaggle website and can be found here: All Lending Club loan data | Kaggle The data is in two files and originate from Lending Club and include information of rejected and accepted loan applications from 2007 to 2018. The accepted file has 2260701 rows and 151 columns, and it includes information about type of loan, funded amount, length of loan, interest rate, grade, installment plan, employment condition (title, length), house ownership status, annual income, loan status, purpose, Fico score (low and high ranges) and if the loan was paid in full. The rejected file has 27648741 rows and 9 columns and include information about the applicant including the debt-to- income ratio, risk score, employment length and amount required."
   ]
  },
  {
   "cell_type": "markdown",
   "id": "2ce98171",
   "metadata": {},
   "source": [
    "### 3. Importing required libraries <a class=\"anchor\" id=\"Library\"></a>"
   ]
  },
  {
   "cell_type": "code",
   "execution_count": 1,
   "id": "ad99940c",
   "metadata": {},
   "outputs": [],
   "source": [
    "import pandas as pd\n",
    "import matplotlib.pyplot as plt\n",
    "import seaborn as sns\n",
    "import os\n",
    "import numpy as np\n",
    "import datetime as dt"
   ]
  },
  {
   "cell_type": "markdown",
   "id": "f4bdc32e",
   "metadata": {},
   "source": [
    "### 4. Opening the data file <a class=\"anchor\" id=\"File\"></a>"
   ]
  },
  {
   "cell_type": "code",
   "execution_count": 2,
   "id": "3fb08f45",
   "metadata": {},
   "outputs": [
    {
     "name": "stderr",
     "output_type": "stream",
     "text": [
      "C:\\Users\\somfl\\anaconda3\\lib\\site-packages\\IPython\\core\\interactiveshell.py:3165: DtypeWarning: Columns (0,19,49,59,118,129,130,131,134,135,136,139,145,146,147) have mixed types.Specify dtype option on import or set low_memory=False.\n",
      "  has_raised = await self.run_ast_nodes(code_ast.body, cell_name,\n"
     ]
    }
   ],
   "source": [
    "filepath = \"C:\\\\Users\\\\somfl\\\\Documents\\\\Data Science Career Track\\\\LendingClub\\\\accepted_2007_to_2018Q4.csv\"\n",
    "df = pd.read_csv(filepath)"
   ]
  },
  {
   "cell_type": "code",
   "execution_count": 4,
   "id": "20235dc3",
   "metadata": {},
   "outputs": [],
   "source": [
    "# An excel file is available from LendingClub with the description of the variables in the data files. The excel sheet\n",
    "# is downloaded below.\n",
    "column_desc = pd.read_excel( 'https://resources.lendingclub.com/LCDataDictionary.xlsx')\n",
    "column_desc = column_desc.iloc[:,0:2]"
   ]
  },
  {
   "cell_type": "markdown",
   "id": "051acb52",
   "metadata": {},
   "source": [
    "### 5. Checking for the missing data <a class=\"anchor\" id=\"Missing\"></a>"
   ]
  },
  {
   "cell_type": "code",
   "execution_count": 3,
   "id": "30feac69",
   "metadata": {},
   "outputs": [],
   "source": [
    "# I need to find out what columns to drop. 151 columns are alot of data t work with. To decide what column to drop \n",
    "# I begin by finding the amount of missing data in each coulmn.\n",
    "\n",
    "missing1 = df.isnull().sum()\n",
    "missing2 = 100*df.isnull().mean()\n",
    "missing = pd.concat([missing1, missing2], axis=1)\n",
    "missing.columns = ['count', '%']"
   ]
  },
  {
   "cell_type": "code",
   "execution_count": 4,
   "id": "09fd9d7d",
   "metadata": {
    "scrolled": true
   },
   "outputs": [
    {
     "data": {
      "text/html": [
       "<div>\n",
       "<style scoped>\n",
       "    .dataframe tbody tr th:only-of-type {\n",
       "        vertical-align: middle;\n",
       "    }\n",
       "\n",
       "    .dataframe tbody tr th {\n",
       "        vertical-align: top;\n",
       "    }\n",
       "\n",
       "    .dataframe thead th {\n",
       "        text-align: right;\n",
       "    }\n",
       "</style>\n",
       "<table border=\"1\" class=\"dataframe\">\n",
       "  <thead>\n",
       "    <tr style=\"text-align: right;\">\n",
       "      <th></th>\n",
       "      <th>count</th>\n",
       "      <th>%</th>\n",
       "    </tr>\n",
       "  </thead>\n",
       "  <tbody>\n",
       "    <tr>\n",
       "      <th>member_id</th>\n",
       "      <td>2260701</td>\n",
       "      <td>100.000000</td>\n",
       "    </tr>\n",
       "    <tr>\n",
       "      <th>orig_projected_additional_accrued_interest</th>\n",
       "      <td>2252050</td>\n",
       "      <td>99.617331</td>\n",
       "    </tr>\n",
       "    <tr>\n",
       "      <th>hardship_end_date</th>\n",
       "      <td>2249784</td>\n",
       "      <td>99.517097</td>\n",
       "    </tr>\n",
       "    <tr>\n",
       "      <th>hardship_start_date</th>\n",
       "      <td>2249784</td>\n",
       "      <td>99.517097</td>\n",
       "    </tr>\n",
       "    <tr>\n",
       "      <th>hardship_type</th>\n",
       "      <td>2249784</td>\n",
       "      <td>99.517097</td>\n",
       "    </tr>\n",
       "    <tr>\n",
       "      <th>hardship_reason</th>\n",
       "      <td>2249784</td>\n",
       "      <td>99.517097</td>\n",
       "    </tr>\n",
       "    <tr>\n",
       "      <th>hardship_status</th>\n",
       "      <td>2249784</td>\n",
       "      <td>99.517097</td>\n",
       "    </tr>\n",
       "    <tr>\n",
       "      <th>deferral_term</th>\n",
       "      <td>2249784</td>\n",
       "      <td>99.517097</td>\n",
       "    </tr>\n",
       "    <tr>\n",
       "      <th>hardship_last_payment_amount</th>\n",
       "      <td>2249784</td>\n",
       "      <td>99.517097</td>\n",
       "    </tr>\n",
       "    <tr>\n",
       "      <th>hardship_payoff_balance_amount</th>\n",
       "      <td>2249784</td>\n",
       "      <td>99.517097</td>\n",
       "    </tr>\n",
       "    <tr>\n",
       "      <th>hardship_loan_status</th>\n",
       "      <td>2249784</td>\n",
       "      <td>99.517097</td>\n",
       "    </tr>\n",
       "    <tr>\n",
       "      <th>hardship_dpd</th>\n",
       "      <td>2249784</td>\n",
       "      <td>99.517097</td>\n",
       "    </tr>\n",
       "    <tr>\n",
       "      <th>hardship_length</th>\n",
       "      <td>2249784</td>\n",
       "      <td>99.517097</td>\n",
       "    </tr>\n",
       "    <tr>\n",
       "      <th>payment_plan_start_date</th>\n",
       "      <td>2249784</td>\n",
       "      <td>99.517097</td>\n",
       "    </tr>\n",
       "    <tr>\n",
       "      <th>hardship_amount</th>\n",
       "      <td>2249784</td>\n",
       "      <td>99.517097</td>\n",
       "    </tr>\n",
       "    <tr>\n",
       "      <th>settlement_term</th>\n",
       "      <td>2226455</td>\n",
       "      <td>98.485160</td>\n",
       "    </tr>\n",
       "    <tr>\n",
       "      <th>debt_settlement_flag_date</th>\n",
       "      <td>2226455</td>\n",
       "      <td>98.485160</td>\n",
       "    </tr>\n",
       "    <tr>\n",
       "      <th>settlement_status</th>\n",
       "      <td>2226455</td>\n",
       "      <td>98.485160</td>\n",
       "    </tr>\n",
       "    <tr>\n",
       "      <th>settlement_date</th>\n",
       "      <td>2226455</td>\n",
       "      <td>98.485160</td>\n",
       "    </tr>\n",
       "    <tr>\n",
       "      <th>settlement_amount</th>\n",
       "      <td>2226455</td>\n",
       "      <td>98.485160</td>\n",
       "    </tr>\n",
       "    <tr>\n",
       "      <th>settlement_percentage</th>\n",
       "      <td>2226455</td>\n",
       "      <td>98.485160</td>\n",
       "    </tr>\n",
       "    <tr>\n",
       "      <th>sec_app_mths_since_last_major_derog</th>\n",
       "      <td>2224759</td>\n",
       "      <td>98.410139</td>\n",
       "    </tr>\n",
       "    <tr>\n",
       "      <th>sec_app_revol_util</th>\n",
       "      <td>2154517</td>\n",
       "      <td>95.303050</td>\n",
       "    </tr>\n",
       "    <tr>\n",
       "      <th>revol_bal_joint</th>\n",
       "      <td>2152681</td>\n",
       "      <td>95.221836</td>\n",
       "    </tr>\n",
       "    <tr>\n",
       "      <th>sec_app_mort_acc</th>\n",
       "      <td>2152680</td>\n",
       "      <td>95.221792</td>\n",
       "    </tr>\n",
       "    <tr>\n",
       "      <th>sec_app_fico_range_low</th>\n",
       "      <td>2152680</td>\n",
       "      <td>95.221792</td>\n",
       "    </tr>\n",
       "    <tr>\n",
       "      <th>sec_app_fico_range_high</th>\n",
       "      <td>2152680</td>\n",
       "      <td>95.221792</td>\n",
       "    </tr>\n",
       "    <tr>\n",
       "      <th>sec_app_earliest_cr_line</th>\n",
       "      <td>2152680</td>\n",
       "      <td>95.221792</td>\n",
       "    </tr>\n",
       "    <tr>\n",
       "      <th>sec_app_inq_last_6mths</th>\n",
       "      <td>2152680</td>\n",
       "      <td>95.221792</td>\n",
       "    </tr>\n",
       "    <tr>\n",
       "      <th>sec_app_open_acc</th>\n",
       "      <td>2152680</td>\n",
       "      <td>95.221792</td>\n",
       "    </tr>\n",
       "    <tr>\n",
       "      <th>sec_app_open_act_il</th>\n",
       "      <td>2152680</td>\n",
       "      <td>95.221792</td>\n",
       "    </tr>\n",
       "    <tr>\n",
       "      <th>sec_app_num_rev_accts</th>\n",
       "      <td>2152680</td>\n",
       "      <td>95.221792</td>\n",
       "    </tr>\n",
       "    <tr>\n",
       "      <th>sec_app_chargeoff_within_12_mths</th>\n",
       "      <td>2152680</td>\n",
       "      <td>95.221792</td>\n",
       "    </tr>\n",
       "    <tr>\n",
       "      <th>sec_app_collections_12_mths_ex_med</th>\n",
       "      <td>2152680</td>\n",
       "      <td>95.221792</td>\n",
       "    </tr>\n",
       "    <tr>\n",
       "      <th>verification_status_joint</th>\n",
       "      <td>2144971</td>\n",
       "      <td>94.880791</td>\n",
       "    </tr>\n",
       "    <tr>\n",
       "      <th>dti_joint</th>\n",
       "      <td>2139995</td>\n",
       "      <td>94.660683</td>\n",
       "    </tr>\n",
       "    <tr>\n",
       "      <th>annual_inc_joint</th>\n",
       "      <td>2139991</td>\n",
       "      <td>94.660506</td>\n",
       "    </tr>\n",
       "    <tr>\n",
       "      <th>desc</th>\n",
       "      <td>2134634</td>\n",
       "      <td>94.423544</td>\n",
       "    </tr>\n",
       "    <tr>\n",
       "      <th>mths_since_last_record</th>\n",
       "      <td>1901545</td>\n",
       "      <td>84.113069</td>\n",
       "    </tr>\n",
       "    <tr>\n",
       "      <th>mths_since_recent_bc_dlq</th>\n",
       "      <td>1741000</td>\n",
       "      <td>77.011511</td>\n",
       "    </tr>\n",
       "    <tr>\n",
       "      <th>mths_since_last_major_derog</th>\n",
       "      <td>1679926</td>\n",
       "      <td>74.309960</td>\n",
       "    </tr>\n",
       "    <tr>\n",
       "      <th>mths_since_recent_revol_delinq</th>\n",
       "      <td>1520342</td>\n",
       "      <td>67.250910</td>\n",
       "    </tr>\n",
       "    <tr>\n",
       "      <th>next_pymnt_d</th>\n",
       "      <td>1345343</td>\n",
       "      <td>59.509993</td>\n",
       "    </tr>\n",
       "    <tr>\n",
       "      <th>mths_since_last_delinq</th>\n",
       "      <td>1158535</td>\n",
       "      <td>51.246715</td>\n",
       "    </tr>\n",
       "    <tr>\n",
       "      <th>il_util</th>\n",
       "      <td>1068883</td>\n",
       "      <td>47.281042</td>\n",
       "    </tr>\n",
       "    <tr>\n",
       "      <th>mths_since_rcnt_il</th>\n",
       "      <td>909957</td>\n",
       "      <td>40.251099</td>\n",
       "    </tr>\n",
       "    <tr>\n",
       "      <th>all_util</th>\n",
       "      <td>866381</td>\n",
       "      <td>38.323555</td>\n",
       "    </tr>\n",
       "    <tr>\n",
       "      <th>open_acc_6m</th>\n",
       "      <td>866163</td>\n",
       "      <td>38.313912</td>\n",
       "    </tr>\n",
       "    <tr>\n",
       "      <th>total_cu_tl</th>\n",
       "      <td>866163</td>\n",
       "      <td>38.313912</td>\n",
       "    </tr>\n",
       "    <tr>\n",
       "      <th>inq_last_12m</th>\n",
       "      <td>866163</td>\n",
       "      <td>38.313912</td>\n",
       "    </tr>\n",
       "    <tr>\n",
       "      <th>open_rv_24m</th>\n",
       "      <td>866162</td>\n",
       "      <td>38.313868</td>\n",
       "    </tr>\n",
       "    <tr>\n",
       "      <th>open_rv_12m</th>\n",
       "      <td>866162</td>\n",
       "      <td>38.313868</td>\n",
       "    </tr>\n",
       "    <tr>\n",
       "      <th>total_bal_il</th>\n",
       "      <td>866162</td>\n",
       "      <td>38.313868</td>\n",
       "    </tr>\n",
       "    <tr>\n",
       "      <th>open_il_24m</th>\n",
       "      <td>866162</td>\n",
       "      <td>38.313868</td>\n",
       "    </tr>\n",
       "    <tr>\n",
       "      <th>open_il_12m</th>\n",
       "      <td>866162</td>\n",
       "      <td>38.313868</td>\n",
       "    </tr>\n",
       "    <tr>\n",
       "      <th>open_act_il</th>\n",
       "      <td>866162</td>\n",
       "      <td>38.313868</td>\n",
       "    </tr>\n",
       "    <tr>\n",
       "      <th>max_bal_bc</th>\n",
       "      <td>866162</td>\n",
       "      <td>38.313868</td>\n",
       "    </tr>\n",
       "    <tr>\n",
       "      <th>inq_fi</th>\n",
       "      <td>866162</td>\n",
       "      <td>38.313868</td>\n",
       "    </tr>\n",
       "    <tr>\n",
       "      <th>mths_since_recent_inq</th>\n",
       "      <td>295468</td>\n",
       "      <td>13.069751</td>\n",
       "    </tr>\n",
       "    <tr>\n",
       "      <th>emp_title</th>\n",
       "      <td>167002</td>\n",
       "      <td>7.387178</td>\n",
       "    </tr>\n",
       "  </tbody>\n",
       "</table>\n",
       "</div>"
      ],
      "text/plain": [
       "                                              count           %\n",
       "member_id                                   2260701  100.000000\n",
       "orig_projected_additional_accrued_interest  2252050   99.617331\n",
       "hardship_end_date                           2249784   99.517097\n",
       "hardship_start_date                         2249784   99.517097\n",
       "hardship_type                               2249784   99.517097\n",
       "hardship_reason                             2249784   99.517097\n",
       "hardship_status                             2249784   99.517097\n",
       "deferral_term                               2249784   99.517097\n",
       "hardship_last_payment_amount                2249784   99.517097\n",
       "hardship_payoff_balance_amount              2249784   99.517097\n",
       "hardship_loan_status                        2249784   99.517097\n",
       "hardship_dpd                                2249784   99.517097\n",
       "hardship_length                             2249784   99.517097\n",
       "payment_plan_start_date                     2249784   99.517097\n",
       "hardship_amount                             2249784   99.517097\n",
       "settlement_term                             2226455   98.485160\n",
       "debt_settlement_flag_date                   2226455   98.485160\n",
       "settlement_status                           2226455   98.485160\n",
       "settlement_date                             2226455   98.485160\n",
       "settlement_amount                           2226455   98.485160\n",
       "settlement_percentage                       2226455   98.485160\n",
       "sec_app_mths_since_last_major_derog         2224759   98.410139\n",
       "sec_app_revol_util                          2154517   95.303050\n",
       "revol_bal_joint                             2152681   95.221836\n",
       "sec_app_mort_acc                            2152680   95.221792\n",
       "sec_app_fico_range_low                      2152680   95.221792\n",
       "sec_app_fico_range_high                     2152680   95.221792\n",
       "sec_app_earliest_cr_line                    2152680   95.221792\n",
       "sec_app_inq_last_6mths                      2152680   95.221792\n",
       "sec_app_open_acc                            2152680   95.221792\n",
       "sec_app_open_act_il                         2152680   95.221792\n",
       "sec_app_num_rev_accts                       2152680   95.221792\n",
       "sec_app_chargeoff_within_12_mths            2152680   95.221792\n",
       "sec_app_collections_12_mths_ex_med          2152680   95.221792\n",
       "verification_status_joint                   2144971   94.880791\n",
       "dti_joint                                   2139995   94.660683\n",
       "annual_inc_joint                            2139991   94.660506\n",
       "desc                                        2134634   94.423544\n",
       "mths_since_last_record                      1901545   84.113069\n",
       "mths_since_recent_bc_dlq                    1741000   77.011511\n",
       "mths_since_last_major_derog                 1679926   74.309960\n",
       "mths_since_recent_revol_delinq              1520342   67.250910\n",
       "next_pymnt_d                                1345343   59.509993\n",
       "mths_since_last_delinq                      1158535   51.246715\n",
       "il_util                                     1068883   47.281042\n",
       "mths_since_rcnt_il                           909957   40.251099\n",
       "all_util                                     866381   38.323555\n",
       "open_acc_6m                                  866163   38.313912\n",
       "total_cu_tl                                  866163   38.313912\n",
       "inq_last_12m                                 866163   38.313912\n",
       "open_rv_24m                                  866162   38.313868\n",
       "open_rv_12m                                  866162   38.313868\n",
       "total_bal_il                                 866162   38.313868\n",
       "open_il_24m                                  866162   38.313868\n",
       "open_il_12m                                  866162   38.313868\n",
       "open_act_il                                  866162   38.313868\n",
       "max_bal_bc                                   866162   38.313868\n",
       "inq_fi                                       866162   38.313868\n",
       "mths_since_recent_inq                        295468   13.069751\n",
       "emp_title                                    167002    7.387178"
      ]
     },
     "execution_count": 4,
     "metadata": {},
     "output_type": "execute_result"
    }
   ],
   "source": [
    "missing.sort_values(\"count\", ascending=False)[0:60]"
   ]
  },
  {
   "cell_type": "markdown",
   "id": "a424a278",
   "metadata": {},
   "source": [
    "### 5.1. What columns have highest number of missing values <a class=\"anchor\" id=\"MissingResult\"></a>\n",
    "It can be seen that member_ids are all missing. Furthermore, there are more than 50 columns, that have more than 38% missing values. The common characteristic in these columns is that, they all are established after the origination of the loan. Therefore, they did not play any role in the loan application approval/rejection. These columns can be dropped. Many of these columns refer to the applicant's credict performance during the loan length. These columns include number of bank cards, number of mortages, installments, trades during the loan, delinquecies and etc.  \n",
    "Furthermore a few number of loans are joint loans and such loans have information (columns) relevent to the second applicant, which are missing for single applicants. I have decided to focus on single applicants, therefore, any columns regarding the second applicant are will be dropped. \n"
   ]
  },
  {
   "cell_type": "markdown",
   "id": "c2d0df2d",
   "metadata": {},
   "source": [
    "## 5.2. What features (columns) are kept? <a class=\"anchor\" id=\"keep\"></a>\n",
    "Any feature which is established before the decision on the loan should be kept. Furthermore, features like loan amount,  interest rate and its term that reflect the decision on the loan should be kept.I am also intersted in studying which states have highest number of application/default, therefore I aslo keep the state of the applicant. These columns and their descreptions are:\n",
    "1.\trevol_util\t\n",
    "2.\tdti\t\t\n",
    "3.\tpub_rec_bankruptcies\t\n",
    "4.\tchargeoff_within_12_mths\t\n",
    "5.\tcollections_12_mths_ex_med\t\n",
    "6.\ttax_liens\t\n",
    "7.\tinq_last_6mths\t\n",
    "8.\ttotal_acc\t\n",
    "9.\tdelinq_2yrs\t\n",
    "10.\tearliest_cr_line\t\n",
    "11.\topen_acc\t\n",
    "12.\tpub_rec\t\n",
    "13.\tacc_now_delinq\t\n",
    "14.\tdelinq_amnt\t\t\n",
    "15.\tannual_inc\t\t\n",
    "16.\tpurpose\t\n",
    "17.\tissue_d\t\n",
    "18.\tpymnt_plan\t\n",
    "19.\tsub_grade\t\n",
    "20.\tfunded_amnt\t\n",
    "21.\tloan_status\t\t\n",
    "22.\tinstallment\t\n",
    "23.\tint_rate\t\t\n",
    "24.\tverification_status\t\n",
    "25.\tgrade\t\n",
    "26.\tterm\t\n",
    "27.\tdisbursement_method\t\n",
    "28.\thome_ownership\t\t\n",
    "29.\taddr_state\t\t\n",
    "30.\tinitial_list_status\t\n",
    "31.\tpolicy_code\t\n",
    "32.\trevol_bal\t\n",
    "33.\tfico_range_high\t\n",
    "34.\tfico_range_low\t\n",
    "35.\tid\n",
    "36. emp_length"
   ]
  },
  {
   "cell_type": "code",
   "execution_count": 5,
   "id": "2704e9c4",
   "metadata": {},
   "outputs": [],
   "source": [
    "keeplist = ['revol_util','dti', 'pub_rec_bankruptcies', 'chargeoff_within_12_mths', 'collections_12_mths_ex_med', 'tax_liens',\n",
    "            'inq_last_6mths','total_acc', 'delinq_2yrs', 'earliest_cr_line', 'open_acc', 'pub_rec', 'acc_now_delinq',\n",
    "            'delinq_amnt', 'annual_inc', 'purpose', 'issue_d', 'pymnt_plan', 'sub_grade', 'funded_amnt', 'loan_status', \n",
    "            'installment', 'int_rate', 'verification_status', 'grade', 'term', 'disbursement_method', 'home_ownership', 'addr_state',\n",
    "            'initial_list_status', 'policy_code', 'revol_bal', 'fico_range_high', 'fico_range_low', 'id', 'emp_length']"
   ]
  },
  {
   "cell_type": "markdown",
   "id": "59c3b725",
   "metadata": {},
   "source": [
    "### 5.3. What features (columns) are dropped? <a class=\"anchor\" id=\"Drop\"></a>\n",
    "\n",
    "#### 5.3.1.   General features and duplicate features <a class=\"anchor\" id=\"General\"></a>\n",
    "member_id: it's the id each borrower (or member) in LendingClub is given and because the source data is deidentified, member_ids are removed before publicizing. So the whole column can be dropped. url, zip_code. loan_amount is similar to funded amount, so is dropped. funded_amnt_inv is the amount investors fund, does not affect decision and is dropped.\n",
    "\n",
    "####  5.3.2.  Applicant credit performance during the life of loan <a class=\"anchor\" id=\"Performance\"></a>\n",
    "Because we are trying to find a better model to decide about loan applications, any feature that is not defined prior to the decision on the loan application can be dropped. Many of the avialble features in the source data refer to th applicant credit card performance during the loan and are irrelavent for initial decision making. These feature include number of bank cards, number of mortages, installments, trades during the loan, delinquecies and etc.  \n",
    "open_rv_24m,  open_rv_12m,  total_bal_il,  open_il_24m,\topen_il_12m, open_act_il,  max_bal_bc, inq_fi,  mths_since_recent_inq, months_since_last_record,   mths_since_recent_bc_dlq,   mths_since_last_major_derog,   mths_since_recent_revol_delinq, next_pymnt_d,   mths_since_last_delinq,   il_util,   mths_since_rcnt_il,   all_util,  open_acc_6m,   total_cu_tl,  inq_last_12m. orig_projected_additional_accrued_interes: As the descriptive excel sheet describes this feature is the original projected additional interest amount that will accure for the given hardship payment plan as of the Hardship Start Date. This field will be null if the borrower has broken their hardship payment plan. So it's feature which is only available after application decision and in the case of the borrower's harship in returning the loan. hardship releven columns which include \n",
    "hardship_startdate, hardship_amount,  hardship_dpd, hardship_end_date, hardship_flag, hardship_last_payment_amount, hardship_length, hardship_loan_status, hardship_payoff_balance_amount, hardship_reason, hardship_start_date, hardship_status hardship_type, payment_plan_start_date, settlement_term, debt_settlement_flag_date, settlement_status\tsettlement_date, settlement_amount, settlement_percentage\n",
    "####  5.3.3.  Secondary applicants' data <a class=\"anchor\" id=\"Secondary\"></a>\n",
    "less than 5 percent of applications are joint. For now, I'd like to focus on single applications. Therefore, I'll drop any columns and rows with data of the second applicants. These columns are: sec_app_chargeoff_within_12_mths \n",
    "sec_app_collections_12_mths_ex_med ,sec_app_earliest_cr_line, sec_app_fico_range_high, sec_app_fico_range_low, sec_app_inq_last_6mths, sec_app_mort_acc, sec_app_mths_since_last_major_derog, sec_app_num_rev_accts, sec_app_open_acc, sec_app_open_act_il, sec_app_revol_util, revol_bal_joint, verification_status_joint, dti_joint, annual_inc_joint, desc "
   ]
  },
  {
   "cell_type": "code",
   "execution_count": 6,
   "id": "26c9dd70",
   "metadata": {},
   "outputs": [
    {
     "name": "stdout",
     "output_type": "stream",
     "text": [
      "(2139958, 151)\n"
     ]
    },
    {
     "data": {
      "text/plain": [
       "array(['Individual'], dtype=object)"
      ]
     },
     "execution_count": 6,
     "metadata": {},
     "output_type": "execute_result"
    }
   ],
   "source": [
    "# Before dropping unwanted columns, I first need to drop joint application rows.\n",
    "df =df[ df['application_type'] == \"Individual\"]\n",
    "print(df.shape)\n",
    "df['application_type'].unique()"
   ]
  },
  {
   "cell_type": "code",
   "execution_count": 7,
   "id": "8991e0d0",
   "metadata": {},
   "outputs": [
    {
     "data": {
      "text/plain": [
       "(2139958, 36)"
      ]
     },
     "execution_count": 7,
     "metadata": {},
     "output_type": "execute_result"
    }
   ],
   "source": [
    "# At this stage, I drop all irrelevant columns discussed before and only keep those columns in the keeplist. \n",
    "# After dropping unwanted columns, I check the dataframe shape. It can be seen there are 48 columns left.\n",
    "df = df[keeplist]\n",
    "df.shape"
   ]
  },
  {
   "cell_type": "markdown",
   "id": "17ca9440",
   "metadata": {},
   "source": [
    "## 6. Checking the missing data in the truncated dataframe <a class=\"anchor\" id=\"TruncatedMissing\"></a>\n",
    "Now that we, have drop more than 100 columns and some rows, I check again if there are missing data"
   ]
  },
  {
   "cell_type": "code",
   "execution_count": 8,
   "id": "888e2984",
   "metadata": {},
   "outputs": [
    {
     "data": {
      "text/html": [
       "<div>\n",
       "<style scoped>\n",
       "    .dataframe tbody tr th:only-of-type {\n",
       "        vertical-align: middle;\n",
       "    }\n",
       "\n",
       "    .dataframe tbody tr th {\n",
       "        vertical-align: top;\n",
       "    }\n",
       "\n",
       "    .dataframe thead th {\n",
       "        text-align: right;\n",
       "    }\n",
       "</style>\n",
       "<table border=\"1\" class=\"dataframe\">\n",
       "  <thead>\n",
       "    <tr style=\"text-align: right;\">\n",
       "      <th></th>\n",
       "      <th>count</th>\n",
       "      <th>%</th>\n",
       "    </tr>\n",
       "  </thead>\n",
       "  <tbody>\n",
       "    <tr>\n",
       "      <th>emp_length</th>\n",
       "      <td>130357</td>\n",
       "      <td>6.091568</td>\n",
       "    </tr>\n",
       "    <tr>\n",
       "      <th>revol_util</th>\n",
       "      <td>1552</td>\n",
       "      <td>0.072525</td>\n",
       "    </tr>\n",
       "    <tr>\n",
       "      <th>pub_rec_bankruptcies</th>\n",
       "      <td>1365</td>\n",
       "      <td>0.063786</td>\n",
       "    </tr>\n",
       "    <tr>\n",
       "      <th>collections_12_mths_ex_med</th>\n",
       "      <td>145</td>\n",
       "      <td>0.006776</td>\n",
       "    </tr>\n",
       "    <tr>\n",
       "      <th>chargeoff_within_12_mths</th>\n",
       "      <td>145</td>\n",
       "      <td>0.006776</td>\n",
       "    </tr>\n",
       "    <tr>\n",
       "      <th>tax_liens</th>\n",
       "      <td>105</td>\n",
       "      <td>0.004907</td>\n",
       "    </tr>\n",
       "    <tr>\n",
       "      <th>inq_last_6mths</th>\n",
       "      <td>30</td>\n",
       "      <td>0.001402</td>\n",
       "    </tr>\n",
       "    <tr>\n",
       "      <th>open_acc</th>\n",
       "      <td>29</td>\n",
       "      <td>0.001355</td>\n",
       "    </tr>\n",
       "    <tr>\n",
       "      <th>acc_now_delinq</th>\n",
       "      <td>29</td>\n",
       "      <td>0.001355</td>\n",
       "    </tr>\n",
       "    <tr>\n",
       "      <th>pub_rec</th>\n",
       "      <td>29</td>\n",
       "      <td>0.001355</td>\n",
       "    </tr>\n",
       "    <tr>\n",
       "      <th>delinq_amnt</th>\n",
       "      <td>29</td>\n",
       "      <td>0.001355</td>\n",
       "    </tr>\n",
       "    <tr>\n",
       "      <th>earliest_cr_line</th>\n",
       "      <td>29</td>\n",
       "      <td>0.001355</td>\n",
       "    </tr>\n",
       "    <tr>\n",
       "      <th>delinq_2yrs</th>\n",
       "      <td>29</td>\n",
       "      <td>0.001355</td>\n",
       "    </tr>\n",
       "    <tr>\n",
       "      <th>total_acc</th>\n",
       "      <td>29</td>\n",
       "      <td>0.001355</td>\n",
       "    </tr>\n",
       "    <tr>\n",
       "      <th>annual_inc</th>\n",
       "      <td>4</td>\n",
       "      <td>0.000187</td>\n",
       "    </tr>\n",
       "    <tr>\n",
       "      <th>term</th>\n",
       "      <td>0</td>\n",
       "      <td>0.000000</td>\n",
       "    </tr>\n",
       "    <tr>\n",
       "      <th>id</th>\n",
       "      <td>0</td>\n",
       "      <td>0.000000</td>\n",
       "    </tr>\n",
       "    <tr>\n",
       "      <th>fico_range_low</th>\n",
       "      <td>0</td>\n",
       "      <td>0.000000</td>\n",
       "    </tr>\n",
       "    <tr>\n",
       "      <th>fico_range_high</th>\n",
       "      <td>0</td>\n",
       "      <td>0.000000</td>\n",
       "    </tr>\n",
       "    <tr>\n",
       "      <th>revol_bal</th>\n",
       "      <td>0</td>\n",
       "      <td>0.000000</td>\n",
       "    </tr>\n",
       "    <tr>\n",
       "      <th>policy_code</th>\n",
       "      <td>0</td>\n",
       "      <td>0.000000</td>\n",
       "    </tr>\n",
       "    <tr>\n",
       "      <th>initial_list_status</th>\n",
       "      <td>0</td>\n",
       "      <td>0.000000</td>\n",
       "    </tr>\n",
       "    <tr>\n",
       "      <th>addr_state</th>\n",
       "      <td>0</td>\n",
       "      <td>0.000000</td>\n",
       "    </tr>\n",
       "    <tr>\n",
       "      <th>home_ownership</th>\n",
       "      <td>0</td>\n",
       "      <td>0.000000</td>\n",
       "    </tr>\n",
       "    <tr>\n",
       "      <th>disbursement_method</th>\n",
       "      <td>0</td>\n",
       "      <td>0.000000</td>\n",
       "    </tr>\n",
       "    <tr>\n",
       "      <th>funded_amnt</th>\n",
       "      <td>0</td>\n",
       "      <td>0.000000</td>\n",
       "    </tr>\n",
       "    <tr>\n",
       "      <th>grade</th>\n",
       "      <td>0</td>\n",
       "      <td>0.000000</td>\n",
       "    </tr>\n",
       "    <tr>\n",
       "      <th>verification_status</th>\n",
       "      <td>0</td>\n",
       "      <td>0.000000</td>\n",
       "    </tr>\n",
       "    <tr>\n",
       "      <th>int_rate</th>\n",
       "      <td>0</td>\n",
       "      <td>0.000000</td>\n",
       "    </tr>\n",
       "    <tr>\n",
       "      <th>installment</th>\n",
       "      <td>0</td>\n",
       "      <td>0.000000</td>\n",
       "    </tr>\n",
       "    <tr>\n",
       "      <th>loan_status</th>\n",
       "      <td>0</td>\n",
       "      <td>0.000000</td>\n",
       "    </tr>\n",
       "    <tr>\n",
       "      <th>dti</th>\n",
       "      <td>0</td>\n",
       "      <td>0.000000</td>\n",
       "    </tr>\n",
       "    <tr>\n",
       "      <th>pymnt_plan</th>\n",
       "      <td>0</td>\n",
       "      <td>0.000000</td>\n",
       "    </tr>\n",
       "    <tr>\n",
       "      <th>issue_d</th>\n",
       "      <td>0</td>\n",
       "      <td>0.000000</td>\n",
       "    </tr>\n",
       "    <tr>\n",
       "      <th>purpose</th>\n",
       "      <td>0</td>\n",
       "      <td>0.000000</td>\n",
       "    </tr>\n",
       "    <tr>\n",
       "      <th>sub_grade</th>\n",
       "      <td>0</td>\n",
       "      <td>0.000000</td>\n",
       "    </tr>\n",
       "  </tbody>\n",
       "</table>\n",
       "</div>"
      ],
      "text/plain": [
       "                             count         %\n",
       "emp_length                  130357  6.091568\n",
       "revol_util                    1552  0.072525\n",
       "pub_rec_bankruptcies          1365  0.063786\n",
       "collections_12_mths_ex_med     145  0.006776\n",
       "chargeoff_within_12_mths       145  0.006776\n",
       "tax_liens                      105  0.004907\n",
       "inq_last_6mths                  30  0.001402\n",
       "open_acc                        29  0.001355\n",
       "acc_now_delinq                  29  0.001355\n",
       "pub_rec                         29  0.001355\n",
       "delinq_amnt                     29  0.001355\n",
       "earliest_cr_line                29  0.001355\n",
       "delinq_2yrs                     29  0.001355\n",
       "total_acc                       29  0.001355\n",
       "annual_inc                       4  0.000187\n",
       "term                             0  0.000000\n",
       "id                               0  0.000000\n",
       "fico_range_low                   0  0.000000\n",
       "fico_range_high                  0  0.000000\n",
       "revol_bal                        0  0.000000\n",
       "policy_code                      0  0.000000\n",
       "initial_list_status              0  0.000000\n",
       "addr_state                       0  0.000000\n",
       "home_ownership                   0  0.000000\n",
       "disbursement_method              0  0.000000\n",
       "funded_amnt                      0  0.000000\n",
       "grade                            0  0.000000\n",
       "verification_status              0  0.000000\n",
       "int_rate                         0  0.000000\n",
       "installment                      0  0.000000\n",
       "loan_status                      0  0.000000\n",
       "dti                              0  0.000000\n",
       "pymnt_plan                       0  0.000000\n",
       "issue_d                          0  0.000000\n",
       "purpose                          0  0.000000\n",
       "sub_grade                        0  0.000000"
      ]
     },
     "execution_count": 8,
     "metadata": {},
     "output_type": "execute_result"
    }
   ],
   "source": [
    "# Check to see number and percentage of the missing data\n",
    "missing1 = df.isnull().sum()\n",
    "missing2 = 100*df.isnull().mean()\n",
    "missing = pd.concat([missing1, missing2], axis=1)\n",
    "missing.columns = ['count', '%']\n",
    "missing.sort_values(\"count\", ascending=False)"
   ]
  },
  {
   "cell_type": "markdown",
   "id": "5d7533b2",
   "metadata": {},
   "source": [
    "#### 6.1. Dropping the rows with missing data <a class=\"anchor\" id=\"ddrop\"></a>\n",
    "Employment length has the higher number of missing points, about 6% (130,000) of employment length is missing. revolving utility rate and banckrupcy records have about 0.07% (1000) missing points. Taking account the huge size of data we can drop all applications, where there is missing data.  "
   ]
  },
  {
   "cell_type": "code",
   "execution_count": 9,
   "id": "cc5f7f57",
   "metadata": {},
   "outputs": [
    {
     "data": {
      "text/plain": [
       "(2006808, 36)"
      ]
     },
     "execution_count": 9,
     "metadata": {},
     "output_type": "execute_result"
    }
   ],
   "source": [
    "# Dropping the applications with missing data\n",
    "df = df.dropna()\n",
    "df.shape"
   ]
  },
  {
   "cell_type": "markdown",
   "id": "48aa234c",
   "metadata": {},
   "source": [
    "##### Saving the new truncated data frame\n",
    "At this point that I have somehow cleaned the data, I'd like to save my new truncated dataframe, so that I will not need to open the source data file, which is very time consuming. "
   ]
  },
  {
   "cell_type": "code",
   "execution_count": 209,
   "id": "ea65fde6",
   "metadata": {},
   "outputs": [],
   "source": [
    "# Saving the new dataframe for easy future references:\n",
    "\n",
    "SavePath = \"C:\\\\Users\\\\somfl\\\\Documents\\\\Data Science Career Track\\\\LendingClub\\\\TruncatedData.csv\"\n",
    "df.to_csv(SavePath, sep ='\\t')"
   ]
  },
  {
   "cell_type": "code",
   "execution_count": 10,
   "id": "03c168ab",
   "metadata": {},
   "outputs": [
    {
     "data": {
      "text/plain": [
       "(2006808, 15)"
      ]
     },
     "execution_count": 10,
     "metadata": {},
     "output_type": "execute_result"
    }
   ],
   "source": [
    "dfobject = df.select_dtypes(object)\n",
    "dfobject.shape"
   ]
  },
  {
   "cell_type": "markdown",
   "id": "a9dd4794",
   "metadata": {},
   "source": [
    "## 7. Heat Map of the numerical features <a class=\"anchor\" id=\"HM\"></a>"
   ]
  },
  {
   "cell_type": "code",
   "execution_count": 11,
   "id": "d2195ef9",
   "metadata": {},
   "outputs": [
    {
     "data": {
      "text/plain": [
       "(2006808, 21)"
      ]
     },
     "execution_count": 11,
     "metadata": {},
     "output_type": "execute_result"
    }
   ],
   "source": [
    "dffloat = df.select_dtypes(np.number)\n",
    "dffloat.shape"
   ]
  },
  {
   "cell_type": "code",
   "execution_count": 12,
   "id": "d89f0d8a",
   "metadata": {},
   "outputs": [
    {
     "data": {
      "image/png": "[encoded data removed]",
      "text/plain": [
       "<Figure size 864x720 with 2 Axes>"
      ]
     },
     "metadata": {
      "needs_background": "light"
     },
     "output_type": "display_data"
    }
   ],
   "source": [
    "# Show a seaborn heatmap of correlations in dffloat\n",
    "#I call pandas' `corr()` method on `dffloat` and pass that into `sns.heatmap`\n",
    "plt.subplots(figsize=(12,10))\n",
    "sns.heatmap(dffloat.corr());"
   ]
  },
  {
   "cell_type": "markdown",
   "id": "4665135b",
   "metadata": {},
   "source": [
    "## 7.1. What do we learn from the heat map? <a class=\"anchor\" id=\"HML\"></a>\n",
    "1. _'fico_range_low'_ and _'fico_range_high'_ are highly correlated, so probably an average value can replace the low and high ranges. \n",
    "\n",
    "2. While _'policy code'_ is a numerical value, it is not correlated to anything and I will look into it later again.\n",
    "\n",
    "3. _'installment'_ and _'funded amount'_ are correlated, which is not surprising.\n",
    "\n",
    "4. Number of _'open account'_ and _'total_account'_ are also correlated, as well as _'public_record'_ and _'pubilc_record_bankrupcies'_.\n",
    "\n"
   ]
  },
  {
   "cell_type": "markdown",
   "id": "7ff5b6e7",
   "metadata": {},
   "source": [
    "#### 7.1.1. Are low and high Fico scores the same? <a class=\"anchor\" id=\"Fico\"></a>\n",
    "\n",
    "As it is shown below, the high and low fico score difference is very small. Therefore, I will use their average as 'fico_score' and will drop the two original columns."
   ]
  },
  {
   "cell_type": "code",
   "execution_count": 13,
   "id": "8bcc7009",
   "metadata": {},
   "outputs": [
    {
     "name": "stdout",
     "output_type": "stream",
     "text": [
      "394386     5.0\n",
      "1896136    5.0\n",
      "701582     5.0\n",
      "1042548    5.0\n",
      "1089871    5.0\n",
      "          ... \n",
      "745130     4.0\n",
      "745129     4.0\n",
      "745128     4.0\n",
      "745127     4.0\n",
      "2260698    4.0\n",
      "Length: 2006808, dtype: float64\n"
     ]
    },
    {
     "data": {
      "image/png": "[encoded data removed]",
      "text/plain": [
       "<Figure size 864x576 with 1 Axes>"
      ]
     },
     "metadata": {
      "needs_background": "light"
     },
     "output_type": "display_data"
    }
   ],
   "source": [
    "#Create a seaborn boxplot of the fico score to decide if they are similar. It can be seen they are \n",
    "\n",
    "plt.subplots(figsize=(12, 8))\n",
    "ax = sns.boxplot(data=df[['fico_range_high', 'fico_range_low']], orient='v', palette=\"Set2\")\n",
    "plt.xticks()\n",
    "plt.ylabel('Score');\n",
    "print((df['fico_range_high']-df['fico_range_low']).sort_values(ascending=False))"
   ]
  },
  {
   "cell_type": "code",
   "execution_count": 14,
   "id": "bb798418",
   "metadata": {},
   "outputs": [
    {
     "data": {
      "text/plain": [
       "(2006808, 35)"
      ]
     },
     "execution_count": 14,
     "metadata": {},
     "output_type": "execute_result"
    }
   ],
   "source": [
    "# the higher and lower fico score difference is either 5 or 4. Therefore, I used their average as 'fico_score' and drop the two\n",
    "# columns.\n",
    "df['fico_score'] = (df['fico_range_high']+df['fico_range_low'])/2\n",
    "df.drop(columns = ['fico_range_high', 'fico_range_low'], inplace = True)\n",
    "df.shape"
   ]
  },
  {
   "cell_type": "markdown",
   "id": "a1f65561",
   "metadata": {},
   "source": [
    "The high and low fico score difference is either 5 or 4. Therefore, I used their average as 'fico_score' and drop the two columns."
   ]
  },
  {
   "cell_type": "markdown",
   "id": "9613d7b2",
   "metadata": {},
   "source": [
    "#### 7.1.2. What is policy code? <a class=\"anchor\" id=\"Code\"></a>\n",
    "As it is shown, policy code is 1 for all entries. Therefore, I will drop it."
   ]
  },
  {
   "cell_type": "code",
   "execution_count": 15,
   "id": "24c29b93",
   "metadata": {},
   "outputs": [
    {
     "data": {
      "text/plain": [
       "1.0    2006808\n",
       "Name: policy_code, dtype: int64"
      ]
     },
     "execution_count": 15,
     "metadata": {},
     "output_type": "execute_result"
    }
   ],
   "source": [
    "df['policy_code'].value_counts()"
   ]
  },
  {
   "cell_type": "code",
   "execution_count": 16,
   "id": "5c1d5dfb",
   "metadata": {},
   "outputs": [],
   "source": [
    "df.drop(columns = ['policy_code'], inplace = True)"
   ]
  },
  {
   "cell_type": "markdown",
   "id": "6ed5b14b",
   "metadata": {},
   "source": [
    "## 8. Histograms of numerical features <a class=\"anchor\" id=\"Hist\"></a>"
   ]
  },
  {
   "cell_type": "code",
   "execution_count": 17,
   "id": "69227f21",
   "metadata": {},
   "outputs": [
    {
     "data": {
      "image/png": "[encoded data removed]",
      "text/plain": [
       "<Figure size 1440x1440 with 20 Axes>"
      ]
     },
     "metadata": {
      "needs_background": "light"
     },
     "output_type": "display_data"
    }
   ],
   "source": [
    "df.select_dtypes(np.number).hist(figsize=(20,20))\n",
    "plt.subplots_adjust(hspace=0.75, wspace=.75);"
   ]
  },
  {
   "cell_type": "markdown",
   "id": "d73406b4",
   "metadata": {},
   "source": [
    "## 8.1. What do we learn from histograms? <a class=\"anchor\" id=\"HistL\"></a>\n",
    "Some features have values that are clustered down the low end such as revol_bal, annual_inc, delinq_amnt and etc. I need to explore these items more and make sure they are correct.\n",
    "\n"
   ]
  },
  {
   "cell_type": "markdown",
   "id": "7ed009cc",
   "metadata": {},
   "source": [
    "#### 8.1.1. Applicants with more than 10 bankruptcies <a class=\"anchor\" id=\"BankR\"></a>\n",
    "There are two applicants with more than 10 bancruptcies but as shown in the table, these numbers are smaller than the total public records so, they are probably correct."
   ]
  },
  {
   "cell_type": "code",
   "execution_count": 22,
   "id": "32bea7ad",
   "metadata": {},
   "outputs": [
    {
     "data": {
      "text/html": [
       "<div>\n",
       "<style scoped>\n",
       "    .dataframe tbody tr th:only-of-type {\n",
       "        vertical-align: middle;\n",
       "    }\n",
       "\n",
       "    .dataframe tbody tr th {\n",
       "        vertical-align: top;\n",
       "    }\n",
       "\n",
       "    .dataframe thead th {\n",
       "        text-align: right;\n",
       "    }\n",
       "</style>\n",
       "<table border=\"1\" class=\"dataframe\">\n",
       "  <thead>\n",
       "    <tr style=\"text-align: right;\">\n",
       "      <th></th>\n",
       "      <th>pub_rec_bankruptcies</th>\n",
       "      <th>pub_rec</th>\n",
       "    </tr>\n",
       "  </thead>\n",
       "  <tbody>\n",
       "    <tr>\n",
       "      <th>420591</th>\n",
       "      <td>11.0</td>\n",
       "      <td>12.0</td>\n",
       "    </tr>\n",
       "    <tr>\n",
       "      <th>1175624</th>\n",
       "      <td>12.0</td>\n",
       "      <td>12.0</td>\n",
       "    </tr>\n",
       "  </tbody>\n",
       "</table>\n",
       "</div>"
      ],
      "text/plain": [
       "         pub_rec_bankruptcies  pub_rec\n",
       "420591                   11.0     12.0\n",
       "1175624                  12.0     12.0"
      ]
     },
     "execution_count": 22,
     "metadata": {},
     "output_type": "execute_result"
    }
   ],
   "source": [
    "df.loc[df['pub_rec_bankruptcies'] > 10, ['pub_rec_bankruptcies','pub_rec']]"
   ]
  },
  {
   "cell_type": "markdown",
   "id": "b5bb78fc",
   "metadata": {},
   "source": [
    "#### 8.1.2. Applicants with more than 250 utilization rate <a class=\"anchor\" id=\"Util\"></a>\n",
    "There are two applicants with more than 250 utilization rate."
   ]
  },
  {
   "cell_type": "code",
   "execution_count": 18,
   "id": "8eaa2e5d",
   "metadata": {},
   "outputs": [
    {
     "data": {
      "text/html": [
       "<div>\n",
       "<style scoped>\n",
       "    .dataframe tbody tr th:only-of-type {\n",
       "        vertical-align: middle;\n",
       "    }\n",
       "\n",
       "    .dataframe tbody tr th {\n",
       "        vertical-align: top;\n",
       "    }\n",
       "\n",
       "    .dataframe thead th {\n",
       "        text-align: right;\n",
       "    }\n",
       "</style>\n",
       "<table border=\"1\" class=\"dataframe\">\n",
       "  <thead>\n",
       "    <tr style=\"text-align: right;\">\n",
       "      <th></th>\n",
       "      <th>revol_util</th>\n",
       "      <th>dti</th>\n",
       "      <th>pub_rec_bankruptcies</th>\n",
       "      <th>chargeoff_within_12_mths</th>\n",
       "      <th>collections_12_mths_ex_med</th>\n",
       "      <th>tax_liens</th>\n",
       "      <th>inq_last_6mths</th>\n",
       "      <th>total_acc</th>\n",
       "      <th>delinq_2yrs</th>\n",
       "      <th>earliest_cr_line</th>\n",
       "      <th>...</th>\n",
       "      <th>grade</th>\n",
       "      <th>term</th>\n",
       "      <th>disbursement_method</th>\n",
       "      <th>home_ownership</th>\n",
       "      <th>addr_state</th>\n",
       "      <th>initial_list_status</th>\n",
       "      <th>revol_bal</th>\n",
       "      <th>id</th>\n",
       "      <th>emp_length</th>\n",
       "      <th>fico_score</th>\n",
       "    </tr>\n",
       "  </thead>\n",
       "  <tbody>\n",
       "    <tr>\n",
       "      <th>1254597</th>\n",
       "      <td>366.6</td>\n",
       "      <td>9.33</td>\n",
       "      <td>0.0</td>\n",
       "      <td>0.0</td>\n",
       "      <td>0.0</td>\n",
       "      <td>0.0</td>\n",
       "      <td>0.0</td>\n",
       "      <td>15.0</td>\n",
       "      <td>0.0</td>\n",
       "      <td>Jun-1996</td>\n",
       "      <td>...</td>\n",
       "      <td>C</td>\n",
       "      <td>60 months</td>\n",
       "      <td>Cash</td>\n",
       "      <td>MORTGAGE</td>\n",
       "      <td>NC</td>\n",
       "      <td>f</td>\n",
       "      <td>2566.0</td>\n",
       "      <td>19076217</td>\n",
       "      <td>&lt; 1 year</td>\n",
       "      <td>717.0</td>\n",
       "    </tr>\n",
       "    <tr>\n",
       "      <th>1292903</th>\n",
       "      <td>892.3</td>\n",
       "      <td>14.67</td>\n",
       "      <td>0.0</td>\n",
       "      <td>0.0</td>\n",
       "      <td>0.0</td>\n",
       "      <td>0.0</td>\n",
       "      <td>0.0</td>\n",
       "      <td>9.0</td>\n",
       "      <td>0.0</td>\n",
       "      <td>Oct-1998</td>\n",
       "      <td>...</td>\n",
       "      <td>B</td>\n",
       "      <td>36 months</td>\n",
       "      <td>Cash</td>\n",
       "      <td>RENT</td>\n",
       "      <td>CA</td>\n",
       "      <td>f</td>\n",
       "      <td>2677.0</td>\n",
       "      <td>14539247</td>\n",
       "      <td>10+ years</td>\n",
       "      <td>697.0</td>\n",
       "    </tr>\n",
       "  </tbody>\n",
       "</table>\n",
       "<p>2 rows × 34 columns</p>\n",
       "</div>"
      ],
      "text/plain": [
       "         revol_util    dti  pub_rec_bankruptcies  chargeoff_within_12_mths  \\\n",
       "1254597       366.6   9.33                   0.0                       0.0   \n",
       "1292903       892.3  14.67                   0.0                       0.0   \n",
       "\n",
       "         collections_12_mths_ex_med  tax_liens  inq_last_6mths  total_acc  \\\n",
       "1254597                         0.0        0.0             0.0       15.0   \n",
       "1292903                         0.0        0.0             0.0        9.0   \n",
       "\n",
       "         delinq_2yrs earliest_cr_line  ...  grade        term  \\\n",
       "1254597          0.0         Jun-1996  ...      C   60 months   \n",
       "1292903          0.0         Oct-1998  ...      B   36 months   \n",
       "\n",
       "         disbursement_method  home_ownership  addr_state initial_list_status  \\\n",
       "1254597                 Cash        MORTGAGE          NC                   f   \n",
       "1292903                 Cash            RENT          CA                   f   \n",
       "\n",
       "        revol_bal        id emp_length  fico_score  \n",
       "1254597    2566.0  19076217   < 1 year       717.0  \n",
       "1292903    2677.0  14539247  10+ years       697.0  \n",
       "\n",
       "[2 rows x 34 columns]"
      ]
     },
     "execution_count": 18,
     "metadata": {},
     "output_type": "execute_result"
    }
   ],
   "source": [
    "df.loc[df['revol_util']>250]"
   ]
  },
  {
   "cell_type": "code",
   "execution_count": null,
   "id": "691de155",
   "metadata": {},
   "outputs": [],
   "source": []
  },
  {
   "cell_type": "code",
   "execution_count": null,
   "id": "6d455ed8",
   "metadata": {},
   "outputs": [],
   "source": []
  },
  {
   "cell_type": "code",
   "execution_count": 24,
   "id": "ea899527",
   "metadata": {},
   "outputs": [],
   "source": [
    "objectlist = ['home_ownership', 'initial_list_status', 'addr_state', 'disbursement_method', 'pymnt_plan', 'verification_status', \n",
    "'loan_status', 'sub_grade', 'term', 'emp_length']"
   ]
  },
  {
   "cell_type": "markdown",
   "id": "9c7d681b",
   "metadata": {},
   "source": [
    "## 9. Categorical features <a class=\"anchor\" id=\"Cat\"></a>"
   ]
  },
  {
   "cell_type": "markdown",
   "id": "989ddccc",
   "metadata": {},
   "source": [
    "### 9.1. Loan status <a class=\"anchor\" id=\"LoanStatus\"></a>\n",
    "Almost half of loans in our dataframe are paid in full. From the rest about 800,000 are current and more than 200,000 of loans are charged off, which is an early indication of default. There is only 30 loans with default status. Therefore, I will assume Charged off as default. \n"
   ]
  },
  {
   "cell_type": "code",
   "execution_count": 27,
   "id": "8e16e580",
   "metadata": {},
   "outputs": [
    {
     "data": {
      "text/plain": [
       "<seaborn.axisgrid.FacetGrid at 0x1d64e464130>"
      ]
     },
     "execution_count": 27,
     "metadata": {},
     "output_type": "execute_result"
    },
    {
     "data": {
      "image/png": "[encoded data removed]",
      "text/plain": [
       "<Figure size 360x360 with 1 Axes>"
      ]
     },
     "metadata": {
      "needs_background": "light"
     },
     "output_type": "display_data"
    }
   ],
   "source": [
    "sns.catplot(y=\"loan_status\",data=df, kind=\"count\")"
   ]
  },
  {
   "cell_type": "code",
   "execution_count": 28,
   "id": "c134564d",
   "metadata": {},
   "outputs": [
    {
     "data": {
      "text/plain": [
       "Fully Paid                                             1001243\n",
       "Current                                                 733287\n",
       "Charged Off                                             242032\n",
       "Late (31-120 days)                                       17794\n",
       "In Grace Period                                           6903\n",
       "Late (16-30 days)                                         3483\n",
       "Does not meet the credit policy. Status:Fully Paid        1507\n",
       "Does not meet the credit policy. Status:Charged Off        529\n",
       "Default                                                     30\n",
       "Name: loan_status, dtype: int64"
      ]
     },
     "execution_count": 28,
     "metadata": {},
     "output_type": "execute_result"
    }
   ],
   "source": [
    "df['loan_status'].value_counts()"
   ]
  },
  {
   "cell_type": "markdown",
   "id": "12db5057",
   "metadata": {},
   "source": [
    "### 9.2. Loan grade/subgrade distribution <a class='anchor' id='subgrade'></a>"
   ]
  },
  {
   "cell_type": "code",
   "execution_count": 41,
   "id": "7eb3722c",
   "metadata": {},
   "outputs": [
    {
     "data": {
      "image/png": "[encoded data removed]",
      "text/plain": [
       "<Figure size 1080x360 with 1 Axes>"
      ]
     },
     "metadata": {
      "needs_background": "light"
     },
     "output_type": "display_data"
    }
   ],
   "source": [
    "fig, ax = plt.subplots(figsize=(15,5))\n",
    "sns.countplot(x=df[\"sub_grade\"],ax=ax,order=['A1','A2', 'A3', 'A4', 'A5', 'B1', 'B2', 'B3', 'B4', 'B5', 'C1', 'C2', 'C3', 'C4',\n",
    "                                            'C5', 'D1', 'D2', 'D3', 'D4', 'D5', 'E1', 'E2', 'E3', 'E4', 'E5', 'F1', 'F2', 'F3',\n",
    "                                            'F4', 'F5', 'G1', 'G2', 'G3', 'G4', 'G5'])\n",
    "plt.show()"
   ]
  },
  {
   "cell_type": "code",
   "execution_count": 218,
   "id": "0d6e8152",
   "metadata": {},
   "outputs": [
    {
     "data": {
      "text/plain": [
       "array([' 36 months', ' 60 months'], dtype=object)"
      ]
     },
     "execution_count": 218,
     "metadata": {},
     "output_type": "execute_result"
    }
   ],
   "source": [
    "df[\"term\"].unique()"
   ]
  },
  {
   "cell_type": "code",
   "execution_count": 24,
   "id": "6a339b0a",
   "metadata": {},
   "outputs": [
    {
     "data": {
      "text/plain": [
       "<seaborn.axisgrid.FacetGrid at 0x2446bb7cd60>"
      ]
     },
     "execution_count": 24,
     "metadata": {},
     "output_type": "execute_result"
    },
    {
     "data": {
      "image/png": "[encoded data removed]",
      "text/plain": [
       "<Figure size 360x360 with 1 Axes>"
      ]
     },
     "metadata": {
      "needs_background": "light"
     },
     "output_type": "display_data"
    }
   ],
   "source": [
    "sns.catplot(x=\"term\",data=df, kind=\"count\")"
   ]
  },
  {
   "cell_type": "markdown",
   "id": "c18372d7",
   "metadata": {},
   "source": [
    "### 9.3. Distribution of loan issuance year <a class='anchor' id='year'></a>\n",
    "The column in the dataframe is a combination of month-year, I extract the year from the column and add it to the data frame as 'year' and will drop the original issue_d column."
   ]
  },
  {
   "cell_type": "code",
   "execution_count": 45,
   "id": "5d8d4e61",
   "metadata": {},
   "outputs": [],
   "source": [
    "# Extracting year\n",
    "df[\"issue_year\"] = df[\"issue_d\"].str[4:]"
   ]
  },
  {
   "cell_type": "code",
   "execution_count": 54,
   "id": "eb6c36ce",
   "metadata": {},
   "outputs": [
    {
     "data": {
      "text/plain": [
       "<AxesSubplot:xlabel='issue_year', ylabel='count'>"
      ]
     },
     "execution_count": 54,
     "metadata": {},
     "output_type": "execute_result"
    },
    {
     "data": {
      "image/png": "[encoded data removed]",
      "text/plain": [
       "<Figure size 1080x360 with 1 Axes>"
      ]
     },
     "metadata": {
      "needs_background": "light"
     },
     "output_type": "display_data"
    }
   ],
   "source": [
    "# Plotting the distribution of the year\n",
    "fig, ax = plt.subplots(figsize=(15,5))\n",
    "sns.countplot(x=\"issue_year\", data=df, ax=ax, order=[\"2007\", '2008', '2009', '2010', '2011', '2012', '2013', '2014', '2015', '2016', '2017', '2018'])"
   ]
  },
  {
   "cell_type": "code",
   "execution_count": 50,
   "id": "d1353dce",
   "metadata": {},
   "outputs": [],
   "source": [
    "# Dropping the original issue_d column\n",
    "df = df.drop(columns=\"issue_d\")"
   ]
  },
  {
   "cell_type": "code",
   "execution_count": 51,
   "id": "b9754a5f",
   "metadata": {},
   "outputs": [
    {
     "data": {
      "text/plain": [
       "(2006808, 34)"
      ]
     },
     "execution_count": 51,
     "metadata": {},
     "output_type": "execute_result"
    }
   ],
   "source": [
    "df.shape"
   ]
  },
  {
   "cell_type": "code",
   "execution_count": 56,
   "id": "ae4a6f9d",
   "metadata": {},
   "outputs": [
    {
     "data": {
      "text/plain": [
       "33"
      ]
     },
     "execution_count": 56,
     "metadata": {},
     "output_type": "execute_result"
    }
   ],
   "source": [
    "2260701-2260668\n"
   ]
  },
  {
   "cell_type": "code",
   "execution_count": 62,
   "id": "b8e948e1",
   "metadata": {},
   "outputs": [
    {
     "data": {
      "text/plain": [
       "array(['C', 'B', 'F', 'A', 'E', 'D', 'G', nan], dtype=object)"
      ]
     },
     "execution_count": 62,
     "metadata": {},
     "output_type": "execute_result"
    }
   ],
   "source": [
    "df[\"grade\"].unique()"
   ]
  },
  {
   "cell_type": "code",
   "execution_count": 63,
   "id": "543141da",
   "metadata": {},
   "outputs": [
    {
     "data": {
      "text/plain": [
       "array(['C4', 'C1', 'B4', 'C5', 'F1', 'C3', 'B2', 'B1', 'A2', 'B5', 'C2',\n",
       "       'E2', 'A4', 'E3', 'A1', 'D4', 'F3', 'D1', 'B3', 'E4', 'D3', 'D2',\n",
       "       'D5', 'A5', 'F2', 'E1', 'F5', 'E5', 'A3', 'G2', 'G1', 'G3', 'G4',\n",
       "       'F4', 'G5', nan], dtype=object)"
      ]
     },
     "execution_count": 63,
     "metadata": {},
     "output_type": "execute_result"
    }
   ],
   "source": [
    "df[\"sub_grade\"].unique()"
   ]
  },
  {
   "cell_type": "code",
   "execution_count": 66,
   "id": "655dc0ca",
   "metadata": {},
   "outputs": [],
   "source": [
    "df[\"sub_g\"] = df[\"sub_grade\"].str[1]"
   ]
  },
  {
   "cell_type": "code",
   "execution_count": null,
   "id": "d7f84a48",
   "metadata": {},
   "outputs": [],
   "source": []
  }
 ],
 "metadata": {
  "kernelspec": {
   "display_name": "Python 3",
   "language": "python",
   "name": "python3"
  },
  "language_info": {
   "codemirror_mode": {
    "name": "ipython",
    "version": 3
   },
   "file_extension": ".py",
   "mimetype": "text/x-python",
   "name": "python",
   "nbconvert_exporter": "python",
   "pygments_lexer": "ipython3",
   "version": "3.8.8"
  }
 },
 "nbformat": 4,
 "nbformat_minor": 5
}
