{
 "cells": [
  {
   "cell_type": "markdown",
   "id": "9ad5cebe",
   "metadata": {},
   "source": [
    "## Table of contents\n",
    "\n",
    "* [1. Background](#Background)\n",
    "* [2. Imports](#import)\n",
    "* [3. Load the data](#Load_Data)\n",
    "* [4. Is the data imbalanced?](#imblnc)\n",
    "* [5. Definie predictive features and target feature](#define)\n",
    "* [6. Appply One Hot Encoder to change the categorical columns](#OneHot)\n",
    "* [7. Use RandomUnderSampler to balance the data](#rus)\n",
    "* [8. Split the data to train and test sets](#split)\n",
    "* [9. Choose the right metrics for model evaluation](#metrics)\n",
    "* [10. Train models](#model)\n",
    "    * [9.1. Logistic regression](#lr)\n",
    "        * [9.1.1.  Make a pipeline for logistic regression model training](#pllr)\n",
    "        * [9.1.2. Hyperparameter search using GridSearchCV for logistic regression](#gdlr)\n",
    "        * [9.1.3. Best Logistic Regression model](#bestlr)\n",
    "    * [9.2. Decision tree classifier](#dt)\n",
    "        * [9.2.1. Make a pipeline for decision tree](#pldt)\n",
    "        * [9.2.2. Hyperparameter search for decision tree classifier](#gddt)\n",
    "        * [9.2.3. Decision tree classifier with best parameters](#bestdt)\n",
    "        * [9.2.4. Feature importance assessment in the decision tree classifier](#fidt)\n",
    "    * [9.3. Random forest classifier](#rf)\n",
    "        * [9.3.1. Make a pipeline for random forest classifier](#plrf)\n",
    "        * [9.3.2. Hyperparameter search for random forest classifier](#gdrf)\n",
    "        * [9.3.3. Rondom forest classifier feature importance assessment](#firf)\n",
    "    * [9.4. Gradient boosting classifier](#GB)\n",
    "        * [9.4.1. Make a pipeline for gradient boosting classifier](#plgb)\n",
    "        * [9.4.2. Hyperparameter tuning for gradient boosting classifier](#gdgb)\n",
    "        * [9.4.3. Gradient boosting feature importance assessment](#figb)\n",
    "* [10. Summary](#discussion)    "
   ]
  },
  {
   "cell_type": "markdown",
   "id": "fdad8133",
   "metadata": {},
   "source": [
    "# 1. Background  <a class='anchor' id='Background'></a>\n",
    "\n",
    "In this notebook we will apply several calssification models to our cleaned data frame of accepted loans from Lending Club. Briefly, Lending Club used to be the biggest peer to peer lending platform. To decide about a loan application, Lending Club relies on applicants' information provided during application. Such information includes income, length employment and credit history. In previous notebooks, we addressed missing data and explore the data to get a better understanding of the data \n",
    "\n",
    "In this notebook we will apply several classification models to predict if a loan will default. The models are:\n",
    "\n",
    "1. Logistic regression\n",
    "\n",
    "2. Decision tree\n",
    "\n",
    "3. Random Forest\n",
    "\n"
   ]
  },
  {
   "cell_type": "markdown",
   "id": "104aefea",
   "metadata": {},
   "source": [
    "# 2. Imports <a class='anchor' id='import'></a>\n",
    "\n",
    "We start by importing required packages."
   ]
  },
  {
   "cell_type": "code",
   "execution_count": 39,
   "id": "81d33209",
   "metadata": {},
   "outputs": [],
   "source": [
    "import pandas as pd\n",
    "import numpy as np\n",
    "import matplotlib.pyplot as plt\n",
    "import seaborn as sns\n",
    "\n",
    "from sklearn.compose import make_column_selector as selector\n",
    "from sklearn.model_selection import train_test_split, cross_validate, GridSearchCV, learning_curve\n",
    "from sklearn.preprocessing import MinMaxScaler, OneHotEncoder\n",
    "from sklearn import tree, metrics\n",
    "from IPython.display import Image  \n",
    "import pydotplus\n",
    "\n",
    "from xgboost import XGBClassifier, cv, plot_importance\n",
    "from sklearn.ensemble import RandomForestClassifier\n",
    "from sklearn.metrics import classification_report, roc_auc_score, f1_score, precision_recall_curve, accuracy_score, confusion_matrix, balanced_accuracy_score\n",
    "from sklearn.linear_model import LogisticRegression\n",
    "\n",
    "from sklearn.pipeline import make_pipeline\n",
    "\n",
    "from sklearn.metrics import fbeta_score, make_scorer\n",
    "\n",
    "import itertools\n",
    "\n",
    "import warnings\n",
    "warnings.filterwarnings('ignore')\n",
    "\n",
    "from imblearn.under_sampling import NearMiss, RandomUnderSampler\n",
    "\n",
    "from sklearn.feature_selection import SelectKBest, chi2\n",
    "from sklearn.compose import ColumnTransformer\n"
   ]
  },
  {
   "cell_type": "markdown",
   "id": "86ffb59e",
   "metadata": {},
   "source": [
    "# 3. Load the data<a class='anchor' id='Load_Data'></a>\n",
    "\n",
    "Using the pd.read_csv, we load the data"
   ]
  },
  {
   "cell_type": "code",
   "execution_count": 40,
   "id": "beb32bda",
   "metadata": {},
   "outputs": [],
   "source": [
    "df = pd.read_csv(\"C:\\\\Users\\\\somfl\\\\Documents\\\\Data Science Career Track\\\\LendingClub\\\\LendingClubClean.csv\")\n",
    "df = df.drop(columns=['id', 'Unnamed: 0'])"
   ]
  },
  {
   "cell_type": "markdown",
   "id": "928a3cbc",
   "metadata": {},
   "source": [
    "# 4. Is the data imbalanced? <a class='anchor' id='imblnc'><a/>\n",
    "\n",
    "A data set is called [imbalanced](https://developers.google.com/machine-learning/data-prep/construct/sampling-splitting/imbalanced-data), if the minority class makes a small percentage of the data set. \n",
    "\n",
    "If the minority class (in our case the defaulted loans) makes 20 to 40% of a data set, then it is mildly imbalance.\n",
    "if the minority class is 1 to 20%, then the dataset is moderately imbalanced and if minority class is < 1% of data set, the data is extremely imbalanced.\n",
    "\n",
    "To find out if our data set is imbalanced or not, we will look at waht percentages of loan applications in the data frame is defaulted"
   ]
  },
  {
   "cell_type": "code",
   "execution_count": 41,
   "id": "76cb9bf8",
   "metadata": {},
   "outputs": [
    {
     "data": {
      "text/plain": [
       "Fully Paid    0.784132\n",
       "Default       0.215868\n",
       "Name: Status, dtype: float64"
      ]
     },
     "execution_count": 41,
     "metadata": {},
     "output_type": "execute_result"
    }
   ],
   "source": [
    "df.Status.value_counts()/len(df)"
   ]
  },
  {
   "cell_type": "markdown",
   "id": "b14d5290",
   "metadata": {},
   "source": [
    "Default loans count for 22% of our data set. Therefore, our data is mildly imbalance, which may or may not be a problem. It is suggested to model with the true distribution and if it was not fine, apply techncis such as undersampling to deal with the imbalance."
   ]
  },
  {
   "cell_type": "markdown",
   "id": "0443df4d",
   "metadata": {},
   "source": [
    "# 5. Data preparation prior to model training"
   ]
  },
  {
   "cell_type": "markdown",
   "id": "e98540a9",
   "metadata": {},
   "source": [
    "Due to complexity of our data frame, we definde two functions to handle all the prerocessing steps we need to do prior to training. These steps are:\n",
    "\n",
    "1. Defining X and y\n",
    "2. Applying One Hot Encoder to change categorical data\n",
    "3. Under sampling the data by using RandomUnderSampler\n",
    "4. spliting the data into training and testing sets.\n"
   ]
  },
  {
   "cell_type": "code",
   "execution_count": 42,
   "id": "89a0fe11",
   "metadata": {},
   "outputs": [
    {
     "name": "stdout",
     "output_type": "stream",
     "text": [
      "The new X has the columns added by One Hot Encoder, which has increased the number of columns from 23 to 74\n"
     ]
    }
   ],
   "source": [
    "y = df['Status']\n",
    "X = df.drop(columns=['Status', 'grade'])\n",
    "\n",
    "# Choose the categorical columns\n",
    "col_num =X.shape[1]\n",
    "categorical_columns_selector = selector(dtype_include=object)\n",
    "categorical_columns = categorical_columns_selector(X)\n",
    "\n",
    "# One Hot encode\n",
    "\n",
    "enc = OneHotEncoder(drop='if_binary')\n",
    "enc_df = pd.DataFrame(enc.fit_transform(X[categorical_columns]).toarray())\n",
    "feature_names = enc.get_feature_names(input_features=categorical_columns)\n",
    "enc_df.columns = feature_names\n",
    "X.drop(columns=categorical_columns, inplace=True)\n",
    "# merge with main df bridge_df on key values\n",
    "X =X.join(enc_df)\n",
    "#X.set_index('id', inplace=True)\n",
    "print('The new X has the columns added by One Hot Encoder, which has increased the number of columns from {} to {}'.format(col_num, X.shape[1]))\n",
    "\n",
    "Xcol_names = X.columns\n",
    "ycol_name =['Status']\n",
    "\n",
    "# Undersample\n",
    "Xn = X.to_numpy()\n",
    "yn = y.to_numpy()\n",
    "random_state=42\n",
    "RU = RandomUnderSampler()\n",
    "X_res, y_res = RU.fit_resample(Xn,yn)\n",
    "\n",
    "# Split\n",
    "X_train, X_test, y_train, y_test = train_test_split(X_res, y_res, test_size=0.3, random_state=47)\n",
    "\n",
    "# Change back to panads dataframe\n",
    "X_train = pd.DataFrame(X_train, columns=Xcol_names)\n",
    "X_test = pd.DataFrame(X_test, columns=Xcol_names)\n",
    "y_train = pd.DataFrame(y_train, columns=ycol_name)\n",
    "y_test = pd.DataFrame(y_test, columns=ycol_name)\n",
    "\n"
   ]
  },
  {
   "cell_type": "markdown",
   "id": "a2d51d69",
   "metadata": {},
   "source": [
    "# 6. Choose the right metrics for model evaluation <a class='anchor' id='metrics'></a>\n",
    "\n",
    "Given that the data is mildly imbalanced, accuracy score is not a good metrics to evaluate performance of a model. It is [recommended](https://www.kdnuggets.com/2017/06/7-techniques-handle-imbalanced-data.html#:~:text=1%20Use%20the%20right%20evaluation%20metrics.%20Applying%20inappropriate,keep%20the%20models%20as%20a%20fixed%20component.%20) to use evaluation metrics such as precision, recal, f1 score or balanced accuracy. We use \"balanced accuracy\" as our evaluation metrics to compare model performance. \n"
   ]
  },
  {
   "cell_type": "markdown",
   "id": "a214b789",
   "metadata": {},
   "source": [
    "# 7. Model training <a class='anchor' id='model'></a>\n",
    "\n",
    "Following classifiers will be trained on the test data:\n",
    "\n",
    "1. Logistic regression\n",
    "\n",
    "2. Decision tree\n",
    "\n",
    "3. Random Forest\n",
    "\n",
    "4. XGBoost\n",
    "\n",
    "Steps that we follow for each model include:\n",
    "\n",
    "1. Make a pipeline, that includes the model and scaling steps and then use cross valiadtion to train a general model. \n",
    "\n",
    "2. Grid search to find the hyperparameters.\n",
    "\n",
    "3. Train the model with the tuned hyperparameters and study feature importance\n",
    "\n",
    "After training all 4 models, I will use them on the test data and will compare the results to choose the model with the most predictive power."
   ]
  },
  {
   "cell_type": "markdown",
   "id": "ce271273",
   "metadata": {},
   "source": [
    "## 7.1. Logistic regression <a class='anchor' id='lr'></a>"
   ]
  },
  {
   "cell_type": "markdown",
   "id": "b858a5c7",
   "metadata": {},
   "source": [
    "### 7.1.1.  Make a pipeline for logistic regression classifier <a class='anchor' id='pllr'></a>\n",
    "\n",
    "Using make_pipeline, a pipeline is created to train logistic regression classifier. The sacler used is MinMaxScaler. This scaler gives 0 and to the minimum and maximum values of features, and scale the rest of values accordingly. Given that, there are columns with only 0 and 1 to represent categorical features, MinMaXScaler does not change these columns. Therefore, MinMaxScaler is chosen as the scaling method.\n",
    "\n",
    "To avoid overfitting, we use cross validation with 5 folds."
   ]
  },
  {
   "cell_type": "code",
   "execution_count": 726,
   "id": "d7ddf8a6",
   "metadata": {},
   "outputs": [
    {
     "name": "stdout",
     "output_type": "stream",
     "text": [
      "Balanced accuaracy scores of 5 fold logistic regression are:  [0.65378411 0.6537671  0.65264153 0.65261318 0.65388891]\n",
      "Mean of balanced accuaracy scores of 5 fold logistic regression is:  0.6533389659054338\n"
     ]
    }
   ],
   "source": [
    "# General lr\n",
    "pipe = make_pipeline( \n",
    "    MinMaxScaler(),\n",
    "    LogisticRegression()\n",
    ")\n",
    "\n",
    "lr_cv_results = cross_validate(pipe, X_train, y_train, scoring = 'balanced_accuracy', cv=5)\n",
    "lr_cv_scores = lr_cv_results['test_score']\n",
    "\n",
    "print('Balanced accuaracy scores of 5 fold logistic regression are: ', lr_cv_scores)\n",
    "print('Mean of balanced accuaracy scores of 5 fold logistic regression is: ', lr_cv_scores.mean())"
   ]
  },
  {
   "cell_type": "markdown",
   "id": "06c4d61d",
   "metadata": {},
   "source": [
    "### 7.1.2. Hyperparameter search using GridSearchCV for logistic regression <a class='anchor' id='gdlr'></a>\n",
    "\n",
    "Logistic regression has several parameters to tune. These parameters are shown by using get_params().keys(). Given the computing power constraints, a small though important number of features are chosen to tune. These parameters are learning rate and penalty."
   ]
  },
  {
   "cell_type": "code",
   "execution_count": 44,
   "id": "0745b57a",
   "metadata": {},
   "outputs": [
    {
     "data": {
      "text/plain": [
       "GridSearchCV(cv=5,\n",
       "             estimator=Pipeline(steps=[('minmaxscaler', MinMaxScaler()),\n",
       "                                       ('logisticregression',\n",
       "                                        LogisticRegression())]),\n",
       "             n_jobs=-1,\n",
       "             param_grid={'logisticregression__C': [0.1, 1, 10, 100, 1000],\n",
       "                         'logisticregression__penalty': ['l1', 'l2']},\n",
       "             scoring='balanced_accuracy')"
      ]
     },
     "execution_count": 44,
     "metadata": {},
     "output_type": "execute_result"
    }
   ],
   "source": [
    "pipe = make_pipeline( \n",
    "    MinMaxScaler(),\n",
    "    LogisticRegression()\n",
    ")\n",
    "# Define a set of parameters for grid search\n",
    "grid_params = {'logisticregression__penalty': ['l1','l2'], 'logisticregression__C': [0.1,1,10,100,1000]}\n",
    "\n",
    "# Perform grid search\n",
    "lr_grid_cv = GridSearchCV(pipe, param_grid=grid_params, cv=5, scoring = 'balanced_accuracy', n_jobs=-1)\n",
    "lr_grid_cv.fit(X_train, y_train)\n"
   ]
  },
  {
   "cell_type": "markdown",
   "id": "19b68371",
   "metadata": {},
   "source": [
    "### 7.1.3. Best Logistic Regression model and feature importance <a class='anchor' id='bestlr'></a>\n",
    "\n",
    "Now that we know the best hyperparameters for Logistic Regression, we will train the model with the tuned hyperparameteres and look at the cofficients of features to find out the most influential features."
   ]
  },
  {
   "cell_type": "code",
   "execution_count": 45,
   "id": "5162113b",
   "metadata": {},
   "outputs": [
    {
     "name": "stdout",
     "output_type": "stream",
     "text": [
      "{'logisticregression__C': 1000, 'logisticregression__penalty': 'l2'}\n",
      "Mean of balanced accuaracy score of tuned logistic regression is:  0.65408476103503\n"
     ]
    }
   ],
   "source": [
    "# Get the best parameters\n",
    "print(lr_grid_cv.best_params_)\n",
    "lr_gd_best_score = lr_grid_cv.best_score_\n",
    "print('Mean of balanced accuaracy score of tuned logistic regression is: ', lr_gd_best_score)"
   ]
  },
  {
   "cell_type": "markdown",
   "id": "120a2adb",
   "metadata": {},
   "source": [
    "Grid serach and tuning hyperparameters did not make a significant change on the initial classification. Next by using the best estimator, we get the coefficients of each feature and will plot feature importance figure."
   ]
  },
  {
   "cell_type": "code",
   "execution_count": 738,
   "id": "c8437631",
   "metadata": {
    "scrolled": false
   },
   "outputs": [
    {
     "data": {
      "text/plain": [
       "Text(43.401553819444445, 0.5, 'Feature')"
      ]
     },
     "execution_count": 738,
     "metadata": {},
     "output_type": "execute_result"
    },
    {
     "data": {
      "image/png": "[encoded data removed]",
      "text/plain": [
       "<Figure size 440.875x360 with 1 Axes>"
      ]
     },
     "metadata": {
      "needs_background": "light"
     },
     "output_type": "display_data"
    }
   ],
   "source": [
    "model_features = pd.DataFrame(lr_grid_cv.best_estimator_.named_steps.logisticregression.coef_.T)\n",
    "model_features.index = X.columns\n",
    "model_features.columns=['Importance']\n",
    "\n",
    "HO = model_features.loc['home_ownership_ANY':,:]\n",
    "HO = pd.DataFrame({'Importance': HO.mean()})\n",
    "HO.index = ['home_ownership']\n",
    "\n",
    "Emp = model_features.loc['emp_length_1 year':'emp_length_< 1 year', :]\n",
    "Emp = pd.DataFrame({'Importance': Emp.mean()})\n",
    "Emp.index = ['employment length']\n",
    "\n",
    "Sub = model_features.loc['sub_grade_A1':'sub_grade_G5', :]\n",
    "sub = pd.DataFrame({'Importance': Sub.mean()})\n",
    "sub.index = ['sub_grade']\n",
    "\n",
    "VS = model_features.loc['verification_status_Not Verified':'verification_status_Verified', :]\n",
    "vs = pd.DataFrame({'Importance': VS.mean()})\n",
    "vs.index = ['Verification status']\n",
    "\n",
    "term = pd.DataFrame({'Importance': model_features.loc['term_ 60 months',:]})\n",
    "term.index = ['term']\n",
    "\n",
    "model_features = pd.concat([model_features.loc[:'Credit Length (year)',:], term, HO, Emp, sub, vs])\n",
    "title = 'Feature importance for tuned logistic regression'\n",
    "model_features['Effect'] = 'Positive'\n",
    "model_features.loc[model_features['Importance'] < 0, 'Effect'] = 'Negative'\n",
    "model_features['Absolute effect'] = abs(model_features['Importance'])\n",
    "data = model_features.sort_values(by='Absolute effect', ascending=False)\n",
    "\n",
    "# Plot feature importance\n",
    "sns.catplot(y= data.index, x='Absolute effect', hue='Effect', kind='bar', data=data)\n",
    "plt.title(title)\n",
    "plt.xlabel('Coefficient')\n",
    "plt.ylabel('Feature')"
   ]
  },
  {
   "cell_type": "markdown",
   "id": "c88cd5f9",
   "metadata": {},
   "source": [
    "\n",
    "For the logistic regression, the balanced accuracy score is 65%. \n",
    "We can see that, number of _mortage accounts_ followed by amount of _revoling balance_ are the most significant features., followed by number of _collections_ and _installment_ amount. Furthermore, the _sub grade_, _employment length_ and _home ownership_ has very little effect on logistic regression classification result.\n",
    "\n",
    "\n",
    "In the next step, we will train a decision tree classifier."
   ]
  },
  {
   "cell_type": "markdown",
   "id": "254a6839",
   "metadata": {},
   "source": [
    "## 7.2. Decision tree classifier <a class='anchor' id='dt'></a>\n",
    " \n"
   ]
  },
  {
   "cell_type": "markdown",
   "id": "c89062b2",
   "metadata": {},
   "source": [
    "### 7.2.1. Make a pipeline for decision tree <a class='anchor' id='pldt'></a>\n",
    "\n",
    "Using make_pipeline, a pipeline is created to train decision tree classifier. The sacler used is MinMaxScaler. This scaler gives 0 and to the minimum and maximum values of features, and scale the rest of values accordingly. Given that, there are columns with only 0 and 1 to represent categorical features, MinMaXScaler does not change these columns. Therefore, MinMaxScaler is chosen as the scaling method."
   ]
  },
  {
   "cell_type": "code",
   "execution_count": 743,
   "id": "3a6a182d",
   "metadata": {},
   "outputs": [
    {
     "name": "stdout",
     "output_type": "stream",
     "text": [
      "The new X has the columns added by One Hot Encoder, which has increased the number of columns from 23 to 74\n",
      "[0.5681987  0.57353995 0.57074286 0.57097576 0.57114027]\n",
      "0.5709195088337988 0.001694261725022137\n"
     ]
    }
   ],
   "source": [
    "# Make pipeline\n",
    "y = df['Status']\n",
    "X = df.drop(columns=['Status', 'grade'])\n",
    "\n",
    "# Choose the categorical columns\n",
    "col_num =X.shape[1]\n",
    "categorical_columns_selector = selector(dtype_include=object)\n",
    "categorical_columns = categorical_columns_selector(X)\n",
    "\n",
    "# One Hot encode\n",
    "\n",
    "enc = OneHotEncoder(drop='if_binary')\n",
    "enc_df = pd.DataFrame(enc.fit_transform(X[categorical_columns]).toarray())\n",
    "feature_names = enc.get_feature_names(input_features=categorical_columns)\n",
    "enc_df.columns = feature_names\n",
    "X.drop(columns=categorical_columns, inplace=True)\n",
    "# merge with main df bridge_df on key values\n",
    "X =X.join(enc_df)\n",
    "#X.set_index('id', inplace=True)\n",
    "print('The new X has the columns added by One Hot Encoder, which has increased the number of columns from {} to {}'.format(col_num, X.shape[1]))\n",
    "\n",
    "# Save column names\n",
    "Xcol_names = X.columns\n",
    "ycol_name = ['Status']\n",
    "# Undersample\n",
    "\n",
    "Xn = X.to_numpy()\n",
    "yn = y.to_numpy()\n",
    "random_state=42\n",
    "RU = RandomUnderSampler()\n",
    "X_res, y_res = RU.fit_resample(Xn,yn)\n",
    "\n",
    "# Split\n",
    "X_train, X_test, y_train, y_test = train_test_split(X_res, y_res, test_size=0.3, random_state=47)\n",
    "\n",
    "X_train = pd.DataFrame(X_train, columns=Xcol_names)\n",
    "y_train = pd.DataFrame(y_train, columns=ycol_name)\n",
    "\n",
    "pipeTree = make_pipeline( \n",
    "    MinMaxScaler(),\n",
    "    tree.DecisionTreeClassifier()\n",
    ")\n",
    "\n",
    "cv_results = cross_validate(pipeTree, X_train, y_train, scoring = 'balanced_accuracy', cv=5)\n",
    "cv_scores = cv_results['test_score']\n",
    "print(cv_scores)\n",
    "print(cv_scores.mean(), cv_scores.std())\n"
   ]
  },
  {
   "cell_type": "markdown",
   "id": "e608ccbd",
   "metadata": {},
   "source": [
    " \n",
    "Decision tree balanced accuracy score before hyperparameter tuning is 57%, which is worse than logistic regression. Next we will do hyperparameter tuning."
   ]
  },
  {
   "cell_type": "markdown",
   "id": "bf9f36d8",
   "metadata": {},
   "source": [
    "### 9.2.2. Hyperparameter search for decision tree classifier <a class='anchor' id='gddt'></a>\n",
    "\n",
    "There are several parameters to tune but given the constraints with computing power, only a small number of parameters are chosen."
   ]
  },
  {
   "cell_type": "code",
   "execution_count": 54,
   "id": "861a3506",
   "metadata": {},
   "outputs": [],
   "source": [
    "pipeTree = make_pipeline( \n",
    "    MinMaxScaler(),\n",
    "    tree.DecisionTreeClassifier()\n",
    ")\n",
    "# Define grid parameters\n",
    "\n",
    "grid_params = {'decisiontreeclassifier__criterion': ['gini', 'entropy'], 'decisiontreeclassifier__max_depth': [3, 6, 9, 12, 15]}"
   ]
  },
  {
   "cell_type": "code",
   "execution_count": 55,
   "id": "5faeac4c",
   "metadata": {},
   "outputs": [
    {
     "data": {
      "text/plain": [
       "GridSearchCV(cv=5,\n",
       "             estimator=Pipeline(steps=[('minmaxscaler', MinMaxScaler()),\n",
       "                                       ('decisiontreeclassifier',\n",
       "                                        DecisionTreeClassifier())]),\n",
       "             n_jobs=-1,\n",
       "             param_grid={'decisiontreeclassifier__criterion': ['gini',\n",
       "                                                               'entropy'],\n",
       "                         'decisiontreeclassifier__max_depth': [3, 6, 9, 12,\n",
       "                                                               15]},\n",
       "             scoring='balanced_accuracy')"
      ]
     },
     "execution_count": 55,
     "metadata": {},
     "output_type": "execute_result"
    }
   ],
   "source": [
    "# Perform grid search to find hyperparameters of decision tree\n",
    "\n",
    "tree_grid_cv = GridSearchCV(pipeTree, param_grid=grid_params, scoring='balanced_accuracy', cv=5, n_jobs=-1)\n",
    "tree_grid_cv.fit(X_train, y_train)"
   ]
  },
  {
   "cell_type": "markdown",
   "id": "25fb79d9",
   "metadata": {},
   "source": [
    "### 9.2.3. Decision tree classifier with best parameters <a class='anchor' id='bestdt'></a>\n",
    "\n",
    "We access the best parameters by using grid.best_params_"
   ]
  },
  {
   "cell_type": "code",
   "execution_count": 56,
   "id": "56c870d3",
   "metadata": {},
   "outputs": [
    {
     "data": {
      "text/plain": [
       "{'decisiontreeclassifier__criterion': 'gini',\n",
       " 'decisiontreeclassifier__max_depth': 9}"
      ]
     },
     "execution_count": 56,
     "metadata": {},
     "output_type": "execute_result"
    }
   ],
   "source": [
    "tree_grid_cv.best_params_"
   ]
  },
  {
   "cell_type": "markdown",
   "id": "3e1e7e60",
   "metadata": {},
   "source": [
    "We fit a decision tree to the training data by using the best hyperparameters and then, we will look at the importance of the features."
   ]
  },
  {
   "cell_type": "code",
   "execution_count": 759,
   "id": "20314a6a",
   "metadata": {},
   "outputs": [
    {
     "name": "stdout",
     "output_type": "stream",
     "text": [
      "[0.64650018 0.64846038 0.64928024 0.65140604 0.64712903]\n"
     ]
    }
   ],
   "source": [
    "#BestTree = tree.DecisionTreeClassifier(criterion=\"entropy\", max_depth =9, random_state = 1234)\n",
    "BestTree = tree_grid_cv.best_estimator_\n",
    "pipeTreeBest = make_pipeline(\n",
    "    MinMaxScaler(),\n",
    "    BestTree)\n",
    "\n",
    "cv_results = cross_validate(pipeTreeBest, X_train, y_train, scoring = 'balanced_accuracy', cv=5)\n",
    "cv_scores = cv_results['test_score']\n",
    "print(cv_scores)\n"
   ]
  },
  {
   "cell_type": "markdown",
   "id": "5fff94e9",
   "metadata": {},
   "source": [
    "It can be seen that after hyperparameter tuning, the balanced accuracy of the decision tree model reached 65%. The hyperparameter tuning increased the score from 0.57 to 0.65. In the next step, we will plot the tree as well as the feature importance figure."
   ]
  },
  {
   "cell_type": "code",
   "execution_count": 777,
   "id": "4587ea55",
   "metadata": {},
   "outputs": [
    {
     "ename": "AttributeError",
     "evalue": "decisiontreeclassifier",
     "output_type": "error",
     "traceback": [
      "\u001b[1;31m---------------------------------------------------------------------------\u001b[0m",
      "\u001b[1;31mKeyError\u001b[0m                                  Traceback (most recent call last)",
      "\u001b[1;32m~\\anaconda3\\lib\\site-packages\\sklearn\\utils\\__init__.py\u001b[0m in \u001b[0;36m__getattr__\u001b[1;34m(self, key)\u001b[0m\n\u001b[0;32m     93\u001b[0m         \u001b[1;32mtry\u001b[0m\u001b[1;33m:\u001b[0m\u001b[1;33m\u001b[0m\u001b[1;33m\u001b[0m\u001b[0m\n\u001b[1;32m---> 94\u001b[1;33m             \u001b[1;32mreturn\u001b[0m \u001b[0mself\u001b[0m\u001b[1;33m[\u001b[0m\u001b[0mkey\u001b[0m\u001b[1;33m]\u001b[0m\u001b[1;33m\u001b[0m\u001b[1;33m\u001b[0m\u001b[0m\n\u001b[0m\u001b[0;32m     95\u001b[0m         \u001b[1;32mexcept\u001b[0m \u001b[0mKeyError\u001b[0m\u001b[1;33m:\u001b[0m\u001b[1;33m\u001b[0m\u001b[1;33m\u001b[0m\u001b[0m\n",
      "\u001b[1;31mKeyError\u001b[0m: 'decisiontreeclassifier'",
      "\nDuring handling of the above exception, another exception occurred:\n",
      "\u001b[1;31mAttributeError\u001b[0m                            Traceback (most recent call last)",
      "\u001b[1;32m<ipython-input-777-48b9d080a728>\u001b[0m in \u001b[0;36m<module>\u001b[1;34m\u001b[0m\n\u001b[0;32m      9\u001b[0m \u001b[1;33m\u001b[0m\u001b[0m\n\u001b[0;32m     10\u001b[0m \u001b[1;31m# We can do so with export_graphviz\u001b[0m\u001b[1;33m\u001b[0m\u001b[1;33m\u001b[0m\u001b[1;33m\u001b[0m\u001b[0m\n\u001b[1;32m---> 11\u001b[1;33m tree.export_graphviz(pipeTreeBest.named_steps.decisiontreeclassifier, out_file=dot_data,  \n\u001b[0m\u001b[0;32m     12\u001b[0m                 \u001b[0mfilled\u001b[0m\u001b[1;33m=\u001b[0m\u001b[1;32mTrue\u001b[0m\u001b[1;33m,\u001b[0m \u001b[0mrounded\u001b[0m\u001b[1;33m=\u001b[0m\u001b[1;32mTrue\u001b[0m\u001b[1;33m,\u001b[0m\u001b[1;33m\u001b[0m\u001b[1;33m\u001b[0m\u001b[0m\n\u001b[0;32m     13\u001b[0m                 special_characters=True, feature_names=X_train.columns,class_names = ['Fully Paid', 'Default'])\n",
      "\u001b[1;32m~\\anaconda3\\lib\\site-packages\\sklearn\\utils\\__init__.py\u001b[0m in \u001b[0;36m__getattr__\u001b[1;34m(self, key)\u001b[0m\n\u001b[0;32m     94\u001b[0m             \u001b[1;32mreturn\u001b[0m \u001b[0mself\u001b[0m\u001b[1;33m[\u001b[0m\u001b[0mkey\u001b[0m\u001b[1;33m]\u001b[0m\u001b[1;33m\u001b[0m\u001b[1;33m\u001b[0m\u001b[0m\n\u001b[0;32m     95\u001b[0m         \u001b[1;32mexcept\u001b[0m \u001b[0mKeyError\u001b[0m\u001b[1;33m:\u001b[0m\u001b[1;33m\u001b[0m\u001b[1;33m\u001b[0m\u001b[0m\n\u001b[1;32m---> 96\u001b[1;33m             \u001b[1;32mraise\u001b[0m \u001b[0mAttributeError\u001b[0m\u001b[1;33m(\u001b[0m\u001b[0mkey\u001b[0m\u001b[1;33m)\u001b[0m\u001b[1;33m\u001b[0m\u001b[1;33m\u001b[0m\u001b[0m\n\u001b[0m\u001b[0;32m     97\u001b[0m \u001b[1;33m\u001b[0m\u001b[0m\n\u001b[0;32m     98\u001b[0m     \u001b[1;32mdef\u001b[0m \u001b[0m__setstate__\u001b[0m\u001b[1;33m(\u001b[0m\u001b[0mself\u001b[0m\u001b[1;33m,\u001b[0m \u001b[0mstate\u001b[0m\u001b[1;33m)\u001b[0m\u001b[1;33m:\u001b[0m\u001b[1;33m\u001b[0m\u001b[1;33m\u001b[0m\u001b[0m\n",
      "\u001b[1;31mAttributeError\u001b[0m: decisiontreeclassifier"
     ]
    }
   ],
   "source": [
    "from sklearn.tree import export_graphviz\n",
    "\n",
    "import os     \n",
    "\n",
    "os.environ[\"PATH\"] += os.pathsep + 'C://Users//somfl//anaconda3//Library//bin//graphviz'\n",
    "\n",
    "# Now we want to visualize the tree\n",
    "dot_data = StringIO()\n",
    "\n",
    "# We can do so with export_graphviz\n",
    "tree.export_graphviz(pipeTreeBest.named_steps.decisiontreeclassifier, out_file=dot_data,  \n",
    "                filled=True, rounded=True,\n",
    "                special_characters=True, feature_names=X_train.columns,class_names = ['Fully Paid', 'Default'])\n",
    "# Alternatively for class_names use entr_model.classes_\n",
    "graph = pydotplus.graph_from_dot_data(dot_data.getvalue())  \n",
    "Image(graph.create_png())"
   ]
  },
  {
   "cell_type": "markdown",
   "id": "4afe4b21",
   "metadata": {},
   "source": [
    "### 7.2.4. Feature importance assessment in the decision tree classifier <a class='anchor' id='fidt'></a>"
   ]
  },
  {
   "cell_type": "markdown",
   "id": "a1bb880c",
   "metadata": {},
   "source": [
    "Using the \"tree_grid_cv.best_estimator_.named_steps.decisiontreeclassifier.feature_importances_\", we access the feature importance values and plot them."
   ]
  },
  {
   "cell_type": "code",
   "execution_count": 788,
   "id": "4fc2f7a1",
   "metadata": {},
   "outputs": [
    {
     "data": {
      "text/plain": [
       "Text(0, 0.5, 'Feature')"
      ]
     },
     "execution_count": 788,
     "metadata": {},
     "output_type": "execute_result"
    },
    {
     "data": {
      "image/png": "[encoded data removed]",
      "text/plain": [
       "<Figure size 864x576 with 1 Axes>"
      ]
     },
     "metadata": {
      "needs_background": "light"
     },
     "output_type": "display_data"
    }
   ],
   "source": [
    "model_features = pd.DataFrame(tree_grid_cv.best_estimator_.named_steps.decisiontreeclassifier.feature_importances_.T)\n",
    "model_features.index = X.columns\n",
    "model_features.columns=['Importance']\n",
    "\n",
    "HO = model_features.loc['home_ownership_ANY':,:]\n",
    "HO = pd.DataFrame({'Importance': HO.mean()})\n",
    "HO.index = ['home_ownership']\n",
    "\n",
    "Emp = model_features.loc['emp_length_1 year':'emp_length_< 1 year', :]\n",
    "Emp = pd.DataFrame({'Importance': Emp.mean()})\n",
    "Emp.index = ['employment length']\n",
    "\n",
    "Sub = model_features.loc['sub_grade_A1':'sub_grade_G5', :]\n",
    "sub = pd.DataFrame({'Importance': Sub.mean()})\n",
    "sub.index = ['sub_grade']\n",
    "\n",
    "VS = model_features.loc['verification_status_Not Verified':'verification_status_Verified', :]\n",
    "vs = pd.DataFrame({'Importance': VS.mean()})\n",
    "vs.index = ['Verification status']\n",
    "\n",
    "term = pd.DataFrame({'Importance': model_features.loc['term_ 60 months',:]})\n",
    "term.index = ['term']\n",
    "\n",
    "model_features = pd.concat([model_features.loc[:'Credit Length (year)',:], term, HO, Emp, sub, vs])\n",
    "title = 'Feature importance for tuned decision tree classifier'\n",
    "\n",
    "# Plot feature importance\n",
    "\n",
    "fig, ax=plt.subplots()\n",
    "model_features.sort_values(by='Importance').iloc[:, model_features.columns.get_loc('Importance')].plot(kind='barh', figsize=(12,8))\n",
    "ax.set_title(title)\n",
    "ax.set_xlabel('Coefficient')\n",
    "ax.set_ylabel('Feature')\n"
   ]
  },
  {
   "cell_type": "markdown",
   "id": "65a71b7a",
   "metadata": {},
   "source": [
    "\n",
    "\n",
    "For the decision tree classifier, the balanced accuracy is 65% and according to the feature importance plot, _interest rate_, _loan term_ (either 30 month or 60 month), _number of mortages_, _debt to income ratio_, _installment_, _Low Fico score_, _revolving balance_ and _high Fico score_ are the most influential parameters in decision tree classifier. \n",
    "\n",
    "\n",
    "Interest rate has a more significant effect than the other parameters. \n",
    "\n",
    "\n",
    "Furthermore, number of _tax liens_, _sub grade_, _bank ruptcies_, _employment length_, number of _collections_ and _charged off_ incidents within12 months prior to application have the lowest effect on classification."
   ]
  },
  {
   "cell_type": "markdown",
   "id": "b63cfd61",
   "metadata": {},
   "source": [
    "## 7.3. Random forest classifier <a class='anchor' id='rf'></a>"
   ]
  },
  {
   "cell_type": "markdown",
   "id": "881b120b",
   "metadata": {},
   "source": [
    "### 7.3.1. Make a pipeline for random forest classifier <a class='anchor' id='plrf'></a>\n",
    "\n",
    "Using make_pipeline, a pipeline is created to train random forest classifier. The sacler used is MinMaxScaler. This scaler gives 0 and to the minimum and maximum values of features, and scale the rest of values accordingly. Given that, there are columns with only 0 and 1 to represent categorical features, MinMaXScaler does not change these columns. Therefore, MinMaxScaler is chosen as the scaling method."
   ]
  },
  {
   "cell_type": "code",
   "execution_count": 789,
   "id": "21551cc4",
   "metadata": {},
   "outputs": [
    {
     "name": "stdout",
     "output_type": "stream",
     "text": [
      "[0.65178176 0.65336846 0.65199665 0.65595819 0.65301102]\n",
      "0.6532232176740888 0.0014918768343255848\n"
     ]
    }
   ],
   "source": [
    "pipeRF = make_pipeline(MinMaxScaler(), RandomForestClassifier(random_state=47))\n",
    "cv_results = cross_validate(pipeRF, X_train, y_train, scoring='balanced_accuracy', cv=5)\n",
    "cv_scores = cv_results['test_score']\n",
    "print(cv_scores)\n",
    "print(cv_scores.mean(), cv_scores.std())\n"
   ]
  },
  {
   "cell_type": "markdown",
   "id": "47bd1642",
   "metadata": {},
   "source": [
    "### 7.3.2. Hyperparameter search for random forest classifier <a class='anchor' id='gdrf'></a>\n",
    "\n",
    "There are several parameters to tune but given the constraints with computing power, only a small number of parameters are chosen."
   ]
  },
  {
   "cell_type": "code",
   "execution_count": 43,
   "id": "a75637c6",
   "metadata": {},
   "outputs": [
    {
     "data": {
      "text/plain": [
       "{'randomforestclassifier__criterion': 'gini',\n",
       " 'randomforestclassifier__max_depth': 9,\n",
       " 'randomforestclassifier__n_estimators': 150}"
      ]
     },
     "execution_count": 43,
     "metadata": {},
     "output_type": "execute_result"
    }
   ],
   "source": [
    "pipeRF = make_pipeline(MinMaxScaler(), RandomForestClassifier(random_state=47))\n",
    "\n",
    "# Define a grid for hyperparameter tuning with GridSearchCV\n",
    "param_grid = { \n",
    "    'randomforestclassifier__n_estimators': [50, 100, 150],\n",
    "    'randomforestclassifier__max_depth' : [3, 6, 9],\n",
    "    'randomforestclassifier__criterion' :['gini', 'entropy']\n",
    "}\n",
    "\n",
    "rf_grid_cv_0  = GridSearchCV(pipeRF, param_grid = param_grid, scoring='balanced_accuracy', cv = 5, n_jobs = -1)\n",
    "rf_grid_cv_0.fit(X_train, y_train)\n",
    "rf_grid_cv_0.best_params_"
   ]
  },
  {
   "cell_type": "markdown",
   "id": "eda50e14",
   "metadata": {},
   "source": [
    "As seen above, best parameters for random forest are: \n",
    "\n",
    "1. Criterion: gini\n",
    "2. max_depth: 9\n",
    "3. n_estimator: 150\n",
    "\n",
    "The search grid was:\n",
    "\n",
    "'randomforestclassifier__n_estimators': [50, 100, 150],\n",
    "'randomforestclassifier__max_depth' : [3, 6, 9],\n",
    "'randomforestclassifier__criterion' :['gini', 'entropy']\n",
    "\n",
    "It is not clear if we increase _n_estimator_ or _max_depth_, how the classifier performs. Due to lack of computational power, we will do grid search for random forest parameter in two steps. First we tune n_esimator and we search list of [150, 200, 300, 500, 700, 1000] and then we use the tune _n_estimator_ in the next grid search for max_depth and we search list of [6, 9, 15, 25, 35].\n",
    "\n"
   ]
  },
  {
   "cell_type": "code",
   "execution_count": 790,
   "id": "23224099",
   "metadata": {},
   "outputs": [
    {
     "name": "stdout",
     "output_type": "stream",
     "text": [
      "[0.65343985 0.65140765 0.65298251 0.65628705 0.65370938]\n",
      "0.6535652865413835 0.0015773104130714078\n"
     ]
    },
    {
     "data": {
      "text/plain": [
       "{'randomforestclassifier__criterion': 'gini',\n",
       " 'randomforestclassifier__max_depth': 9,\n",
       " 'randomforestclassifier__n_estimators': 700}"
      ]
     },
     "execution_count": 790,
     "metadata": {},
     "output_type": "execute_result"
    }
   ],
   "source": [
    "# First step: tuning n_estimator\n",
    "\n",
    "param_grid = { \n",
    "    'randomforestclassifier__n_estimators': [150, 200, 300, 500, 700, 1000],\n",
    "    'randomforestclassifier__criterion': ['gini'],\n",
    "    'randomforestclassifier__max_depth': [9]\n",
    "}\n",
    "pipeRF = make_pipeline(MinMaxScaler(), RandomForestClassifier(random_state=47))\n",
    "rf_grid_cv_1  = GridSearchCV(pipeRF, param_grid = param_grid, scoring='balanced_accuracy', cv = 5, n_jobs = -1)\n",
    "\n",
    "rf_grid_cv_1.fit(X_train, y_train)\n",
    "rf_best_cv_1_results = cross_validate(rf_grid_cv_1.best_estimator_, X_train, y_train, cv=5, scoring='balanced_accuracy')\n",
    "rf_best_scores = rf_best_cv_1_results['test_score']\n",
    "print(rf_best_scores)\n",
    "print(rf_best_scores.mean(), rf_best_scores.std())\n",
    "\n",
    "rf_grid_cv_1.best_params_"
   ]
  },
  {
   "cell_type": "markdown",
   "id": "9119b727",
   "metadata": {},
   "source": [
    "Now, we use _n_estimator_ = 700 and tune _max_depth_."
   ]
  },
  {
   "cell_type": "code",
   "execution_count": 8,
   "id": "bb6e21ce",
   "metadata": {},
   "outputs": [
    {
     "name": "stdout",
     "output_type": "stream",
     "text": [
      "[0.65487959 0.65011819 0.65239186 0.65417402 0.65440866]\n",
      "0.6531944610263174 0.0017539147905660923\n"
     ]
    },
    {
     "data": {
      "text/plain": [
       "{'randomforestclassifier__criterion': 'gini',\n",
       " 'randomforestclassifier__max_depth': 9,\n",
       " 'randomforestclassifier__n_estimators': 700}"
      ]
     },
     "execution_count": 8,
     "metadata": {},
     "output_type": "execute_result"
    }
   ],
   "source": [
    "# Second step: tuning max_septh\n",
    "\n",
    "param_grid = { \n",
    "    'randomforestclassifier__n_estimators': [700],\n",
    "    'randomforestclassifier__criterion': ['gini'],\n",
    "    'randomforestclassifier__max_depth': [6, 9, 15, 25, 35],\n",
    "}\n",
    "pipeRF = make_pipeline(MinMaxScaler(), RandomForestClassifier(random_state=47))\n",
    "rf_grid_cv2  = GridSearchCV(pipeRF, param_grid = param_grid, scoring='balanced_accuracy', cv = 5, n_jobs = -1)\n",
    "\n",
    "rf_grid_cv2.fit(X_train, y_train)\n",
    "rf_best_cv2_results = cross_validate(rf_grid_cv2.best_estimator_, X_train, y_train, cv=5, scoring='balanced_accuracy')\n",
    "rf_best_scores2 = rf_best_cv2_results['test_score']\n",
    "print(rf_best_scores2)\n",
    "print(rf_best_scores2.mean(), rf_best_scores2.std())\n",
    "\n",
    "rf_grid_cv2.best_params_"
   ]
  },
  {
   "cell_type": "markdown",
   "id": "d37afb9a",
   "metadata": {},
   "source": [
    "\n",
    "\n",
    "It can be seen that the abalanced accuracy score for the tuned random forest is 65%, very similar to the tune decision tree and logistic regression. In the next step, we plot the feature importance to study effect of features."
   ]
  },
  {
   "cell_type": "markdown",
   "id": "12f56dc4",
   "metadata": {},
   "source": [
    "### 9.3.3. Feature importance assessment of random forest classifier <a class='anchor' id='firf'></a>\n",
    "\n"
   ]
  },
  {
   "cell_type": "markdown",
   "id": "91c752c2",
   "metadata": {},
   "source": [
    "Using rf_grid_cv2.best_estimator_.named_steps.randomforestclassifier.feature_importances_, we access the values and plot them"
   ]
  },
  {
   "cell_type": "code",
   "execution_count": 9,
   "id": "fe9ef818",
   "metadata": {},
   "outputs": [
    {
     "data": {
      "text/plain": [
       "Text(0, 0.5, 'Feature')"
      ]
     },
     "execution_count": 9,
     "metadata": {},
     "output_type": "execute_result"
    },
    {
     "data": {
      "image/png": "[encoded data removed]",
      "text/plain": [
       "<Figure size 864x576 with 1 Axes>"
      ]
     },
     "metadata": {
      "needs_background": "light"
     },
     "output_type": "display_data"
    }
   ],
   "source": [
    "# Plot feature importance for random forest\n",
    "\n",
    "model_features = pd.DataFrame(rf_grid_cv2.best_estimator_.named_steps.randomforestclassifier.feature_importances_.T)\n",
    "model_features.index = X.columns\n",
    "model_features.columns=['Importance']\n",
    "\n",
    "HO = model_features.loc['home_ownership_ANY':,:]\n",
    "HO = pd.DataFrame({'Importance': HO.mean()})\n",
    "HO.index = ['home_ownership']\n",
    "\n",
    "Emp = model_features.loc['emp_length_1 year':'emp_length_< 1 year', :]\n",
    "Emp = pd.DataFrame({'Importance': Emp.mean()})\n",
    "Emp.index = ['employment length']\n",
    "\n",
    "Sub = model_features.loc['sub_grade_A1':'sub_grade_G5', :]\n",
    "sub = pd.DataFrame({'Importance': Sub.mean()})\n",
    "sub.index = ['sub_grade']\n",
    "\n",
    "VS = model_features.loc['verification_status_Not Verified':'verification_status_Verified', :]\n",
    "vs = pd.DataFrame({'Importance': VS.mean()})\n",
    "vs.index = ['Verification status']\n",
    "\n",
    "term = pd.DataFrame({'Importance': model_features.loc['term_ 60 months',:]})\n",
    "term.index = ['term']\n",
    "\n",
    "model_features = pd.concat([model_features.loc[:'Credit Length (year)',:], term, HO, Emp, sub, vs])\n",
    "title = 'Feature importance for tuned decision tree classifier'\n",
    "\n",
    "# Plot feature importance\n",
    "\n",
    "fig, ax=plt.subplots()\n",
    "model_features.sort_values(by='Importance').iloc[:, model_features.columns.get_loc('Importance')].plot(kind='barh', figsize=(12,8))\n",
    "ax.set_title(title)\n",
    "ax.set_xlabel('Coefficient')\n",
    "ax.set_ylabel('Feature')\n"
   ]
  },
  {
   "cell_type": "markdown",
   "id": "af16c7bb",
   "metadata": {},
   "source": [
    "\n",
    "\n",
    "For tuned random forest, the balanced accuracy score is 65%, very similar to logistic regression and decision tree.\n",
    "\n",
    "As shown in the plot,  _interest rate_, _loan term_(either it is 30 month or 60 month), _higher Fico score_ and _low Fico score_, _debt to income ratio_ , _number of mortages_, _funded amount_ and _installment_ are the most influential parameters.\n",
    "\n",
    "It is worth mentioning that the decision tree reached to almost similar conclusion in the previous section. In a decision tree classifier, the most influential parameters were interest rate, loan term(either it is 30 month or 60 month loan), number of mortages, debt to income ratio, installment, Low Fico score, revolving balance and high Fico score.  \n",
    "\n",
    "Furthermore, Among the parameters, _employment length_, number of _tax liens_, number of _collections_ and _charged off_ incidents within12 months prior to application have the lowest effect on classification."
   ]
  },
  {
   "cell_type": "markdown",
   "id": "96e3ab61",
   "metadata": {},
   "source": [
    "## 7.4. Gradient boosting classifier <a class='anchor' id='GB'></a>"
   ]
  },
  {
   "cell_type": "markdown",
   "id": "29474396",
   "metadata": {},
   "source": [
    "### 7.4.1. Make a pipeline for gradient boosting classifier <a class='anchor' id='plgb'></a>\n",
    "\n",
    "Using make_pipeline, a pipeline is created to train gradient boosting classifier. The sacler used is MinMaxScaler. This scaler gives 0 and to the minimum and maximum values of features, and scale the rest of values accordingly. Given that, there are columns with only 0 and 1 to represent categorical features, MinMaXScaler does not change these columns. Therefore, MinMaxScaler is chosen as the scaling method."
   ]
  },
  {
   "cell_type": "code",
   "execution_count": 715,
   "id": "f4842cab",
   "metadata": {
    "scrolled": true
   },
   "outputs": [
    {
     "name": "stdout",
     "output_type": "stream",
     "text": [
      "The new X has the columns added by One Hot Encoder, which has increased the number of columns from 23 to 74\n",
      "[12:59:45] WARNING: ..\\src\\learner.cc:1061: Starting in XGBoost 1.3.0, the default evaluation metric used with the objective 'binary:logistic' was changed from 'error' to 'logloss'. Explicitly set eval_metric if you'd like to restore the old behavior.\n",
      "[13:00:37] WARNING: ..\\src\\learner.cc:1061: Starting in XGBoost 1.3.0, the default evaluation metric used with the objective 'binary:logistic' was changed from 'error' to 'logloss'. Explicitly set eval_metric if you'd like to restore the old behavior.\n",
      "[13:01:28] WARNING: ..\\src\\learner.cc:1061: Starting in XGBoost 1.3.0, the default evaluation metric used with the objective 'binary:logistic' was changed from 'error' to 'logloss'. Explicitly set eval_metric if you'd like to restore the old behavior.\n",
      "[13:02:16] WARNING: ..\\src\\learner.cc:1061: Starting in XGBoost 1.3.0, the default evaluation metric used with the objective 'binary:logistic' was changed from 'error' to 'logloss'. Explicitly set eval_metric if you'd like to restore the old behavior.\n",
      "[13:03:04] WARNING: ..\\src\\learner.cc:1061: Starting in XGBoost 1.3.0, the default evaluation metric used with the objective 'binary:logistic' was changed from 'error' to 'logloss'. Explicitly set eval_metric if you'd like to restore the old behavior.\n",
      "[0.66305283 0.66296702 0.66204677 0.6617308  0.6636377 ]\n",
      "0.6626870245658015 0.0006986122228453284\n"
     ]
    }
   ],
   "source": [
    "y = df['Status']\n",
    "X = df.drop(columns=['Status', 'grade'])\n",
    "\n",
    "# Choose the categorical columns\n",
    "col_num =X.shape[1]\n",
    "categorical_columns_selector = selector(dtype_include=object)\n",
    "categorical_columns = categorical_columns_selector(X)\n",
    "\n",
    "# One Hot encode\n",
    "\n",
    "enc = OneHotEncoder(drop='if_binary')\n",
    "enc_df = pd.DataFrame(enc.fit_transform(X[categorical_columns]).toarray())\n",
    "feature_names = enc.get_feature_names(input_features=categorical_columns)\n",
    "enc_df.columns = feature_names\n",
    "X.drop(columns=categorical_columns, inplace=True)\n",
    "# merge with main df bridge_df on key values\n",
    "X =X.join(enc_df)\n",
    "#X.set_index('id', inplace=True)\n",
    "print('The new X has the columns added by One Hot Encoder, which has increased the number of columns from {} to {}'.format(col_num, X.shape[1]))\n",
    "\n",
    "# Undersample\n",
    "\n",
    "Xn = X.to_numpy()\n",
    "yn = y.to_numpy()\n",
    "random_state=42\n",
    "RU = RandomUnderSampler()\n",
    "X_res, y_res = RU.fit_resample(Xn,yn)\n",
    "\n",
    "# Split\n",
    "X_train, X_test, y_train, y_test = train_test_split(X_res, y_res, test_size=0.3, random_state=47)\n",
    "\n",
    "\n",
    "\n",
    "pipeXG = make_pipeline(MinMaxScaler(), XGBClassifier())\n",
    "\n",
    "cv_results = cross_validate(pipeXG, X_train, y_train, scoring = 'balanced_accuracy', cv=5)\n",
    "cv_scores = cv_results['test_score']\n",
    "\n",
    "print(cv_scores)\n",
    "print(cv_scores.mean(), cv_scores.std())"
   ]
  },
  {
   "cell_type": "markdown",
   "id": "9f51aa71",
   "metadata": {},
   "source": [
    "Gradient boosting model balanced accuracy score is 66%, which is highest among the models. Decision tree, logistic regression and random forest reached 65% accuracy after tuning."
   ]
  },
  {
   "cell_type": "markdown",
   "id": "d113a19a",
   "metadata": {},
   "source": [
    "### 7.4.2. Hyperparameter tuning for gradient boosting classifier <a class='anchor' id='gdgb'></a>\n",
    "\n",
    "There are several parameters to tune but given the constraints with computing power, only a small number of parameters are chosen."
   ]
  },
  {
   "cell_type": "code",
   "execution_count": 711,
   "id": "391a77d6",
   "metadata": {},
   "outputs": [
    {
     "name": "stdout",
     "output_type": "stream",
     "text": [
      "The new X has the columns added by One Hot Encoder, which has increased the number of columns from 23 to 74\n",
      "[08:24:34] WARNING: ..\\src\\learner.cc:541: \n",
      "Parameters: { n_estimator } might not be used.\n",
      "\n",
      "  This may not be accurate due to some parameters are only used in language bindings but\n",
      "  passed down to XGBoost core.  Or some parameters are not used but slip through this\n",
      "  verification. Please open an issue if you find above cases.\n",
      "\n",
      "\n",
      "[08:24:34] WARNING: ..\\src\\learner.cc:1061: Starting in XGBoost 1.3.0, the default evaluation metric used with the objective 'binary:logistic' was changed from 'error' to 'logloss'. Explicitly set eval_metric if you'd like to restore the old behavior.\n",
      "[08:24:57] WARNING: ..\\src\\learner.cc:541: \n",
      "Parameters: { n_estimator } might not be used.\n",
      "\n",
      "  This may not be accurate due to some parameters are only used in language bindings but\n",
      "  passed down to XGBoost core.  Or some parameters are not used but slip through this\n",
      "  verification. Please open an issue if you find above cases.\n",
      "\n",
      "\n",
      "[08:24:57] WARNING: ..\\src\\learner.cc:1061: Starting in XGBoost 1.3.0, the default evaluation metric used with the objective 'binary:logistic' was changed from 'error' to 'logloss'. Explicitly set eval_metric if you'd like to restore the old behavior.\n",
      "[08:25:21] WARNING: ..\\src\\learner.cc:541: \n",
      "Parameters: { n_estimator } might not be used.\n",
      "\n",
      "  This may not be accurate due to some parameters are only used in language bindings but\n",
      "  passed down to XGBoost core.  Or some parameters are not used but slip through this\n",
      "  verification. Please open an issue if you find above cases.\n",
      "\n",
      "\n",
      "[08:25:22] WARNING: ..\\src\\learner.cc:1061: Starting in XGBoost 1.3.0, the default evaluation metric used with the objective 'binary:logistic' was changed from 'error' to 'logloss'. Explicitly set eval_metric if you'd like to restore the old behavior.\n",
      "[08:25:45] WARNING: ..\\src\\learner.cc:541: \n",
      "Parameters: { n_estimator } might not be used.\n",
      "\n",
      "  This may not be accurate due to some parameters are only used in language bindings but\n",
      "  passed down to XGBoost core.  Or some parameters are not used but slip through this\n",
      "  verification. Please open an issue if you find above cases.\n",
      "\n",
      "\n",
      "[08:25:46] WARNING: ..\\src\\learner.cc:1061: Starting in XGBoost 1.3.0, the default evaluation metric used with the objective 'binary:logistic' was changed from 'error' to 'logloss'. Explicitly set eval_metric if you'd like to restore the old behavior.\n",
      "[08:26:09] WARNING: ..\\src\\learner.cc:541: \n",
      "Parameters: { n_estimator } might not be used.\n",
      "\n",
      "  This may not be accurate due to some parameters are only used in language bindings but\n",
      "  passed down to XGBoost core.  Or some parameters are not used but slip through this\n",
      "  verification. Please open an issue if you find above cases.\n",
      "\n",
      "\n",
      "[08:26:09] WARNING: ..\\src\\learner.cc:1061: Starting in XGBoost 1.3.0, the default evaluation metric used with the objective 'binary:logistic' was changed from 'error' to 'logloss'. Explicitly set eval_metric if you'd like to restore the old behavior.\n",
      "[08:26:30] WARNING: ..\\src\\learner.cc:541: \n",
      "Parameters: { n_estimator } might not be used.\n",
      "\n",
      "  This may not be accurate due to some parameters are only used in language bindings but\n",
      "  passed down to XGBoost core.  Or some parameters are not used but slip through this\n",
      "  verification. Please open an issue if you find above cases.\n",
      "\n",
      "\n",
      "[08:26:30] WARNING: ..\\src\\learner.cc:1061: Starting in XGBoost 1.3.0, the default evaluation metric used with the objective 'binary:logistic' was changed from 'error' to 'logloss'. Explicitly set eval_metric if you'd like to restore the old behavior.\n",
      "[08:26:51] WARNING: ..\\src\\learner.cc:541: \n",
      "Parameters: { n_estimator } might not be used.\n",
      "\n",
      "  This may not be accurate due to some parameters are only used in language bindings but\n",
      "  passed down to XGBoost core.  Or some parameters are not used but slip through this\n",
      "  verification. Please open an issue if you find above cases.\n",
      "\n",
      "\n",
      "[08:26:51] WARNING: ..\\src\\learner.cc:1061: Starting in XGBoost 1.3.0, the default evaluation metric used with the objective 'binary:logistic' was changed from 'error' to 'logloss'. Explicitly set eval_metric if you'd like to restore the old behavior.\n",
      "[08:27:17] WARNING: ..\\src\\learner.cc:541: \n",
      "Parameters: { n_estimator } might not be used.\n",
      "\n",
      "  This may not be accurate due to some parameters are only used in language bindings but\n",
      "  passed down to XGBoost core.  Or some parameters are not used but slip through this\n",
      "  verification. Please open an issue if you find above cases.\n",
      "\n",
      "\n",
      "[08:27:17] WARNING: ..\\src\\learner.cc:1061: Starting in XGBoost 1.3.0, the default evaluation metric used with the objective 'binary:logistic' was changed from 'error' to 'logloss'. Explicitly set eval_metric if you'd like to restore the old behavior.\n",
      "[08:27:41] WARNING: ..\\src\\learner.cc:541: \n",
      "Parameters: { n_estimator } might not be used.\n",
      "\n",
      "  This may not be accurate due to some parameters are only used in language bindings but\n",
      "  passed down to XGBoost core.  Or some parameters are not used but slip through this\n",
      "  verification. Please open an issue if you find above cases.\n",
      "\n",
      "\n",
      "[08:27:41] WARNING: ..\\src\\learner.cc:1061: Starting in XGBoost 1.3.0, the default evaluation metric used with the objective 'binary:logistic' was changed from 'error' to 'logloss'. Explicitly set eval_metric if you'd like to restore the old behavior.\n",
      "[08:28:04] WARNING: ..\\src\\learner.cc:541: \n",
      "Parameters: { n_estimator } might not be used.\n",
      "\n",
      "  This may not be accurate due to some parameters are only used in language bindings but\n",
      "  passed down to XGBoost core.  Or some parameters are not used but slip through this\n",
      "  verification. Please open an issue if you find above cases.\n",
      "\n",
      "\n",
      "[08:28:04] WARNING: ..\\src\\learner.cc:1061: Starting in XGBoost 1.3.0, the default evaluation metric used with the objective 'binary:logistic' was changed from 'error' to 'logloss'. Explicitly set eval_metric if you'd like to restore the old behavior.\n",
      "[08:28:26] WARNING: ..\\src\\learner.cc:541: \n",
      "Parameters: { n_estimator } might not be used.\n",
      "\n",
      "  This may not be accurate due to some parameters are only used in language bindings but\n",
      "  passed down to XGBoost core.  Or some parameters are not used but slip through this\n",
      "  verification. Please open an issue if you find above cases.\n",
      "\n",
      "\n",
      "[08:28:27] WARNING: ..\\src\\learner.cc:1061: Starting in XGBoost 1.3.0, the default evaluation metric used with the objective 'binary:logistic' was changed from 'error' to 'logloss'. Explicitly set eval_metric if you'd like to restore the old behavior.\n",
      "[08:28:48] WARNING: ..\\src\\learner.cc:541: \n",
      "Parameters: { n_estimator } might not be used.\n",
      "\n",
      "  This may not be accurate due to some parameters are only used in language bindings but\n",
      "  passed down to XGBoost core.  Or some parameters are not used but slip through this\n",
      "  verification. Please open an issue if you find above cases.\n",
      "\n",
      "\n",
      "[08:28:49] WARNING: ..\\src\\learner.cc:1061: Starting in XGBoost 1.3.0, the default evaluation metric used with the objective 'binary:logistic' was changed from 'error' to 'logloss'. Explicitly set eval_metric if you'd like to restore the old behavior.\n",
      "[08:29:11] WARNING: ..\\src\\learner.cc:541: \n",
      "Parameters: { n_estimator } might not be used.\n",
      "\n",
      "  This may not be accurate due to some parameters are only used in language bindings but\n",
      "  passed down to XGBoost core.  Or some parameters are not used but slip through this\n",
      "  verification. Please open an issue if you find above cases.\n",
      "\n",
      "\n",
      "[08:29:12] WARNING: ..\\src\\learner.cc:1061: Starting in XGBoost 1.3.0, the default evaluation metric used with the objective 'binary:logistic' was changed from 'error' to 'logloss'. Explicitly set eval_metric if you'd like to restore the old behavior.\n",
      "[08:29:35] WARNING: ..\\src\\learner.cc:541: \n",
      "Parameters: { n_estimator } might not be used.\n",
      "\n",
      "  This may not be accurate due to some parameters are only used in language bindings but\n",
      "  passed down to XGBoost core.  Or some parameters are not used but slip through this\n",
      "  verification. Please open an issue if you find above cases.\n",
      "\n",
      "\n",
      "[08:29:35] WARNING: ..\\src\\learner.cc:1061: Starting in XGBoost 1.3.0, the default evaluation metric used with the objective 'binary:logistic' was changed from 'error' to 'logloss'. Explicitly set eval_metric if you'd like to restore the old behavior.\n"
     ]
    },
    {
     "name": "stdout",
     "output_type": "stream",
     "text": [
      "[08:29:59] WARNING: ..\\src\\learner.cc:541: \n",
      "Parameters: { n_estimator } might not be used.\n",
      "\n",
      "  This may not be accurate due to some parameters are only used in language bindings but\n",
      "  passed down to XGBoost core.  Or some parameters are not used but slip through this\n",
      "  verification. Please open an issue if you find above cases.\n",
      "\n",
      "\n",
      "[08:29:59] WARNING: ..\\src\\learner.cc:1061: Starting in XGBoost 1.3.0, the default evaluation metric used with the objective 'binary:logistic' was changed from 'error' to 'logloss'. Explicitly set eval_metric if you'd like to restore the old behavior.\n",
      "[08:30:23] WARNING: ..\\src\\learner.cc:541: \n",
      "Parameters: { n_estimator } might not be used.\n",
      "\n",
      "  This may not be accurate due to some parameters are only used in language bindings but\n",
      "  passed down to XGBoost core.  Or some parameters are not used but slip through this\n",
      "  verification. Please open an issue if you find above cases.\n",
      "\n",
      "\n",
      "[08:30:24] WARNING: ..\\src\\learner.cc:1061: Starting in XGBoost 1.3.0, the default evaluation metric used with the objective 'binary:logistic' was changed from 'error' to 'logloss'. Explicitly set eval_metric if you'd like to restore the old behavior.\n",
      "[08:31:06] WARNING: ..\\src\\learner.cc:541: \n",
      "Parameters: { n_estimator } might not be used.\n",
      "\n",
      "  This may not be accurate due to some parameters are only used in language bindings but\n",
      "  passed down to XGBoost core.  Or some parameters are not used but slip through this\n",
      "  verification. Please open an issue if you find above cases.\n",
      "\n",
      "\n",
      "[08:31:06] WARNING: ..\\src\\learner.cc:1061: Starting in XGBoost 1.3.0, the default evaluation metric used with the objective 'binary:logistic' was changed from 'error' to 'logloss'. Explicitly set eval_metric if you'd like to restore the old behavior.\n",
      "[08:31:51] WARNING: ..\\src\\learner.cc:541: \n",
      "Parameters: { n_estimator } might not be used.\n",
      "\n",
      "  This may not be accurate due to some parameters are only used in language bindings but\n",
      "  passed down to XGBoost core.  Or some parameters are not used but slip through this\n",
      "  verification. Please open an issue if you find above cases.\n",
      "\n",
      "\n",
      "[08:31:51] WARNING: ..\\src\\learner.cc:1061: Starting in XGBoost 1.3.0, the default evaluation metric used with the objective 'binary:logistic' was changed from 'error' to 'logloss'. Explicitly set eval_metric if you'd like to restore the old behavior.\n",
      "[08:32:37] WARNING: ..\\src\\learner.cc:541: \n",
      "Parameters: { n_estimator } might not be used.\n",
      "\n",
      "  This may not be accurate due to some parameters are only used in language bindings but\n",
      "  passed down to XGBoost core.  Or some parameters are not used but slip through this\n",
      "  verification. Please open an issue if you find above cases.\n",
      "\n",
      "\n",
      "[08:32:38] WARNING: ..\\src\\learner.cc:1061: Starting in XGBoost 1.3.0, the default evaluation metric used with the objective 'binary:logistic' was changed from 'error' to 'logloss'. Explicitly set eval_metric if you'd like to restore the old behavior.\n",
      "[08:33:21] WARNING: ..\\src\\learner.cc:541: \n",
      "Parameters: { n_estimator } might not be used.\n",
      "\n",
      "  This may not be accurate due to some parameters are only used in language bindings but\n",
      "  passed down to XGBoost core.  Or some parameters are not used but slip through this\n",
      "  verification. Please open an issue if you find above cases.\n",
      "\n",
      "\n",
      "[08:33:21] WARNING: ..\\src\\learner.cc:1061: Starting in XGBoost 1.3.0, the default evaluation metric used with the objective 'binary:logistic' was changed from 'error' to 'logloss'. Explicitly set eval_metric if you'd like to restore the old behavior.\n",
      "[08:34:04] WARNING: ..\\src\\learner.cc:541: \n",
      "Parameters: { n_estimator } might not be used.\n",
      "\n",
      "  This may not be accurate due to some parameters are only used in language bindings but\n",
      "  passed down to XGBoost core.  Or some parameters are not used but slip through this\n",
      "  verification. Please open an issue if you find above cases.\n",
      "\n",
      "\n",
      "[08:34:05] WARNING: ..\\src\\learner.cc:1061: Starting in XGBoost 1.3.0, the default evaluation metric used with the objective 'binary:logistic' was changed from 'error' to 'logloss'. Explicitly set eval_metric if you'd like to restore the old behavior.\n",
      "[08:34:48] WARNING: ..\\src\\learner.cc:541: \n",
      "Parameters: { n_estimator } might not be used.\n",
      "\n",
      "  This may not be accurate due to some parameters are only used in language bindings but\n",
      "  passed down to XGBoost core.  Or some parameters are not used but slip through this\n",
      "  verification. Please open an issue if you find above cases.\n",
      "\n",
      "\n",
      "[08:34:49] WARNING: ..\\src\\learner.cc:1061: Starting in XGBoost 1.3.0, the default evaluation metric used with the objective 'binary:logistic' was changed from 'error' to 'logloss'. Explicitly set eval_metric if you'd like to restore the old behavior.\n",
      "[08:35:35] WARNING: ..\\src\\learner.cc:541: \n",
      "Parameters: { n_estimator } might not be used.\n",
      "\n",
      "  This may not be accurate due to some parameters are only used in language bindings but\n",
      "  passed down to XGBoost core.  Or some parameters are not used but slip through this\n",
      "  verification. Please open an issue if you find above cases.\n",
      "\n",
      "\n",
      "[08:35:35] WARNING: ..\\src\\learner.cc:1061: Starting in XGBoost 1.3.0, the default evaluation metric used with the objective 'binary:logistic' was changed from 'error' to 'logloss'. Explicitly set eval_metric if you'd like to restore the old behavior.\n",
      "[08:36:20] WARNING: ..\\src\\learner.cc:541: \n",
      "Parameters: { n_estimator } might not be used.\n",
      "\n",
      "  This may not be accurate due to some parameters are only used in language bindings but\n",
      "  passed down to XGBoost core.  Or some parameters are not used but slip through this\n",
      "  verification. Please open an issue if you find above cases.\n",
      "\n",
      "\n",
      "[08:36:20] WARNING: ..\\src\\learner.cc:1061: Starting in XGBoost 1.3.0, the default evaluation metric used with the objective 'binary:logistic' was changed from 'error' to 'logloss'. Explicitly set eval_metric if you'd like to restore the old behavior.\n",
      "[08:37:02] WARNING: ..\\src\\learner.cc:541: \n",
      "Parameters: { n_estimator } might not be used.\n",
      "\n",
      "  This may not be accurate due to some parameters are only used in language bindings but\n",
      "  passed down to XGBoost core.  Or some parameters are not used but slip through this\n",
      "  verification. Please open an issue if you find above cases.\n",
      "\n",
      "\n",
      "[08:37:02] WARNING: ..\\src\\learner.cc:1061: Starting in XGBoost 1.3.0, the default evaluation metric used with the objective 'binary:logistic' was changed from 'error' to 'logloss'. Explicitly set eval_metric if you'd like to restore the old behavior.\n",
      "[08:37:45] WARNING: ..\\src\\learner.cc:541: \n",
      "Parameters: { n_estimator } might not be used.\n",
      "\n",
      "  This may not be accurate due to some parameters are only used in language bindings but\n",
      "  passed down to XGBoost core.  Or some parameters are not used but slip through this\n",
      "  verification. Please open an issue if you find above cases.\n",
      "\n",
      "\n",
      "[08:37:46] WARNING: ..\\src\\learner.cc:1061: Starting in XGBoost 1.3.0, the default evaluation metric used with the objective 'binary:logistic' was changed from 'error' to 'logloss'. Explicitly set eval_metric if you'd like to restore the old behavior.\n",
      "[08:38:30] WARNING: ..\\src\\learner.cc:541: \n",
      "Parameters: { n_estimator } might not be used.\n",
      "\n",
      "  This may not be accurate due to some parameters are only used in language bindings but\n",
      "  passed down to XGBoost core.  Or some parameters are not used but slip through this\n",
      "  verification. Please open an issue if you find above cases.\n",
      "\n",
      "\n",
      "[08:38:30] WARNING: ..\\src\\learner.cc:1061: Starting in XGBoost 1.3.0, the default evaluation metric used with the objective 'binary:logistic' was changed from 'error' to 'logloss'. Explicitly set eval_metric if you'd like to restore the old behavior.\n",
      "[08:39:13] WARNING: ..\\src\\learner.cc:541: \n",
      "Parameters: { n_estimator } might not be used.\n",
      "\n",
      "  This may not be accurate due to some parameters are only used in language bindings but\n",
      "  passed down to XGBoost core.  Or some parameters are not used but slip through this\n",
      "  verification. Please open an issue if you find above cases.\n",
      "\n",
      "\n",
      "[08:39:13] WARNING: ..\\src\\learner.cc:1061: Starting in XGBoost 1.3.0, the default evaluation metric used with the objective 'binary:logistic' was changed from 'error' to 'logloss'. Explicitly set eval_metric if you'd like to restore the old behavior.\n",
      "[08:39:55] WARNING: ..\\src\\learner.cc:541: \n",
      "Parameters: { n_estimator } might not be used.\n",
      "\n",
      "  This may not be accurate due to some parameters are only used in language bindings but\n",
      "  passed down to XGBoost core.  Or some parameters are not used but slip through this\n",
      "  verification. Please open an issue if you find above cases.\n",
      "\n",
      "\n"
     ]
    },
    {
     "name": "stdout",
     "output_type": "stream",
     "text": [
      "[08:39:56] WARNING: ..\\src\\learner.cc:1061: Starting in XGBoost 1.3.0, the default evaluation metric used with the objective 'binary:logistic' was changed from 'error' to 'logloss'. Explicitly set eval_metric if you'd like to restore the old behavior.\n",
      "[08:40:40] WARNING: ..\\src\\learner.cc:541: \n",
      "Parameters: { n_estimator } might not be used.\n",
      "\n",
      "  This may not be accurate due to some parameters are only used in language bindings but\n",
      "  passed down to XGBoost core.  Or some parameters are not used but slip through this\n",
      "  verification. Please open an issue if you find above cases.\n",
      "\n",
      "\n",
      "[08:40:40] WARNING: ..\\src\\learner.cc:1061: Starting in XGBoost 1.3.0, the default evaluation metric used with the objective 'binary:logistic' was changed from 'error' to 'logloss'. Explicitly set eval_metric if you'd like to restore the old behavior.\n",
      "[08:41:24] WARNING: ..\\src\\learner.cc:541: \n",
      "Parameters: { n_estimator } might not be used.\n",
      "\n",
      "  This may not be accurate due to some parameters are only used in language bindings but\n",
      "  passed down to XGBoost core.  Or some parameters are not used but slip through this\n",
      "  verification. Please open an issue if you find above cases.\n",
      "\n",
      "\n",
      "[08:41:25] WARNING: ..\\src\\learner.cc:1061: Starting in XGBoost 1.3.0, the default evaluation metric used with the objective 'binary:logistic' was changed from 'error' to 'logloss'. Explicitly set eval_metric if you'd like to restore the old behavior.\n",
      "[08:42:32] WARNING: ..\\src\\learner.cc:541: \n",
      "Parameters: { n_estimator } might not be used.\n",
      "\n",
      "  This may not be accurate due to some parameters are only used in language bindings but\n",
      "  passed down to XGBoost core.  Or some parameters are not used but slip through this\n",
      "  verification. Please open an issue if you find above cases.\n",
      "\n",
      "\n",
      "[08:42:32] WARNING: ..\\src\\learner.cc:1061: Starting in XGBoost 1.3.0, the default evaluation metric used with the objective 'binary:logistic' was changed from 'error' to 'logloss'. Explicitly set eval_metric if you'd like to restore the old behavior.\n",
      "[08:43:39] WARNING: ..\\src\\learner.cc:541: \n",
      "Parameters: { n_estimator } might not be used.\n",
      "\n",
      "  This may not be accurate due to some parameters are only used in language bindings but\n",
      "  passed down to XGBoost core.  Or some parameters are not used but slip through this\n",
      "  verification. Please open an issue if you find above cases.\n",
      "\n",
      "\n",
      "[08:43:40] WARNING: ..\\src\\learner.cc:1061: Starting in XGBoost 1.3.0, the default evaluation metric used with the objective 'binary:logistic' was changed from 'error' to 'logloss'. Explicitly set eval_metric if you'd like to restore the old behavior.\n",
      "[08:44:47] WARNING: ..\\src\\learner.cc:541: \n",
      "Parameters: { n_estimator } might not be used.\n",
      "\n",
      "  This may not be accurate due to some parameters are only used in language bindings but\n",
      "  passed down to XGBoost core.  Or some parameters are not used but slip through this\n",
      "  verification. Please open an issue if you find above cases.\n",
      "\n",
      "\n",
      "[08:44:48] WARNING: ..\\src\\learner.cc:1061: Starting in XGBoost 1.3.0, the default evaluation metric used with the objective 'binary:logistic' was changed from 'error' to 'logloss'. Explicitly set eval_metric if you'd like to restore the old behavior.\n",
      "[08:45:56] WARNING: ..\\src\\learner.cc:541: \n",
      "Parameters: { n_estimator } might not be used.\n",
      "\n",
      "  This may not be accurate due to some parameters are only used in language bindings but\n",
      "  passed down to XGBoost core.  Or some parameters are not used but slip through this\n",
      "  verification. Please open an issue if you find above cases.\n",
      "\n",
      "\n",
      "[08:45:57] WARNING: ..\\src\\learner.cc:1061: Starting in XGBoost 1.3.0, the default evaluation metric used with the objective 'binary:logistic' was changed from 'error' to 'logloss'. Explicitly set eval_metric if you'd like to restore the old behavior.\n",
      "[08:47:03] WARNING: ..\\src\\learner.cc:541: \n",
      "Parameters: { n_estimator } might not be used.\n",
      "\n",
      "  This may not be accurate due to some parameters are only used in language bindings but\n",
      "  passed down to XGBoost core.  Or some parameters are not used but slip through this\n",
      "  verification. Please open an issue if you find above cases.\n",
      "\n",
      "\n",
      "[08:47:04] WARNING: ..\\src\\learner.cc:1061: Starting in XGBoost 1.3.0, the default evaluation metric used with the objective 'binary:logistic' was changed from 'error' to 'logloss'. Explicitly set eval_metric if you'd like to restore the old behavior.\n",
      "[08:48:09] WARNING: ..\\src\\learner.cc:541: \n",
      "Parameters: { n_estimator } might not be used.\n",
      "\n",
      "  This may not be accurate due to some parameters are only used in language bindings but\n",
      "  passed down to XGBoost core.  Or some parameters are not used but slip through this\n",
      "  verification. Please open an issue if you find above cases.\n",
      "\n",
      "\n",
      "[08:48:09] WARNING: ..\\src\\learner.cc:1061: Starting in XGBoost 1.3.0, the default evaluation metric used with the objective 'binary:logistic' was changed from 'error' to 'logloss'. Explicitly set eval_metric if you'd like to restore the old behavior.\n",
      "[08:49:16] WARNING: ..\\src\\learner.cc:541: \n",
      "Parameters: { n_estimator } might not be used.\n",
      "\n",
      "  This may not be accurate due to some parameters are only used in language bindings but\n",
      "  passed down to XGBoost core.  Or some parameters are not used but slip through this\n",
      "  verification. Please open an issue if you find above cases.\n",
      "\n",
      "\n",
      "[08:49:17] WARNING: ..\\src\\learner.cc:1061: Starting in XGBoost 1.3.0, the default evaluation metric used with the objective 'binary:logistic' was changed from 'error' to 'logloss'. Explicitly set eval_metric if you'd like to restore the old behavior.\n",
      "[08:50:23] WARNING: ..\\src\\learner.cc:541: \n",
      "Parameters: { n_estimator } might not be used.\n",
      "\n",
      "  This may not be accurate due to some parameters are only used in language bindings but\n",
      "  passed down to XGBoost core.  Or some parameters are not used but slip through this\n",
      "  verification. Please open an issue if you find above cases.\n",
      "\n",
      "\n",
      "[08:50:24] WARNING: ..\\src\\learner.cc:1061: Starting in XGBoost 1.3.0, the default evaluation metric used with the objective 'binary:logistic' was changed from 'error' to 'logloss'. Explicitly set eval_metric if you'd like to restore the old behavior.\n",
      "[08:51:30] WARNING: ..\\src\\learner.cc:541: \n",
      "Parameters: { n_estimator } might not be used.\n",
      "\n",
      "  This may not be accurate due to some parameters are only used in language bindings but\n",
      "  passed down to XGBoost core.  Or some parameters are not used but slip through this\n",
      "  verification. Please open an issue if you find above cases.\n",
      "\n",
      "\n",
      "[08:51:31] WARNING: ..\\src\\learner.cc:1061: Starting in XGBoost 1.3.0, the default evaluation metric used with the objective 'binary:logistic' was changed from 'error' to 'logloss'. Explicitly set eval_metric if you'd like to restore the old behavior.\n",
      "[08:52:37] WARNING: ..\\src\\learner.cc:541: \n",
      "Parameters: { n_estimator } might not be used.\n",
      "\n",
      "  This may not be accurate due to some parameters are only used in language bindings but\n",
      "  passed down to XGBoost core.  Or some parameters are not used but slip through this\n",
      "  verification. Please open an issue if you find above cases.\n",
      "\n",
      "\n",
      "[08:52:38] WARNING: ..\\src\\learner.cc:1061: Starting in XGBoost 1.3.0, the default evaluation metric used with the objective 'binary:logistic' was changed from 'error' to 'logloss'. Explicitly set eval_metric if you'd like to restore the old behavior.\n",
      "[08:53:44] WARNING: ..\\src\\learner.cc:541: \n",
      "Parameters: { n_estimator } might not be used.\n",
      "\n",
      "  This may not be accurate due to some parameters are only used in language bindings but\n",
      "  passed down to XGBoost core.  Or some parameters are not used but slip through this\n",
      "  verification. Please open an issue if you find above cases.\n",
      "\n",
      "\n",
      "[08:53:44] WARNING: ..\\src\\learner.cc:1061: Starting in XGBoost 1.3.0, the default evaluation metric used with the objective 'binary:logistic' was changed from 'error' to 'logloss'. Explicitly set eval_metric if you'd like to restore the old behavior.\n",
      "[08:54:51] WARNING: ..\\src\\learner.cc:541: \n",
      "Parameters: { n_estimator } might not be used.\n",
      "\n",
      "  This may not be accurate due to some parameters are only used in language bindings but\n",
      "  passed down to XGBoost core.  Or some parameters are not used but slip through this\n",
      "  verification. Please open an issue if you find above cases.\n",
      "\n",
      "\n",
      "[08:54:52] WARNING: ..\\src\\learner.cc:1061: Starting in XGBoost 1.3.0, the default evaluation metric used with the objective 'binary:logistic' was changed from 'error' to 'logloss'. Explicitly set eval_metric if you'd like to restore the old behavior.\n"
     ]
    },
    {
     "name": "stdout",
     "output_type": "stream",
     "text": [
      "[08:56:00] WARNING: ..\\src\\learner.cc:541: \n",
      "Parameters: { n_estimator } might not be used.\n",
      "\n",
      "  This may not be accurate due to some parameters are only used in language bindings but\n",
      "  passed down to XGBoost core.  Or some parameters are not used but slip through this\n",
      "  verification. Please open an issue if you find above cases.\n",
      "\n",
      "\n",
      "[08:56:01] WARNING: ..\\src\\learner.cc:1061: Starting in XGBoost 1.3.0, the default evaluation metric used with the objective 'binary:logistic' was changed from 'error' to 'logloss'. Explicitly set eval_metric if you'd like to restore the old behavior.\n",
      "[08:57:11] WARNING: ..\\src\\learner.cc:541: \n",
      "Parameters: { n_estimator } might not be used.\n",
      "\n",
      "  This may not be accurate due to some parameters are only used in language bindings but\n",
      "  passed down to XGBoost core.  Or some parameters are not used but slip through this\n",
      "  verification. Please open an issue if you find above cases.\n",
      "\n",
      "\n",
      "[08:57:12] WARNING: ..\\src\\learner.cc:1061: Starting in XGBoost 1.3.0, the default evaluation metric used with the objective 'binary:logistic' was changed from 'error' to 'logloss'. Explicitly set eval_metric if you'd like to restore the old behavior.\n",
      "[08:58:19] WARNING: ..\\src\\learner.cc:541: \n",
      "Parameters: { n_estimator } might not be used.\n",
      "\n",
      "  This may not be accurate due to some parameters are only used in language bindings but\n",
      "  passed down to XGBoost core.  Or some parameters are not used but slip through this\n",
      "  verification. Please open an issue if you find above cases.\n",
      "\n",
      "\n",
      "[08:58:19] WARNING: ..\\src\\learner.cc:1061: Starting in XGBoost 1.3.0, the default evaluation metric used with the objective 'binary:logistic' was changed from 'error' to 'logloss'. Explicitly set eval_metric if you'd like to restore the old behavior.\n",
      "[08:58:43] WARNING: ..\\src\\learner.cc:541: \n",
      "Parameters: { n_estimator } might not be used.\n",
      "\n",
      "  This may not be accurate due to some parameters are only used in language bindings but\n",
      "  passed down to XGBoost core.  Or some parameters are not used but slip through this\n",
      "  verification. Please open an issue if you find above cases.\n",
      "\n",
      "\n",
      "[08:58:44] WARNING: ..\\src\\learner.cc:1061: Starting in XGBoost 1.3.0, the default evaluation metric used with the objective 'binary:logistic' was changed from 'error' to 'logloss'. Explicitly set eval_metric if you'd like to restore the old behavior.\n",
      "[08:59:09] WARNING: ..\\src\\learner.cc:541: \n",
      "Parameters: { n_estimator } might not be used.\n",
      "\n",
      "  This may not be accurate due to some parameters are only used in language bindings but\n",
      "  passed down to XGBoost core.  Or some parameters are not used but slip through this\n",
      "  verification. Please open an issue if you find above cases.\n",
      "\n",
      "\n",
      "[08:59:09] WARNING: ..\\src\\learner.cc:1061: Starting in XGBoost 1.3.0, the default evaluation metric used with the objective 'binary:logistic' was changed from 'error' to 'logloss'. Explicitly set eval_metric if you'd like to restore the old behavior.\n",
      "[08:59:33] WARNING: ..\\src\\learner.cc:541: \n",
      "Parameters: { n_estimator } might not be used.\n",
      "\n",
      "  This may not be accurate due to some parameters are only used in language bindings but\n",
      "  passed down to XGBoost core.  Or some parameters are not used but slip through this\n",
      "  verification. Please open an issue if you find above cases.\n",
      "\n",
      "\n",
      "[08:59:33] WARNING: ..\\src\\learner.cc:1061: Starting in XGBoost 1.3.0, the default evaluation metric used with the objective 'binary:logistic' was changed from 'error' to 'logloss'. Explicitly set eval_metric if you'd like to restore the old behavior.\n",
      "[08:59:56] WARNING: ..\\src\\learner.cc:541: \n",
      "Parameters: { n_estimator } might not be used.\n",
      "\n",
      "  This may not be accurate due to some parameters are only used in language bindings but\n",
      "  passed down to XGBoost core.  Or some parameters are not used but slip through this\n",
      "  verification. Please open an issue if you find above cases.\n",
      "\n",
      "\n",
      "[08:59:57] WARNING: ..\\src\\learner.cc:1061: Starting in XGBoost 1.3.0, the default evaluation metric used with the objective 'binary:logistic' was changed from 'error' to 'logloss'. Explicitly set eval_metric if you'd like to restore the old behavior.\n",
      "[09:00:22] WARNING: ..\\src\\learner.cc:541: \n",
      "Parameters: { n_estimator } might not be used.\n",
      "\n",
      "  This may not be accurate due to some parameters are only used in language bindings but\n",
      "  passed down to XGBoost core.  Or some parameters are not used but slip through this\n",
      "  verification. Please open an issue if you find above cases.\n",
      "\n",
      "\n",
      "[09:00:22] WARNING: ..\\src\\learner.cc:1061: Starting in XGBoost 1.3.0, the default evaluation metric used with the objective 'binary:logistic' was changed from 'error' to 'logloss'. Explicitly set eval_metric if you'd like to restore the old behavior.\n",
      "[09:00:48] WARNING: ..\\src\\learner.cc:541: \n",
      "Parameters: { n_estimator } might not be used.\n",
      "\n",
      "  This may not be accurate due to some parameters are only used in language bindings but\n",
      "  passed down to XGBoost core.  Or some parameters are not used but slip through this\n",
      "  verification. Please open an issue if you find above cases.\n",
      "\n",
      "\n",
      "[09:00:48] WARNING: ..\\src\\learner.cc:1061: Starting in XGBoost 1.3.0, the default evaluation metric used with the objective 'binary:logistic' was changed from 'error' to 'logloss'. Explicitly set eval_metric if you'd like to restore the old behavior.\n",
      "[09:01:13] WARNING: ..\\src\\learner.cc:541: \n",
      "Parameters: { n_estimator } might not be used.\n",
      "\n",
      "  This may not be accurate due to some parameters are only used in language bindings but\n",
      "  passed down to XGBoost core.  Or some parameters are not used but slip through this\n",
      "  verification. Please open an issue if you find above cases.\n",
      "\n",
      "\n",
      "[09:01:13] WARNING: ..\\src\\learner.cc:1061: Starting in XGBoost 1.3.0, the default evaluation metric used with the objective 'binary:logistic' was changed from 'error' to 'logloss'. Explicitly set eval_metric if you'd like to restore the old behavior.\n",
      "[09:01:36] WARNING: ..\\src\\learner.cc:541: \n",
      "Parameters: { n_estimator } might not be used.\n",
      "\n",
      "  This may not be accurate due to some parameters are only used in language bindings but\n",
      "  passed down to XGBoost core.  Or some parameters are not used but slip through this\n",
      "  verification. Please open an issue if you find above cases.\n",
      "\n",
      "\n",
      "[09:01:37] WARNING: ..\\src\\learner.cc:1061: Starting in XGBoost 1.3.0, the default evaluation metric used with the objective 'binary:logistic' was changed from 'error' to 'logloss'. Explicitly set eval_metric if you'd like to restore the old behavior.\n",
      "[09:02:02] WARNING: ..\\src\\learner.cc:541: \n",
      "Parameters: { n_estimator } might not be used.\n",
      "\n",
      "  This may not be accurate due to some parameters are only used in language bindings but\n",
      "  passed down to XGBoost core.  Or some parameters are not used but slip through this\n",
      "  verification. Please open an issue if you find above cases.\n",
      "\n",
      "\n",
      "[09:02:02] WARNING: ..\\src\\learner.cc:1061: Starting in XGBoost 1.3.0, the default evaluation metric used with the objective 'binary:logistic' was changed from 'error' to 'logloss'. Explicitly set eval_metric if you'd like to restore the old behavior.\n",
      "[09:02:28] WARNING: ..\\src\\learner.cc:541: \n",
      "Parameters: { n_estimator } might not be used.\n",
      "\n",
      "  This may not be accurate due to some parameters are only used in language bindings but\n",
      "  passed down to XGBoost core.  Or some parameters are not used but slip through this\n",
      "  verification. Please open an issue if you find above cases.\n",
      "\n",
      "\n",
      "[09:02:28] WARNING: ..\\src\\learner.cc:1061: Starting in XGBoost 1.3.0, the default evaluation metric used with the objective 'binary:logistic' was changed from 'error' to 'logloss'. Explicitly set eval_metric if you'd like to restore the old behavior.\n",
      "[09:02:52] WARNING: ..\\src\\learner.cc:541: \n",
      "Parameters: { n_estimator } might not be used.\n",
      "\n",
      "  This may not be accurate due to some parameters are only used in language bindings but\n",
      "  passed down to XGBoost core.  Or some parameters are not used but slip through this\n",
      "  verification. Please open an issue if you find above cases.\n",
      "\n",
      "\n",
      "[09:02:52] WARNING: ..\\src\\learner.cc:1061: Starting in XGBoost 1.3.0, the default evaluation metric used with the objective 'binary:logistic' was changed from 'error' to 'logloss'. Explicitly set eval_metric if you'd like to restore the old behavior.\n",
      "[09:03:16] WARNING: ..\\src\\learner.cc:541: \n",
      "Parameters: { n_estimator } might not be used.\n",
      "\n",
      "  This may not be accurate due to some parameters are only used in language bindings but\n",
      "  passed down to XGBoost core.  Or some parameters are not used but slip through this\n",
      "  verification. Please open an issue if you find above cases.\n",
      "\n",
      "\n"
     ]
    },
    {
     "name": "stdout",
     "output_type": "stream",
     "text": [
      "[09:03:17] WARNING: ..\\src\\learner.cc:1061: Starting in XGBoost 1.3.0, the default evaluation metric used with the objective 'binary:logistic' was changed from 'error' to 'logloss'. Explicitly set eval_metric if you'd like to restore the old behavior.\n",
      "[09:03:41] WARNING: ..\\src\\learner.cc:541: \n",
      "Parameters: { n_estimator } might not be used.\n",
      "\n",
      "  This may not be accurate due to some parameters are only used in language bindings but\n",
      "  passed down to XGBoost core.  Or some parameters are not used but slip through this\n",
      "  verification. Please open an issue if you find above cases.\n",
      "\n",
      "\n",
      "[09:03:42] WARNING: ..\\src\\learner.cc:1061: Starting in XGBoost 1.3.0, the default evaluation metric used with the objective 'binary:logistic' was changed from 'error' to 'logloss'. Explicitly set eval_metric if you'd like to restore the old behavior.\n",
      "[09:04:07] WARNING: ..\\src\\learner.cc:541: \n",
      "Parameters: { n_estimator } might not be used.\n",
      "\n",
      "  This may not be accurate due to some parameters are only used in language bindings but\n",
      "  passed down to XGBoost core.  Or some parameters are not used but slip through this\n",
      "  verification. Please open an issue if you find above cases.\n",
      "\n",
      "\n",
      "[09:04:07] WARNING: ..\\src\\learner.cc:1061: Starting in XGBoost 1.3.0, the default evaluation metric used with the objective 'binary:logistic' was changed from 'error' to 'logloss'. Explicitly set eval_metric if you'd like to restore the old behavior.\n",
      "[09:04:30] WARNING: ..\\src\\learner.cc:541: \n",
      "Parameters: { n_estimator } might not be used.\n",
      "\n",
      "  This may not be accurate due to some parameters are only used in language bindings but\n",
      "  passed down to XGBoost core.  Or some parameters are not used but slip through this\n",
      "  verification. Please open an issue if you find above cases.\n",
      "\n",
      "\n",
      "[09:04:31] WARNING: ..\\src\\learner.cc:1061: Starting in XGBoost 1.3.0, the default evaluation metric used with the objective 'binary:logistic' was changed from 'error' to 'logloss'. Explicitly set eval_metric if you'd like to restore the old behavior.\n",
      "[09:05:18] WARNING: ..\\src\\learner.cc:541: \n",
      "Parameters: { n_estimator } might not be used.\n",
      "\n",
      "  This may not be accurate due to some parameters are only used in language bindings but\n",
      "  passed down to XGBoost core.  Or some parameters are not used but slip through this\n",
      "  verification. Please open an issue if you find above cases.\n",
      "\n",
      "\n",
      "[09:05:18] WARNING: ..\\src\\learner.cc:1061: Starting in XGBoost 1.3.0, the default evaluation metric used with the objective 'binary:logistic' was changed from 'error' to 'logloss'. Explicitly set eval_metric if you'd like to restore the old behavior.\n",
      "[09:06:04] WARNING: ..\\src\\learner.cc:541: \n",
      "Parameters: { n_estimator } might not be used.\n",
      "\n",
      "  This may not be accurate due to some parameters are only used in language bindings but\n",
      "  passed down to XGBoost core.  Or some parameters are not used but slip through this\n",
      "  verification. Please open an issue if you find above cases.\n",
      "\n",
      "\n",
      "[09:06:04] WARNING: ..\\src\\learner.cc:1061: Starting in XGBoost 1.3.0, the default evaluation metric used with the objective 'binary:logistic' was changed from 'error' to 'logloss'. Explicitly set eval_metric if you'd like to restore the old behavior.\n",
      "[09:06:52] WARNING: ..\\src\\learner.cc:541: \n",
      "Parameters: { n_estimator } might not be used.\n",
      "\n",
      "  This may not be accurate due to some parameters are only used in language bindings but\n",
      "  passed down to XGBoost core.  Or some parameters are not used but slip through this\n",
      "  verification. Please open an issue if you find above cases.\n",
      "\n",
      "\n",
      "[09:06:52] WARNING: ..\\src\\learner.cc:1061: Starting in XGBoost 1.3.0, the default evaluation metric used with the objective 'binary:logistic' was changed from 'error' to 'logloss'. Explicitly set eval_metric if you'd like to restore the old behavior.\n",
      "[09:07:38] WARNING: ..\\src\\learner.cc:541: \n",
      "Parameters: { n_estimator } might not be used.\n",
      "\n",
      "  This may not be accurate due to some parameters are only used in language bindings but\n",
      "  passed down to XGBoost core.  Or some parameters are not used but slip through this\n",
      "  verification. Please open an issue if you find above cases.\n",
      "\n",
      "\n",
      "[09:07:38] WARNING: ..\\src\\learner.cc:1061: Starting in XGBoost 1.3.0, the default evaluation metric used with the objective 'binary:logistic' was changed from 'error' to 'logloss'. Explicitly set eval_metric if you'd like to restore the old behavior.\n",
      "[09:08:23] WARNING: ..\\src\\learner.cc:541: \n",
      "Parameters: { n_estimator } might not be used.\n",
      "\n",
      "  This may not be accurate due to some parameters are only used in language bindings but\n",
      "  passed down to XGBoost core.  Or some parameters are not used but slip through this\n",
      "  verification. Please open an issue if you find above cases.\n",
      "\n",
      "\n",
      "[09:08:23] WARNING: ..\\src\\learner.cc:1061: Starting in XGBoost 1.3.0, the default evaluation metric used with the objective 'binary:logistic' was changed from 'error' to 'logloss'. Explicitly set eval_metric if you'd like to restore the old behavior.\n",
      "[09:09:09] WARNING: ..\\src\\learner.cc:541: \n",
      "Parameters: { n_estimator } might not be used.\n",
      "\n",
      "  This may not be accurate due to some parameters are only used in language bindings but\n",
      "  passed down to XGBoost core.  Or some parameters are not used but slip through this\n",
      "  verification. Please open an issue if you find above cases.\n",
      "\n",
      "\n",
      "[09:09:10] WARNING: ..\\src\\learner.cc:1061: Starting in XGBoost 1.3.0, the default evaluation metric used with the objective 'binary:logistic' was changed from 'error' to 'logloss'. Explicitly set eval_metric if you'd like to restore the old behavior.\n",
      "[09:09:54] WARNING: ..\\src\\learner.cc:541: \n",
      "Parameters: { n_estimator } might not be used.\n",
      "\n",
      "  This may not be accurate due to some parameters are only used in language bindings but\n",
      "  passed down to XGBoost core.  Or some parameters are not used but slip through this\n",
      "  verification. Please open an issue if you find above cases.\n",
      "\n",
      "\n",
      "[09:09:54] WARNING: ..\\src\\learner.cc:1061: Starting in XGBoost 1.3.0, the default evaluation metric used with the objective 'binary:logistic' was changed from 'error' to 'logloss'. Explicitly set eval_metric if you'd like to restore the old behavior.\n",
      "[09:10:39] WARNING: ..\\src\\learner.cc:541: \n",
      "Parameters: { n_estimator } might not be used.\n",
      "\n",
      "  This may not be accurate due to some parameters are only used in language bindings but\n",
      "  passed down to XGBoost core.  Or some parameters are not used but slip through this\n",
      "  verification. Please open an issue if you find above cases.\n",
      "\n",
      "\n",
      "[09:10:39] WARNING: ..\\src\\learner.cc:1061: Starting in XGBoost 1.3.0, the default evaluation metric used with the objective 'binary:logistic' was changed from 'error' to 'logloss'. Explicitly set eval_metric if you'd like to restore the old behavior.\n",
      "[09:11:24] WARNING: ..\\src\\learner.cc:541: \n",
      "Parameters: { n_estimator } might not be used.\n",
      "\n",
      "  This may not be accurate due to some parameters are only used in language bindings but\n",
      "  passed down to XGBoost core.  Or some parameters are not used but slip through this\n",
      "  verification. Please open an issue if you find above cases.\n",
      "\n",
      "\n",
      "[09:11:25] WARNING: ..\\src\\learner.cc:1061: Starting in XGBoost 1.3.0, the default evaluation metric used with the objective 'binary:logistic' was changed from 'error' to 'logloss'. Explicitly set eval_metric if you'd like to restore the old behavior.\n",
      "[09:12:11] WARNING: ..\\src\\learner.cc:541: \n",
      "Parameters: { n_estimator } might not be used.\n",
      "\n",
      "  This may not be accurate due to some parameters are only used in language bindings but\n",
      "  passed down to XGBoost core.  Or some parameters are not used but slip through this\n",
      "  verification. Please open an issue if you find above cases.\n",
      "\n",
      "\n",
      "[09:12:11] WARNING: ..\\src\\learner.cc:1061: Starting in XGBoost 1.3.0, the default evaluation metric used with the objective 'binary:logistic' was changed from 'error' to 'logloss'. Explicitly set eval_metric if you'd like to restore the old behavior.\n",
      "[09:12:57] WARNING: ..\\src\\learner.cc:541: \n",
      "Parameters: { n_estimator } might not be used.\n",
      "\n",
      "  This may not be accurate due to some parameters are only used in language bindings but\n",
      "  passed down to XGBoost core.  Or some parameters are not used but slip through this\n",
      "  verification. Please open an issue if you find above cases.\n",
      "\n",
      "\n",
      "[09:12:57] WARNING: ..\\src\\learner.cc:1061: Starting in XGBoost 1.3.0, the default evaluation metric used with the objective 'binary:logistic' was changed from 'error' to 'logloss'. Explicitly set eval_metric if you'd like to restore the old behavior.\n"
     ]
    },
    {
     "name": "stdout",
     "output_type": "stream",
     "text": [
      "[09:13:43] WARNING: ..\\src\\learner.cc:541: \n",
      "Parameters: { n_estimator } might not be used.\n",
      "\n",
      "  This may not be accurate due to some parameters are only used in language bindings but\n",
      "  passed down to XGBoost core.  Or some parameters are not used but slip through this\n",
      "  verification. Please open an issue if you find above cases.\n",
      "\n",
      "\n",
      "[09:13:43] WARNING: ..\\src\\learner.cc:1061: Starting in XGBoost 1.3.0, the default evaluation metric used with the objective 'binary:logistic' was changed from 'error' to 'logloss'. Explicitly set eval_metric if you'd like to restore the old behavior.\n",
      "[09:14:27] WARNING: ..\\src\\learner.cc:541: \n",
      "Parameters: { n_estimator } might not be used.\n",
      "\n",
      "  This may not be accurate due to some parameters are only used in language bindings but\n",
      "  passed down to XGBoost core.  Or some parameters are not used but slip through this\n",
      "  verification. Please open an issue if you find above cases.\n",
      "\n",
      "\n",
      "[09:14:27] WARNING: ..\\src\\learner.cc:1061: Starting in XGBoost 1.3.0, the default evaluation metric used with the objective 'binary:logistic' was changed from 'error' to 'logloss'. Explicitly set eval_metric if you'd like to restore the old behavior.\n",
      "[09:15:12] WARNING: ..\\src\\learner.cc:541: \n",
      "Parameters: { n_estimator } might not be used.\n",
      "\n",
      "  This may not be accurate due to some parameters are only used in language bindings but\n",
      "  passed down to XGBoost core.  Or some parameters are not used but slip through this\n",
      "  verification. Please open an issue if you find above cases.\n",
      "\n",
      "\n",
      "[09:15:12] WARNING: ..\\src\\learner.cc:1061: Starting in XGBoost 1.3.0, the default evaluation metric used with the objective 'binary:logistic' was changed from 'error' to 'logloss'. Explicitly set eval_metric if you'd like to restore the old behavior.\n",
      "[09:16:00] WARNING: ..\\src\\learner.cc:541: \n",
      "Parameters: { n_estimator } might not be used.\n",
      "\n",
      "  This may not be accurate due to some parameters are only used in language bindings but\n",
      "  passed down to XGBoost core.  Or some parameters are not used but slip through this\n",
      "  verification. Please open an issue if you find above cases.\n",
      "\n",
      "\n",
      "[09:16:00] WARNING: ..\\src\\learner.cc:1061: Starting in XGBoost 1.3.0, the default evaluation metric used with the objective 'binary:logistic' was changed from 'error' to 'logloss'. Explicitly set eval_metric if you'd like to restore the old behavior.\n",
      "[09:17:09] WARNING: ..\\src\\learner.cc:541: \n",
      "Parameters: { n_estimator } might not be used.\n",
      "\n",
      "  This may not be accurate due to some parameters are only used in language bindings but\n",
      "  passed down to XGBoost core.  Or some parameters are not used but slip through this\n",
      "  verification. Please open an issue if you find above cases.\n",
      "\n",
      "\n",
      "[09:17:09] WARNING: ..\\src\\learner.cc:1061: Starting in XGBoost 1.3.0, the default evaluation metric used with the objective 'binary:logistic' was changed from 'error' to 'logloss'. Explicitly set eval_metric if you'd like to restore the old behavior.\n",
      "[09:18:17] WARNING: ..\\src\\learner.cc:541: \n",
      "Parameters: { n_estimator } might not be used.\n",
      "\n",
      "  This may not be accurate due to some parameters are only used in language bindings but\n",
      "  passed down to XGBoost core.  Or some parameters are not used but slip through this\n",
      "  verification. Please open an issue if you find above cases.\n",
      "\n",
      "\n",
      "[09:18:18] WARNING: ..\\src\\learner.cc:1061: Starting in XGBoost 1.3.0, the default evaluation metric used with the objective 'binary:logistic' was changed from 'error' to 'logloss'. Explicitly set eval_metric if you'd like to restore the old behavior.\n",
      "[09:19:26] WARNING: ..\\src\\learner.cc:541: \n",
      "Parameters: { n_estimator } might not be used.\n",
      "\n",
      "  This may not be accurate due to some parameters are only used in language bindings but\n",
      "  passed down to XGBoost core.  Or some parameters are not used but slip through this\n",
      "  verification. Please open an issue if you find above cases.\n",
      "\n",
      "\n",
      "[09:19:27] WARNING: ..\\src\\learner.cc:1061: Starting in XGBoost 1.3.0, the default evaluation metric used with the objective 'binary:logistic' was changed from 'error' to 'logloss'. Explicitly set eval_metric if you'd like to restore the old behavior.\n",
      "[09:20:34] WARNING: ..\\src\\learner.cc:541: \n",
      "Parameters: { n_estimator } might not be used.\n",
      "\n",
      "  This may not be accurate due to some parameters are only used in language bindings but\n",
      "  passed down to XGBoost core.  Or some parameters are not used but slip through this\n",
      "  verification. Please open an issue if you find above cases.\n",
      "\n",
      "\n",
      "[09:20:34] WARNING: ..\\src\\learner.cc:1061: Starting in XGBoost 1.3.0, the default evaluation metric used with the objective 'binary:logistic' was changed from 'error' to 'logloss'. Explicitly set eval_metric if you'd like to restore the old behavior.\n",
      "[09:21:42] WARNING: ..\\src\\learner.cc:541: \n",
      "Parameters: { n_estimator } might not be used.\n",
      "\n",
      "  This may not be accurate due to some parameters are only used in language bindings but\n",
      "  passed down to XGBoost core.  Or some parameters are not used but slip through this\n",
      "  verification. Please open an issue if you find above cases.\n",
      "\n",
      "\n",
      "[09:21:43] WARNING: ..\\src\\learner.cc:1061: Starting in XGBoost 1.3.0, the default evaluation metric used with the objective 'binary:logistic' was changed from 'error' to 'logloss'. Explicitly set eval_metric if you'd like to restore the old behavior.\n",
      "[09:22:51] WARNING: ..\\src\\learner.cc:541: \n",
      "Parameters: { n_estimator } might not be used.\n",
      "\n",
      "  This may not be accurate due to some parameters are only used in language bindings but\n",
      "  passed down to XGBoost core.  Or some parameters are not used but slip through this\n",
      "  verification. Please open an issue if you find above cases.\n",
      "\n",
      "\n",
      "[09:22:52] WARNING: ..\\src\\learner.cc:1061: Starting in XGBoost 1.3.0, the default evaluation metric used with the objective 'binary:logistic' was changed from 'error' to 'logloss'. Explicitly set eval_metric if you'd like to restore the old behavior.\n",
      "[09:24:02] WARNING: ..\\src\\learner.cc:541: \n",
      "Parameters: { n_estimator } might not be used.\n",
      "\n",
      "  This may not be accurate due to some parameters are only used in language bindings but\n",
      "  passed down to XGBoost core.  Or some parameters are not used but slip through this\n",
      "  verification. Please open an issue if you find above cases.\n",
      "\n",
      "\n",
      "[09:24:03] WARNING: ..\\src\\learner.cc:1061: Starting in XGBoost 1.3.0, the default evaluation metric used with the objective 'binary:logistic' was changed from 'error' to 'logloss'. Explicitly set eval_metric if you'd like to restore the old behavior.\n",
      "[09:25:12] WARNING: ..\\src\\learner.cc:541: \n",
      "Parameters: { n_estimator } might not be used.\n",
      "\n",
      "  This may not be accurate due to some parameters are only used in language bindings but\n",
      "  passed down to XGBoost core.  Or some parameters are not used but slip through this\n",
      "  verification. Please open an issue if you find above cases.\n",
      "\n",
      "\n",
      "[09:25:13] WARNING: ..\\src\\learner.cc:1061: Starting in XGBoost 1.3.0, the default evaluation metric used with the objective 'binary:logistic' was changed from 'error' to 'logloss'. Explicitly set eval_metric if you'd like to restore the old behavior.\n",
      "[09:26:23] WARNING: ..\\src\\learner.cc:541: \n",
      "Parameters: { n_estimator } might not be used.\n",
      "\n",
      "  This may not be accurate due to some parameters are only used in language bindings but\n",
      "  passed down to XGBoost core.  Or some parameters are not used but slip through this\n",
      "  verification. Please open an issue if you find above cases.\n",
      "\n",
      "\n",
      "[09:26:24] WARNING: ..\\src\\learner.cc:1061: Starting in XGBoost 1.3.0, the default evaluation metric used with the objective 'binary:logistic' was changed from 'error' to 'logloss'. Explicitly set eval_metric if you'd like to restore the old behavior.\n",
      "[09:27:33] WARNING: ..\\src\\learner.cc:541: \n",
      "Parameters: { n_estimator } might not be used.\n",
      "\n",
      "  This may not be accurate due to some parameters are only used in language bindings but\n",
      "  passed down to XGBoost core.  Or some parameters are not used but slip through this\n",
      "  verification. Please open an issue if you find above cases.\n",
      "\n",
      "\n",
      "[09:27:34] WARNING: ..\\src\\learner.cc:1061: Starting in XGBoost 1.3.0, the default evaluation metric used with the objective 'binary:logistic' was changed from 'error' to 'logloss'. Explicitly set eval_metric if you'd like to restore the old behavior.\n",
      "[09:28:42] WARNING: ..\\src\\learner.cc:541: \n",
      "Parameters: { n_estimator } might not be used.\n",
      "\n",
      "  This may not be accurate due to some parameters are only used in language bindings but\n",
      "  passed down to XGBoost core.  Or some parameters are not used but slip through this\n",
      "  verification. Please open an issue if you find above cases.\n",
      "\n",
      "\n"
     ]
    },
    {
     "name": "stdout",
     "output_type": "stream",
     "text": [
      "[09:28:43] WARNING: ..\\src\\learner.cc:1061: Starting in XGBoost 1.3.0, the default evaluation metric used with the objective 'binary:logistic' was changed from 'error' to 'logloss'. Explicitly set eval_metric if you'd like to restore the old behavior.\n",
      "[09:29:51] WARNING: ..\\src\\learner.cc:541: \n",
      "Parameters: { n_estimator } might not be used.\n",
      "\n",
      "  This may not be accurate due to some parameters are only used in language bindings but\n",
      "  passed down to XGBoost core.  Or some parameters are not used but slip through this\n",
      "  verification. Please open an issue if you find above cases.\n",
      "\n",
      "\n",
      "[09:29:51] WARNING: ..\\src\\learner.cc:1061: Starting in XGBoost 1.3.0, the default evaluation metric used with the objective 'binary:logistic' was changed from 'error' to 'logloss'. Explicitly set eval_metric if you'd like to restore the old behavior.\n",
      "[09:31:00] WARNING: ..\\src\\learner.cc:541: \n",
      "Parameters: { n_estimator } might not be used.\n",
      "\n",
      "  This may not be accurate due to some parameters are only used in language bindings but\n",
      "  passed down to XGBoost core.  Or some parameters are not used but slip through this\n",
      "  verification. Please open an issue if you find above cases.\n",
      "\n",
      "\n",
      "[09:31:01] WARNING: ..\\src\\learner.cc:1061: Starting in XGBoost 1.3.0, the default evaluation metric used with the objective 'binary:logistic' was changed from 'error' to 'logloss'. Explicitly set eval_metric if you'd like to restore the old behavior.\n",
      "[09:32:10] WARNING: ..\\src\\learner.cc:541: \n",
      "Parameters: { n_estimator } might not be used.\n",
      "\n",
      "  This may not be accurate due to some parameters are only used in language bindings but\n",
      "  passed down to XGBoost core.  Or some parameters are not used but slip through this\n",
      "  verification. Please open an issue if you find above cases.\n",
      "\n",
      "\n",
      "[09:32:11] WARNING: ..\\src\\learner.cc:1061: Starting in XGBoost 1.3.0, the default evaluation metric used with the objective 'binary:logistic' was changed from 'error' to 'logloss'. Explicitly set eval_metric if you'd like to restore the old behavior.\n",
      "[09:33:23] WARNING: ..\\src\\learner.cc:541: \n",
      "Parameters: { n_estimator } might not be used.\n",
      "\n",
      "  This may not be accurate due to some parameters are only used in language bindings but\n",
      "  passed down to XGBoost core.  Or some parameters are not used but slip through this\n",
      "  verification. Please open an issue if you find above cases.\n",
      "\n",
      "\n",
      "[09:33:23] WARNING: ..\\src\\learner.cc:1061: Starting in XGBoost 1.3.0, the default evaluation metric used with the objective 'binary:logistic' was changed from 'error' to 'logloss'. Explicitly set eval_metric if you'd like to restore the old behavior.\n",
      "[09:33:47] WARNING: ..\\src\\learner.cc:541: \n",
      "Parameters: { n_estimator } might not be used.\n",
      "\n",
      "  This may not be accurate due to some parameters are only used in language bindings but\n",
      "  passed down to XGBoost core.  Or some parameters are not used but slip through this\n",
      "  verification. Please open an issue if you find above cases.\n",
      "\n",
      "\n",
      "[09:33:48] WARNING: ..\\src\\learner.cc:1061: Starting in XGBoost 1.3.0, the default evaluation metric used with the objective 'binary:logistic' was changed from 'error' to 'logloss'. Explicitly set eval_metric if you'd like to restore the old behavior.\n",
      "[09:34:14] WARNING: ..\\src\\learner.cc:541: \n",
      "Parameters: { n_estimator } might not be used.\n",
      "\n",
      "  This may not be accurate due to some parameters are only used in language bindings but\n",
      "  passed down to XGBoost core.  Or some parameters are not used but slip through this\n",
      "  verification. Please open an issue if you find above cases.\n",
      "\n",
      "\n",
      "[09:34:14] WARNING: ..\\src\\learner.cc:1061: Starting in XGBoost 1.3.0, the default evaluation metric used with the objective 'binary:logistic' was changed from 'error' to 'logloss'. Explicitly set eval_metric if you'd like to restore the old behavior.\n",
      "[09:34:38] WARNING: ..\\src\\learner.cc:541: \n",
      "Parameters: { n_estimator } might not be used.\n",
      "\n",
      "  This may not be accurate due to some parameters are only used in language bindings but\n",
      "  passed down to XGBoost core.  Or some parameters are not used but slip through this\n",
      "  verification. Please open an issue if you find above cases.\n",
      "\n",
      "\n",
      "[09:34:39] WARNING: ..\\src\\learner.cc:1061: Starting in XGBoost 1.3.0, the default evaluation metric used with the objective 'binary:logistic' was changed from 'error' to 'logloss'. Explicitly set eval_metric if you'd like to restore the old behavior.\n",
      "[09:35:04] WARNING: ..\\src\\learner.cc:541: \n",
      "Parameters: { n_estimator } might not be used.\n",
      "\n",
      "  This may not be accurate due to some parameters are only used in language bindings but\n",
      "  passed down to XGBoost core.  Or some parameters are not used but slip through this\n",
      "  verification. Please open an issue if you find above cases.\n",
      "\n",
      "\n",
      "[09:35:04] WARNING: ..\\src\\learner.cc:1061: Starting in XGBoost 1.3.0, the default evaluation metric used with the objective 'binary:logistic' was changed from 'error' to 'logloss'. Explicitly set eval_metric if you'd like to restore the old behavior.\n",
      "[09:35:29] WARNING: ..\\src\\learner.cc:541: \n",
      "Parameters: { n_estimator } might not be used.\n",
      "\n",
      "  This may not be accurate due to some parameters are only used in language bindings but\n",
      "  passed down to XGBoost core.  Or some parameters are not used but slip through this\n",
      "  verification. Please open an issue if you find above cases.\n",
      "\n",
      "\n",
      "[09:35:29] WARNING: ..\\src\\learner.cc:1061: Starting in XGBoost 1.3.0, the default evaluation metric used with the objective 'binary:logistic' was changed from 'error' to 'logloss'. Explicitly set eval_metric if you'd like to restore the old behavior.\n",
      "[09:35:54] WARNING: ..\\src\\learner.cc:541: \n",
      "Parameters: { n_estimator } might not be used.\n",
      "\n",
      "  This may not be accurate due to some parameters are only used in language bindings but\n",
      "  passed down to XGBoost core.  Or some parameters are not used but slip through this\n",
      "  verification. Please open an issue if you find above cases.\n",
      "\n",
      "\n",
      "[09:35:54] WARNING: ..\\src\\learner.cc:1061: Starting in XGBoost 1.3.0, the default evaluation metric used with the objective 'binary:logistic' was changed from 'error' to 'logloss'. Explicitly set eval_metric if you'd like to restore the old behavior.\n",
      "[09:36:20] WARNING: ..\\src\\learner.cc:541: \n",
      "Parameters: { n_estimator } might not be used.\n",
      "\n",
      "  This may not be accurate due to some parameters are only used in language bindings but\n",
      "  passed down to XGBoost core.  Or some parameters are not used but slip through this\n",
      "  verification. Please open an issue if you find above cases.\n",
      "\n",
      "\n",
      "[09:36:20] WARNING: ..\\src\\learner.cc:1061: Starting in XGBoost 1.3.0, the default evaluation metric used with the objective 'binary:logistic' was changed from 'error' to 'logloss'. Explicitly set eval_metric if you'd like to restore the old behavior.\n",
      "[09:36:45] WARNING: ..\\src\\learner.cc:541: \n",
      "Parameters: { n_estimator } might not be used.\n",
      "\n",
      "  This may not be accurate due to some parameters are only used in language bindings but\n",
      "  passed down to XGBoost core.  Or some parameters are not used but slip through this\n",
      "  verification. Please open an issue if you find above cases.\n",
      "\n",
      "\n",
      "[09:36:45] WARNING: ..\\src\\learner.cc:1061: Starting in XGBoost 1.3.0, the default evaluation metric used with the objective 'binary:logistic' was changed from 'error' to 'logloss'. Explicitly set eval_metric if you'd like to restore the old behavior.\n",
      "[09:37:10] WARNING: ..\\src\\learner.cc:541: \n",
      "Parameters: { n_estimator } might not be used.\n",
      "\n",
      "  This may not be accurate due to some parameters are only used in language bindings but\n",
      "  passed down to XGBoost core.  Or some parameters are not used but slip through this\n",
      "  verification. Please open an issue if you find above cases.\n",
      "\n",
      "\n",
      "[09:37:10] WARNING: ..\\src\\learner.cc:1061: Starting in XGBoost 1.3.0, the default evaluation metric used with the objective 'binary:logistic' was changed from 'error' to 'logloss'. Explicitly set eval_metric if you'd like to restore the old behavior.\n",
      "[09:37:34] WARNING: ..\\src\\learner.cc:541: \n",
      "Parameters: { n_estimator } might not be used.\n",
      "\n",
      "  This may not be accurate due to some parameters are only used in language bindings but\n",
      "  passed down to XGBoost core.  Or some parameters are not used but slip through this\n",
      "  verification. Please open an issue if you find above cases.\n",
      "\n",
      "\n",
      "[09:37:35] WARNING: ..\\src\\learner.cc:1061: Starting in XGBoost 1.3.0, the default evaluation metric used with the objective 'binary:logistic' was changed from 'error' to 'logloss'. Explicitly set eval_metric if you'd like to restore the old behavior.\n"
     ]
    },
    {
     "name": "stdout",
     "output_type": "stream",
     "text": [
      "[09:38:00] WARNING: ..\\src\\learner.cc:541: \n",
      "Parameters: { n_estimator } might not be used.\n",
      "\n",
      "  This may not be accurate due to some parameters are only used in language bindings but\n",
      "  passed down to XGBoost core.  Or some parameters are not used but slip through this\n",
      "  verification. Please open an issue if you find above cases.\n",
      "\n",
      "\n",
      "[09:38:01] WARNING: ..\\src\\learner.cc:1061: Starting in XGBoost 1.3.0, the default evaluation metric used with the objective 'binary:logistic' was changed from 'error' to 'logloss'. Explicitly set eval_metric if you'd like to restore the old behavior.\n",
      "[09:38:26] WARNING: ..\\src\\learner.cc:541: \n",
      "Parameters: { n_estimator } might not be used.\n",
      "\n",
      "  This may not be accurate due to some parameters are only used in language bindings but\n",
      "  passed down to XGBoost core.  Or some parameters are not used but slip through this\n",
      "  verification. Please open an issue if you find above cases.\n",
      "\n",
      "\n",
      "[09:38:26] WARNING: ..\\src\\learner.cc:1061: Starting in XGBoost 1.3.0, the default evaluation metric used with the objective 'binary:logistic' was changed from 'error' to 'logloss'. Explicitly set eval_metric if you'd like to restore the old behavior.\n",
      "[09:38:49] WARNING: ..\\src\\learner.cc:541: \n",
      "Parameters: { n_estimator } might not be used.\n",
      "\n",
      "  This may not be accurate due to some parameters are only used in language bindings but\n",
      "  passed down to XGBoost core.  Or some parameters are not used but slip through this\n",
      "  verification. Please open an issue if you find above cases.\n",
      "\n",
      "\n",
      "[09:38:50] WARNING: ..\\src\\learner.cc:1061: Starting in XGBoost 1.3.0, the default evaluation metric used with the objective 'binary:logistic' was changed from 'error' to 'logloss'. Explicitly set eval_metric if you'd like to restore the old behavior.\n",
      "[09:39:14] WARNING: ..\\src\\learner.cc:541: \n",
      "Parameters: { n_estimator } might not be used.\n",
      "\n",
      "  This may not be accurate due to some parameters are only used in language bindings but\n",
      "  passed down to XGBoost core.  Or some parameters are not used but slip through this\n",
      "  verification. Please open an issue if you find above cases.\n",
      "\n",
      "\n",
      "[09:39:14] WARNING: ..\\src\\learner.cc:1061: Starting in XGBoost 1.3.0, the default evaluation metric used with the objective 'binary:logistic' was changed from 'error' to 'logloss'. Explicitly set eval_metric if you'd like to restore the old behavior.\n",
      "[09:39:37] WARNING: ..\\src\\learner.cc:541: \n",
      "Parameters: { n_estimator } might not be used.\n",
      "\n",
      "  This may not be accurate due to some parameters are only used in language bindings but\n",
      "  passed down to XGBoost core.  Or some parameters are not used but slip through this\n",
      "  verification. Please open an issue if you find above cases.\n",
      "\n",
      "\n",
      "[09:39:38] WARNING: ..\\src\\learner.cc:1061: Starting in XGBoost 1.3.0, the default evaluation metric used with the objective 'binary:logistic' was changed from 'error' to 'logloss'. Explicitly set eval_metric if you'd like to restore the old behavior.\n",
      "[09:40:24] WARNING: ..\\src\\learner.cc:541: \n",
      "Parameters: { n_estimator } might not be used.\n",
      "\n",
      "  This may not be accurate due to some parameters are only used in language bindings but\n",
      "  passed down to XGBoost core.  Or some parameters are not used but slip through this\n",
      "  verification. Please open an issue if you find above cases.\n",
      "\n",
      "\n",
      "[09:40:25] WARNING: ..\\src\\learner.cc:1061: Starting in XGBoost 1.3.0, the default evaluation metric used with the objective 'binary:logistic' was changed from 'error' to 'logloss'. Explicitly set eval_metric if you'd like to restore the old behavior.\n",
      "[09:41:10] WARNING: ..\\src\\learner.cc:541: \n",
      "Parameters: { n_estimator } might not be used.\n",
      "\n",
      "  This may not be accurate due to some parameters are only used in language bindings but\n",
      "  passed down to XGBoost core.  Or some parameters are not used but slip through this\n",
      "  verification. Please open an issue if you find above cases.\n",
      "\n",
      "\n",
      "[09:41:10] WARNING: ..\\src\\learner.cc:1061: Starting in XGBoost 1.3.0, the default evaluation metric used with the objective 'binary:logistic' was changed from 'error' to 'logloss'. Explicitly set eval_metric if you'd like to restore the old behavior.\n",
      "[09:41:57] WARNING: ..\\src\\learner.cc:541: \n",
      "Parameters: { n_estimator } might not be used.\n",
      "\n",
      "  This may not be accurate due to some parameters are only used in language bindings but\n",
      "  passed down to XGBoost core.  Or some parameters are not used but slip through this\n",
      "  verification. Please open an issue if you find above cases.\n",
      "\n",
      "\n",
      "[09:41:57] WARNING: ..\\src\\learner.cc:1061: Starting in XGBoost 1.3.0, the default evaluation metric used with the objective 'binary:logistic' was changed from 'error' to 'logloss'. Explicitly set eval_metric if you'd like to restore the old behavior.\n",
      "[09:42:44] WARNING: ..\\src\\learner.cc:541: \n",
      "Parameters: { n_estimator } might not be used.\n",
      "\n",
      "  This may not be accurate due to some parameters are only used in language bindings but\n",
      "  passed down to XGBoost core.  Or some parameters are not used but slip through this\n",
      "  verification. Please open an issue if you find above cases.\n",
      "\n",
      "\n",
      "[09:42:44] WARNING: ..\\src\\learner.cc:1061: Starting in XGBoost 1.3.0, the default evaluation metric used with the objective 'binary:logistic' was changed from 'error' to 'logloss'. Explicitly set eval_metric if you'd like to restore the old behavior.\n",
      "[09:43:30] WARNING: ..\\src\\learner.cc:541: \n",
      "Parameters: { n_estimator } might not be used.\n",
      "\n",
      "  This may not be accurate due to some parameters are only used in language bindings but\n",
      "  passed down to XGBoost core.  Or some parameters are not used but slip through this\n",
      "  verification. Please open an issue if you find above cases.\n",
      "\n",
      "\n",
      "[09:43:31] WARNING: ..\\src\\learner.cc:1061: Starting in XGBoost 1.3.0, the default evaluation metric used with the objective 'binary:logistic' was changed from 'error' to 'logloss'. Explicitly set eval_metric if you'd like to restore the old behavior.\n",
      "[09:44:18] WARNING: ..\\src\\learner.cc:541: \n",
      "Parameters: { n_estimator } might not be used.\n",
      "\n",
      "  This may not be accurate due to some parameters are only used in language bindings but\n",
      "  passed down to XGBoost core.  Or some parameters are not used but slip through this\n",
      "  verification. Please open an issue if you find above cases.\n",
      "\n",
      "\n",
      "[09:44:18] WARNING: ..\\src\\learner.cc:1061: Starting in XGBoost 1.3.0, the default evaluation metric used with the objective 'binary:logistic' was changed from 'error' to 'logloss'. Explicitly set eval_metric if you'd like to restore the old behavior.\n",
      "[09:45:05] WARNING: ..\\src\\learner.cc:541: \n",
      "Parameters: { n_estimator } might not be used.\n",
      "\n",
      "  This may not be accurate due to some parameters are only used in language bindings but\n",
      "  passed down to XGBoost core.  Or some parameters are not used but slip through this\n",
      "  verification. Please open an issue if you find above cases.\n",
      "\n",
      "\n",
      "[09:45:06] WARNING: ..\\src\\learner.cc:1061: Starting in XGBoost 1.3.0, the default evaluation metric used with the objective 'binary:logistic' was changed from 'error' to 'logloss'. Explicitly set eval_metric if you'd like to restore the old behavior.\n",
      "[09:45:52] WARNING: ..\\src\\learner.cc:541: \n",
      "Parameters: { n_estimator } might not be used.\n",
      "\n",
      "  This may not be accurate due to some parameters are only used in language bindings but\n",
      "  passed down to XGBoost core.  Or some parameters are not used but slip through this\n",
      "  verification. Please open an issue if you find above cases.\n",
      "\n",
      "\n",
      "[09:45:52] WARNING: ..\\src\\learner.cc:1061: Starting in XGBoost 1.3.0, the default evaluation metric used with the objective 'binary:logistic' was changed from 'error' to 'logloss'. Explicitly set eval_metric if you'd like to restore the old behavior.\n",
      "[09:46:38] WARNING: ..\\src\\learner.cc:541: \n",
      "Parameters: { n_estimator } might not be used.\n",
      "\n",
      "  This may not be accurate due to some parameters are only used in language bindings but\n",
      "  passed down to XGBoost core.  Or some parameters are not used but slip through this\n",
      "  verification. Please open an issue if you find above cases.\n",
      "\n",
      "\n",
      "[09:46:39] WARNING: ..\\src\\learner.cc:1061: Starting in XGBoost 1.3.0, the default evaluation metric used with the objective 'binary:logistic' was changed from 'error' to 'logloss'. Explicitly set eval_metric if you'd like to restore the old behavior.\n",
      "[09:47:25] WARNING: ..\\src\\learner.cc:541: \n",
      "Parameters: { n_estimator } might not be used.\n",
      "\n",
      "  This may not be accurate due to some parameters are only used in language bindings but\n",
      "  passed down to XGBoost core.  Or some parameters are not used but slip through this\n",
      "  verification. Please open an issue if you find above cases.\n",
      "\n",
      "\n"
     ]
    },
    {
     "name": "stdout",
     "output_type": "stream",
     "text": [
      "[09:47:25] WARNING: ..\\src\\learner.cc:1061: Starting in XGBoost 1.3.0, the default evaluation metric used with the objective 'binary:logistic' was changed from 'error' to 'logloss'. Explicitly set eval_metric if you'd like to restore the old behavior.\n",
      "[09:48:11] WARNING: ..\\src\\learner.cc:541: \n",
      "Parameters: { n_estimator } might not be used.\n",
      "\n",
      "  This may not be accurate due to some parameters are only used in language bindings but\n",
      "  passed down to XGBoost core.  Or some parameters are not used but slip through this\n",
      "  verification. Please open an issue if you find above cases.\n",
      "\n",
      "\n",
      "[09:48:11] WARNING: ..\\src\\learner.cc:1061: Starting in XGBoost 1.3.0, the default evaluation metric used with the objective 'binary:logistic' was changed from 'error' to 'logloss'. Explicitly set eval_metric if you'd like to restore the old behavior.\n",
      "[09:48:57] WARNING: ..\\src\\learner.cc:541: \n",
      "Parameters: { n_estimator } might not be used.\n",
      "\n",
      "  This may not be accurate due to some parameters are only used in language bindings but\n",
      "  passed down to XGBoost core.  Or some parameters are not used but slip through this\n",
      "  verification. Please open an issue if you find above cases.\n",
      "\n",
      "\n",
      "[09:48:57] WARNING: ..\\src\\learner.cc:1061: Starting in XGBoost 1.3.0, the default evaluation metric used with the objective 'binary:logistic' was changed from 'error' to 'logloss'. Explicitly set eval_metric if you'd like to restore the old behavior.\n",
      "[09:49:44] WARNING: ..\\src\\learner.cc:541: \n",
      "Parameters: { n_estimator } might not be used.\n",
      "\n",
      "  This may not be accurate due to some parameters are only used in language bindings but\n",
      "  passed down to XGBoost core.  Or some parameters are not used but slip through this\n",
      "  verification. Please open an issue if you find above cases.\n",
      "\n",
      "\n",
      "[09:49:44] WARNING: ..\\src\\learner.cc:1061: Starting in XGBoost 1.3.0, the default evaluation metric used with the objective 'binary:logistic' was changed from 'error' to 'logloss'. Explicitly set eval_metric if you'd like to restore the old behavior.\n",
      "[09:50:31] WARNING: ..\\src\\learner.cc:541: \n",
      "Parameters: { n_estimator } might not be used.\n",
      "\n",
      "  This may not be accurate due to some parameters are only used in language bindings but\n",
      "  passed down to XGBoost core.  Or some parameters are not used but slip through this\n",
      "  verification. Please open an issue if you find above cases.\n",
      "\n",
      "\n",
      "[09:50:31] WARNING: ..\\src\\learner.cc:1061: Starting in XGBoost 1.3.0, the default evaluation metric used with the objective 'binary:logistic' was changed from 'error' to 'logloss'. Explicitly set eval_metric if you'd like to restore the old behavior.\n",
      "[09:51:17] WARNING: ..\\src\\learner.cc:541: \n",
      "Parameters: { n_estimator } might not be used.\n",
      "\n",
      "  This may not be accurate due to some parameters are only used in language bindings but\n",
      "  passed down to XGBoost core.  Or some parameters are not used but slip through this\n",
      "  verification. Please open an issue if you find above cases.\n",
      "\n",
      "\n",
      "[09:51:18] WARNING: ..\\src\\learner.cc:1061: Starting in XGBoost 1.3.0, the default evaluation metric used with the objective 'binary:logistic' was changed from 'error' to 'logloss'. Explicitly set eval_metric if you'd like to restore the old behavior.\n",
      "[09:52:27] WARNING: ..\\src\\learner.cc:541: \n",
      "Parameters: { n_estimator } might not be used.\n",
      "\n",
      "  This may not be accurate due to some parameters are only used in language bindings but\n",
      "  passed down to XGBoost core.  Or some parameters are not used but slip through this\n",
      "  verification. Please open an issue if you find above cases.\n",
      "\n",
      "\n",
      "[09:52:28] WARNING: ..\\src\\learner.cc:1061: Starting in XGBoost 1.3.0, the default evaluation metric used with the objective 'binary:logistic' was changed from 'error' to 'logloss'. Explicitly set eval_metric if you'd like to restore the old behavior.\n",
      "[09:53:39] WARNING: ..\\src\\learner.cc:541: \n",
      "Parameters: { n_estimator } might not be used.\n",
      "\n",
      "  This may not be accurate due to some parameters are only used in language bindings but\n",
      "  passed down to XGBoost core.  Or some parameters are not used but slip through this\n",
      "  verification. Please open an issue if you find above cases.\n",
      "\n",
      "\n",
      "[09:53:39] WARNING: ..\\src\\learner.cc:1061: Starting in XGBoost 1.3.0, the default evaluation metric used with the objective 'binary:logistic' was changed from 'error' to 'logloss'. Explicitly set eval_metric if you'd like to restore the old behavior.\n",
      "[09:54:51] WARNING: ..\\src\\learner.cc:541: \n",
      "Parameters: { n_estimator } might not be used.\n",
      "\n",
      "  This may not be accurate due to some parameters are only used in language bindings but\n",
      "  passed down to XGBoost core.  Or some parameters are not used but slip through this\n",
      "  verification. Please open an issue if you find above cases.\n",
      "\n",
      "\n",
      "[09:54:51] WARNING: ..\\src\\learner.cc:1061: Starting in XGBoost 1.3.0, the default evaluation metric used with the objective 'binary:logistic' was changed from 'error' to 'logloss'. Explicitly set eval_metric if you'd like to restore the old behavior.\n",
      "[09:56:04] WARNING: ..\\src\\learner.cc:541: \n",
      "Parameters: { n_estimator } might not be used.\n",
      "\n",
      "  This may not be accurate due to some parameters are only used in language bindings but\n",
      "  passed down to XGBoost core.  Or some parameters are not used but slip through this\n",
      "  verification. Please open an issue if you find above cases.\n",
      "\n",
      "\n",
      "[09:56:05] WARNING: ..\\src\\learner.cc:1061: Starting in XGBoost 1.3.0, the default evaluation metric used with the objective 'binary:logistic' was changed from 'error' to 'logloss'. Explicitly set eval_metric if you'd like to restore the old behavior.\n",
      "[09:57:17] WARNING: ..\\src\\learner.cc:541: \n",
      "Parameters: { n_estimator } might not be used.\n",
      "\n",
      "  This may not be accurate due to some parameters are only used in language bindings but\n",
      "  passed down to XGBoost core.  Or some parameters are not used but slip through this\n",
      "  verification. Please open an issue if you find above cases.\n",
      "\n",
      "\n",
      "[09:57:17] WARNING: ..\\src\\learner.cc:1061: Starting in XGBoost 1.3.0, the default evaluation metric used with the objective 'binary:logistic' was changed from 'error' to 'logloss'. Explicitly set eval_metric if you'd like to restore the old behavior.\n",
      "[09:58:29] WARNING: ..\\src\\learner.cc:541: \n",
      "Parameters: { n_estimator } might not be used.\n",
      "\n",
      "  This may not be accurate due to some parameters are only used in language bindings but\n",
      "  passed down to XGBoost core.  Or some parameters are not used but slip through this\n",
      "  verification. Please open an issue if you find above cases.\n",
      "\n",
      "\n",
      "[09:58:29] WARNING: ..\\src\\learner.cc:1061: Starting in XGBoost 1.3.0, the default evaluation metric used with the objective 'binary:logistic' was changed from 'error' to 'logloss'. Explicitly set eval_metric if you'd like to restore the old behavior.\n",
      "[09:59:40] WARNING: ..\\src\\learner.cc:541: \n",
      "Parameters: { n_estimator } might not be used.\n",
      "\n",
      "  This may not be accurate due to some parameters are only used in language bindings but\n",
      "  passed down to XGBoost core.  Or some parameters are not used but slip through this\n",
      "  verification. Please open an issue if you find above cases.\n",
      "\n",
      "\n",
      "[09:59:41] WARNING: ..\\src\\learner.cc:1061: Starting in XGBoost 1.3.0, the default evaluation metric used with the objective 'binary:logistic' was changed from 'error' to 'logloss'. Explicitly set eval_metric if you'd like to restore the old behavior.\n",
      "[10:00:53] WARNING: ..\\src\\learner.cc:541: \n",
      "Parameters: { n_estimator } might not be used.\n",
      "\n",
      "  This may not be accurate due to some parameters are only used in language bindings but\n",
      "  passed down to XGBoost core.  Or some parameters are not used but slip through this\n",
      "  verification. Please open an issue if you find above cases.\n",
      "\n",
      "\n",
      "[10:00:54] WARNING: ..\\src\\learner.cc:1061: Starting in XGBoost 1.3.0, the default evaluation metric used with the objective 'binary:logistic' was changed from 'error' to 'logloss'. Explicitly set eval_metric if you'd like to restore the old behavior.\n",
      "[10:02:04] WARNING: ..\\src\\learner.cc:541: \n",
      "Parameters: { n_estimator } might not be used.\n",
      "\n",
      "  This may not be accurate due to some parameters are only used in language bindings but\n",
      "  passed down to XGBoost core.  Or some parameters are not used but slip through this\n",
      "  verification. Please open an issue if you find above cases.\n",
      "\n",
      "\n",
      "[10:02:05] WARNING: ..\\src\\learner.cc:1061: Starting in XGBoost 1.3.0, the default evaluation metric used with the objective 'binary:logistic' was changed from 'error' to 'logloss'. Explicitly set eval_metric if you'd like to restore the old behavior.\n"
     ]
    },
    {
     "name": "stdout",
     "output_type": "stream",
     "text": [
      "[10:03:16] WARNING: ..\\src\\learner.cc:541: \n",
      "Parameters: { n_estimator } might not be used.\n",
      "\n",
      "  This may not be accurate due to some parameters are only used in language bindings but\n",
      "  passed down to XGBoost core.  Or some parameters are not used but slip through this\n",
      "  verification. Please open an issue if you find above cases.\n",
      "\n",
      "\n",
      "[10:03:16] WARNING: ..\\src\\learner.cc:1061: Starting in XGBoost 1.3.0, the default evaluation metric used with the objective 'binary:logistic' was changed from 'error' to 'logloss'. Explicitly set eval_metric if you'd like to restore the old behavior.\n",
      "[10:04:26] WARNING: ..\\src\\learner.cc:541: \n",
      "Parameters: { n_estimator } might not be used.\n",
      "\n",
      "  This may not be accurate due to some parameters are only used in language bindings but\n",
      "  passed down to XGBoost core.  Or some parameters are not used but slip through this\n",
      "  verification. Please open an issue if you find above cases.\n",
      "\n",
      "\n",
      "[10:04:27] WARNING: ..\\src\\learner.cc:1061: Starting in XGBoost 1.3.0, the default evaluation metric used with the objective 'binary:logistic' was changed from 'error' to 'logloss'. Explicitly set eval_metric if you'd like to restore the old behavior.\n",
      "[10:05:39] WARNING: ..\\src\\learner.cc:541: \n",
      "Parameters: { n_estimator } might not be used.\n",
      "\n",
      "  This may not be accurate due to some parameters are only used in language bindings but\n",
      "  passed down to XGBoost core.  Or some parameters are not used but slip through this\n",
      "  verification. Please open an issue if you find above cases.\n",
      "\n",
      "\n",
      "[10:05:39] WARNING: ..\\src\\learner.cc:1061: Starting in XGBoost 1.3.0, the default evaluation metric used with the objective 'binary:logistic' was changed from 'error' to 'logloss'. Explicitly set eval_metric if you'd like to restore the old behavior.\n",
      "[10:06:51] WARNING: ..\\src\\learner.cc:541: \n",
      "Parameters: { n_estimator } might not be used.\n",
      "\n",
      "  This may not be accurate due to some parameters are only used in language bindings but\n",
      "  passed down to XGBoost core.  Or some parameters are not used but slip through this\n",
      "  verification. Please open an issue if you find above cases.\n",
      "\n",
      "\n",
      "[10:06:52] WARNING: ..\\src\\learner.cc:1061: Starting in XGBoost 1.3.0, the default evaluation metric used with the objective 'binary:logistic' was changed from 'error' to 'logloss'. Explicitly set eval_metric if you'd like to restore the old behavior.\n",
      "[10:08:02] WARNING: ..\\src\\learner.cc:541: \n",
      "Parameters: { n_estimator } might not be used.\n",
      "\n",
      "  This may not be accurate due to some parameters are only used in language bindings but\n",
      "  passed down to XGBoost core.  Or some parameters are not used but slip through this\n",
      "  verification. Please open an issue if you find above cases.\n",
      "\n",
      "\n",
      "[10:08:03] WARNING: ..\\src\\learner.cc:1061: Starting in XGBoost 1.3.0, the default evaluation metric used with the objective 'binary:logistic' was changed from 'error' to 'logloss'. Explicitly set eval_metric if you'd like to restore the old behavior.\n",
      "[10:09:16] WARNING: ..\\src\\learner.cc:541: \n",
      "Parameters: { n_estimator } might not be used.\n",
      "\n",
      "  This may not be accurate due to some parameters are only used in language bindings but\n",
      "  passed down to XGBoost core.  Or some parameters are not used but slip through this\n",
      "  verification. Please open an issue if you find above cases.\n",
      "\n",
      "\n",
      "[10:09:16] WARNING: ..\\src\\learner.cc:1061: Starting in XGBoost 1.3.0, the default evaluation metric used with the objective 'binary:logistic' was changed from 'error' to 'logloss'. Explicitly set eval_metric if you'd like to restore the old behavior.\n"
     ]
    },
    {
     "data": {
      "text/plain": [
       "GridSearchCV(cv=5,\n",
       "             estimator=Pipeline(steps=[('minmaxscaler', MinMaxScaler()),\n",
       "                                       ('xgbclassifier',\n",
       "                                        XGBClassifier(base_score=None,\n",
       "                                                      booster=None,\n",
       "                                                      colsample_bylevel=None,\n",
       "                                                      colsample_bynode=None,\n",
       "                                                      colsample_bytree=None,\n",
       "                                                      gamma=None, gpu_id=None,\n",
       "                                                      importance_type='gain',\n",
       "                                                      interaction_constraints=None,\n",
       "                                                      learning_rate=None,\n",
       "                                                      max_delta_step=None,\n",
       "                                                      max_depth=None,\n",
       "                                                      min_child_weight=N...\n",
       "                                                      n_estimators=100,\n",
       "                                                      n_jobs=None,\n",
       "                                                      num_parallel_tree=None,\n",
       "                                                      random_state=None,\n",
       "                                                      reg_alpha=None,\n",
       "                                                      reg_lambda=None,\n",
       "                                                      scale_pos_weight=None,\n",
       "                                                      subsample=None,\n",
       "                                                      tree_method=None,\n",
       "                                                      validate_parameters=None,\n",
       "                                                      verbosity=None))]),\n",
       "             param_grid={'xgbclassifier__learning_rate': [0.25, 0.2, 0.1],\n",
       "                         'xgbclassifier__max_depth': [3, 6, 9],\n",
       "                         'xgbclassifier__n_estimator': [100, 200, 500]},\n",
       "             scoring='balanced_accuracy')"
      ]
     },
     "execution_count": 711,
     "metadata": {},
     "output_type": "execute_result"
    }
   ],
   "source": [
    "y = df['Status']\n",
    "X = df.drop(columns=['Status', 'grade'])\n",
    "\n",
    "Xcol_names = X.columns\n",
    "ycol_name =['Status']\n",
    "categorical_columns_selector = selector(dtype_include=object)\n",
    "categorical_columns = categorical_columns_selector(X)\n",
    "\n",
    "# One Hot encode\n",
    "\n",
    "enc = OneHotEncoder(drop='if_binary')\n",
    "enc_df = pd.DataFrame(enc.fit_transform(X[categorical_columns]).toarray())\n",
    "feature_names = enc.get_feature_names(input_features=categorical_columns)\n",
    "enc_df.columns = feature_names\n",
    "X.drop(columns=categorical_columns, inplace=True)\n",
    "# merge with main df bridge_df on key values\n",
    "X =X.join(enc_df)\n",
    "#X.set_index('id', inplace=True)\n",
    "print('The new X has the columns added by One Hot Encoder, which has increased the number of columns from {} to {}'.format(col_num, X.shape[1]))\n",
    "\n",
    "# Undersample\n",
    "\n",
    "Xn = X.to_numpy()\n",
    "yn = y.to_numpy()\n",
    "random_state=42\n",
    "RU = RandomUnderSampler()\n",
    "X_res, y_res = RU.fit_resample(Xn,yn)\n",
    "\n",
    "# Split\n",
    "X_train, X_test, y_train, y_test = train_test_split(X_res, y_res, test_size=0.3, random_state=47)    \n",
    "\n",
    "pipeXG = make_pipeline(MinMaxScaler(), XGBClassifier())\n",
    "\n",
    "parameters = {\n",
    "    'xgbclassifier__max_depth':[3, 6, 9],\n",
    "    'xgbclassifier__n_estimator':[100, 200, 500],\n",
    "    'xgbclassifier__learning_rate': [0.25, 0.2, 0.1],\n",
    "    }\n",
    "grid_search_2 = GridSearchCV(pipeXG, param_grid= parameters, cv=5, scoring='balanced_accuracy')\n",
    "grid_search_2.fit(X_train,y_train)"
   ]
  },
  {
   "cell_type": "code",
   "execution_count": 712,
   "id": "e769f68c",
   "metadata": {},
   "outputs": [
    {
     "name": "stdout",
     "output_type": "stream",
     "text": [
      "{'xgbclassifier__learning_rate': 0.2, 'xgbclassifier__max_depth': 6, 'xgbclassifier__n_estimator': 100}\n",
      "0.6637207267441673\n"
     ]
    }
   ],
   "source": [
    "print(grid_search_2.best_params_)\n",
    "print(grid_search_2.best_score_)"
   ]
  },
  {
   "cell_type": "markdown",
   "id": "cdf6a1cb",
   "metadata": {},
   "source": [
    "Hyperparameter tuning does not change the result significantly (.663 vs .662). "
   ]
  },
  {
   "cell_type": "code",
   "execution_count": 13,
   "id": "06f7c62d",
   "metadata": {},
   "outputs": [
    {
     "name": "stdout",
     "output_type": "stream",
     "text": [
      "[23:01:42] WARNING: ..\\src\\learner.cc:541: \n",
      "Parameters: { n_estimator } might not be used.\n",
      "\n",
      "  This may not be accurate due to some parameters are only used in language bindings but\n",
      "  passed down to XGBoost core.  Or some parameters are not used but slip through this\n",
      "  verification. Please open an issue if you find above cases.\n",
      "\n",
      "\n",
      "[23:01:42] WARNING: ..\\src\\learner.cc:1061: Starting in XGBoost 1.3.0, the default evaluation metric used with the objective 'binary:logistic' was changed from 'error' to 'logloss'. Explicitly set eval_metric if you'd like to restore the old behavior.\n",
      "[23:02:29] WARNING: ..\\src\\learner.cc:541: \n",
      "Parameters: { n_estimator } might not be used.\n",
      "\n",
      "  This may not be accurate due to some parameters are only used in language bindings but\n",
      "  passed down to XGBoost core.  Or some parameters are not used but slip through this\n",
      "  verification. Please open an issue if you find above cases.\n",
      "\n",
      "\n",
      "[23:02:30] WARNING: ..\\src\\learner.cc:1061: Starting in XGBoost 1.3.0, the default evaluation metric used with the objective 'binary:logistic' was changed from 'error' to 'logloss'. Explicitly set eval_metric if you'd like to restore the old behavior.\n",
      "[23:03:11] WARNING: ..\\src\\learner.cc:541: \n",
      "Parameters: { n_estimator } might not be used.\n",
      "\n",
      "  This may not be accurate due to some parameters are only used in language bindings but\n",
      "  passed down to XGBoost core.  Or some parameters are not used but slip through this\n",
      "  verification. Please open an issue if you find above cases.\n",
      "\n",
      "\n",
      "[23:03:12] WARNING: ..\\src\\learner.cc:1061: Starting in XGBoost 1.3.0, the default evaluation metric used with the objective 'binary:logistic' was changed from 'error' to 'logloss'. Explicitly set eval_metric if you'd like to restore the old behavior.\n",
      "[23:03:34] WARNING: ..\\src\\learner.cc:541: \n",
      "Parameters: { n_estimator } might not be used.\n",
      "\n",
      "  This may not be accurate due to some parameters are only used in language bindings but\n",
      "  passed down to XGBoost core.  Or some parameters are not used but slip through this\n",
      "  verification. Please open an issue if you find above cases.\n",
      "\n",
      "\n",
      "[23:03:34] WARNING: ..\\src\\learner.cc:1061: Starting in XGBoost 1.3.0, the default evaluation metric used with the objective 'binary:logistic' was changed from 'error' to 'logloss'. Explicitly set eval_metric if you'd like to restore the old behavior.\n",
      "[23:03:59] WARNING: ..\\src\\learner.cc:541: \n",
      "Parameters: { n_estimator } might not be used.\n",
      "\n",
      "  This may not be accurate due to some parameters are only used in language bindings but\n",
      "  passed down to XGBoost core.  Or some parameters are not used but slip through this\n",
      "  verification. Please open an issue if you find above cases.\n",
      "\n",
      "\n",
      "[23:03:59] WARNING: ..\\src\\learner.cc:1061: Starting in XGBoost 1.3.0, the default evaluation metric used with the objective 'binary:logistic' was changed from 'error' to 'logloss'. Explicitly set eval_metric if you'd like to restore the old behavior.\n",
      "[0.66519188 0.66059415 0.66397988 0.66544628 0.66444629]\n",
      "0.6639316940858128 0.0017486183190718297\n"
     ]
    }
   ],
   "source": [
    "pipeXGbest = make_pipeline(MinMaxScaler(), XGBClassifier(learning_rate= 0.2, max_depth= 6, n_estimator= 100))\n",
    "\n",
    "cv_results = cross_validate(pipeXGbest, X_train, y_train, scoring = 'balanced_accuracy', cv=5)\n",
    "cv_scores = cv_results['test_score']\n",
    "\n",
    "print(cv_scores)\n",
    "print(cv_scores.mean(), cv_scores.std())\n"
   ]
  },
  {
   "cell_type": "code",
   "execution_count": 710,
   "id": "33e863c1",
   "metadata": {},
   "outputs": [
    {
     "name": "stdout",
     "output_type": "stream",
     "text": [
      "{'xgbclassifier__learning_rate': 0.2, 'xgbclassifier__max_depth': 6, 'xgbclassifier__n_estimator': 100}\n",
      "0.6589662650390651\n"
     ]
    }
   ],
   "source": [
    "# Print best parameters and results\n",
    "print(grid_search.best_params_)\n",
    "print(grid_search.best_score_)"
   ]
  },
  {
   "cell_type": "markdown",
   "id": "25fa1928",
   "metadata": {},
   "source": [
    "### 9.4.3. Gradient boosting feature importance assessment <a class='anchor' id='figb'></a>"
   ]
  },
  {
   "cell_type": "code",
   "execution_count": 29,
   "id": "7c415fdf",
   "metadata": {},
   "outputs": [
    {
     "ename": "AttributeError",
     "evalue": "Feature importance is not defined for Booster type None",
     "output_type": "error",
     "traceback": [
      "\u001b[1;31m---------------------------------------------------------------------------\u001b[0m",
      "\u001b[1;31mAttributeError\u001b[0m                            Traceback (most recent call last)",
      "\u001b[1;32m<ipython-input-29-69585f912ef8>\u001b[0m in \u001b[0;36m<module>\u001b[1;34m\u001b[0m\n\u001b[1;32m----> 1\u001b[1;33m \u001b[0mmodel_features\u001b[0m \u001b[1;33m=\u001b[0m \u001b[0mpd\u001b[0m\u001b[1;33m.\u001b[0m\u001b[0mDataFrame\u001b[0m\u001b[1;33m(\u001b[0m\u001b[0mpipeXGbest\u001b[0m\u001b[1;33m.\u001b[0m\u001b[0mnamed_steps\u001b[0m\u001b[1;33m[\u001b[0m\u001b[1;34m'xgbclassifier'\u001b[0m\u001b[1;33m]\u001b[0m\u001b[1;33m.\u001b[0m\u001b[0mfeature_importances_\u001b[0m\u001b[1;33m.\u001b[0m\u001b[0mT\u001b[0m\u001b[1;33m)\u001b[0m\u001b[1;33m\u001b[0m\u001b[1;33m\u001b[0m\u001b[0m\n\u001b[0m\u001b[0;32m      2\u001b[0m \u001b[0mmodel_features\u001b[0m\u001b[1;33m.\u001b[0m\u001b[0mcolumns\u001b[0m\u001b[1;33m=\u001b[0m\u001b[1;33m[\u001b[0m\u001b[1;34m'Importance'\u001b[0m\u001b[1;33m]\u001b[0m\u001b[1;33m\u001b[0m\u001b[1;33m\u001b[0m\u001b[0m\n\u001b[0;32m      3\u001b[0m \u001b[1;33m\u001b[0m\u001b[0m\n\u001b[0;32m      4\u001b[0m \u001b[0mmodel_features\u001b[0m\u001b[1;33m.\u001b[0m\u001b[0mindex\u001b[0m \u001b[1;33m=\u001b[0m \u001b[0mX\u001b[0m\u001b[1;33m.\u001b[0m\u001b[0mcolumns\u001b[0m\u001b[1;33m\u001b[0m\u001b[1;33m\u001b[0m\u001b[0m\n\u001b[0;32m      5\u001b[0m \u001b[0mmodel_features\u001b[0m\u001b[1;33m.\u001b[0m\u001b[0mcolumns\u001b[0m\u001b[1;33m=\u001b[0m\u001b[1;33m[\u001b[0m\u001b[1;34m'Importance'\u001b[0m\u001b[1;33m]\u001b[0m\u001b[1;33m\u001b[0m\u001b[1;33m\u001b[0m\u001b[0m\n",
      "\u001b[1;32m~\\anaconda3\\lib\\site-packages\\xgboost\\sklearn.py\u001b[0m in \u001b[0;36mfeature_importances_\u001b[1;34m(self)\u001b[0m\n\u001b[0;32m    736\u001b[0m         \"\"\"\n\u001b[0;32m    737\u001b[0m         \u001b[1;32mif\u001b[0m \u001b[0mself\u001b[0m\u001b[1;33m.\u001b[0m\u001b[0mget_params\u001b[0m\u001b[1;33m(\u001b[0m\u001b[1;33m)\u001b[0m\u001b[1;33m[\u001b[0m\u001b[1;34m'booster'\u001b[0m\u001b[1;33m]\u001b[0m \u001b[1;32mnot\u001b[0m \u001b[1;32min\u001b[0m \u001b[1;33m{\u001b[0m\u001b[1;34m'gbtree'\u001b[0m\u001b[1;33m,\u001b[0m \u001b[1;34m'dart'\u001b[0m\u001b[1;33m}\u001b[0m\u001b[1;33m:\u001b[0m\u001b[1;33m\u001b[0m\u001b[1;33m\u001b[0m\u001b[0m\n\u001b[1;32m--> 738\u001b[1;33m             raise AttributeError(\n\u001b[0m\u001b[0;32m    739\u001b[0m                 \u001b[1;34m'Feature importance is not defined for Booster type {}'\u001b[0m\u001b[1;33m\u001b[0m\u001b[1;33m\u001b[0m\u001b[0m\n\u001b[0;32m    740\u001b[0m                 .format(self.booster))\n",
      "\u001b[1;31mAttributeError\u001b[0m: Feature importance is not defined for Booster type None"
     ]
    }
   ],
   "source": [
    "model_features = pd.DataFrame(pipeXGbest.named_steps['xgbclassifier'].feature_importances_.T)\n",
    "model_features.columns=['Importance']\n",
    "\n",
    "model_features.index = X.columns\n",
    "model_features.columns=['Importance']\n",
    "HO = model_features.loc['home_ownership_ANY':,:]\n",
    "HO = pd.DataFrame({'Importance': HO.mean()})\n",
    "HO.index = ['home_ownership']\n",
    "Emp = model_features.loc['emp_length_1 year':'emp_length_< 1 year', :]\n",
    "Emp = pd.DataFrame({'Importance': Emp.mean()})\n",
    "Emp.index = ['employment length']\n",
    "Sub = model_features.loc['sub_grade_A1':'sub_grade_G5', :]\n",
    "sub = pd.DataFrame({'Importance': Sub.mean()})\n",
    "sub.index = ['sub_grade']\n",
    "term = pd.DataFrame({'Importance': model_features.loc['term_ 60 months',:]})\n",
    "term.index = ['term']\n",
    "\n",
    "model_features = pd.concat([model_features.loc[:'Credit Length (year)',:], term, HO, Emp, sub])\n",
    "title = 'Feature importance for tuned XGBbooster regression'\n",
    "\n",
    "# Plot feature importance\n",
    "fig, ax=plt.subplots()\n",
    "model_features.sort_values(by='Importance').iloc[:, model_features.columns.get_loc('Importance')].plot(kind='barh', figsize=(12,8))\n",
    "ax.set_title(title)\n",
    "ax.set_xlabel('Coefficient')\n",
    "ax.set_ylabel('Feature')\n"
   ]
  },
  {
   "cell_type": "code",
   "execution_count": 32,
   "id": "dd3f7362",
   "metadata": {},
   "outputs": [],
   "source": [
    "mm = pipeXGbest.named_steps['xgbclassifier']"
   ]
  },
  {
   "cell_type": "code",
   "execution_count": 33,
   "id": "3f4ed238",
   "metadata": {},
   "outputs": [
    {
     "ename": "NotFittedError",
     "evalue": "need to call fit or load_model beforehand",
     "output_type": "error",
     "traceback": [
      "\u001b[1;31m---------------------------------------------------------------------------\u001b[0m",
      "\u001b[1;31mNotFittedError\u001b[0m                            Traceback (most recent call last)",
      "\u001b[1;32m<ipython-input-33-ccee2de56c57>\u001b[0m in \u001b[0;36m<module>\u001b[1;34m\u001b[0m\n\u001b[0;32m      1\u001b[0m \u001b[1;32mfrom\u001b[0m \u001b[0mxgboost\u001b[0m \u001b[1;32mimport\u001b[0m \u001b[0mplot_importance\u001b[0m\u001b[1;33m\u001b[0m\u001b[1;33m\u001b[0m\u001b[0m\n\u001b[1;32m----> 2\u001b[1;33m \u001b[0mplot_importance\u001b[0m\u001b[1;33m(\u001b[0m\u001b[0mmm\u001b[0m\u001b[1;33m,\u001b[0m \u001b[0mmax_num_features\u001b[0m\u001b[1;33m=\u001b[0m\u001b[1;36m10\u001b[0m\u001b[1;33m)\u001b[0m\u001b[1;33m\u001b[0m\u001b[1;33m\u001b[0m\u001b[0m\n\u001b[0m",
      "\u001b[1;32m~\\anaconda3\\lib\\site-packages\\xgboost\\plotting.py\u001b[0m in \u001b[0;36mplot_importance\u001b[1;34m(booster, ax, height, xlim, ylim, title, xlabel, ylabel, fmap, importance_type, max_num_features, grid, show_values, **kwargs)\u001b[0m\n\u001b[0;32m     61\u001b[0m \u001b[1;33m\u001b[0m\u001b[0m\n\u001b[0;32m     62\u001b[0m     \u001b[1;32mif\u001b[0m \u001b[0misinstance\u001b[0m\u001b[1;33m(\u001b[0m\u001b[0mbooster\u001b[0m\u001b[1;33m,\u001b[0m \u001b[0mXGBModel\u001b[0m\u001b[1;33m)\u001b[0m\u001b[1;33m:\u001b[0m\u001b[1;33m\u001b[0m\u001b[1;33m\u001b[0m\u001b[0m\n\u001b[1;32m---> 63\u001b[1;33m         importance = booster.get_booster().get_score(\n\u001b[0m\u001b[0;32m     64\u001b[0m             importance_type=importance_type, fmap=fmap)\n\u001b[0;32m     65\u001b[0m     \u001b[1;32melif\u001b[0m \u001b[0misinstance\u001b[0m\u001b[1;33m(\u001b[0m\u001b[0mbooster\u001b[0m\u001b[1;33m,\u001b[0m \u001b[0mBooster\u001b[0m\u001b[1;33m)\u001b[0m\u001b[1;33m:\u001b[0m\u001b[1;33m\u001b[0m\u001b[1;33m\u001b[0m\u001b[0m\n",
      "\u001b[1;32m~\\anaconda3\\lib\\site-packages\\xgboost\\sklearn.py\u001b[0m in \u001b[0;36mget_booster\u001b[1;34m(self)\u001b[0m\n\u001b[0;32m    310\u001b[0m         \u001b[1;32mif\u001b[0m \u001b[1;32mnot\u001b[0m \u001b[0mhasattr\u001b[0m\u001b[1;33m(\u001b[0m\u001b[0mself\u001b[0m\u001b[1;33m,\u001b[0m \u001b[1;34m'_Booster'\u001b[0m\u001b[1;33m)\u001b[0m\u001b[1;33m:\u001b[0m\u001b[1;33m\u001b[0m\u001b[1;33m\u001b[0m\u001b[0m\n\u001b[0;32m    311\u001b[0m             \u001b[1;32mfrom\u001b[0m \u001b[0msklearn\u001b[0m\u001b[1;33m.\u001b[0m\u001b[0mexceptions\u001b[0m \u001b[1;32mimport\u001b[0m \u001b[0mNotFittedError\u001b[0m\u001b[1;33m\u001b[0m\u001b[1;33m\u001b[0m\u001b[0m\n\u001b[1;32m--> 312\u001b[1;33m             \u001b[1;32mraise\u001b[0m \u001b[0mNotFittedError\u001b[0m\u001b[1;33m(\u001b[0m\u001b[1;34m'need to call fit or load_model beforehand'\u001b[0m\u001b[1;33m)\u001b[0m\u001b[1;33m\u001b[0m\u001b[1;33m\u001b[0m\u001b[0m\n\u001b[0m\u001b[0;32m    313\u001b[0m         \u001b[1;32mreturn\u001b[0m \u001b[0mself\u001b[0m\u001b[1;33m.\u001b[0m\u001b[0m_Booster\u001b[0m\u001b[1;33m\u001b[0m\u001b[1;33m\u001b[0m\u001b[0m\n\u001b[0;32m    314\u001b[0m \u001b[1;33m\u001b[0m\u001b[0m\n",
      "\u001b[1;31mNotFittedError\u001b[0m: need to call fit or load_model beforehand"
     ]
    }
   ],
   "source": [
    "from xgboost import plot_importance\n",
    "plot_importance(mm, max_num_features=10)"
   ]
  },
  {
   "cell_type": "code",
   "execution_count": 37,
   "id": "7cad5849",
   "metadata": {},
   "outputs": [
    {
     "data": {
      "text/plain": [
       "XGBClassifier(base_score=None, booster=None, colsample_bylevel=None,\n",
       "              colsample_bynode=None, colsample_bytree=None, gamma=None,\n",
       "              gpu_id=None, importance_type='gain', interaction_constraints=None,\n",
       "              learning_rate=0.2, max_delta_step=None, max_depth=6,\n",
       "              min_child_weight=None, missing=nan, monotone_constraints=None,\n",
       "              n_estimator=100, n_estimators=100, n_jobs=None,\n",
       "              num_parallel_tree=None, random_state=None, reg_alpha=None,\n",
       "              reg_lambda=None, scale_pos_weight=None, subsample=None,\n",
       "              tree_method=None, validate_parameters=None, verbosity=None)"
      ]
     },
     "execution_count": 37,
     "metadata": {},
     "output_type": "execute_result"
    }
   ],
   "source": [
    "pipeXGbest.named_steps.xgbclassifier"
   ]
  },
  {
   "cell_type": "code",
   "execution_count": 17,
   "id": "a6408b59",
   "metadata": {},
   "outputs": [
    {
     "data": {
      "text/plain": [
       "[('minmaxscaler', MinMaxScaler()),\n",
       " ('xgbclassifier',\n",
       "  XGBClassifier(base_score=None, booster=None, colsample_bylevel=None,\n",
       "                colsample_bynode=None, colsample_bytree=None, gamma=None,\n",
       "                gpu_id=None, importance_type='gain', interaction_constraints=None,\n",
       "                learning_rate=0.2, max_delta_step=None, max_depth=6,\n",
       "                min_child_weight=None, missing=nan, monotone_constraints=None,\n",
       "                n_estimator=100, n_estimators=100, n_jobs=None,\n",
       "                num_parallel_tree=None, random_state=None, reg_alpha=None,\n",
       "                reg_lambda=None, scale_pos_weight=None, subsample=None,\n",
       "                tree_method=None, validate_parameters=None, verbosity=None))]"
      ]
     },
     "execution_count": 17,
     "metadata": {},
     "output_type": "execute_result"
    }
   ],
   "source": [
    "pipeXGbest.steps"
   ]
  },
  {
   "cell_type": "markdown",
   "id": "08189861",
   "metadata": {},
   "source": [
    "According to the balanced accuracy score, gradient boosting is slightly better than previous models. The balanced accuracy score is 66%.\n",
    "\n",
    "According to the feature importance plot, _interest rate_, _term_, the number of _mortage accounts_ , _high Fico score_, _funded amount_, _debt to income ratio_, _installment_, and _revolving balance_ are the most influential parameters in the classification. _interset rate_ and _term_ have more significant effect compared to other parameters.\n",
    "\n",
    "Among the parameters, _employment length_, number of _tax liens_, number of _collections_ and _charged off_ incidents within12 months prior to application have the lowest effect on classification."
   ]
  },
  {
   "cell_type": "markdown",
   "id": "26be9fac",
   "metadata": {},
   "source": [
    "# 8. Final model selection <a class='anchor' id='select'><a/>"
   ]
  },
  {
   "cell_type": "code",
   "execution_count": 49,
   "id": "277772a3",
   "metadata": {},
   "outputs": [],
   "source": [
    "def plot_confusion_matrix(cm, title='Confusion matrix', cmap=plt.cm.Blues):\n",
    "    \"\"\"\n",
    "    This function prints and plots the confusion matrix.\n",
    "    \"\"\"\n",
    "    classes = ['Default', 'Fully Paid']\n",
    "    plt.imshow(cm, interpolation='nearest', cmap=cmap)\n",
    "    plt.title(title)\n",
    "    plt.colorbar()\n",
    "    tick_marks = np.arange(len(classes))\n",
    "    plt.xticks(tick_marks, classes, rotation=45)\n",
    "    plt.yticks(tick_marks, classes)\n",
    "\n",
    "    fmt = 'd' \n",
    "    thresh = cm.max() / 2.\n",
    "    for i, j in itertools.product(range(cm.shape[0]), range(cm.shape[1])):\n",
    "        plt.text(j, i, format(cm[i, j], fmt),\n",
    "                 horizontalalignment=\"center\",\n",
    "                 color=\"white\" if cm[i, j] > thresh else \"black\")\n",
    "\n",
    "    plt.ylabel('True label')\n",
    "    plt.xlabel('Predicted label')\n",
    "    plt.tight_layout()"
   ]
  },
  {
   "cell_type": "markdown",
   "id": "976a3441",
   "metadata": {},
   "source": [
    "## 8.1. Logistic regression <a class='anchor' id='lr_test'><a/>"
   ]
  },
  {
   "cell_type": "code",
   "execution_count": 46,
   "id": "dd09e6a8",
   "metadata": {},
   "outputs": [],
   "source": [
    "lr_y_pred = lr_grid_cv.best_estimator_.predict(X_test)"
   ]
  },
  {
   "cell_type": "code",
   "execution_count": 52,
   "id": "737145ed",
   "metadata": {},
   "outputs": [
    {
     "name": "stdout",
     "output_type": "stream",
     "text": [
      "Balanced accuracy score for the test data is:  0.6534873873018496\n"
     ]
    }
   ],
   "source": [
    "print('Balanced accuracy score for the test data is: ', balanced_accuracy_score(y_test, lr_y_pred))"
   ]
  },
  {
   "cell_type": "code",
   "execution_count": 48,
   "id": "5176d21e",
   "metadata": {},
   "outputs": [
    {
     "name": "stdout",
     "output_type": "stream",
     "text": [
      "              precision    recall  f1-score   support\n",
      "\n",
      "     Default       0.68      0.65      0.66     82181\n",
      "  Fully Paid       0.63      0.66      0.64     74120\n",
      "\n",
      "    accuracy                           0.65    156301\n",
      "   macro avg       0.65      0.65      0.65    156301\n",
      "weighted avg       0.65      0.65      0.65    156301\n",
      "\n"
     ]
    }
   ],
   "source": [
    "lr_y_pred =pd.Series(lr_y_pred)\n",
    "print(classification_report(lr_y_pred,y_test))"
   ]
  },
  {
   "cell_type": "code",
   "execution_count": 51,
   "id": "3a893c7a",
   "metadata": {},
   "outputs": [
    {
     "data": {
      "image/png": "[encoded data removed]",
      "text/plain": [
       "<Figure size 432x288 with 2 Axes>"
      ]
     },
     "metadata": {
      "needs_background": "light"
     },
     "output_type": "display_data"
    }
   ],
   "source": [
    "# Plot confusion matrix\n",
    "\n",
    "confusion_matrix_lr = confusion_matrix(lr_y_pred, y_test)\n",
    "plot_confusion_matrix(confusion_matrix_lr)"
   ]
  },
  {
   "cell_type": "markdown",
   "id": "04175ecb",
   "metadata": {},
   "source": [
    "## 8.2. Decision tree <a class='anchor' id='dt_test' ><a/>"
   ]
  },
  {
   "cell_type": "code",
   "execution_count": 57,
   "id": "45468d7a",
   "metadata": {},
   "outputs": [
    {
     "name": "stdout",
     "output_type": "stream",
     "text": [
      "Decision tree balanced accuracy score for the test data is:  0.648326621532569\n"
     ]
    }
   ],
   "source": [
    "dt_y_pred = tree_grid_cv.best_estimator_.predict(X_test)\n",
    "print('Decision tree balanced accuracy score for the test data is: ', balanced_accuracy_score(y_test, dt_y_pred))"
   ]
  },
  {
   "cell_type": "code",
   "execution_count": 58,
   "id": "dcf42810",
   "metadata": {},
   "outputs": [
    {
     "name": "stdout",
     "output_type": "stream",
     "text": [
      "              precision    recall  f1-score   support\n",
      "\n",
      "     Default       0.66      0.64      0.65     80705\n",
      "  Fully Paid       0.63      0.65      0.64     75596\n",
      "\n",
      "    accuracy                           0.65    156301\n",
      "   macro avg       0.65      0.65      0.65    156301\n",
      "weighted avg       0.65      0.65      0.65    156301\n",
      "\n"
     ]
    }
   ],
   "source": [
    "dt_y_pred =pd.Series(dt_y_pred)\n",
    "print(classification_report(dt_y_pred, y_test))"
   ]
  },
  {
   "cell_type": "code",
   "execution_count": 64,
   "id": "cc9cf609",
   "metadata": {},
   "outputs": [
    {
     "data": {
      "image/png": "[encoded data removed]",
      "text/plain": [
       "<Figure size 432x288 with 2 Axes>"
      ]
     },
     "metadata": {
      "needs_background": "light"
     },
     "output_type": "display_data"
    }
   ],
   "source": [
    "# Plot confusion matrix\n",
    "\n",
    "confusion_matrix_dt = confusion_matrix(dt_y_pred, y_test)\n",
    "plot_confusion_matrix(confusion_matrix_dt)"
   ]
  },
  {
   "cell_type": "markdown",
   "id": "b5ecf826",
   "metadata": {},
   "source": [
    "## 8.4. Random forest <a class='anchor' id='rf_test'><a/>"
   ]
  },
  {
   "cell_type": "code",
   "execution_count": 61,
   "id": "8404fd69",
   "metadata": {},
   "outputs": [
    {
     "name": "stdout",
     "output_type": "stream",
     "text": [
      "Random forest balanced accuracy score for the test data is:  0.6536639183838509\n"
     ]
    }
   ],
   "source": [
    "rf_y_pred = rf_grid_cv2.best_estimator_.predict(X_test)\n",
    "print('Random forest balanced accuracy score for the test data is: ', balanced_accuracy_score(y_test, rf_y_pred))"
   ]
  },
  {
   "cell_type": "code",
   "execution_count": 62,
   "id": "707b6f44",
   "metadata": {},
   "outputs": [
    {
     "name": "stdout",
     "output_type": "stream",
     "text": [
      "              precision    recall  f1-score   support\n",
      "\n",
      "     Default       0.69      0.64      0.67     83562\n",
      "  Fully Paid       0.62      0.67      0.64     72739\n",
      "\n",
      "    accuracy                           0.65    156301\n",
      "   macro avg       0.65      0.65      0.65    156301\n",
      "weighted avg       0.66      0.65      0.65    156301\n",
      "\n"
     ]
    }
   ],
   "source": [
    "rf_y_pred =pd.Series(rf_y_pred)\n",
    "print(classification_report(rf_y_pred, y_test))"
   ]
  },
  {
   "cell_type": "code",
   "execution_count": 63,
   "id": "a5188ce5",
   "metadata": {},
   "outputs": [
    {
     "data": {
      "image/png": "[encoded data removed]",
      "text/plain": [
       "<Figure size 432x288 with 2 Axes>"
      ]
     },
     "metadata": {
      "needs_background": "light"
     },
     "output_type": "display_data"
    }
   ],
   "source": [
    "# Plot confusion matrix\n",
    "\n",
    "confusion_matrix_rf = confusion_matrix(rf_y_pred, y_test)\n",
    "plot_confusion_matrix(confusion_matrix_rf)"
   ]
  },
  {
   "cell_type": "markdown",
   "id": "ccfd4e94",
   "metadata": {},
   "source": [
    "## 8.4. XGBoost <a class='anchor' id='XG_test'><a/>"
   ]
  },
  {
   "cell_type": "code",
   "execution_count": 70,
   "id": "230fd1c3",
   "metadata": {},
   "outputs": [
    {
     "name": "stdout",
     "output_type": "stream",
     "text": [
      "[11:21:29] WARNING: ..\\src\\learner.cc:541: \n",
      "Parameters: { n_estimator } might not be used.\n",
      "\n",
      "  This may not be accurate due to some parameters are only used in language bindings but\n",
      "  passed down to XGBoost core.  Or some parameters are not used but slip through this\n",
      "  verification. Please open an issue if you find above cases.\n",
      "\n",
      "\n",
      "[11:21:29] WARNING: ..\\src\\learner.cc:1061: Starting in XGBoost 1.3.0, the default evaluation metric used with the objective 'binary:logistic' was changed from 'error' to 'logloss'. Explicitly set eval_metric if you'd like to restore the old behavior.\n"
     ]
    },
    {
     "data": {
      "text/plain": [
       "Pipeline(steps=[('minmaxscaler', MinMaxScaler()),\n",
       "                ('xgbclassifier',\n",
       "                 XGBClassifier(base_score=0.5, booster='gbtree',\n",
       "                               colsample_bylevel=1, colsample_bynode=1,\n",
       "                               colsample_bytree=1, gamma=0, gpu_id=-1,\n",
       "                               importance_type='gain',\n",
       "                               interaction_constraints='', learning_rate=0.2,\n",
       "                               max_delta_step=0, max_depth=6,\n",
       "                               min_child_weight=1, missing=nan,\n",
       "                               monotone_constraints='()', n_estimator=100,\n",
       "                               n_estimators=100, n_jobs=8, num_parallel_tree=1,\n",
       "                               random_state=0, reg_alpha=0, reg_lambda=1,\n",
       "                               scale_pos_weight=1, subsample=1,\n",
       "                               tree_method='exact', validate_parameters=1,\n",
       "                               verbosity=None))])"
      ]
     },
     "execution_count": 70,
     "metadata": {},
     "output_type": "execute_result"
    }
   ],
   "source": [
    "pipeXGbest = make_pipeline(MinMaxScaler(), XGBClassifier(learning_rate= 0.2, max_depth= 6, n_estimator= 100))\n",
    "pipeXGbest.fit(X_train, y_train)"
   ]
  },
  {
   "cell_type": "code",
   "execution_count": 71,
   "id": "891e1c34",
   "metadata": {},
   "outputs": [
    {
     "name": "stdout",
     "output_type": "stream",
     "text": [
      "XGBoost balanced accuracy score for the test data is:  0.6630322341303667\n"
     ]
    }
   ],
   "source": [
    "xg_y_pred = pipeXGbest.predict(X_test)\n",
    "\n",
    "print('XGBoost balanced accuracy score for the test data is: ', balanced_accuracy_score(y_test, xg_y_pred))"
   ]
  },
  {
   "cell_type": "code",
   "execution_count": 72,
   "id": "78d6bfa3",
   "metadata": {},
   "outputs": [
    {
     "name": "stdout",
     "output_type": "stream",
     "text": [
      "              precision    recall  f1-score   support\n",
      "\n",
      "     Default       0.69      0.66      0.67     81875\n",
      "  Fully Paid       0.64      0.67      0.65     74426\n",
      "\n",
      "    accuracy                           0.66    156301\n",
      "   macro avg       0.66      0.66      0.66    156301\n",
      "weighted avg       0.66      0.66      0.66    156301\n",
      "\n"
     ]
    }
   ],
   "source": [
    "xg_y_pred =pd.Series(xg_y_pred)\n",
    "print(classification_report(xg_y_pred, y_test))"
   ]
  },
  {
   "cell_type": "code",
   "execution_count": 73,
   "id": "e8e2179f",
   "metadata": {},
   "outputs": [
    {
     "data": {
      "image/png": "[encoded data removed]",
      "text/plain": [
       "<Figure size 432x288 with 2 Axes>"
      ]
     },
     "metadata": {
      "needs_background": "light"
     },
     "output_type": "display_data"
    }
   ],
   "source": [
    "# Plot confusion matrix for XGBoost\n",
    "\n",
    "confusion_matrix_xg = confusion_matrix(xg_y_pred, y_test)\n",
    "plot_confusion_matrix(confusion_matrix_xg)"
   ]
  },
  {
   "cell_type": "markdown",
   "id": "8b6824b0",
   "metadata": {},
   "source": [
    "## 8.5. Discussion <a class='anchor' id='disc'><a/>\n",
    "    \n",
    "    \n",
    "XGBoost performs slightly better. "
   ]
  },
  {
   "cell_type": "markdown",
   "id": "abaa9aed",
   "metadata": {},
   "source": [
    "## Drop _sub_grade_ column and keep _grade_ and train logistic regression"
   ]
  },
  {
   "cell_type": "code",
   "execution_count": 394,
   "id": "d0c2f874",
   "metadata": {},
   "outputs": [
    {
     "name": "stdout",
     "output_type": "stream",
     "text": [
      "The new X has the columns added by One Hot Encoder, which has increased the number of columns from 23 to 46\n"
     ]
    }
   ],
   "source": [
    "y = df['Status']\n",
    "X = df.drop(columns=['Status', 'sub_grade'])\n",
    "\n",
    "# Choose the categorical columns\n",
    "col_num =X.shape[1]\n",
    "categorical_columns_selector = selector(dtype_include=object)\n",
    "categorical_columns = categorical_columns_selector(X)\n",
    "\n",
    "# One Hot encode\n",
    "\n",
    "enc = OneHotEncoder(drop='if_binary')\n",
    "enc_df = pd.DataFrame(enc.fit_transform(X[categorical_columns]).toarray())\n",
    "feature_names = enc.get_feature_names(input_features=categorical_columns)\n",
    "enc_df.columns = feature_names\n",
    "X.drop(columns=categorical_columns, inplace=True)\n",
    "# merge with main df bridge_df on key values\n",
    "X =X.join(enc_df)\n",
    "#X.set_index('id', inplace=True)\n",
    "print('The new X has the columns added by One Hot Encoder, which has increased the number of columns from {} to {}'.format(col_num, X.shape[1]))\n",
    "\n",
    "# Undersample\n",
    "\n",
    "Xn = X.to_numpy()\n",
    "yn = y.to_numpy()\n",
    "random_state=42\n",
    "RU = RandomUnderSampler()\n",
    "X_res, y_res = RU.fit_resample(Xn,yn)\n",
    "\n",
    "# Split\n",
    "X_train, X_test, y_train, y_test = train_test_split(X_res, y_res, test_size=0.3, random_state=47)"
   ]
  },
  {
   "cell_type": "code",
   "execution_count": 395,
   "id": "c914e78f",
   "metadata": {},
   "outputs": [
    {
     "name": "stdout",
     "output_type": "stream",
     "text": [
      "Balanced accuaracy scores of 5 fold logistic regression are:  [0.65348393 0.65125867 0.65139439 0.65641268 0.6543841 ]\n",
      "Mean of balanced accuaracy scores of 5 fold logistic regression is:  0.6533867523630119\n"
     ]
    }
   ],
   "source": [
    "gen2_lr_cv_results = cross_validate(pipe, X_train, y_train, scoring = 'balanced_accuracy', cv=5)\n",
    "gen2_lr_cv_scores = gen2_lr_cv_results['test_score']\n",
    "print('Balanced accuaracy scores of 5 fold logistic regression are: ', gen2_lr_cv_scores)\n",
    "print('Mean of balanced accuaracy scores of 5 fold logistic regression is: ', gen2_lr_cv_scores.mean())"
   ]
  },
  {
   "cell_type": "markdown",
   "id": "9102578f",
   "metadata": {},
   "source": [
    "When replacing _sub grade_ with _grade_ the balanced accuracy score changed from 0.654 to 0.653, which is not significant. Given the complexity of the model training, and the amount of time it takes to train models, for the SelectKBest analysis I substitute _sub grade_ with _grade_. There are 35 subgrades, while there are only 7 grades. This substitution reduces the size of the X natrix significantly."
   ]
  },
  {
   "cell_type": "markdown",
   "id": "db0457b4",
   "metadata": {},
   "source": [
    "## Feature Selection using SelectKBest"
   ]
  },
  {
   "cell_type": "markdown",
   "id": "4d98d3bd",
   "metadata": {},
   "source": [
    " We will use select best to see if the number of parameters affect model training\n",
    "Bases on the plot k = 16 gives the highest score. SelectKBest was only applied to the numerical columns and all the categorical columns were incuded. I use GridSEarch CV with  k=8 numerical parameters and find the hyperparameters."
   ]
  },
  {
   "cell_type": "code",
   "execution_count": 481,
   "id": "059b9bb2",
   "metadata": {},
   "outputs": [],
   "source": [
    "result ={}\n",
    "MeanScore = []\n",
    "scores_5cv = []\n",
    "StdScore = []\n",
    "for i in range(18):\n",
    "    k_f = 18 - i\n",
    "    y = df['Status']\n",
    "    X = df.drop(columns=['Status', 'sub_grade'])\n",
    "    \n",
    "    Xcol_names = X.columns\n",
    "    ycol_name =['Status']\n",
    "    \n",
    "    # Undersample\n",
    "\n",
    "    Xn = X.to_numpy()\n",
    "    yn = y.to_numpy()\n",
    "    random_state=42\n",
    "    RU = RandomUnderSampler()\n",
    "    X_res, y_res = RU.fit_resample(Xn,yn)\n",
    "\n",
    "    # Split    \n",
    "    X_train, X_test, y_train, y_test = train_test_split(X_res, y_res, test_size=0.3, random_state=47)\n",
    "    X_train = pd.DataFrame(X_train, columns=Xcol_names)\n",
    "    y_train = pd.DataFrame(y_train, columns=ycol_name)\n",
    "\n",
    "    numerical_columns = X.select_dtypes(exclude=['object']).columns\n",
    "    numeric_transformer = Pipeline(steps=[('scaler', MinMaxScaler()), ('sss', SelectKBest(chi2, k=k_f))])\n",
    "\n",
    "\n",
    "    categorical_columns = X.select_dtypes(include=['object']).columns\n",
    "    categorical_transformer = OneHotEncoder(drop='if_binary')\n",
    "\n",
    "\n",
    "    preprocessor = ColumnTransformer(transformers=[\n",
    "        (\"num\", numeric_transformer, numerical_columns),\n",
    "        (\"cat\", categorical_transformer, categorical_columns),\n",
    "    ])\n",
    "\n",
    "    pipe = Pipeline(steps=[(\"preprocessor\", preprocessor), (\"classifier\", LogisticRegression())])\n",
    "    cv_result = cross_validate(pipe, X_train, y_train, scoring = 'balanced_accuracy', cv=5)\n",
    "    Result_scores = cv_result['test_score']\n",
    "    MeanScore.append(Result_scores.mean())\n",
    "    StdScore.append(Result_score.std())\n",
    "    #features_list[kb.get_support()]\n",
    "    scores_5cv.append(Result_scores)\n",
    "    result.update({k_f: Result_scores})\n",
    "    \n",
    "Result = pd.DataFrame.from_dict(result, orient='index')        "
   ]
  },
  {
   "cell_type": "code",
   "execution_count": 483,
   "id": "8d0749e4",
   "metadata": {},
   "outputs": [
    {
     "data": {
      "image/png": "[encoded data removed]",
      "text/plain": [
       "<Figure size 720x360 with 1 Axes>"
      ]
     },
     "metadata": {
      "needs_background": "light"
     },
     "output_type": "display_data"
    }
   ],
   "source": [
    "# Plot the CV score versus k\n",
    "\n",
    "plt.subplots(figsize=(10, 5))\n",
    "plt.errorbar(Result.index, MeanScore, StdScore)\n",
    "plt.xlabel('k')\n",
    "plt.ylabel('CV score')\n",
    "plt.title('Pipeline mean CV score (error bars +/- 1sd)');"
   ]
  },
  {
   "cell_type": "code",
   "execution_count": 583,
   "id": "d405a64c",
   "metadata": {},
   "outputs": [
    {
     "name": "stdout",
     "output_type": "stream",
     "text": [
      "{'classifier__C': 100, 'classifier__penalty': 'l2'}\n",
      "Mean of balanced accuaracy score of tuned logistic regression with best 8 numerical features is:  0.6526599753244616\n"
     ]
    }
   ],
   "source": [
    "y = df['Status']\n",
    "X = df.drop(columns=['Status', 'sub_grade'])\n",
    "    \n",
    "Xcol_names = X.columns\n",
    "ycol_name =['Status']\n",
    "    \n",
    "# Undersample\n",
    "\n",
    "Xn = X.to_numpy()\n",
    "yn = y.to_numpy()\n",
    "random_state=42\n",
    "RU = RandomUnderSampler()\n",
    "X_res, y_res = RU.fit_resample(Xn,yn)\n",
    "\n",
    "    # Split    \n",
    "X_train, X_test, y_train, y_test = train_test_split(X_res, y_res, test_size=0.3, random_state=47)\n",
    "X_train = pd.DataFrame(X_train, columns=Xcol_names)\n",
    "y_train = pd.DataFrame(y_train, columns=ycol_name)\n",
    "\n",
    "numerical_columns = X.select_dtypes(exclude=['object']).columns\n",
    "numeric_transformer = Pipeline(steps=[('scaler', MinMaxScaler()), ('sss', SelectKBest(chi2, k=8))])\n",
    "\n",
    "\n",
    "categorical_columns = X.select_dtypes(include=['object']).columns\n",
    "categorical_transformer = OneHotEncoder(drop='if_binary')\n",
    "\n",
    "\n",
    "preprocessor = ColumnTransformer(transformers=[\n",
    "    (\"num\", numeric_transformer, numerical_columns),\n",
    "    (\"cat\", categorical_transformer, categorical_columns),\n",
    "])\n",
    "pipe = Pipeline(steps=[(\"preprocessor\", preprocessor), (\"classifier\", LogisticRegression())])\n",
    "\n",
    "# Do a grid search\n",
    "\n",
    "grid_params = {'classifier__penalty': ['l1','l2'], 'classifier__C': [0.1,1,10,100,1000]}\n",
    "\n",
    "# Perform grid search\n",
    "lr_grid_cv_Kbest = GridSearchCV(pipe, param_grid=grid_params, cv=5, scoring = 'balanced_accuracy', n_jobs=-1)\n",
    "lr_grid_cv_Kbest.fit(X_train, y_train)\n",
    "\n",
    "print(lr_grid_cv_Kbest.best_params_)\n",
    "lr_grid_cv_Kbest_score = lr_grid_cv_Kbest.best_score_\n",
    "print('Mean of balanced accuaracy score of tuned logistic regression with best 8 numerical features is: ', lr_grid_cv_Kbest_score)        "
   ]
  },
  {
   "cell_type": "markdown",
   "id": "ac44a262",
   "metadata": {},
   "source": [
    "The mean balanced accuracy score with 8 numerical features and all categorical features is very comparable to the tuned model with all parameters. By using get_support(), we check what parameters are used with SelectKBest."
   ]
  },
  {
   "cell_type": "code",
   "execution_count": 667,
   "id": "033621a5",
   "metadata": {},
   "outputs": [],
   "source": [
    "## Check SelectKBest parameters\n",
    "selected = lr_grid_cv_Kbest.best_estimator_.named_steps.preprocessor.named_transformers_.num.named_steps.sss.get_support()"
   ]
  },
  {
   "cell_type": "code",
   "execution_count": 680,
   "id": "4c9a41eb",
   "metadata": {},
   "outputs": [
    {
     "data": {
      "text/plain": [
       "['dti',\n",
       " 'inq_last_6mths',\n",
       " 'mort_acc',\n",
       " 'funded_amnt',\n",
       " 'installment',\n",
       " 'int_rate',\n",
       " 'fico_range_high',\n",
       " 'fico_range_low',\n",
       " 'grade',\n",
       " 'verification_status',\n",
       " 'term',\n",
       " 'emp_length',\n",
       " 'home_ownership']"
      ]
     },
     "execution_count": 680,
     "metadata": {},
     "output_type": "execute_result"
    }
   ],
   "source": [
    "Feature_mask = list(selected)\n",
    "for i in range(5):\n",
    "    Feature_mask.append(True)\n",
    "\n",
    "features = list(numerical_columns) + list(categorical_columns)\n",
    "Col_names = pd.DataFrame(zip(features,Feature_mask), columns=['Feature', 'value'])\n",
    "Features = Col_names.loc[Col_names['value']==True, 'Feature']\n",
    "list(Features)"
   ]
  },
  {
   "cell_type": "code",
   "execution_count": 696,
   "id": "9c5cc31d",
   "metadata": {},
   "outputs": [
    {
     "data": {
      "text/plain": [
       "Text(31.466875000000016, 0.5, 'Feature')"
      ]
     },
     "execution_count": 696,
     "metadata": {},
     "output_type": "execute_result"
    },
    {
     "data": {
      "image/png": "[encoded data removed]",
      "text/plain": [
       "<Figure size 440.875x360 with 1 Axes>"
      ]
     },
     "metadata": {
      "needs_background": "light"
     },
     "output_type": "display_data"
    }
   ],
   "source": [
    "model_features = pd.DataFrame(lr_grid_cv_Kbest.best_estimator_.named_steps.classifier.coef_.T)\n",
    "model_features.columns=['Importance']\n",
    "\n",
    "grades = model_features.iloc[8:15, :]\n",
    "grade = pd.DataFrame({'Importance': grades.mean()})\n",
    "\n",
    "VSs = model_features.iloc[16:19, :]\n",
    "VS = pd.DataFrame({'Importance': VSs.mean()})\n",
    "\n",
    "term = pd.DataFrame({'Importance': model_features.iloc[19, :]})\n",
    "\n",
    "Emps = model_features.loc[20:31, :]\n",
    "Emp = pd.DataFrame({'Importance': Emps.mean()})\n",
    "\n",
    "HOs = model_features.iloc[31:,:]\n",
    "HO = pd.DataFrame({'Importance': HOs.mean()})\n",
    "\n",
    "\n",
    "\n",
    "model_features = pd.concat([model_features.iloc[:8,:], grade, VS, term, Emp, HO])\n",
    "model_features.index=Features\n",
    "\n",
    "model_features['Absolute effect'] = abs(model_features['Importance'])\n",
    "\n",
    "model_features['Effect'] = 'Positive'\n",
    "model_features.loc[model_features['Importance'] < 0, 'Effect'] = 'Negative'\n",
    "model_features['Absolute effect'] = abs(model_features['Importance'])\n",
    "data = model_features.sort_values(by='Absolute effect', ascending=False)\n",
    "sns.catplot(y= data.index, x='Absolute effect', hue='Effect', kind='bar', data=data)\n",
    "plt.title(title)\n",
    "plt.xlabel('Coefficient')\n",
    "plt.ylabel('Feature')"
   ]
  },
  {
   "cell_type": "markdown",
   "id": "652d1309",
   "metadata": {},
   "source": [
    "## 10. Summary <a class='anchor' id='discussion'><a/>"
   ]
  },
  {
   "cell_type": "markdown",
   "id": "e49119ec",
   "metadata": {},
   "source": [
    "In this notebook four classifiers were applied to the data.\n",
    "In each model training, a pipeline including scaling and modeling steps was created and by using GridSearchCV, hyperparameters were tuned. \n",
    "\n",
    "All models reached to almost same balanced accuracy score of about %54, which is due to the fact that the data is imbalanced.\n",
    "\n",
    "Random forest classifier, decision tree and gradient boosting, they all found _interest rate_, _term_, the number of _mortage accounts_ , _funded amount_, _debt to income ratio_, _installment_, _Fico score_ as influential parameters.\n",
    "\n",
    "According to all models _employment length_, number of _tax liens_, number of _collections_ and _charged off_ incidents within12 months prior to application have the lowest effect on classification."
   ]
  }
 ],
 "metadata": {
  "kernelspec": {
   "display_name": "Python 3",
   "language": "python",
   "name": "python3"
  },
  "language_info": {
   "codemirror_mode": {
    "name": "ipython",
    "version": 3
   },
   "file_extension": ".py",
   "mimetype": "text/x-python",
   "name": "python",
   "nbconvert_exporter": "python",
   "pygments_lexer": "ipython3",
   "version": "3.8.8"
  }
 },
 "nbformat": 4,
 "nbformat_minor": 5
}
