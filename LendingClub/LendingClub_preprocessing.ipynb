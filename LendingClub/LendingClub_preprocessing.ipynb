{
 "cells": [
  {
   "cell_type": "markdown",
   "id": "8abcba9a",
   "metadata": {},
   "source": [
    "## 2. Imports <a class='anchor' id='import'></a>"
   ]
  },
  {
   "cell_type": "code",
   "execution_count": 2,
   "id": "16925000",
   "metadata": {},
   "outputs": [],
   "source": [
    "import pandas as pd\n",
    "import numpy as np\n",
    "import os\n",
    "import pickle\n",
    "import matplotlib.pyplot as plt\n",
    "import seaborn as sns\n",
    "from sklearn import __version__ as sklearn_version\n",
    "from sklearn.decomposition import PCA\n",
    "from sklearn.preprocessing import scale\n",
    "from sklearn.model_selection import train_test_split, cross_validate, GridSearchCV, learning_curve\n",
    "from sklearn.preprocessing import StandardScaler, MinMaxScaler\n",
    "from sklearn.dummy import DummyRegressor\n",
    "from sklearn.linear_model import LinearRegression\n",
    "from sklearn.ensemble import RandomForestRegressor\n",
    "from sklearn.metrics import r2_score, mean_squared_error, mean_absolute_error\n",
    "from sklearn.pipeline import make_pipeline\n",
    "from sklearn.impute import SimpleImputer\n",
    "from sklearn.feature_selection import SelectKBest, f_regression\n",
    "import datetime"
   ]
  },
  {
   "cell_type": "markdown",
   "id": "a688bab1",
   "metadata": {},
   "source": [
    "## 3 Load Data<a class='anchor' id='Load_Data'></a>"
   ]
  },
  {
   "cell_type": "code",
   "execution_count": 10,
   "id": "27851c58",
   "metadata": {},
   "outputs": [
    {
     "data": {
      "text/html": [
       "<div>\n",
       "<style scoped>\n",
       "    .dataframe tbody tr th:only-of-type {\n",
       "        vertical-align: middle;\n",
       "    }\n",
       "\n",
       "    .dataframe tbody tr th {\n",
       "        vertical-align: top;\n",
       "    }\n",
       "\n",
       "    .dataframe thead th {\n",
       "        text-align: right;\n",
       "    }\n",
       "</style>\n",
       "<table border=\"1\" class=\"dataframe\">\n",
       "  <thead>\n",
       "    <tr style=\"text-align: right;\">\n",
       "      <th>id</th>\n",
       "      <th>68407277</th>\n",
       "      <th>68355089</th>\n",
       "      <th>68476807</th>\n",
       "      <th>68426831</th>\n",
       "      <th>68476668</th>\n",
       "    </tr>\n",
       "  </thead>\n",
       "  <tbody>\n",
       "    <tr>\n",
       "      <th>revol_util</th>\n",
       "      <td>29.7</td>\n",
       "      <td>19.2</td>\n",
       "      <td>64.5</td>\n",
       "      <td>68.4</td>\n",
       "      <td>84.5</td>\n",
       "    </tr>\n",
       "    <tr>\n",
       "      <th>dti</th>\n",
       "      <td>5.91</td>\n",
       "      <td>16.06</td>\n",
       "      <td>25.37</td>\n",
       "      <td>10.2</td>\n",
       "      <td>14.67</td>\n",
       "    </tr>\n",
       "    <tr>\n",
       "      <th>chargeoff_within_12_mths</th>\n",
       "      <td>0.0</td>\n",
       "      <td>0.0</td>\n",
       "      <td>0.0</td>\n",
       "      <td>0.0</td>\n",
       "      <td>0.0</td>\n",
       "    </tr>\n",
       "    <tr>\n",
       "      <th>collections_12_mths_ex_med</th>\n",
       "      <td>0.0</td>\n",
       "      <td>0.0</td>\n",
       "      <td>0.0</td>\n",
       "      <td>0.0</td>\n",
       "      <td>0.0</td>\n",
       "    </tr>\n",
       "    <tr>\n",
       "      <th>inq_last_6mths</th>\n",
       "      <td>1.0</td>\n",
       "      <td>4.0</td>\n",
       "      <td>3.0</td>\n",
       "      <td>0.0</td>\n",
       "      <td>0.0</td>\n",
       "    </tr>\n",
       "    <tr>\n",
       "      <th>open_acc</th>\n",
       "      <td>7.0</td>\n",
       "      <td>22.0</td>\n",
       "      <td>12.0</td>\n",
       "      <td>5.0</td>\n",
       "      <td>12.0</td>\n",
       "    </tr>\n",
       "    <tr>\n",
       "      <th>mort_acc</th>\n",
       "      <td>1.0</td>\n",
       "      <td>4.0</td>\n",
       "      <td>6.0</td>\n",
       "      <td>0.0</td>\n",
       "      <td>4.0</td>\n",
       "    </tr>\n",
       "    <tr>\n",
       "      <th>annual_inc</th>\n",
       "      <td>55000.0</td>\n",
       "      <td>65000.0</td>\n",
       "      <td>104433.0</td>\n",
       "      <td>34000.0</td>\n",
       "      <td>180000.0</td>\n",
       "    </tr>\n",
       "    <tr>\n",
       "      <th>sub_grade</th>\n",
       "      <td>C4</td>\n",
       "      <td>C1</td>\n",
       "      <td>F1</td>\n",
       "      <td>C3</td>\n",
       "      <td>B2</td>\n",
       "    </tr>\n",
       "    <tr>\n",
       "      <th>funded_amnt</th>\n",
       "      <td>3600.0</td>\n",
       "      <td>24700.0</td>\n",
       "      <td>10400.0</td>\n",
       "      <td>11950.0</td>\n",
       "      <td>20000.0</td>\n",
       "    </tr>\n",
       "    <tr>\n",
       "      <th>loan_status</th>\n",
       "      <td>Fully Paid</td>\n",
       "      <td>Fully Paid</td>\n",
       "      <td>Fully Paid</td>\n",
       "      <td>Fully Paid</td>\n",
       "      <td>Fully Paid</td>\n",
       "    </tr>\n",
       "    <tr>\n",
       "      <th>revol_bal</th>\n",
       "      <td>2765.0</td>\n",
       "      <td>21470.0</td>\n",
       "      <td>21929.0</td>\n",
       "      <td>8822.0</td>\n",
       "      <td>87329.0</td>\n",
       "    </tr>\n",
       "    <tr>\n",
       "      <th>fico_range_high</th>\n",
       "      <td>679.0</td>\n",
       "      <td>719.0</td>\n",
       "      <td>699.0</td>\n",
       "      <td>694.0</td>\n",
       "      <td>684.0</td>\n",
       "    </tr>\n",
       "    <tr>\n",
       "      <th>fico_range_low</th>\n",
       "      <td>675.0</td>\n",
       "      <td>715.0</td>\n",
       "      <td>695.0</td>\n",
       "      <td>690.0</td>\n",
       "      <td>680.0</td>\n",
       "    </tr>\n",
       "    <tr>\n",
       "      <th>emp_length</th>\n",
       "      <td>10+ years</td>\n",
       "      <td>10+ years</td>\n",
       "      <td>3 years</td>\n",
       "      <td>4 years</td>\n",
       "      <td>10+ years</td>\n",
       "    </tr>\n",
       "    <tr>\n",
       "      <th>home_ownership</th>\n",
       "      <td>MORTGAGE</td>\n",
       "      <td>MORTGAGE</td>\n",
       "      <td>MORTGAGE</td>\n",
       "      <td>RENT</td>\n",
       "      <td>MORTGAGE</td>\n",
       "    </tr>\n",
       "    <tr>\n",
       "      <th>num_rev_accts</th>\n",
       "      <td>9.0</td>\n",
       "      <td>27.0</td>\n",
       "      <td>19.0</td>\n",
       "      <td>4.0</td>\n",
       "      <td>16.0</td>\n",
       "    </tr>\n",
       "    <tr>\n",
       "      <th>pub_rec_bankruptcies</th>\n",
       "      <td>0.0</td>\n",
       "      <td>0.0</td>\n",
       "      <td>0.0</td>\n",
       "      <td>0.0</td>\n",
       "      <td>0.0</td>\n",
       "    </tr>\n",
       "    <tr>\n",
       "      <th>tax_liens</th>\n",
       "      <td>0.0</td>\n",
       "      <td>0.0</td>\n",
       "      <td>0.0</td>\n",
       "      <td>0.0</td>\n",
       "      <td>0.0</td>\n",
       "    </tr>\n",
       "    <tr>\n",
       "      <th>Status</th>\n",
       "      <td>Fully Paid</td>\n",
       "      <td>Fully Paid</td>\n",
       "      <td>Fully Paid</td>\n",
       "      <td>Fully Paid</td>\n",
       "      <td>Fully Paid</td>\n",
       "    </tr>\n",
       "    <tr>\n",
       "      <th>Credit Length (year)</th>\n",
       "      <td>12.334271</td>\n",
       "      <td>16.000329</td>\n",
       "      <td>17.500702</td>\n",
       "      <td>28.167587</td>\n",
       "      <td>25.500866</td>\n",
       "    </tr>\n",
       "  </tbody>\n",
       "</table>\n",
       "</div>"
      ],
      "text/plain": [
       "id                            68407277    68355089    68476807    68426831  \\\n",
       "revol_util                        29.7        19.2        64.5        68.4   \n",
       "dti                               5.91       16.06       25.37        10.2   \n",
       "chargeoff_within_12_mths           0.0         0.0         0.0         0.0   \n",
       "collections_12_mths_ex_med         0.0         0.0         0.0         0.0   \n",
       "inq_last_6mths                     1.0         4.0         3.0         0.0   \n",
       "open_acc                           7.0        22.0        12.0         5.0   \n",
       "mort_acc                           1.0         4.0         6.0         0.0   \n",
       "annual_inc                     55000.0     65000.0    104433.0     34000.0   \n",
       "sub_grade                           C4          C1          F1          C3   \n",
       "funded_amnt                     3600.0     24700.0     10400.0     11950.0   \n",
       "loan_status                 Fully Paid  Fully Paid  Fully Paid  Fully Paid   \n",
       "revol_bal                       2765.0     21470.0     21929.0      8822.0   \n",
       "fico_range_high                  679.0       719.0       699.0       694.0   \n",
       "fico_range_low                   675.0       715.0       695.0       690.0   \n",
       "emp_length                   10+ years   10+ years     3 years     4 years   \n",
       "home_ownership                MORTGAGE    MORTGAGE    MORTGAGE        RENT   \n",
       "num_rev_accts                      9.0        27.0        19.0         4.0   \n",
       "pub_rec_bankruptcies               0.0         0.0         0.0         0.0   \n",
       "tax_liens                          0.0         0.0         0.0         0.0   \n",
       "Status                      Fully Paid  Fully Paid  Fully Paid  Fully Paid   \n",
       "Credit Length (year)         12.334271   16.000329   17.500702   28.167587   \n",
       "\n",
       "id                            68476668  \n",
       "revol_util                        84.5  \n",
       "dti                              14.67  \n",
       "chargeoff_within_12_mths           0.0  \n",
       "collections_12_mths_ex_med         0.0  \n",
       "inq_last_6mths                     0.0  \n",
       "open_acc                          12.0  \n",
       "mort_acc                           4.0  \n",
       "annual_inc                    180000.0  \n",
       "sub_grade                           B2  \n",
       "funded_amnt                    20000.0  \n",
       "loan_status                 Fully Paid  \n",
       "revol_bal                      87329.0  \n",
       "fico_range_high                  684.0  \n",
       "fico_range_low                   680.0  \n",
       "emp_length                   10+ years  \n",
       "home_ownership                MORTGAGE  \n",
       "num_rev_accts                     16.0  \n",
       "pub_rec_bankruptcies               0.0  \n",
       "tax_liens                          0.0  \n",
       "Status                      Fully Paid  \n",
       "Credit Length (year)         25.500866  "
      ]
     },
     "execution_count": 10,
     "metadata": {},
     "output_type": "execute_result"
    }
   ],
   "source": [
    "df_exc = pd.read_csv('C:\\\\Users\\\\somfl\\\\Documents\\\\Data Science Career Track\\\\LendingClub\\\\Exclusive.csv')\n",
    "df_exc.set_index('id', inplace=True)\n",
    "df_exc.head().T"
   ]
  },
  {
   "cell_type": "markdown",
   "id": "16005c95",
   "metadata": {},
   "source": [
    "## 4. Extract the Status of the loan <a class='anchor' id='extract'></a>"
   ]
  },
  {
   "cell_type": "code",
   "execution_count": 13,
   "id": "7d651289",
   "metadata": {},
   "outputs": [],
   "source": [
    "Y = df_exc['Status']\n",
    "X = df_exc.drop(columns=['Status'])"
   ]
  },
  {
   "cell_type": "code",
   "execution_count": 15,
   "id": "60c2f4ed",
   "metadata": {},
   "outputs": [],
   "source": [
    "X = pd.get_dummies(X)"
   ]
  },
  {
   "cell_type": "code",
   "execution_count": 17,
   "id": "b230ec88",
   "metadata": {},
   "outputs": [
    {
     "data": {
      "text/plain": [
       "(1206759, 74)"
      ]
     },
     "execution_count": 17,
     "metadata": {},
     "output_type": "execute_result"
    }
   ],
   "source": [
    "X.shape"
   ]
  },
  {
   "cell_type": "markdown",
   "id": "a5c804f4",
   "metadata": {},
   "source": [
    "## 5. Split the data <a class='anchor' id='split'></a>"
   ]
  },
  {
   "cell_type": "code",
   "execution_count": 16,
   "id": "f1509eba",
   "metadata": {},
   "outputs": [],
   "source": [
    "X_train, X_test, y_train, y_test = train_test_split(X, Y, test_size=0.3, random_state=47)"
   ]
  },
  {
   "cell_type": "code",
   "execution_count": 18,
   "id": "7a44356a",
   "metadata": {},
   "outputs": [
    {
     "data": {
      "text/plain": [
       "revol_util                    float64\n",
       "dti                           float64\n",
       "chargeoff_within_12_mths      float64\n",
       "collections_12_mths_ex_med    float64\n",
       "inq_last_6mths                float64\n",
       "                               ...   \n",
       "home_ownership_MORTGAGE         uint8\n",
       "home_ownership_NONE             uint8\n",
       "home_ownership_OTHER            uint8\n",
       "home_ownership_OWN              uint8\n",
       "home_ownership_RENT             uint8\n",
       "Length: 74, dtype: object"
      ]
     },
     "execution_count": 18,
     "metadata": {},
     "output_type": "execute_result"
    }
   ],
   "source": [
    "X_train.dtypes"
   ]
  },
  {
   "cell_type": "markdown",
   "id": "46ee345c",
   "metadata": {},
   "source": [
    "## 6.Scale the data <a class='anchor' id='Scale'></a>"
   ]
  },
  {
   "cell_type": "code",
   "execution_count": 19,
   "id": "b243862d",
   "metadata": {},
   "outputs": [],
   "source": [
    "scaler = StandardScaler()\n",
    "scaler.fit(X_train)\n",
    "X_tr_scaled = scaler.transform(X_train)\n",
    "X_te_scaled = scaler.transform(X_test)"
   ]
  },
  {
   "cell_type": "code",
   "execution_count": null,
   "id": "2b65973c",
   "metadata": {},
   "outputs": [],
   "source": []
  }
 ],
 "metadata": {
  "kernelspec": {
   "display_name": "Python 3",
   "language": "python",
   "name": "python3"
  },
  "language_info": {
   "codemirror_mode": {
    "name": "ipython",
    "version": 3
   },
   "file_extension": ".py",
   "mimetype": "text/x-python",
   "name": "python",
   "nbconvert_exporter": "python",
   "pygments_lexer": "ipython3",
   "version": "3.8.8"
  }
 },
 "nbformat": 4,
 "nbformat_minor": 5
}
