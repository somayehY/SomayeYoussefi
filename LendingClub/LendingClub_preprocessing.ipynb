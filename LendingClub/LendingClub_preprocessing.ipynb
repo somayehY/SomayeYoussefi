{
 "cells": [
  {
   "cell_type": "markdown",
   "id": "104aefea",
   "metadata": {},
   "source": [
    "## 1. Imports <a class='anchor' id='import'></a>"
   ]
  },
  {
   "cell_type": "code",
   "execution_count": 1,
   "id": "81d33209",
   "metadata": {},
   "outputs": [],
   "source": [
    "import pandas as pd\n",
    "import numpy as np\n",
    "import matplotlib.pyplot as plt\n",
    "import seaborn as sns\n",
    "from sklearn.compose import make_column_selector as selector\n",
    "from sklearn.model_selection import train_test_split, KFold, cross_val_score, cross_val_predict, StratifiedKFold, cross_validate, GridSearchCV, learning_curve\n",
    "from sklearn.preprocessing import StandardScaler, OneHotEncoder\n",
    "from sklearn import tree, metrics\n",
    "from IPython.display import Image  \n",
    "import pydotplus\n",
    "\n",
    "\n",
    "from sklearn.preprocessing import MinMaxScaler\n",
    "from sklearn.ensemble import RandomForestClassifier\n",
    "from sklearn.metrics import classification_report, roc_auc_score, f1_score, precision_recall_curve, accuracy_score, confusion_matrix\n",
    "from sklearn.linear_model import LogisticRegression\n",
    "\n",
    "from sklearn.pipeline import make_pipeline\n",
    "from sklearn.feature_selection import SelectKBest, f_regression\n",
    "\n",
    "\n",
    "#from keras.utils.np_utils import to_categorical \n",
    "from keras.layers import Dense\n",
    "from keras.models import Sequential\n",
    "from sklearn import __version__ as sklearn_version\n"
   ]
  },
  {
   "cell_type": "markdown",
   "id": "86ffb59e",
   "metadata": {},
   "source": [
    "## 2. Load Data<a class='anchor' id='Load_Data'></a>"
   ]
  },
  {
   "cell_type": "code",
   "execution_count": 2,
   "id": "beb32bda",
   "metadata": {},
   "outputs": [],
   "source": [
    "df = pd.read_csv(\"C:\\\\Users\\\\somfl\\\\Documents\\\\Data Science Career Track\\\\LendingClub\\\\LendingClubClean.csv\")"
   ]
  },
  {
   "cell_type": "markdown",
   "id": "d1c0bf6b",
   "metadata": {},
   "source": [
    "## 3. Defining x and Y\n",
    "\n",
    "The first try to model is using classification techniques "
   ]
  },
  {
   "cell_type": "code",
   "execution_count": 3,
   "id": "22090fd6",
   "metadata": {},
   "outputs": [],
   "source": [
    "# Defining X and y\n",
    "\n",
    "y = df['Status']\n",
    "X = df.drop(columns=['Status', 'id', 'Unnamed: 0', 'grade'])"
   ]
  },
  {
   "cell_type": "markdown",
   "id": "9655a936",
   "metadata": {},
   "source": [
    "## 4. Appplying One Hot Encoder to change the categorical columns"
   ]
  },
  {
   "cell_type": "code",
   "execution_count": 4,
   "id": "0fe29bf2",
   "metadata": {},
   "outputs": [
    {
     "data": {
      "text/plain": [
       "['sub_grade', 'term', 'emp_length', 'home_ownership']"
      ]
     },
     "execution_count": 4,
     "metadata": {},
     "output_type": "execute_result"
    }
   ],
   "source": [
    "categorical_columns_selector = selector(dtype_include=object)\n",
    "categorical_columns = categorical_columns_selector(X)\n",
    "categorical_columns"
   ]
  },
  {
   "cell_type": "code",
   "execution_count": 5,
   "id": "5beccab0",
   "metadata": {},
   "outputs": [],
   "source": [
    "# creating instance of one-hot-encoder\n",
    "\n",
    "enc = OneHotEncoder(drop='first')\n",
    "enc_df = pd.DataFrame(enc.fit_transform(X[categorical_columns]).toarray())\n",
    "feature_names = enc.get_feature_names(input_features=categorical_columns)\n",
    "enc_df.columns = feature_names\n",
    "X.drop(columns=categorical_columns, inplace=True)\n",
    "# merge with main df bridge_df on key values\n",
    "X =X.join(enc_df)\n",
    "#X.set_index('id', inplace=True)"
   ]
  },
  {
   "cell_type": "markdown",
   "id": "affba126",
   "metadata": {},
   "source": [
    "## 5. Splitting the data to train and test groups"
   ]
  },
  {
   "cell_type": "code",
   "execution_count": 6,
   "id": "52609c35",
   "metadata": {},
   "outputs": [],
   "source": [
    "X_train, X_test, y_train, y_test = train_test_split(X, y, test_size=0.3, random_state=47)"
   ]
  },
  {
   "cell_type": "markdown",
   "id": "2440e965",
   "metadata": {},
   "source": [
    "## 6. Scale the data"
   ]
  },
  {
   "cell_type": "code",
   "execution_count": 88,
   "id": "c99b6c37",
   "metadata": {},
   "outputs": [],
   "source": [
    "scaler = MinMaxScaler()\n",
    "X_train_scaled = scaler.fit_transform(X_train)\n",
    "X_test_scaled = scaler.transform(X_test)"
   ]
  },
  {
   "cell_type": "markdown",
   "id": "ea01d060",
   "metadata": {},
   "source": [
    "## 7. Model training "
   ]
  },
  {
   "cell_type": "markdown",
   "id": "ce271273",
   "metadata": {},
   "source": [
    "### 7.1. Logistic regression"
   ]
  },
  {
   "cell_type": "code",
   "execution_count": 34,
   "id": "e2956646",
   "metadata": {},
   "outputs": [
    {
     "name": "stdout",
     "output_type": "stream",
     "text": [
      "Accuracy of Regularized Logistic Regression is: 78.76\n",
      "              precision    recall  f1-score   support\n",
      "\n",
      "     Default       0.56      0.08      0.14     78174\n",
      "  Fully Paid       0.79      0.98      0.88    283314\n",
      "\n",
      "    accuracy                           0.79    361488\n",
      "   macro avg       0.68      0.53      0.51    361488\n",
      "weighted avg       0.74      0.79      0.72    361488\n",
      "\n"
     ]
    }
   ],
   "source": [
    "model=LogisticRegression(penalty='l2',C=0.01,solver='newton-cg')\n",
    "model.fit(X_train_scaled,y_train)\n",
    "pred_lr = model.predict(X_test_scaled)\n",
    "accuracy_lr= accuracy_score(pred_lr,y_test)*100\n",
    "print('Accuracy of Regularized Logistic Regression is: {:.2f}'.format(accuracy_lr))\n",
    "print(classification_report(y_test, pred_lr))"
   ]
  },
  {
   "cell_type": "markdown",
   "id": "b858a5c7",
   "metadata": {},
   "source": [
    "### 7.1.2.  Make a pipeline"
   ]
  },
  {
   "cell_type": "code",
   "execution_count": 7,
   "id": "b5428ae0",
   "metadata": {},
   "outputs": [],
   "source": [
    "pipe = make_pipeline( \n",
    "    MinMaxScaler(),\n",
    "    LogisticRegression()\n",
    ")"
   ]
  },
  {
   "cell_type": "markdown",
   "id": "4ebe9bea",
   "metadata": {},
   "source": [
    "### 7.1.3. Assessing performance using cross-validation"
   ]
  },
  {
   "cell_type": "code",
   "execution_count": 113,
   "id": "52e9254f",
   "metadata": {},
   "outputs": [
    {
     "name": "stderr",
     "output_type": "stream",
     "text": [
      "C:\\Users\\somfl\\anaconda3\\lib\\site-packages\\sklearn\\linear_model\\_logistic.py:763: ConvergenceWarning: lbfgs failed to converge (status=1):\n",
      "STOP: TOTAL NO. of ITERATIONS REACHED LIMIT.\n",
      "\n",
      "Increase the number of iterations (max_iter) or scale the data as shown in:\n",
      "    https://scikit-learn.org/stable/modules/preprocessing.html\n",
      "Please also refer to the documentation for alternative solver options:\n",
      "    https://scikit-learn.org/stable/modules/linear_model.html#logistic-regression\n",
      "  n_iter_i = _check_optimize_result(\n",
      "C:\\Users\\somfl\\anaconda3\\lib\\site-packages\\sklearn\\linear_model\\_logistic.py:763: ConvergenceWarning: lbfgs failed to converge (status=1):\n",
      "STOP: TOTAL NO. of ITERATIONS REACHED LIMIT.\n",
      "\n",
      "Increase the number of iterations (max_iter) or scale the data as shown in:\n",
      "    https://scikit-learn.org/stable/modules/preprocessing.html\n",
      "Please also refer to the documentation for alternative solver options:\n",
      "    https://scikit-learn.org/stable/modules/linear_model.html#logistic-regression\n",
      "  n_iter_i = _check_optimize_result(\n",
      "C:\\Users\\somfl\\anaconda3\\lib\\site-packages\\sklearn\\linear_model\\_logistic.py:763: ConvergenceWarning: lbfgs failed to converge (status=1):\n",
      "STOP: TOTAL NO. of ITERATIONS REACHED LIMIT.\n",
      "\n",
      "Increase the number of iterations (max_iter) or scale the data as shown in:\n",
      "    https://scikit-learn.org/stable/modules/preprocessing.html\n",
      "Please also refer to the documentation for alternative solver options:\n",
      "    https://scikit-learn.org/stable/modules/linear_model.html#logistic-regression\n",
      "  n_iter_i = _check_optimize_result(\n",
      "C:\\Users\\somfl\\anaconda3\\lib\\site-packages\\sklearn\\linear_model\\_logistic.py:763: ConvergenceWarning: lbfgs failed to converge (status=1):\n",
      "STOP: TOTAL NO. of ITERATIONS REACHED LIMIT.\n",
      "\n",
      "Increase the number of iterations (max_iter) or scale the data as shown in:\n",
      "    https://scikit-learn.org/stable/modules/preprocessing.html\n",
      "Please also refer to the documentation for alternative solver options:\n",
      "    https://scikit-learn.org/stable/modules/linear_model.html#logistic-regression\n",
      "  n_iter_i = _check_optimize_result(\n",
      "C:\\Users\\somfl\\anaconda3\\lib\\site-packages\\sklearn\\linear_model\\_logistic.py:763: ConvergenceWarning: lbfgs failed to converge (status=1):\n",
      "STOP: TOTAL NO. of ITERATIONS REACHED LIMIT.\n",
      "\n",
      "Increase the number of iterations (max_iter) or scale the data as shown in:\n",
      "    https://scikit-learn.org/stable/modules/preprocessing.html\n",
      "Please also refer to the documentation for alternative solver options:\n",
      "    https://scikit-learn.org/stable/modules/linear_model.html#logistic-regression\n",
      "  n_iter_i = _check_optimize_result(\n"
     ]
    },
    {
     "data": {
      "text/plain": [
       "array([0.788168  , 0.78791184, 0.78833865, 0.7879889 , 0.78752653])"
      ]
     },
     "execution_count": 113,
     "metadata": {},
     "output_type": "execute_result"
    }
   ],
   "source": [
    "cv_results = cross_validate(pipe, X_train, y_train, cv=5)\n",
    "cv_scores = cv_results['test_score']\n",
    "cv_scores"
   ]
  },
  {
   "cell_type": "markdown",
   "id": "06c4d61d",
   "metadata": {},
   "source": [
    "### 7.1.4. Hyperparameter search using GridSearchCV"
   ]
  },
  {
   "cell_type": "code",
   "execution_count": 46,
   "id": "33f63145",
   "metadata": {},
   "outputs": [
    {
     "data": {
      "text/plain": [
       "dict_keys(['memory', 'steps', 'verbose', 'minmaxscaler', 'logisticregression', 'minmaxscaler__clip', 'minmaxscaler__copy', 'minmaxscaler__feature_range', 'logisticregression__C', 'logisticregression__class_weight', 'logisticregression__dual', 'logisticregression__fit_intercept', 'logisticregression__intercept_scaling', 'logisticregression__l1_ratio', 'logisticregression__max_iter', 'logisticregression__multi_class', 'logisticregression__n_jobs', 'logisticregression__penalty', 'logisticregression__random_state', 'logisticregression__solver', 'logisticregression__tol', 'logisticregression__verbose', 'logisticregression__warm_start'])"
      ]
     },
     "execution_count": 46,
     "metadata": {},
     "output_type": "execute_result"
    }
   ],
   "source": [
    "pipe.get_params().keys()"
   ]
  },
  {
   "cell_type": "code",
   "execution_count": 50,
   "id": "0745b57a",
   "metadata": {},
   "outputs": [],
   "source": [
    "grid_params = {'logisticregression__penalty': ['l1','l2'], 'logisticregression__C': [0.001,0.01,0.1,1,10,100,1000]}"
   ]
  },
  {
   "cell_type": "code",
   "execution_count": 51,
   "id": "c0e19c8e",
   "metadata": {},
   "outputs": [
    {
     "name": "stderr",
     "output_type": "stream",
     "text": [
      "C:\\Users\\somfl\\anaconda3\\lib\\site-packages\\sklearn\\model_selection\\_search.py:918: UserWarning: One or more of the test scores are non-finite: [       nan 0.78705018        nan 0.7875742         nan 0.78783977\n",
      "        nan 0.78798441        nan 0.7880508         nan 0.78806385\n",
      "        nan 0.78802591]\n",
      "  warnings.warn(\n",
      "C:\\Users\\somfl\\anaconda3\\lib\\site-packages\\sklearn\\linear_model\\_logistic.py:763: ConvergenceWarning: lbfgs failed to converge (status=1):\n",
      "STOP: TOTAL NO. of ITERATIONS REACHED LIMIT.\n",
      "\n",
      "Increase the number of iterations (max_iter) or scale the data as shown in:\n",
      "    https://scikit-learn.org/stable/modules/preprocessing.html\n",
      "Please also refer to the documentation for alternative solver options:\n",
      "    https://scikit-learn.org/stable/modules/linear_model.html#logistic-regression\n",
      "  n_iter_i = _check_optimize_result(\n"
     ]
    },
    {
     "data": {
      "text/plain": [
       "GridSearchCV(cv=5,\n",
       "             estimator=Pipeline(steps=[('minmaxscaler', MinMaxScaler()),\n",
       "                                       ('logisticregression',\n",
       "                                        LogisticRegression())]),\n",
       "             n_jobs=-1,\n",
       "             param_grid={'logisticregression__C': [0.001, 0.01, 0.1, 1, 10, 100,\n",
       "                                                   1000],\n",
       "                         'logisticregression__penalty': ['l1', 'l2']})"
      ]
     },
     "execution_count": 51,
     "metadata": {},
     "output_type": "execute_result"
    }
   ],
   "source": [
    "lr_grid_cv = GridSearchCV(pipe, param_grid=grid_params, cv=5, n_jobs=-1)\n",
    "lr_grid_cv.fit(X_train, y_train)\n"
   ]
  },
  {
   "cell_type": "code",
   "execution_count": 114,
   "id": "5162113b",
   "metadata": {},
   "outputs": [
    {
     "data": {
      "text/plain": [
       "{'logisticregression__C': 100, 'logisticregression__penalty': 'l2'}"
      ]
     },
     "execution_count": 114,
     "metadata": {},
     "output_type": "execute_result"
    }
   ],
   "source": [
    "lr_grid_cv.best_params_"
   ]
  },
  {
   "cell_type": "markdown",
   "id": "c5ab5bf0",
   "metadata": {},
   "source": [
    "### 7.1.5. The most important features in logistic Regression model\n",
    "\n",
    "Now that we know the best hyperparameters for Logistic Regression, we will model with the best parameteres and look at the cofficients of features."
   ]
  },
  {
   "cell_type": "code",
   "execution_count": 8,
   "id": "948555f8",
   "metadata": {},
   "outputs": [
    {
     "name": "stdout",
     "output_type": "stream",
     "text": [
      "Accuracy of Regularized Logistic Regression is: 78.80\n",
      "              precision    recall  f1-score   support\n",
      "\n",
      "     Default       0.56      0.09      0.15     78174\n",
      "  Fully Paid       0.80      0.98      0.88    283314\n",
      "\n",
      "    accuracy                           0.79    361488\n",
      "   macro avg       0.68      0.53      0.51    361488\n",
      "weighted avg       0.75      0.79      0.72    361488\n",
      "\n"
     ]
    }
   ],
   "source": [
    "model=LogisticRegression(penalty='l2',C=100,solver='newton-cg')\n",
    "pipeLrBest = make_pipeline(MinMaxScaler(), model)\n",
    "pipeLrBest.fit(X_train,y_train)\n",
    "pred_lr = pipeLrBest.predict(X_test)\n",
    "accuracy_lr= accuracy_score(pred_lr,y_test)*100\n",
    "print('Accuracy of Regularized Logistic Regression is: {:.2f}'.format(accuracy_lr))\n",
    "print(classification_report(y_test, pred_lr))"
   ]
  },
  {
   "cell_type": "code",
   "execution_count": 9,
   "id": "6c9f6538",
   "metadata": {},
   "outputs": [],
   "source": [
    "lrcoef =pd.DataFrame(model.coef_, columns=X.columns).T\n",
    "lrcoef.reset_index()\n",
    "lrcoef.columns=['Coefficient']"
   ]
  },
  {
   "cell_type": "code",
   "execution_count": 10,
   "id": "11863b4e",
   "metadata": {},
   "outputs": [],
   "source": [
    "HO = lrcoef.loc['home_ownership_MORTGAGE':,:]\n",
    "HO = pd.DataFrame({'Coefficient': HO.mean()})\n",
    "HO.index = ['home_ownership']\n",
    "Emp = lrcoef.loc['emp_length_10+ years':'emp_length_< 1 year', :]\n",
    "Emp = pd.DataFrame({'Coefficient': Emp.mean()})\n",
    "Emp.index = ['employment length']\n",
    "Sub = lrcoef.loc['sub_grade_A2':'sub_grade_G5', :]\n",
    "sub = pd.DataFrame({'Coefficient': lrcoef.loc['sub_grade_A2':'sub_grade_G5', :].mean()})\n",
    "sub.index = ['sub_grade']\n",
    "term = pd.DataFrame({'Coefficient': lrcoef.loc['term_ 60 months',:]})\n",
    "term.index = ['term']\n",
    "\n",
    "lrcoef = pd.concat([lrcoef.loc[:'Credit Length (year)',:], term, HO, Emp, sub])"
   ]
  },
  {
   "cell_type": "code",
   "execution_count": 44,
   "id": "f4affd85",
   "metadata": {},
   "outputs": [],
   "source": []
  },
  {
   "cell_type": "code",
   "execution_count": 12,
   "id": "4120b549",
   "metadata": {},
   "outputs": [
    {
     "data": {
      "text/plain": [
       "Text(0, 0.5, 'Feature')"
      ]
     },
     "execution_count": 12,
     "metadata": {},
     "output_type": "execute_result"
    },
    {
     "data": {
      "image/png": "[encoded data removed]",
      "text/plain": [
       "<Figure size 864x576 with 1 Axes>"
      ]
     },
     "metadata": {
      "needs_background": "light"
     },
     "output_type": "display_data"
    }
   ],
   "source": [
    "fig, ax=plt.subplots()\n",
    "lrcoef.sort_values(by='Coefficient').iloc[:, lrcoef.columns.get_loc('Coefficient')].plot(kind='barh', figsize=(12,8), ax=ax)\n",
    "ax.set_title('Feature importance for logistic regression')\n",
    "ax.set_xlabel('Coefficient')\n",
    "ax.set_ylabel('Feature')\n"
   ]
  },
  {
   "cell_type": "markdown",
   "id": "9703de5a",
   "metadata": {},
   "source": [
    "### 7.2. Decision tree classifier: Entropy model - no max_depth\n",
    " \n"
   ]
  },
  {
   "cell_type": "markdown",
   "id": "ee57a6d3",
   "metadata": {},
   "source": [
    "### 7.2.1. Fitting a decision tree to the data"
   ]
  },
  {
   "cell_type": "code",
   "execution_count": 104,
   "id": "063a6562",
   "metadata": {},
   "outputs": [
    {
     "name": "stdout",
     "output_type": "stream",
     "text": [
      "Model Entropy model max depth 3\n",
      "Accuracy: 0.783055454274255\n",
      "Balanced accuracy: 0.5\n"
     ]
    },
    {
     "name": "stderr",
     "output_type": "stream",
     "text": [
      "C:\\Users\\somfl\\anaconda3\\lib\\site-packages\\sklearn\\metrics\\_classification.py:1245: UndefinedMetricWarning: Precision is ill-defined and being set to 0.0 due to no predicted samples. Use `zero_division` parameter to control this behavior.\n",
      "  _warn_prf(average, modifier, msg_start, len(result))\n"
     ]
    },
    {
     "name": "stdout",
     "output_type": "stream",
     "text": [
      "Precision score for Default 0.0\n",
      "Recall score for Fully paid 1.0\n"
     ]
    }
   ],
   "source": [
    "# Made a model as before, but call it entr_model2, and make the max_depth parameter equal to 3. \n",
    "# Execute the fitting, predicting, and Series operations as before\n",
    "entr_model2 = tree.DecisionTreeClassifier(criterion=\"entropy\", max_depth =3, random_state = 1234)\n",
    "\n",
    "# Call fit() on entr_model\n",
    "entr_model2.fit(X_train, y_train)\n",
    "\n",
    "# Call predict() on entr_model with X_test passed to it, and assign the result to a variable y_pred \n",
    "y_pred = entr_model2.predict(X_test)\n",
    "\n",
    "# Call Series on our y_pred variable with the following: pd.Series(y_pred)\n",
    "y_pred = pd.Series(y_pred) \n",
    "\n",
    "# Check out entr_model\n",
    "entr_model2\n",
    "\n",
    "# Run this block for model evaluation \n",
    "print(\"Model Entropy model max depth 3\")\n",
    "print(\"Accuracy:\", metrics.accuracy_score(y_test,y_pred))\n",
    "print(\"Balanced accuracy:\", metrics.balanced_accuracy_score(y_test,y_pred))\n",
    "print('Precision score for Default' , metrics.precision_score(y_test,y_pred, pos_label = \"Default\"))\n",
    "print('Recall score for Fully paid' , metrics.recall_score(y_test,y_pred, pos_label = \"Fully Paid\"))"
   ]
  },
  {
   "cell_type": "markdown",
   "id": "c89062b2",
   "metadata": {},
   "source": [
    "### 7.2.2. Making a pipeline for decision tree"
   ]
  },
  {
   "cell_type": "code",
   "execution_count": 13,
   "id": "3a6a182d",
   "metadata": {},
   "outputs": [],
   "source": [
    "pipeTree = make_pipeline( \n",
    "    MinMaxScaler(),\n",
    "    tree.DecisionTreeClassifier()\n",
    ")"
   ]
  },
  {
   "cell_type": "code",
   "execution_count": 70,
   "id": "40d7816b",
   "metadata": {},
   "outputs": [
    {
     "data": {
      "text/plain": [
       "dict_keys(['memory', 'steps', 'verbose', 'minmaxscaler', 'decisiontreeclassifier', 'minmaxscaler__clip', 'minmaxscaler__copy', 'minmaxscaler__feature_range', 'decisiontreeclassifier__ccp_alpha', 'decisiontreeclassifier__class_weight', 'decisiontreeclassifier__criterion', 'decisiontreeclassifier__max_depth', 'decisiontreeclassifier__max_features', 'decisiontreeclassifier__max_leaf_nodes', 'decisiontreeclassifier__min_impurity_decrease', 'decisiontreeclassifier__min_impurity_split', 'decisiontreeclassifier__min_samples_leaf', 'decisiontreeclassifier__min_samples_split', 'decisiontreeclassifier__min_weight_fraction_leaf', 'decisiontreeclassifier__random_state', 'decisiontreeclassifier__splitter'])"
      ]
     },
     "execution_count": 70,
     "metadata": {},
     "output_type": "execute_result"
    }
   ],
   "source": [
    "pipeTree.get_params().keys()"
   ]
  },
  {
   "cell_type": "code",
   "execution_count": 72,
   "id": "861a3506",
   "metadata": {},
   "outputs": [],
   "source": [
    "grid_params = {'decisiontreeclassifier__criterion': ['gini', 'entropy'], 'decisiontreeclassifier__max_depth': [2, 3, 4, 6, 8, 10, 12]}"
   ]
  },
  {
   "cell_type": "code",
   "execution_count": 73,
   "id": "5faeac4c",
   "metadata": {},
   "outputs": [
    {
     "data": {
      "text/plain": [
       "GridSearchCV(cv=5,\n",
       "             estimator=Pipeline(steps=[('minmaxscaler', MinMaxScaler()),\n",
       "                                       ('decisiontreeclassifier',\n",
       "                                        DecisionTreeClassifier())]),\n",
       "             n_jobs=-1,\n",
       "             param_grid={'decisiontreeclassifier__criterion': ['gini',\n",
       "                                                               'entropy'],\n",
       "                         'decisiontreeclassifier__max_depth': [2, 3, 4, 6, 8,\n",
       "                                                               10, 12]})"
      ]
     },
     "execution_count": 73,
     "metadata": {},
     "output_type": "execute_result"
    }
   ],
   "source": [
    "tree_grid_cv = GridSearchCV(pipeTree, param_grid=grid_params, cv=5, n_jobs=-1)\n",
    "tree_grid_cv.fit(X_train, y_train)"
   ]
  },
  {
   "cell_type": "code",
   "execution_count": 74,
   "id": "56c870d3",
   "metadata": {},
   "outputs": [
    {
     "data": {
      "text/plain": [
       "{'decisiontreeclassifier__criterion': 'gini',\n",
       " 'decisiontreeclassifier__max_depth': 6}"
      ]
     },
     "execution_count": 74,
     "metadata": {},
     "output_type": "execute_result"
    }
   ],
   "source": [
    "tree_grid_cv.best_params_"
   ]
  },
  {
   "cell_type": "markdown",
   "id": "3e1e7e60",
   "metadata": {},
   "source": [
    "After finding the best hyperparameters, we will fit a decision tree to the training data by using the best hyperparameters and then, we will look at the importance of the features."
   ]
  },
  {
   "cell_type": "code",
   "execution_count": 14,
   "id": "20314a6a",
   "metadata": {},
   "outputs": [
    {
     "name": "stdout",
     "output_type": "stream",
     "text": [
      "Accuracy: 0.7707752401186209\n",
      "Balanced accuracy: 0.5647830768832519\n",
      "Precision score for Default 0.4353165185716651\n",
      "Recall score for Fully paid 0.9277727186090345\n"
     ]
    }
   ],
   "source": [
    "BestTree = tree.DecisionTreeClassifier(criterion=\"gini\", max_depth =6, random_state = 1234)\n",
    "pipeTreeBest = make_pipeline(MinMaxScaler(), BestTree)\n",
    "pipeTreeBest.fit(X_train, y_train)\n",
    "y_pred = BestTree.predict(X_test)\n",
    "y_pred = pd.Series(y_pred) \n",
    "\n",
    "print(\"Accuracy:\", metrics.accuracy_score(y_test,y_pred))\n",
    "print(\"Balanced accuracy:\", metrics.balanced_accuracy_score(y_test,y_pred))\n",
    "print('Precision score for Default' , metrics.precision_score(y_test,y_pred, pos_label = \"Default\"))\n",
    "print('Recall score for Fully paid' , metrics.recall_score(y_test,y_pred, pos_label = \"Fully Paid\"))"
   ]
  },
  {
   "cell_type": "code",
   "execution_count": 15,
   "id": "0292092b",
   "metadata": {},
   "outputs": [],
   "source": [
    "TreeFeatures =pd.DataFrame(BestTree.feature_importances_)\n",
    "TreeFeatures.index=X.columns\n",
    "TreeFeatures.columns=['Importance']"
   ]
  },
  {
   "cell_type": "code",
   "execution_count": 16,
   "id": "2c30c604",
   "metadata": {},
   "outputs": [],
   "source": [
    "HO = TreeFeatures.loc['home_ownership_MORTGAGE':,:]\n",
    "HO = pd.DataFrame({'Importance': HO.mean()})\n",
    "HO.index = ['home_ownership']\n",
    "Emp = TreeFeatures.loc['emp_length_10+ years':'emp_length_< 1 year', :]\n",
    "Emp = pd.DataFrame({'Importance': Emp.mean()})\n",
    "Emp.index = ['employment length']\n",
    "Sub = TreeFeatures.loc['sub_grade_A2':'sub_grade_G5', :]\n",
    "sub = pd.DataFrame({'Importance': Sub.mean()})\n",
    "sub.index = ['sub_grade']\n",
    "term = pd.DataFrame({'Importance': TreeFeatures.loc['term_ 60 months',:]})\n",
    "term.index = ['term']\n",
    "\n",
    "TreeFeatures = pd.concat([TreeFeatures.loc[:'Credit Length (year)',:], term, HO, Emp, sub])"
   ]
  },
  {
   "cell_type": "code",
   "execution_count": 17,
   "id": "65a36023",
   "metadata": {},
   "outputs": [
    {
     "data": {
      "text/plain": [
       "Text(0, 0.5, 'Feature')"
      ]
     },
     "execution_count": 17,
     "metadata": {},
     "output_type": "execute_result"
    },
    {
     "data": {
      "image/png": "[encoded data removed]",
      "text/plain": [
       "<Figure size 864x576 with 1 Axes>"
      ]
     },
     "metadata": {
      "needs_background": "light"
     },
     "output_type": "display_data"
    }
   ],
   "source": [
    "fig, ax=plt.subplots()\n",
    "TreeFeatures.sort_values(by='Importance').iloc[:, TreeFeatures.columns.get_loc('Importance')].plot(kind='barh', figsize=(12,8))\n",
    "ax.set_title('Feature importance for the decision tree model')\n",
    "ax.set_xlabel('Coefficient')\n",
    "ax.set_ylabel('Feature')\n"
   ]
  },
  {
   "cell_type": "code",
   "execution_count": null,
   "id": "bfeb11a3",
   "metadata": {},
   "outputs": [],
   "source": []
  },
  {
   "cell_type": "code",
   "execution_count": null,
   "id": "47cc52a2",
   "metadata": {},
   "outputs": [],
   "source": []
  },
  {
   "cell_type": "code",
   "execution_count": null,
   "id": "2d07b12c",
   "metadata": {},
   "outputs": [],
   "source": []
  },
  {
   "cell_type": "code",
   "execution_count": null,
   "id": "5a18530d",
   "metadata": {},
   "outputs": [],
   "source": []
  },
  {
   "cell_type": "code",
   "execution_count": null,
   "id": "c52b26b9",
   "metadata": {},
   "outputs": [],
   "source": []
  },
  {
   "cell_type": "markdown",
   "id": "b63cfd61",
   "metadata": {},
   "source": [
    "## 7.3. Random Forest"
   ]
  },
  {
   "cell_type": "markdown",
   "id": "881b120b",
   "metadata": {},
   "source": [
    "### 7.3.1. Random forest pipeline"
   ]
  },
  {
   "cell_type": "code",
   "execution_count": 7,
   "id": "21551cc4",
   "metadata": {},
   "outputs": [],
   "source": [
    "pipeRF = make_pipeline(MinMaxScaler(), RandomForestClassifier(random_state=47))"
   ]
  },
  {
   "cell_type": "code",
   "execution_count": 19,
   "id": "1342af27",
   "metadata": {},
   "outputs": [
    {
     "data": {
      "text/plain": [
       "array([0.78748629, 0.78688631, 0.78755024, 0.78732498, 0.78717678])"
      ]
     },
     "execution_count": 19,
     "metadata": {},
     "output_type": "execute_result"
    }
   ],
   "source": [
    "rf_default_cv_results = cross_validate(pipeRF, X_train, y_train, cv=5)\n",
    "rf_cv_scores = rf_default_cv_results['test_score']\n",
    "rf_cv_scores"
   ]
  },
  {
   "cell_type": "code",
   "execution_count": 20,
   "id": "b12a2ed1",
   "metadata": {},
   "outputs": [
    {
     "data": {
      "text/plain": [
       "{'memory': None,\n",
       " 'steps': [('minmaxscaler', MinMaxScaler()),\n",
       "  ('randomforestclassifier', RandomForestClassifier(random_state=47))],\n",
       " 'verbose': False,\n",
       " 'minmaxscaler': MinMaxScaler(),\n",
       " 'randomforestclassifier': RandomForestClassifier(random_state=47),\n",
       " 'minmaxscaler__clip': False,\n",
       " 'minmaxscaler__copy': True,\n",
       " 'minmaxscaler__feature_range': (0, 1),\n",
       " 'randomforestclassifier__bootstrap': True,\n",
       " 'randomforestclassifier__ccp_alpha': 0.0,\n",
       " 'randomforestclassifier__class_weight': None,\n",
       " 'randomforestclassifier__criterion': 'gini',\n",
       " 'randomforestclassifier__max_depth': None,\n",
       " 'randomforestclassifier__max_features': 'auto',\n",
       " 'randomforestclassifier__max_leaf_nodes': None,\n",
       " 'randomforestclassifier__max_samples': None,\n",
       " 'randomforestclassifier__min_impurity_decrease': 0.0,\n",
       " 'randomforestclassifier__min_impurity_split': None,\n",
       " 'randomforestclassifier__min_samples_leaf': 1,\n",
       " 'randomforestclassifier__min_samples_split': 2,\n",
       " 'randomforestclassifier__min_weight_fraction_leaf': 0.0,\n",
       " 'randomforestclassifier__n_estimators': 100,\n",
       " 'randomforestclassifier__n_jobs': None,\n",
       " 'randomforestclassifier__oob_score': False,\n",
       " 'randomforestclassifier__random_state': 47,\n",
       " 'randomforestclassifier__verbose': 0,\n",
       " 'randomforestclassifier__warm_start': False}"
      ]
     },
     "execution_count": 20,
     "metadata": {},
     "output_type": "execute_result"
    }
   ],
   "source": [
    "pipeRF.get_params()"
   ]
  },
  {
   "cell_type": "code",
   "execution_count": 10,
   "id": "87baef64",
   "metadata": {},
   "outputs": [],
   "source": [
    "from sklearn.model_selection import RandomizedSearchCV\n",
    "# Number of trees in random forest\n",
    "n_estimators = [100, 200]\n",
    "# Number of features to consider at every split\n",
    "max_features = ['auto', 'sqrt']\n",
    "# Maximum number of levels in tree\n",
    "max_depth = [3, 6]\n",
    "max_depth.append(None)\n",
    "# Minimum number of samples required to split a node\n",
    "min_samples_split = [1, 2]\n",
    "# Minimum number of samples required at each leaf node\n",
    "min_samples_leaf = [1, 2]\n",
    "# Method of selecting samples for training each tree\n",
    "bootstrap = [True]\n",
    "# Create the random grid\n",
    "random_grid = {'randomforestclassifier__n_estimators': n_estimators,\n",
    "               'randomforestclassifier__max_features': max_features,\n",
    "               'randomforestclassifier__max_depth': max_depth,\n",
    "               'randomforestclassifier__min_samples_split': min_samples_split,\n",
    "               'randomforestclassifier__min_samples_leaf': min_samples_leaf,\n",
    "               'randomforestclassifier__bootstrap': bootstrap}\n"
   ]
  },
  {
   "cell_type": "code",
   "execution_count": null,
   "id": "a75637c6",
   "metadata": {},
   "outputs": [],
   "source": [
    "rf_grid_cv  = GridSearchCV(pipeRF, param_grid = random_grid, cv = 5, n_jobs = -1)\n",
    "rf_grid_cv.fit(X_train, y_train)\n",
    "rf_grid_cv.best_params_"
   ]
  },
  {
   "cell_type": "code",
   "execution_count": null,
   "id": "7e97de31",
   "metadata": {},
   "outputs": [],
   "source": [
    "param_grid = { \n",
    "    'n_estimators': [10,20,50],\n",
    "    'max_features': ['auto', 'sqrt', 'log2'],\n",
    "    'max_depth' : [7,8,9,10,11,12,13,14,15],\n",
    "    'criterion' :['gini', 'entropy']\n",
    "}\n",
    "rfc = RandomForestClassifier(random_state=42)\n",
    "CV_rfc = GridSearchCV(estimator=rfc, param_grid=param_grid, cv= 5)\n",
    "CV_rfc.fit(X_test, y_test)"
   ]
  },
  {
   "cell_type": "markdown",
   "id": "f97da315",
   "metadata": {},
   "source": [
    "## Neural Network"
   ]
  },
  {
   "cell_type": "code",
   "execution_count": 349,
   "id": "85021aef",
   "metadata": {},
   "outputs": [
    {
     "name": "stdout",
     "output_type": "stream",
     "text": [
      "Accuracy of RandomForestClassifier: 78.39\n"
     ]
    },
    {
     "name": "stderr",
     "output_type": "stream",
     "text": [
      "C:\\Users\\somfl\\anaconda3\\lib\\site-packages\\sklearn\\metrics\\_classification.py:1245: UndefinedMetricWarning: Precision and F-score are ill-defined and being set to 0.0 in labels with no predicted samples. Use `zero_division` parameter to control this behavior.\n",
      "  _warn_prf(average, modifier, msg_start, len(result))\n",
      "C:\\Users\\somfl\\anaconda3\\lib\\site-packages\\sklearn\\metrics\\_classification.py:1245: UndefinedMetricWarning: Precision and F-score are ill-defined and being set to 0.0 in labels with no predicted samples. Use `zero_division` parameter to control this behavior.\n",
      "  _warn_prf(average, modifier, msg_start, len(result))\n"
     ]
    },
    {
     "name": "stdout",
     "output_type": "stream",
     "text": [
      "              precision    recall  f1-score   support\n",
      "\n",
      "     Default       0.00      0.00      0.00     78056\n",
      "  Fully Paid       0.78      1.00      0.88    283214\n",
      "\n",
      "    accuracy                           0.78    361270\n",
      "   macro avg       0.39      0.50      0.44    361270\n",
      "weighted avg       0.61      0.78      0.69    361270\n",
      "\n"
     ]
    },
    {
     "name": "stderr",
     "output_type": "stream",
     "text": [
      "C:\\Users\\somfl\\anaconda3\\lib\\site-packages\\sklearn\\metrics\\_classification.py:1245: UndefinedMetricWarning: Precision and F-score are ill-defined and being set to 0.0 in labels with no predicted samples. Use `zero_division` parameter to control this behavior.\n",
      "  _warn_prf(average, modifier, msg_start, len(result))\n"
     ]
    }
   ],
   "source": [
    "model = RandomForestClassifier(max_depth=6)\n",
    "model.fit(X_train,y_train)\n",
    "pred_lr = model.predict(X_test)\n",
    "accuracy= accuracy_score(pred_lr,y_test)*100\n",
    "print('Accuracy of RandomForestClassifier: {:.2f}'.format(accuracy))\n",
    "print(classification_report(y_test, pred_lr))"
   ]
  },
  {
   "cell_type": "code",
   "execution_count": 130,
   "id": "2b0098d6",
   "metadata": {},
   "outputs": [],
   "source": [
    "from keras.utils.np_utils import to_categorical \n",
    "from keras.layers import Dense\n",
    "from keras.models import Sequential"
   ]
  },
  {
   "cell_type": "code",
   "execution_count": 334,
   "id": "27a33c80",
   "metadata": {},
   "outputs": [],
   "source": [
    "y = y.values.reshape(-1, 1)\n",
    "enc = OneHotEncoder(drop='first')\n",
    "y = enc.fit_transform(y).toarray()"
   ]
  },
  {
   "cell_type": "code",
   "execution_count": 322,
   "id": "5d35bc9a",
   "metadata": {},
   "outputs": [
    {
     "data": {
      "text/plain": [
       "(1204233, 31)"
      ]
     },
     "execution_count": 322,
     "metadata": {},
     "output_type": "execute_result"
    }
   ],
   "source": [
    "X.shape"
   ]
  },
  {
   "cell_type": "code",
   "execution_count": 248,
   "id": "0f5cdcd0",
   "metadata": {},
   "outputs": [
    {
     "data": {
      "text/html": [
       "<div>\n",
       "<style scoped>\n",
       "    .dataframe tbody tr th:only-of-type {\n",
       "        vertical-align: middle;\n",
       "    }\n",
       "\n",
       "    .dataframe tbody tr th {\n",
       "        vertical-align: top;\n",
       "    }\n",
       "\n",
       "    .dataframe thead th {\n",
       "        text-align: right;\n",
       "    }\n",
       "</style>\n",
       "<table border=\"1\" class=\"dataframe\">\n",
       "  <thead>\n",
       "    <tr style=\"text-align: right;\">\n",
       "      <th></th>\n",
       "      <th>revol_util</th>\n",
       "      <th>dti</th>\n",
       "      <th>chargeoff_within_12_mths</th>\n",
       "      <th>collections_12_mths_ex_med</th>\n",
       "      <th>inq_last_6mths</th>\n",
       "      <th>open_acc</th>\n",
       "      <th>mort_acc</th>\n",
       "      <th>annual_inc</th>\n",
       "      <th>funded_amnt</th>\n",
       "      <th>installment</th>\n",
       "      <th>...</th>\n",
       "      <th>emp_length_7 years</th>\n",
       "      <th>emp_length_8 years</th>\n",
       "      <th>emp_length_9 years</th>\n",
       "      <th>emp_length_&lt; 1 year</th>\n",
       "      <th>home_ownership_MORTGAGE</th>\n",
       "      <th>home_ownership_NONE</th>\n",
       "      <th>home_ownership_OTHER</th>\n",
       "      <th>home_ownership_OWN</th>\n",
       "      <th>home_ownership_RENT</th>\n",
       "      <th>id</th>\n",
       "    </tr>\n",
       "  </thead>\n",
       "  <tbody>\n",
       "    <tr>\n",
       "      <th>0</th>\n",
       "      <td>29.7</td>\n",
       "      <td>5.91</td>\n",
       "      <td>0.0</td>\n",
       "      <td>0.0</td>\n",
       "      <td>1.0</td>\n",
       "      <td>7.0</td>\n",
       "      <td>1.0</td>\n",
       "      <td>55000.0</td>\n",
       "      <td>3600.0</td>\n",
       "      <td>123.03</td>\n",
       "      <td>...</td>\n",
       "      <td>0.0</td>\n",
       "      <td>0.0</td>\n",
       "      <td>0.0</td>\n",
       "      <td>0.0</td>\n",
       "      <td>1.0</td>\n",
       "      <td>0.0</td>\n",
       "      <td>0.0</td>\n",
       "      <td>0.0</td>\n",
       "      <td>0.0</td>\n",
       "      <td>68407277</td>\n",
       "    </tr>\n",
       "    <tr>\n",
       "      <th>1</th>\n",
       "      <td>19.2</td>\n",
       "      <td>16.06</td>\n",
       "      <td>0.0</td>\n",
       "      <td>0.0</td>\n",
       "      <td>4.0</td>\n",
       "      <td>22.0</td>\n",
       "      <td>4.0</td>\n",
       "      <td>65000.0</td>\n",
       "      <td>24700.0</td>\n",
       "      <td>820.28</td>\n",
       "      <td>...</td>\n",
       "      <td>0.0</td>\n",
       "      <td>0.0</td>\n",
       "      <td>0.0</td>\n",
       "      <td>0.0</td>\n",
       "      <td>1.0</td>\n",
       "      <td>0.0</td>\n",
       "      <td>0.0</td>\n",
       "      <td>0.0</td>\n",
       "      <td>0.0</td>\n",
       "      <td>68355089</td>\n",
       "    </tr>\n",
       "    <tr>\n",
       "      <th>2</th>\n",
       "      <td>64.5</td>\n",
       "      <td>25.37</td>\n",
       "      <td>0.0</td>\n",
       "      <td>0.0</td>\n",
       "      <td>3.0</td>\n",
       "      <td>12.0</td>\n",
       "      <td>6.0</td>\n",
       "      <td>104433.0</td>\n",
       "      <td>10400.0</td>\n",
       "      <td>289.91</td>\n",
       "      <td>...</td>\n",
       "      <td>0.0</td>\n",
       "      <td>0.0</td>\n",
       "      <td>0.0</td>\n",
       "      <td>0.0</td>\n",
       "      <td>1.0</td>\n",
       "      <td>0.0</td>\n",
       "      <td>0.0</td>\n",
       "      <td>0.0</td>\n",
       "      <td>0.0</td>\n",
       "      <td>68476807</td>\n",
       "    </tr>\n",
       "    <tr>\n",
       "      <th>3</th>\n",
       "      <td>68.4</td>\n",
       "      <td>10.20</td>\n",
       "      <td>0.0</td>\n",
       "      <td>0.0</td>\n",
       "      <td>0.0</td>\n",
       "      <td>5.0</td>\n",
       "      <td>0.0</td>\n",
       "      <td>34000.0</td>\n",
       "      <td>11950.0</td>\n",
       "      <td>405.18</td>\n",
       "      <td>...</td>\n",
       "      <td>0.0</td>\n",
       "      <td>0.0</td>\n",
       "      <td>0.0</td>\n",
       "      <td>0.0</td>\n",
       "      <td>0.0</td>\n",
       "      <td>0.0</td>\n",
       "      <td>0.0</td>\n",
       "      <td>0.0</td>\n",
       "      <td>1.0</td>\n",
       "      <td>68426831</td>\n",
       "    </tr>\n",
       "    <tr>\n",
       "      <th>4</th>\n",
       "      <td>84.5</td>\n",
       "      <td>14.67</td>\n",
       "      <td>0.0</td>\n",
       "      <td>0.0</td>\n",
       "      <td>0.0</td>\n",
       "      <td>12.0</td>\n",
       "      <td>4.0</td>\n",
       "      <td>180000.0</td>\n",
       "      <td>20000.0</td>\n",
       "      <td>637.58</td>\n",
       "      <td>...</td>\n",
       "      <td>0.0</td>\n",
       "      <td>0.0</td>\n",
       "      <td>0.0</td>\n",
       "      <td>0.0</td>\n",
       "      <td>1.0</td>\n",
       "      <td>0.0</td>\n",
       "      <td>0.0</td>\n",
       "      <td>0.0</td>\n",
       "      <td>0.0</td>\n",
       "      <td>68476668</td>\n",
       "    </tr>\n",
       "  </tbody>\n",
       "</table>\n",
       "<p>5 rows × 35 columns</p>\n",
       "</div>"
      ],
      "text/plain": [
       "   revol_util    dti  chargeoff_within_12_mths  collections_12_mths_ex_med  \\\n",
       "0        29.7   5.91                       0.0                         0.0   \n",
       "1        19.2  16.06                       0.0                         0.0   \n",
       "2        64.5  25.37                       0.0                         0.0   \n",
       "3        68.4  10.20                       0.0                         0.0   \n",
       "4        84.5  14.67                       0.0                         0.0   \n",
       "\n",
       "   inq_last_6mths  open_acc  mort_acc  annual_inc  funded_amnt  installment  \\\n",
       "0             1.0       7.0       1.0     55000.0       3600.0       123.03   \n",
       "1             4.0      22.0       4.0     65000.0      24700.0       820.28   \n",
       "2             3.0      12.0       6.0    104433.0      10400.0       289.91   \n",
       "3             0.0       5.0       0.0     34000.0      11950.0       405.18   \n",
       "4             0.0      12.0       4.0    180000.0      20000.0       637.58   \n",
       "\n",
       "   ...  emp_length_7 years  emp_length_8 years  emp_length_9 years  \\\n",
       "0  ...                 0.0                 0.0                 0.0   \n",
       "1  ...                 0.0                 0.0                 0.0   \n",
       "2  ...                 0.0                 0.0                 0.0   \n",
       "3  ...                 0.0                 0.0                 0.0   \n",
       "4  ...                 0.0                 0.0                 0.0   \n",
       "\n",
       "   emp_length_< 1 year  home_ownership_MORTGAGE  home_ownership_NONE  \\\n",
       "0                  0.0                      1.0                  0.0   \n",
       "1                  0.0                      1.0                  0.0   \n",
       "2                  0.0                      1.0                  0.0   \n",
       "3                  0.0                      0.0                  0.0   \n",
       "4                  0.0                      1.0                  0.0   \n",
       "\n",
       "   home_ownership_OTHER  home_ownership_OWN  home_ownership_RENT        id  \n",
       "0                   0.0                 0.0                  0.0  68407277  \n",
       "1                   0.0                 0.0                  0.0  68355089  \n",
       "2                   0.0                 0.0                  0.0  68476807  \n",
       "3                   0.0                 0.0                  1.0  68426831  \n",
       "4                   0.0                 0.0                  0.0  68476668  \n",
       "\n",
       "[5 rows x 35 columns]"
      ]
     },
     "execution_count": 248,
     "metadata": {},
     "output_type": "execute_result"
    }
   ],
   "source": [
    "X.head()"
   ]
  },
  {
   "cell_type": "code",
   "execution_count": 261,
   "id": "6c363b6b",
   "metadata": {},
   "outputs": [
    {
     "data": {
      "text/plain": [
       "array([[1.],\n",
       "       [1.],\n",
       "       [1.],\n",
       "       ...,\n",
       "       [0.],\n",
       "       [1.],\n",
       "       [0.]])"
      ]
     },
     "execution_count": 261,
     "metadata": {},
     "output_type": "execute_result"
    }
   ],
   "source": [
    "y"
   ]
  },
  {
   "cell_type": "code",
   "execution_count": 335,
   "id": "18b14e00",
   "metadata": {},
   "outputs": [],
   "source": [
    "predictors = X.values\n",
    "target = y"
   ]
  },
  {
   "cell_type": "code",
   "execution_count": 337,
   "id": "7c10105a",
   "metadata": {},
   "outputs": [
    {
     "data": {
      "text/plain": [
       "(1204233, 65)"
      ]
     },
     "execution_count": 337,
     "metadata": {},
     "output_type": "execute_result"
    }
   ],
   "source": [
    "predictors.shape"
   ]
  },
  {
   "cell_type": "code",
   "execution_count": 338,
   "id": "4924b6f0",
   "metadata": {},
   "outputs": [
    {
     "name": "stdout",
     "output_type": "stream",
     "text": [
      "26343/26343 [==============================] - 73s 3ms/step - loss: 1.7680 - accuracy: 0.7728 - val_loss: 0.5280 - val_accuracy: 0.7792\n"
     ]
    },
    {
     "data": {
      "text/plain": [
       "<keras.callbacks.History at 0x1ae910a1be0>"
      ]
     },
     "execution_count": 338,
     "metadata": {},
     "output_type": "execute_result"
    }
   ],
   "source": [
    "model = Sequential()\n",
    "model.add(Dense(100, activation='relu'))\n",
    "model.add(Dense(100, activation='relu'))\n",
    "model.add(Dense(50, activation='relu'))\n",
    "model.add(Dense(50, activation='relu'))\n",
    "model.add(Dense(2, activation='softmax'))\n",
    "model.compile(optimizer='adam', loss='sparse_categorical_crossentropy', metrics=['accuracy'])\n",
    "model.fit(predictors, target, validation_split=0.3)"
   ]
  },
  {
   "cell_type": "code",
   "execution_count": 307,
   "id": "94cd2d4f",
   "metadata": {},
   "outputs": [],
   "source": [
    "y = df['sub_grade']\n",
    "X = df[['fico_range_high', 'fico_range_low', 'annual_inc', 'dti', 'funded_amnt', 'Credit Length (year)' ]]"
   ]
  },
  {
   "cell_type": "code",
   "execution_count": 308,
   "id": "863db604",
   "metadata": {},
   "outputs": [
    {
     "name": "stderr",
     "output_type": "stream",
     "text": [
      "C:\\Users\\somfl\\anaconda3\\lib\\site-packages\\pandas\\core\\frame.py:4308: SettingWithCopyWarning: \n",
      "A value is trying to be set on a copy of a slice from a DataFrame\n",
      "\n",
      "See the caveats in the documentation: https://pandas.pydata.org/pandas-docs/stable/user_guide/indexing.html#returning-a-view-versus-a-copy\n",
      "  return super().drop(\n"
     ]
    }
   ],
   "source": [
    "categorical_columns_selector = selector(dtype_include=object)\n",
    "categorical_columns = categorical_columns_selector(X)\n",
    "categorical_columns\n",
    "enc = OneHotEncoder(drop='first')\n",
    "enc_df = pd.DataFrame(enc.fit_transform(X[categorical_columns]).toarray())\n",
    "feature_names = enc.get_feature_names(input_features=categorical_columns)\n",
    "enc_df.columns = feature_names\n",
    "X.drop(columns=categorical_columns, inplace=True)\n",
    "# merge with main df bridge_df on key values\n",
    "X =X.join(enc_df)\n",
    "#X.set_index('id', inplace=True)\n",
    "y = y.values.reshape(-1, 1)\n",
    "enc = OneHotEncoder()\n",
    "y = enc.fit_transform(y).toarray()\n",
    "predictors = X.values\n",
    "target = y"
   ]
  },
  {
   "cell_type": "code",
   "execution_count": 309,
   "id": "18773971",
   "metadata": {},
   "outputs": [
    {
     "data": {
      "text/plain": [
       "6"
      ]
     },
     "execution_count": 309,
     "metadata": {},
     "output_type": "execute_result"
    }
   ],
   "source": [
    "X.shape[1]"
   ]
  },
  {
   "cell_type": "code",
   "execution_count": 310,
   "id": "308d371a",
   "metadata": {},
   "outputs": [
    {
     "data": {
      "text/plain": [
       "35"
      ]
     },
     "execution_count": 310,
     "metadata": {},
     "output_type": "execute_result"
    }
   ],
   "source": [
    "y.shape[1]"
   ]
  },
  {
   "cell_type": "code",
   "execution_count": 311,
   "id": "fa1b20f3",
   "metadata": {},
   "outputs": [
    {
     "name": "stdout",
     "output_type": "stream",
     "text": [
      "26398/26398 [==============================] - 59s 2ms/step - loss: 3.9996 - accuracy: 0.0612 - val_loss: 3.1990 - val_accuracy: 0.0673\n"
     ]
    },
    {
     "data": {
      "text/plain": [
       "<keras.callbacks.History at 0x1ae8c66a640>"
      ]
     },
     "execution_count": 311,
     "metadata": {},
     "output_type": "execute_result"
    }
   ],
   "source": [
    "model = Sequential()\n",
    "model.add(Dense(100, activation='relu'))\n",
    "model.add(Dense(100, activation='relu'))\n",
    "model.add(Dense(100, activation='relu'))\n",
    "model.add(Dense(100, activation='relu'))\n",
    "model.add(Dense(30, activation='relu'))\n",
    "model.add(Dense(35, activation='softmax'))\n",
    "model.compile(optimizer='adam', loss='categorical_crossentropy', metrics=['accuracy'])\n",
    "model.fit(predictors, target, validation_split=0.3)"
   ]
  },
  {
   "cell_type": "code",
   "execution_count": null,
   "id": "61fba54d",
   "metadata": {},
   "outputs": [],
   "source": []
  }
 ],
 "metadata": {
  "kernelspec": {
   "display_name": "Python 3",
   "language": "python",
   "name": "python3"
  },
  "language_info": {
   "codemirror_mode": {
    "name": "ipython",
    "version": 3
   },
   "file_extension": ".py",
   "mimetype": "text/x-python",
   "name": "python",
   "nbconvert_exporter": "python",
   "pygments_lexer": "ipython3",
   "version": "3.8.8"
  }
 },
 "nbformat": 4,
 "nbformat_minor": 5
}
