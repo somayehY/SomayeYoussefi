{
 "cells": [
  {
   "cell_type": "markdown",
   "id": "5f1001cc",
   "metadata": {},
   "source": [
    "### Table of content"
   ]
  },
  {
   "cell_type": "markdown",
   "id": "60803b1a",
   "metadata": {},
   "source": [
    "* [1. Introduction](#introduction)\n",
    "* [2. Import required packages](#import)\n",
    "* [3. Load the data](#load)\n",
    "* [4. Data wrangling](#wrangle)\n",
    "    * [4.1. Data wrangling of the users' login history data](#df2)\n",
    "    * [4.2. Data wrangling of the users data](#df)\n",
    "    * [4.3. Missing data in _last session creation time ](#last)\n",
    "    * [4.4. Missing data in _invited_by_user_id_ ](#invite)\n",
    "    * [4.5. Find adopted users](#find)\n",
    "    * [4.6. Is data imbalanced?](#imb)\n",
    "* [5. Exploratory data analysis](#eda)\n",
    "    * [5.1. Exploring effects of several factor on user adoption](#effect)\n",
    "* [6. Preprocessing ](#process)\n",
    "    * [6.1. Define features and target](#define)\n",
    "    * [6.2. Apply One Hot Encoder to change categorical columns to numerical columns](#oneHot)\n",
    "    * [6.3. Split the data](#split)\n",
    "* [7. Model training](#model)\n",
    "    * [7.1. Make pipeline and hyperparameter tune with GridSearchCV](#pipe)\n",
    "    * [7.2. Train random forest classifier with best hyperparameter](#best)\n",
    "    * [7.3. Visualize the result of classification](#vis)\n",
    "    * [7.4. Feature importance assessment](#fi)\n",
    "* [8. Summary](#summary)"
   ]
  },
  {
   "cell_type": "markdown",
   "id": "9cc5c404",
   "metadata": {},
   "source": [
    "## 1. Introduction <a class='anchor' id='introduction'></a>"
   ]
  },
  {
   "cell_type": "markdown",
   "id": "08aa1705",
   "metadata": {},
   "source": [
    "This notebook is about an online platform and the ultimate objective is to identify which  factors  predict  future  user adoption. An adoppted user is defined as a person who logged in equal or more than 3 times in any 7-day window. There are two files available: one is the history of users' logins and the second one contains information about the users. These information include:\n",
    "1. name:  the  user's  name\n",
    "2. object_id:   the  user's  id\n",
    "3. email:  email  address\n",
    "4. creation_source:   how  their  account  was  created.  \n",
    "5. creation_time:  when  they  created  their  account\n",
    "6. last_session_creation_time:   unix  timestamp  of  last  login\n",
    "7. opted_in_to_mailing_list:  whether  they  have  opted  into  receiving marketing  emails\n",
    "8. enabled_for_marketing_drip:  whether  they  are  on  the  regular marketing  email  drip\n",
    "9. org_id:   the  organization  (group  of  users)  they  belong  to\n",
    "10. invited_by_user_id:   which  user  invited  them  to  join  (if  applicable)."
   ]
  },
  {
   "cell_type": "markdown",
   "id": "57dd015b",
   "metadata": {},
   "source": [
    "### 2. Import required packages <a class='anchor' id='import'><a/>"
   ]
  },
  {
   "cell_type": "markdown",
   "id": "a62aad15",
   "metadata": {},
   "source": [
    "I start by importing required packages."
   ]
  },
  {
   "cell_type": "code",
   "execution_count": 2,
   "id": "ee9d0b75",
   "metadata": {},
   "outputs": [],
   "source": [
    "import pandas as pd\n",
    "import numpy as np\n",
    "\n",
    "import matplotlib.pyplot as plt\n",
    "import seaborn as sns\n",
    "from IPython.display import Image  \n",
    "import pydotplus\n",
    "\n",
    "from datetime import datetime, timedelta\n",
    "import datetime\n",
    "\n",
    "from sklearn.model_selection import train_test_split, cross_val_score, cross_val_predict, cross_validate, GridSearchCV, learning_curve\n",
    "from sklearn.preprocessing import MinMaxScaler, OneHotEncoder\n",
    "\n",
    "from sklearn.ensemble import RandomForestClassifier\n",
    "from sklearn.metrics import classification_report, roc_auc_score, f1_score, precision_recall_curve, accuracy_score, confusion_matrix\n",
    "\n",
    "from sklearn.pipeline import make_pipeline\n",
    "from sklearn.impute import SimpleImputer\n",
    "\n",
    "from sklearn.compose import make_column_selector as selector\n",
    "from sklearn import tree, metrics"
   ]
  },
  {
   "cell_type": "markdown",
   "id": "bbaeed01",
   "metadata": {},
   "source": [
    "### 3. Load data files <a class='anchor' id='load' ><a/>"
   ]
  },
  {
   "cell_type": "markdown",
   "id": "b0a26881",
   "metadata": {},
   "source": [
    "There are two files that we need. One is users' data and the other is the users' login history. I use pandas to open these two files and save as df and df2."
   ]
  },
  {
   "cell_type": "code",
   "execution_count": 40,
   "id": "6784510f",
   "metadata": {},
   "outputs": [
    {
     "name": "stdout",
     "output_type": "stream",
     "text": [
      "(12000, 10)\n"
     ]
    },
    {
     "data": {
      "text/html": [
       "<div>\n",
       "<style scoped>\n",
       "    .dataframe tbody tr th:only-of-type {\n",
       "        vertical-align: middle;\n",
       "    }\n",
       "\n",
       "    .dataframe tbody tr th {\n",
       "        vertical-align: top;\n",
       "    }\n",
       "\n",
       "    .dataframe thead th {\n",
       "        text-align: right;\n",
       "    }\n",
       "</style>\n",
       "<table border=\"1\" class=\"dataframe\">\n",
       "  <thead>\n",
       "    <tr style=\"text-align: right;\">\n",
       "      <th></th>\n",
       "      <th>object_id</th>\n",
       "      <th>creation_time</th>\n",
       "      <th>name</th>\n",
       "      <th>email</th>\n",
       "      <th>creation_source</th>\n",
       "      <th>last_session_creation_time</th>\n",
       "      <th>opted_in_to_mailing_list</th>\n",
       "      <th>enabled_for_marketing_drip</th>\n",
       "      <th>org_id</th>\n",
       "      <th>invited_by_user_id</th>\n",
       "    </tr>\n",
       "  </thead>\n",
       "  <tbody>\n",
       "    <tr>\n",
       "      <th>0</th>\n",
       "      <td>1</td>\n",
       "      <td>2014-04-22 03:53:30</td>\n",
       "      <td>Clausen August</td>\n",
       "      <td>AugustCClausen@yahoo.com</td>\n",
       "      <td>GUEST_INVITE</td>\n",
       "      <td>1.398139e+09</td>\n",
       "      <td>1</td>\n",
       "      <td>0</td>\n",
       "      <td>11</td>\n",
       "      <td>10803.0</td>\n",
       "    </tr>\n",
       "    <tr>\n",
       "      <th>1</th>\n",
       "      <td>2</td>\n",
       "      <td>2013-11-15 03:45:04</td>\n",
       "      <td>Poole Matthew</td>\n",
       "      <td>MatthewPoole@gustr.com</td>\n",
       "      <td>ORG_INVITE</td>\n",
       "      <td>1.396238e+09</td>\n",
       "      <td>0</td>\n",
       "      <td>0</td>\n",
       "      <td>1</td>\n",
       "      <td>316.0</td>\n",
       "    </tr>\n",
       "    <tr>\n",
       "      <th>2</th>\n",
       "      <td>3</td>\n",
       "      <td>2013-03-19 23:14:52</td>\n",
       "      <td>Bottrill Mitchell</td>\n",
       "      <td>MitchellBottrill@gustr.com</td>\n",
       "      <td>ORG_INVITE</td>\n",
       "      <td>1.363735e+09</td>\n",
       "      <td>0</td>\n",
       "      <td>0</td>\n",
       "      <td>94</td>\n",
       "      <td>1525.0</td>\n",
       "    </tr>\n",
       "    <tr>\n",
       "      <th>3</th>\n",
       "      <td>4</td>\n",
       "      <td>2013-05-21 08:09:28</td>\n",
       "      <td>Clausen Nicklas</td>\n",
       "      <td>NicklasSClausen@yahoo.com</td>\n",
       "      <td>GUEST_INVITE</td>\n",
       "      <td>1.369210e+09</td>\n",
       "      <td>0</td>\n",
       "      <td>0</td>\n",
       "      <td>1</td>\n",
       "      <td>5151.0</td>\n",
       "    </tr>\n",
       "    <tr>\n",
       "      <th>4</th>\n",
       "      <td>5</td>\n",
       "      <td>2013-01-17 10:14:20</td>\n",
       "      <td>Raw Grace</td>\n",
       "      <td>GraceRaw@yahoo.com</td>\n",
       "      <td>GUEST_INVITE</td>\n",
       "      <td>1.358850e+09</td>\n",
       "      <td>0</td>\n",
       "      <td>0</td>\n",
       "      <td>193</td>\n",
       "      <td>5240.0</td>\n",
       "    </tr>\n",
       "  </tbody>\n",
       "</table>\n",
       "</div>"
      ],
      "text/plain": [
       "   object_id        creation_time               name  \\\n",
       "0          1  2014-04-22 03:53:30     Clausen August   \n",
       "1          2  2013-11-15 03:45:04      Poole Matthew   \n",
       "2          3  2013-03-19 23:14:52  Bottrill Mitchell   \n",
       "3          4  2013-05-21 08:09:28    Clausen Nicklas   \n",
       "4          5  2013-01-17 10:14:20          Raw Grace   \n",
       "\n",
       "                        email creation_source  last_session_creation_time  \\\n",
       "0    AugustCClausen@yahoo.com    GUEST_INVITE                1.398139e+09   \n",
       "1      MatthewPoole@gustr.com      ORG_INVITE                1.396238e+09   \n",
       "2  MitchellBottrill@gustr.com      ORG_INVITE                1.363735e+09   \n",
       "3   NicklasSClausen@yahoo.com    GUEST_INVITE                1.369210e+09   \n",
       "4          GraceRaw@yahoo.com    GUEST_INVITE                1.358850e+09   \n",
       "\n",
       "   opted_in_to_mailing_list  enabled_for_marketing_drip  org_id  \\\n",
       "0                         1                           0      11   \n",
       "1                         0                           0       1   \n",
       "2                         0                           0      94   \n",
       "3                         0                           0       1   \n",
       "4                         0                           0     193   \n",
       "\n",
       "   invited_by_user_id  \n",
       "0             10803.0  \n",
       "1               316.0  \n",
       "2              1525.0  \n",
       "3              5151.0  \n",
       "4              5240.0  "
      ]
     },
     "execution_count": 40,
     "metadata": {},
     "output_type": "execute_result"
    }
   ],
   "source": [
    "# Opening user data file and check the columns, shape and etc\n",
    "\n",
    "df = pd.read_csv('takehome_users.csv')\n",
    "print(df.shape)\n",
    "df.head()"
   ]
  },
  {
   "cell_type": "code",
   "execution_count": 41,
   "id": "ae2ebc38",
   "metadata": {},
   "outputs": [
    {
     "name": "stdout",
     "output_type": "stream",
     "text": [
      "(207917, 3)\n"
     ]
    },
    {
     "data": {
      "text/html": [
       "<div>\n",
       "<style scoped>\n",
       "    .dataframe tbody tr th:only-of-type {\n",
       "        vertical-align: middle;\n",
       "    }\n",
       "\n",
       "    .dataframe tbody tr th {\n",
       "        vertical-align: top;\n",
       "    }\n",
       "\n",
       "    .dataframe thead th {\n",
       "        text-align: right;\n",
       "    }\n",
       "</style>\n",
       "<table border=\"1\" class=\"dataframe\">\n",
       "  <thead>\n",
       "    <tr style=\"text-align: right;\">\n",
       "      <th></th>\n",
       "      <th>time_stamp</th>\n",
       "      <th>user_id</th>\n",
       "      <th>visited</th>\n",
       "    </tr>\n",
       "  </thead>\n",
       "  <tbody>\n",
       "    <tr>\n",
       "      <th>0</th>\n",
       "      <td>2014-04-22 03:53:30</td>\n",
       "      <td>1</td>\n",
       "      <td>1</td>\n",
       "    </tr>\n",
       "    <tr>\n",
       "      <th>1</th>\n",
       "      <td>2013-11-15 03:45:04</td>\n",
       "      <td>2</td>\n",
       "      <td>1</td>\n",
       "    </tr>\n",
       "    <tr>\n",
       "      <th>2</th>\n",
       "      <td>2013-11-29 03:45:04</td>\n",
       "      <td>2</td>\n",
       "      <td>1</td>\n",
       "    </tr>\n",
       "    <tr>\n",
       "      <th>3</th>\n",
       "      <td>2013-12-09 03:45:04</td>\n",
       "      <td>2</td>\n",
       "      <td>1</td>\n",
       "    </tr>\n",
       "    <tr>\n",
       "      <th>4</th>\n",
       "      <td>2013-12-25 03:45:04</td>\n",
       "      <td>2</td>\n",
       "      <td>1</td>\n",
       "    </tr>\n",
       "  </tbody>\n",
       "</table>\n",
       "</div>"
      ],
      "text/plain": [
       "            time_stamp  user_id  visited\n",
       "0  2014-04-22 03:53:30        1        1\n",
       "1  2013-11-15 03:45:04        2        1\n",
       "2  2013-11-29 03:45:04        2        1\n",
       "3  2013-12-09 03:45:04        2        1\n",
       "4  2013-12-25 03:45:04        2        1"
      ]
     },
     "execution_count": 41,
     "metadata": {},
     "output_type": "execute_result"
    }
   ],
   "source": [
    "# Opening user engagement data file and check the columns, shape and etc\n",
    "\n",
    "df2 = pd.read_csv('takehome_user_engagement.csv')\n",
    "print(df2.shape)\n",
    "df2.head()"
   ]
  },
  {
   "cell_type": "markdown",
   "id": "2a5a6834",
   "metadata": {},
   "source": [
    "For the second data file, users' login history, which is a time series, I need to set the index to the time data, as well as changing it to datetime format."
   ]
  },
  {
   "cell_type": "code",
   "execution_count": 42,
   "id": "a3a562e1",
   "metadata": {},
   "outputs": [
    {
     "data": {
      "text/html": [
       "<div>\n",
       "<style scoped>\n",
       "    .dataframe tbody tr th:only-of-type {\n",
       "        vertical-align: middle;\n",
       "    }\n",
       "\n",
       "    .dataframe tbody tr th {\n",
       "        vertical-align: top;\n",
       "    }\n",
       "\n",
       "    .dataframe thead th {\n",
       "        text-align: right;\n",
       "    }\n",
       "</style>\n",
       "<table border=\"1\" class=\"dataframe\">\n",
       "  <thead>\n",
       "    <tr style=\"text-align: right;\">\n",
       "      <th></th>\n",
       "      <th>user_id</th>\n",
       "      <th>visited</th>\n",
       "    </tr>\n",
       "    <tr>\n",
       "      <th>time_stamp</th>\n",
       "      <th></th>\n",
       "      <th></th>\n",
       "    </tr>\n",
       "  </thead>\n",
       "  <tbody>\n",
       "    <tr>\n",
       "      <th>2014-04-22 03:53:30</th>\n",
       "      <td>1</td>\n",
       "      <td>1</td>\n",
       "    </tr>\n",
       "    <tr>\n",
       "      <th>2013-11-15 03:45:04</th>\n",
       "      <td>2</td>\n",
       "      <td>1</td>\n",
       "    </tr>\n",
       "    <tr>\n",
       "      <th>2013-11-29 03:45:04</th>\n",
       "      <td>2</td>\n",
       "      <td>1</td>\n",
       "    </tr>\n",
       "    <tr>\n",
       "      <th>2013-12-09 03:45:04</th>\n",
       "      <td>2</td>\n",
       "      <td>1</td>\n",
       "    </tr>\n",
       "    <tr>\n",
       "      <th>2013-12-25 03:45:04</th>\n",
       "      <td>2</td>\n",
       "      <td>1</td>\n",
       "    </tr>\n",
       "  </tbody>\n",
       "</table>\n",
       "</div>"
      ],
      "text/plain": [
       "                     user_id  visited\n",
       "time_stamp                           \n",
       "2014-04-22 03:53:30        1        1\n",
       "2013-11-15 03:45:04        2        1\n",
       "2013-11-29 03:45:04        2        1\n",
       "2013-12-09 03:45:04        2        1\n",
       "2013-12-25 03:45:04        2        1"
      ]
     },
     "execution_count": 42,
     "metadata": {},
     "output_type": "execute_result"
    }
   ],
   "source": [
    "# Change the time stamp to datetime and set the columns the index \n",
    "\n",
    "df2 = df2.set_index(pd.to_datetime(df2['time_stamp']))[['user_id', 'visited']]\n",
    "df2.head()"
   ]
  },
  {
   "cell_type": "markdown",
   "id": "7614f8a1",
   "metadata": {},
   "source": [
    "## 4. Data wrangling <a class='anchor' id='wrangle'><a/>"
   ]
  },
  {
   "cell_type": "markdown",
   "id": "50bd26ed",
   "metadata": {},
   "source": [
    "I satrt data wrangling by the second dataframe, df2, which has a smaller number of columns. I check the data type and if there is any missing datapoints."
   ]
  },
  {
   "cell_type": "markdown",
   "id": "41a3a645",
   "metadata": {},
   "source": [
    "### 4.1. Data wrangling of the users' login history data <a class='anchor' id='df2'><a/>"
   ]
  },
  {
   "cell_type": "code",
   "execution_count": 43,
   "id": "b423d3c4",
   "metadata": {},
   "outputs": [
    {
     "data": {
      "text/plain": [
       "user_id    int64\n",
       "visited    int64\n",
       "dtype: object"
      ]
     },
     "execution_count": 43,
     "metadata": {},
     "output_type": "execute_result"
    }
   ],
   "source": [
    "# Checke df2 data type\n",
    "df2.dtypes"
   ]
  },
  {
   "cell_type": "code",
   "execution_count": 44,
   "id": "df02bcfa",
   "metadata": {},
   "outputs": [
    {
     "data": {
      "text/html": [
       "<div>\n",
       "<style scoped>\n",
       "    .dataframe tbody tr th:only-of-type {\n",
       "        vertical-align: middle;\n",
       "    }\n",
       "\n",
       "    .dataframe tbody tr th {\n",
       "        vertical-align: top;\n",
       "    }\n",
       "\n",
       "    .dataframe thead th {\n",
       "        text-align: right;\n",
       "    }\n",
       "</style>\n",
       "<table border=\"1\" class=\"dataframe\">\n",
       "  <thead>\n",
       "    <tr style=\"text-align: right;\">\n",
       "      <th></th>\n",
       "      <th>count</th>\n",
       "      <th>%</th>\n",
       "    </tr>\n",
       "  </thead>\n",
       "  <tbody>\n",
       "    <tr>\n",
       "      <th>user_id</th>\n",
       "      <td>0</td>\n",
       "      <td>0.0</td>\n",
       "    </tr>\n",
       "    <tr>\n",
       "      <th>visited</th>\n",
       "      <td>0</td>\n",
       "      <td>0.0</td>\n",
       "    </tr>\n",
       "  </tbody>\n",
       "</table>\n",
       "</div>"
      ],
      "text/plain": [
       "         count    %\n",
       "user_id      0  0.0\n",
       "visited      0  0.0"
      ]
     },
     "execution_count": 44,
     "metadata": {},
     "output_type": "execute_result"
    }
   ],
   "source": [
    "# Check missing data in df2\n",
    "missing1 = df2.isnull().sum()\n",
    "missing2 = 100*df2.isnull().mean()\n",
    "missing = pd.concat([missing1, missing2], axis=1)\n",
    "missing.columns = ['count', '%']\n",
    "missing"
   ]
  },
  {
   "cell_type": "markdown",
   "id": "f1c8edaa",
   "metadata": {},
   "source": [
    "There is no missing data in the users' login history file and data columns are integer. "
   ]
  },
  {
   "cell_type": "markdown",
   "id": "733cfe76",
   "metadata": {},
   "source": [
    "### 4.2. Data wrangling of the users data <a class='anchor' id='df'><a/>"
   ]
  },
  {
   "cell_type": "markdown",
   "id": "f242e0f6",
   "metadata": {},
   "source": [
    "I use describe() to get an understanding of the data, then I check the data type and if there is any missing datapoints."
   ]
  },
  {
   "cell_type": "code",
   "execution_count": 45,
   "id": "adba8b4c",
   "metadata": {},
   "outputs": [
    {
     "data": {
      "text/html": [
       "<div>\n",
       "<style scoped>\n",
       "    .dataframe tbody tr th:only-of-type {\n",
       "        vertical-align: middle;\n",
       "    }\n",
       "\n",
       "    .dataframe tbody tr th {\n",
       "        vertical-align: top;\n",
       "    }\n",
       "\n",
       "    .dataframe thead th {\n",
       "        text-align: right;\n",
       "    }\n",
       "</style>\n",
       "<table border=\"1\" class=\"dataframe\">\n",
       "  <thead>\n",
       "    <tr style=\"text-align: right;\">\n",
       "      <th></th>\n",
       "      <th>object_id</th>\n",
       "      <th>last_session_creation_time</th>\n",
       "      <th>opted_in_to_mailing_list</th>\n",
       "      <th>enabled_for_marketing_drip</th>\n",
       "      <th>org_id</th>\n",
       "      <th>invited_by_user_id</th>\n",
       "    </tr>\n",
       "  </thead>\n",
       "  <tbody>\n",
       "    <tr>\n",
       "      <th>count</th>\n",
       "      <td>12000.00000</td>\n",
       "      <td>8.823000e+03</td>\n",
       "      <td>12000.000000</td>\n",
       "      <td>12000.000000</td>\n",
       "      <td>12000.000000</td>\n",
       "      <td>6417.000000</td>\n",
       "    </tr>\n",
       "    <tr>\n",
       "      <th>mean</th>\n",
       "      <td>6000.50000</td>\n",
       "      <td>1.379279e+09</td>\n",
       "      <td>0.249500</td>\n",
       "      <td>0.149333</td>\n",
       "      <td>141.884583</td>\n",
       "      <td>5962.957145</td>\n",
       "    </tr>\n",
       "    <tr>\n",
       "      <th>std</th>\n",
       "      <td>3464.24595</td>\n",
       "      <td>1.953116e+07</td>\n",
       "      <td>0.432742</td>\n",
       "      <td>0.356432</td>\n",
       "      <td>124.056723</td>\n",
       "      <td>3383.761968</td>\n",
       "    </tr>\n",
       "    <tr>\n",
       "      <th>min</th>\n",
       "      <td>1.00000</td>\n",
       "      <td>1.338452e+09</td>\n",
       "      <td>0.000000</td>\n",
       "      <td>0.000000</td>\n",
       "      <td>0.000000</td>\n",
       "      <td>3.000000</td>\n",
       "    </tr>\n",
       "    <tr>\n",
       "      <th>25%</th>\n",
       "      <td>3000.75000</td>\n",
       "      <td>1.363195e+09</td>\n",
       "      <td>0.000000</td>\n",
       "      <td>0.000000</td>\n",
       "      <td>29.000000</td>\n",
       "      <td>3058.000000</td>\n",
       "    </tr>\n",
       "    <tr>\n",
       "      <th>50%</th>\n",
       "      <td>6000.50000</td>\n",
       "      <td>1.382888e+09</td>\n",
       "      <td>0.000000</td>\n",
       "      <td>0.000000</td>\n",
       "      <td>108.000000</td>\n",
       "      <td>5954.000000</td>\n",
       "    </tr>\n",
       "    <tr>\n",
       "      <th>75%</th>\n",
       "      <td>9000.25000</td>\n",
       "      <td>1.398443e+09</td>\n",
       "      <td>0.000000</td>\n",
       "      <td>0.000000</td>\n",
       "      <td>238.250000</td>\n",
       "      <td>8817.000000</td>\n",
       "    </tr>\n",
       "    <tr>\n",
       "      <th>max</th>\n",
       "      <td>12000.00000</td>\n",
       "      <td>1.402067e+09</td>\n",
       "      <td>1.000000</td>\n",
       "      <td>1.000000</td>\n",
       "      <td>416.000000</td>\n",
       "      <td>11999.000000</td>\n",
       "    </tr>\n",
       "  </tbody>\n",
       "</table>\n",
       "</div>"
      ],
      "text/plain": [
       "         object_id  last_session_creation_time  opted_in_to_mailing_list  \\\n",
       "count  12000.00000                8.823000e+03              12000.000000   \n",
       "mean    6000.50000                1.379279e+09                  0.249500   \n",
       "std     3464.24595                1.953116e+07                  0.432742   \n",
       "min        1.00000                1.338452e+09                  0.000000   \n",
       "25%     3000.75000                1.363195e+09                  0.000000   \n",
       "50%     6000.50000                1.382888e+09                  0.000000   \n",
       "75%     9000.25000                1.398443e+09                  0.000000   \n",
       "max    12000.00000                1.402067e+09                  1.000000   \n",
       "\n",
       "       enabled_for_marketing_drip        org_id  invited_by_user_id  \n",
       "count                12000.000000  12000.000000         6417.000000  \n",
       "mean                     0.149333    141.884583         5962.957145  \n",
       "std                      0.356432    124.056723         3383.761968  \n",
       "min                      0.000000      0.000000            3.000000  \n",
       "25%                      0.000000     29.000000         3058.000000  \n",
       "50%                      0.000000    108.000000         5954.000000  \n",
       "75%                      0.000000    238.250000         8817.000000  \n",
       "max                      1.000000    416.000000        11999.000000  "
      ]
     },
     "execution_count": 45,
     "metadata": {},
     "output_type": "execute_result"
    }
   ],
   "source": [
    "df.describe()"
   ]
  },
  {
   "cell_type": "code",
   "execution_count": 46,
   "id": "13425d0e",
   "metadata": {},
   "outputs": [
    {
     "data": {
      "text/plain": [
       "object_id                       int64\n",
       "creation_time                  object\n",
       "name                           object\n",
       "email                          object\n",
       "creation_source                object\n",
       "last_session_creation_time    float64\n",
       "opted_in_to_mailing_list        int64\n",
       "enabled_for_marketing_drip      int64\n",
       "org_id                          int64\n",
       "invited_by_user_id            float64\n",
       "dtype: object"
      ]
     },
     "execution_count": 46,
     "metadata": {},
     "output_type": "execute_result"
    }
   ],
   "source": [
    "# Check the data type\n",
    "df.dtypes"
   ]
  },
  {
   "cell_type": "code",
   "execution_count": 47,
   "id": "729ed0ec",
   "metadata": {},
   "outputs": [
    {
     "data": {
      "text/html": [
       "<div>\n",
       "<style scoped>\n",
       "    .dataframe tbody tr th:only-of-type {\n",
       "        vertical-align: middle;\n",
       "    }\n",
       "\n",
       "    .dataframe tbody tr th {\n",
       "        vertical-align: top;\n",
       "    }\n",
       "\n",
       "    .dataframe thead th {\n",
       "        text-align: right;\n",
       "    }\n",
       "</style>\n",
       "<table border=\"1\" class=\"dataframe\">\n",
       "  <thead>\n",
       "    <tr style=\"text-align: right;\">\n",
       "      <th></th>\n",
       "      <th>count</th>\n",
       "      <th>%</th>\n",
       "    </tr>\n",
       "  </thead>\n",
       "  <tbody>\n",
       "    <tr>\n",
       "      <th>object_id</th>\n",
       "      <td>0</td>\n",
       "      <td>0.000</td>\n",
       "    </tr>\n",
       "    <tr>\n",
       "      <th>creation_time</th>\n",
       "      <td>0</td>\n",
       "      <td>0.000</td>\n",
       "    </tr>\n",
       "    <tr>\n",
       "      <th>name</th>\n",
       "      <td>0</td>\n",
       "      <td>0.000</td>\n",
       "    </tr>\n",
       "    <tr>\n",
       "      <th>email</th>\n",
       "      <td>0</td>\n",
       "      <td>0.000</td>\n",
       "    </tr>\n",
       "    <tr>\n",
       "      <th>creation_source</th>\n",
       "      <td>0</td>\n",
       "      <td>0.000</td>\n",
       "    </tr>\n",
       "    <tr>\n",
       "      <th>last_session_creation_time</th>\n",
       "      <td>3177</td>\n",
       "      <td>26.475</td>\n",
       "    </tr>\n",
       "    <tr>\n",
       "      <th>opted_in_to_mailing_list</th>\n",
       "      <td>0</td>\n",
       "      <td>0.000</td>\n",
       "    </tr>\n",
       "    <tr>\n",
       "      <th>enabled_for_marketing_drip</th>\n",
       "      <td>0</td>\n",
       "      <td>0.000</td>\n",
       "    </tr>\n",
       "    <tr>\n",
       "      <th>org_id</th>\n",
       "      <td>0</td>\n",
       "      <td>0.000</td>\n",
       "    </tr>\n",
       "    <tr>\n",
       "      <th>invited_by_user_id</th>\n",
       "      <td>5583</td>\n",
       "      <td>46.525</td>\n",
       "    </tr>\n",
       "  </tbody>\n",
       "</table>\n",
       "</div>"
      ],
      "text/plain": [
       "                            count       %\n",
       "object_id                       0   0.000\n",
       "creation_time                   0   0.000\n",
       "name                            0   0.000\n",
       "email                           0   0.000\n",
       "creation_source                 0   0.000\n",
       "last_session_creation_time   3177  26.475\n",
       "opted_in_to_mailing_list        0   0.000\n",
       "enabled_for_marketing_drip      0   0.000\n",
       "org_id                          0   0.000\n",
       "invited_by_user_id           5583  46.525"
      ]
     },
     "execution_count": 47,
     "metadata": {},
     "output_type": "execute_result"
    }
   ],
   "source": [
    "# Check if there is any missing dta\n",
    "\n",
    "missing1 = df.isnull().sum()\n",
    "missing2 = 100*df.isnull().mean()\n",
    "missing = pd.concat([missing1, missing2], axis=1)\n",
    "missing.columns = ['count', '%']\n",
    "missing"
   ]
  },
  {
   "cell_type": "markdown",
   "id": "5d3819c8",
   "metadata": {},
   "source": [
    "As expected names and emails are object type. Last login is float because it is Unix time stamp and it needs to be converted to datetime. Creation time also needs to change to datetime. Furthermore, there are 5583 missing points in _invited_by_user_id_ column. I need to find if these are  missing, or they are not available because, the person is not invited. \n",
    "\n"
   ]
  },
  {
   "cell_type": "code",
   "execution_count": 48,
   "id": "1644dcd0",
   "metadata": {},
   "outputs": [],
   "source": [
    "# Change the 'last session' Unix time stamp to datetime object\n",
    "df['last_session_creation_time'] = pd.to_datetime(df['last_session_creation_time'],unit='s') "
   ]
  },
  {
   "cell_type": "code",
   "execution_count": 49,
   "id": "ed133782",
   "metadata": {},
   "outputs": [],
   "source": [
    "# Change the creation time stamp to datetime object\n",
    "df['creation_time'] =pd.to_datetime(df['creation_time'])"
   ]
  },
  {
   "cell_type": "markdown",
   "id": "e926d083",
   "metadata": {},
   "source": [
    "I then check if 'last session' is after the creation date to ensure there is not any error in our data."
   ]
  },
  {
   "cell_type": "code",
   "execution_count": 50,
   "id": "c952df9f",
   "metadata": {},
   "outputs": [
    {
     "data": {
      "text/plain": [
       "False    12000\n",
       "dtype: int64"
      ]
     },
     "execution_count": 50,
     "metadata": {},
     "output_type": "execute_result"
    }
   ],
   "source": [
    "# Check if 'last session' is after the creation date to ensure data quality\n",
    "\n",
    "mask = df['last_session_creation_time'] - df['creation_time']< timedelta(days=0)\n",
    "mask.value_counts()"
   ]
  },
  {
   "cell_type": "markdown",
   "id": "2b3f2320",
   "metadata": {},
   "source": [
    "For the purpose of modeling, the duration of time a user uses the platform is more meaningful than the creation day or the day of last login. Therefore, I define a new parameter called _Active_window_ which is the difference between these two times."
   ]
  },
  {
   "cell_type": "code",
   "execution_count": 51,
   "id": "ad35e6e1",
   "metadata": {},
   "outputs": [],
   "source": [
    "# define membership length\n",
    "\n",
    "df['Active_window'] = (df['last_session_creation_time'] - df['creation_time'])/timedelta(days=1)"
   ]
  },
  {
   "cell_type": "markdown",
   "id": "280f1320",
   "metadata": {},
   "source": [
    "### 4.3. Missing data in _last session creation time_ <a class='anchor' id='last'><a/>"
   ]
  },
  {
   "cell_type": "markdown",
   "id": "eea9ba8b",
   "metadata": {},
   "source": [
    "26% of last login data in missing, which has lead to same amount of missing points in the _Membership length_ parameter. To explore more, there is a chance that some users have never logged in their account after the first time they signed up, and because of that these value is not available for these users. To investigate more, I check if there is any user with _Membership length_ of zero. If there are users whoes their _creation date_ and _last login date_ are the same, the I conclude these missing _last login date_ are missing and cannot be 0. It will help with deciding how to impute these missing values for the purpos of modeling "
   ]
  },
  {
   "cell_type": "code",
   "execution_count": 52,
   "id": "69dd447d",
   "metadata": {},
   "outputs": [
    {
     "data": {
      "text/plain": [
       "3027"
      ]
     },
     "execution_count": 52,
     "metadata": {},
     "output_type": "execute_result"
    }
   ],
   "source": [
    "# checking users with same day creation and last login date, which is equal to zero membership length\n",
    "\n",
    "df.loc[df['Active_window']==0, 'object_id'].count()"
   ]
  },
  {
   "cell_type": "markdown",
   "id": "99295c3c",
   "metadata": {},
   "source": [
    "There are 3027 users with zero _Active window_, consequently, I cannot fill missing points in _Active window_ with zeros. I need to have another stategy. I should either drop them or impute them. Therefore, I will look at the distribution of the membership length to get a better idea."
   ]
  },
  {
   "cell_type": "code",
   "execution_count": 56,
   "id": "8b4703ca",
   "metadata": {},
   "outputs": [
    {
     "data": {
      "image/png": "[encoded data removed]",
      "text/plain": [
       "<Figure size 432x288 with 1 Axes>"
      ]
     },
     "metadata": {
      "needs_background": "light"
     },
     "output_type": "display_data"
    }
   ],
   "source": [
    "fig, ax=plt.subplots()\n",
    "ax.hist(df['Active_window'], bins=20)\n",
    "ax.set_xlabel('User active duration (days)')\n",
    "ax.set_ylabel('Count')\n",
    "plt.show()"
   ]
  },
  {
   "cell_type": "markdown",
   "id": "8a2c95f3",
   "metadata": {},
   "source": [
    " The majority of users have used the platform shoerter than 100 days. According to the plot, using a median to impute _Active window_ is reasonable. I will do the imputation during model training."
   ]
  },
  {
   "cell_type": "markdown",
   "id": "6a426d7d",
   "metadata": {},
   "source": [
    "### 4.4. Missing data in _invited_by_user_id_ <a class='anchor' id='invite'><a/>"
   ]
  },
  {
   "cell_type": "markdown",
   "id": "276b9b82",
   "metadata": {},
   "source": [
    "The column _invited_by_user_id_ has 46% missing values. I sort this column to see if nan actually means that the user was not invited. As shown below, there is no 0, I conclude that Nan means the user is not invited. For the perpuse of modelling I will fill Nan values with zero. "
   ]
  },
  {
   "cell_type": "code",
   "execution_count": 57,
   "id": "4323805f",
   "metadata": {},
   "outputs": [
    {
     "data": {
      "text/plain": [
       "11999        0.0\n",
       "5162         0.0\n",
       "10021        0.0\n",
       "10024        0.0\n",
       "5157         0.0\n",
       "          ...   \n",
       "8056     11999.0\n",
       "9700     11999.0\n",
       "10880    11999.0\n",
       "5190     11999.0\n",
       "2548     11999.0\n",
       "Name: invited_by_user_id, Length: 12000, dtype: float64"
      ]
     },
     "execution_count": 57,
     "metadata": {},
     "output_type": "execute_result"
    }
   ],
   "source": [
    "df['invited_by_user_id'].sort_values()"
   ]
  },
  {
   "cell_type": "code",
   "execution_count": 58,
   "id": "3fa04dda",
   "metadata": {},
   "outputs": [],
   "source": [
    "# Fill the nan values with zero\n",
    "df['invited_by_user_id'] = df['invited_by_user_id'].fillna(0)"
   ]
  },
  {
   "cell_type": "markdown",
   "id": "439e94e4",
   "metadata": {},
   "source": [
    "For the purpose of modeling, it does not matter what is the id_number of a user who invites another person, what matters is if the user has been invited or not. Therefore I define a new column called _if invited_ to show it. If a person is invited then _if invited_ value will be 1 and in the case the person is not invited, it will be 0. "
   ]
  },
  {
   "cell_type": "code",
   "execution_count": 59,
   "id": "c11830c3",
   "metadata": {},
   "outputs": [],
   "source": [
    "# Define a new column to show if a user has been invited or not\n",
    "df['if_invited'] = 0\n",
    "df.loc[df['invited_by_user_id']!=0, 'if_invited'] = 1"
   ]
  },
  {
   "cell_type": "markdown",
   "id": "244163d9",
   "metadata": {},
   "source": [
    "### 4.5. Find adopted users <a class='anchor' id='find'>\n",
    "\n",
    "I will define a function and check each user to find out if he/she has logged in on at least 3 days in a 7-day window. For each user, I first find the days the user logged in, and then I check the time difference between the first and the third login, if it is smaller or equal to 7, then the user is an adopted user."
   ]
  },
  {
   "cell_type": "code",
   "execution_count": 60,
   "id": "334a1db0",
   "metadata": {},
   "outputs": [],
   "source": [
    "def royal_user(user_id):\n",
    "    df = df2.loc[df2['user_id']==user_id]\n",
    "    df = df.resample('D').mean().dropna()  # Finding the days that the user has logged in and dropping the non-log days\n",
    "# loop over the active days and see if the time difference between the third login and first is smaller or equal to 7    \n",
    "    for i in range(len(df) - 2):\n",
    "        if df.index[i + 2] - df.index[i] <= timedelta(days=7): # difference between every 1st and 3rd day\n",
    "            return 1\n",
    "    return 0       \n"
   ]
  },
  {
   "cell_type": "code",
   "execution_count": 61,
   "id": "0b6a89b9",
   "metadata": {},
   "outputs": [
    {
     "name": "stdout",
     "output_type": "stream",
     "text": [
      "time_stamp\n",
      "2013-11-17    1.0\n",
      "2013-11-24    0.0\n",
      "2013-12-01    1.0\n",
      "2013-12-08    0.0\n",
      "2013-12-15    1.0\n",
      "2013-12-22    0.0\n",
      "2013-12-29    1.0\n",
      "2014-01-05    1.0\n",
      "2014-01-12    1.0\n",
      "2014-01-19    0.0\n",
      "2014-01-26    0.0\n",
      "2014-02-02    0.0\n",
      "2014-02-09    3.0\n",
      "2014-02-16    2.0\n",
      "2014-02-23    0.0\n",
      "2014-03-02    0.0\n",
      "2014-03-09    1.0\n",
      "2014-03-16    1.0\n",
      "2014-03-23    0.0\n",
      "2014-03-30    0.0\n",
      "2014-04-06    1.0\n",
      "Freq: W-SUN, Name: visited, dtype: float64\n",
      "1\n"
     ]
    }
   ],
   "source": [
    "# Check if my function works correctly for user_id=2: According to the user engagement file this person is an adopted user\n",
    "\n",
    "user2 = df2.loc[df2['user_id']==2]\n",
    "user2 = user2.resample('D').mean().dropna()\n",
    "user2.resample('W')['visited'].sum()\n",
    "print(user2.resample('W')['visited'].sum())\n",
    "print(royal_user(2))"
   ]
  },
  {
   "cell_type": "markdown",
   "id": "4699cd04",
   "metadata": {},
   "source": [
    "Now that I have a working function, I create a column, 'if_adopted' in the data frame. If a user is an adopted user, this value is 1 and if not this value is 0. "
   ]
  },
  {
   "cell_type": "code",
   "execution_count": 62,
   "id": "d7ad14a9",
   "metadata": {
    "scrolled": true
   },
   "outputs": [
    {
     "data": {
      "text/html": [
       "<div>\n",
       "<style scoped>\n",
       "    .dataframe tbody tr th:only-of-type {\n",
       "        vertical-align: middle;\n",
       "    }\n",
       "\n",
       "    .dataframe tbody tr th {\n",
       "        vertical-align: top;\n",
       "    }\n",
       "\n",
       "    .dataframe thead th {\n",
       "        text-align: right;\n",
       "    }\n",
       "</style>\n",
       "<table border=\"1\" class=\"dataframe\">\n",
       "  <thead>\n",
       "    <tr style=\"text-align: right;\">\n",
       "      <th></th>\n",
       "      <th>object_id</th>\n",
       "      <th>creation_time</th>\n",
       "      <th>name</th>\n",
       "      <th>email</th>\n",
       "      <th>creation_source</th>\n",
       "      <th>last_session_creation_time</th>\n",
       "      <th>opted_in_to_mailing_list</th>\n",
       "      <th>enabled_for_marketing_drip</th>\n",
       "      <th>org_id</th>\n",
       "      <th>invited_by_user_id</th>\n",
       "      <th>Active_window</th>\n",
       "      <th>if_invited</th>\n",
       "      <th>if_adopted</th>\n",
       "    </tr>\n",
       "  </thead>\n",
       "  <tbody>\n",
       "    <tr>\n",
       "      <th>0</th>\n",
       "      <td>1</td>\n",
       "      <td>2014-04-22 03:53:30</td>\n",
       "      <td>Clausen August</td>\n",
       "      <td>AugustCClausen@yahoo.com</td>\n",
       "      <td>GUEST_INVITE</td>\n",
       "      <td>2014-04-22 03:53:30</td>\n",
       "      <td>1</td>\n",
       "      <td>0</td>\n",
       "      <td>11</td>\n",
       "      <td>10803.0</td>\n",
       "      <td>0.0</td>\n",
       "      <td>1</td>\n",
       "      <td>0</td>\n",
       "    </tr>\n",
       "    <tr>\n",
       "      <th>1</th>\n",
       "      <td>2</td>\n",
       "      <td>2013-11-15 03:45:04</td>\n",
       "      <td>Poole Matthew</td>\n",
       "      <td>MatthewPoole@gustr.com</td>\n",
       "      <td>ORG_INVITE</td>\n",
       "      <td>2014-03-31 03:45:04</td>\n",
       "      <td>0</td>\n",
       "      <td>0</td>\n",
       "      <td>1</td>\n",
       "      <td>316.0</td>\n",
       "      <td>136.0</td>\n",
       "      <td>1</td>\n",
       "      <td>1</td>\n",
       "    </tr>\n",
       "    <tr>\n",
       "      <th>2</th>\n",
       "      <td>3</td>\n",
       "      <td>2013-03-19 23:14:52</td>\n",
       "      <td>Bottrill Mitchell</td>\n",
       "      <td>MitchellBottrill@gustr.com</td>\n",
       "      <td>ORG_INVITE</td>\n",
       "      <td>2013-03-19 23:14:52</td>\n",
       "      <td>0</td>\n",
       "      <td>0</td>\n",
       "      <td>94</td>\n",
       "      <td>1525.0</td>\n",
       "      <td>0.0</td>\n",
       "      <td>1</td>\n",
       "      <td>0</td>\n",
       "    </tr>\n",
       "    <tr>\n",
       "      <th>3</th>\n",
       "      <td>4</td>\n",
       "      <td>2013-05-21 08:09:28</td>\n",
       "      <td>Clausen Nicklas</td>\n",
       "      <td>NicklasSClausen@yahoo.com</td>\n",
       "      <td>GUEST_INVITE</td>\n",
       "      <td>2013-05-22 08:09:28</td>\n",
       "      <td>0</td>\n",
       "      <td>0</td>\n",
       "      <td>1</td>\n",
       "      <td>5151.0</td>\n",
       "      <td>1.0</td>\n",
       "      <td>1</td>\n",
       "      <td>0</td>\n",
       "    </tr>\n",
       "    <tr>\n",
       "      <th>4</th>\n",
       "      <td>5</td>\n",
       "      <td>2013-01-17 10:14:20</td>\n",
       "      <td>Raw Grace</td>\n",
       "      <td>GraceRaw@yahoo.com</td>\n",
       "      <td>GUEST_INVITE</td>\n",
       "      <td>2013-01-22 10:14:20</td>\n",
       "      <td>0</td>\n",
       "      <td>0</td>\n",
       "      <td>193</td>\n",
       "      <td>5240.0</td>\n",
       "      <td>5.0</td>\n",
       "      <td>1</td>\n",
       "      <td>0</td>\n",
       "    </tr>\n",
       "  </tbody>\n",
       "</table>\n",
       "</div>"
      ],
      "text/plain": [
       "   object_id       creation_time               name  \\\n",
       "0          1 2014-04-22 03:53:30     Clausen August   \n",
       "1          2 2013-11-15 03:45:04      Poole Matthew   \n",
       "2          3 2013-03-19 23:14:52  Bottrill Mitchell   \n",
       "3          4 2013-05-21 08:09:28    Clausen Nicklas   \n",
       "4          5 2013-01-17 10:14:20          Raw Grace   \n",
       "\n",
       "                        email creation_source last_session_creation_time  \\\n",
       "0    AugustCClausen@yahoo.com    GUEST_INVITE        2014-04-22 03:53:30   \n",
       "1      MatthewPoole@gustr.com      ORG_INVITE        2014-03-31 03:45:04   \n",
       "2  MitchellBottrill@gustr.com      ORG_INVITE        2013-03-19 23:14:52   \n",
       "3   NicklasSClausen@yahoo.com    GUEST_INVITE        2013-05-22 08:09:28   \n",
       "4          GraceRaw@yahoo.com    GUEST_INVITE        2013-01-22 10:14:20   \n",
       "\n",
       "   opted_in_to_mailing_list  enabled_for_marketing_drip  org_id  \\\n",
       "0                         1                           0      11   \n",
       "1                         0                           0       1   \n",
       "2                         0                           0      94   \n",
       "3                         0                           0       1   \n",
       "4                         0                           0     193   \n",
       "\n",
       "   invited_by_user_id  Active_window  if_invited  if_adopted  \n",
       "0             10803.0            0.0           1           0  \n",
       "1               316.0          136.0           1           1  \n",
       "2              1525.0            0.0           1           0  \n",
       "3              5151.0            1.0           1           0  \n",
       "4              5240.0            5.0           1           0  "
      ]
     },
     "execution_count": 62,
     "metadata": {},
     "output_type": "execute_result"
    }
   ],
   "source": [
    "df['if_adopted'] = df['object_id'].apply(royal_user)\n",
    "df.head()"
   ]
  },
  {
   "cell_type": "markdown",
   "id": "bff54ed8",
   "metadata": {},
   "source": [
    "## 4.6. Is data imbalanced? <a class='anchor' id='imb'><a/>"
   ]
  },
  {
   "cell_type": "markdown",
   "id": "88d5583b",
   "metadata": {},
   "source": [
    "A data set is called imbalanced, if the minority class makes a small percentage of the data set.\n",
    "\n",
    "If the minority class (in our case the defaulted loans) makes 20 to 40% of a data set, then it is mildly imbalance. if the minority class is 1 to 20%, then the dataset is moderately imbalanced and if minority class is < 1% of data set, the data is extremely imbalanced.\n",
    "\n",
    "To find out if our data set is imbalanced or not, we will look at waht percentag of users in the data frame are adopted users."
   ]
  },
  {
   "cell_type": "code",
   "execution_count": 63,
   "id": "156954b7",
   "metadata": {},
   "outputs": [
    {
     "data": {
      "text/plain": [
       "0    0.862\n",
       "1    0.138\n",
       "Name: if_adopted, dtype: float64"
      ]
     },
     "execution_count": 63,
     "metadata": {},
     "output_type": "execute_result"
    }
   ],
   "source": [
    "df['if_adopted'].value_counts()/len(df)"
   ]
  },
  {
   "cell_type": "markdown",
   "id": "24d57825",
   "metadata": {},
   "source": [
    "Adopted users count for 14% of the data set. Therefore, our data is moderately imbalanced, which may or may not be a problem. It is suggested to model with the true distribution and if the result is not fine, apply techncis such as undersampling to deal with the imbalance."
   ]
  },
  {
   "cell_type": "markdown",
   "id": "47c86130",
   "metadata": {},
   "source": [
    "## 5. Exploratory data analysis <a class='anchor' id='eda'><a/>"
   ]
  },
  {
   "cell_type": "markdown",
   "id": "5ca93762",
   "metadata": {},
   "source": [
    "### 5.1. Exploring effects of several factor on user adoption <a class='anchor' id='effect'><a/>"
   ]
  },
  {
   "cell_type": "markdown",
   "id": "12c2c8aa",
   "metadata": {},
   "source": [
    "Next I will plot bar charts to show the effect of various features on the adoption of users. These features are:\n",
    "\n",
    "1. Creation source.\n",
    "2. If a user is in the mailing list or not.\n",
    "3. If a user is in the marketing list.\n",
    "4. If a usr is invited or not."
   ]
  },
  {
   "cell_type": "code",
   "execution_count": 64,
   "id": "70f1f811",
   "metadata": {},
   "outputs": [
    {
     "data": {
      "image/png": "[encoded data removed]",
      "text/plain": [
       "<Figure size 1440x1008 with 4 Axes>"
      ]
     },
     "metadata": {
      "needs_background": "light"
     },
     "output_type": "display_data"
    }
   ],
   "source": [
    "fig, [(axes0, axes1), (axes2, axes3)] = plt.subplots(nrows = 2, ncols = 2, figsize=(20,14))\n",
    "\n",
    "\n",
    "sns.countplot(x=\"creation_source\", hue='if_adopted', data=df, ax=axes0)\n",
    "sns.countplot(x=\"opted_in_to_mailing_list\", hue='if_adopted', data=df, ax=axes1)\n",
    "sns.countplot(x=\"enabled_for_marketing_drip\", hue='if_adopted', data=df, ax=axes2)\n",
    "sns.countplot(x=\"if_invited\", hue='if_adopted', data=df, ax=axes3)\n",
    "\n",
    "axes0.legend(['Not adopted','Adopted user'])\n",
    "axes0.set(xlabel=None)\n",
    "axes0.set_xticklabels(['GUEST_INVITE', 'ORG_INVITE', 'SIGNUP', 'PERSONAL_PROJECTS','SIGNUP_GOOGLE_AUTH'], rotation=45, fontsize=15)\n",
    "axes0.set_ylabel('Count', fontsize=15)\n",
    "axes0.set_title(\"User adoption vs creation sources \", fontsize=20)\n",
    "\n",
    "axes1.legend(['Not adopted','Adopted user'])\n",
    "axes1.set(xlabel=None)\n",
    "axes1.set_xticklabels(['Not in email list', 'In email list'], fontsize=15)\n",
    "axes1.set_ylabel('Count', fontsize=15)\n",
    "axes1.set_title('User adoption vs being in email list', fontsize=20)\n",
    "\n",
    "axes2.legend(['Not adopted','Adopted user'])\n",
    "axes2.set(xlabel=None)\n",
    "axes2.set_xticklabels(['Not in marketing drip', 'In marketing drip'], fontsize=15)\n",
    "axes2.set_ylabel('Count', fontsize=15)\n",
    "axes2.set_title('User adoption vs marketing drip', fontsize=20)\n",
    "\n",
    "axes3.legend(['Not adopted','Adopted user'])\n",
    "axes3.set(xlabel=None)\n",
    "axes3.set_xticklabels(['Not invited', 'Invited'], fontsize=15)\n",
    "axes3.set_ylabel('Count', fontsize=15)\n",
    "axes3.set_title(\"User adoption vs if invited\", fontsize=20)\n",
    "\n",
    "plt.tight_layout()\n",
    "plt.show()    "
   ]
  },
  {
   "cell_type": "markdown",
   "id": "f5da0a7f",
   "metadata": {},
   "source": [
    "Visually inspecting, no difference is visible among different groups. I then plot a stacked histogram of the _adoption_ vs _Active window_."
   ]
  },
  {
   "cell_type": "code",
   "execution_count": 113,
   "id": "932e46e7",
   "metadata": {},
   "outputs": [
    {
     "data": {
      "image/png": "[encoded data removed]",
      "text/plain": [
       "<Figure size 432x288 with 1 Axes>"
      ]
     },
     "metadata": {
      "needs_background": "light"
     },
     "output_type": "display_data"
    }
   ],
   "source": [
    "s1 = pd.DataFrame({'Adopted': df.loc[df['if_adopted']==0, 'Active_window'], 'Not adopted': df.loc[df['if_adopted']==1, 'Active_window']})\n",
    "fig, ax = plt.subplots()\n",
    "\n",
    "n=10\n",
    "ax.hist(s1, stacked=True, bins=n, rwidth=0.85)\n",
    "\n",
    "ax.legend(['Not adopted', 'Adopted user'])\n",
    "ax.set_xlabel('Active window (days)', fontsize=14)\n",
    "ax.set_ylabel('Count', fontsize=14)\n",
    "ax.set_title('User adoptin vs Active window duration ', fontsize=16)\n",
    "ax.set_ylim(0,9000)\n",
    "\n",
    "for i in range(0,n,1):\n",
    "\n",
    "    x1, y1 = p[i].get_xy()\n",
    "    x2, y2 = p[i+1].get_xy()\n",
    "    x = x1 + 25\n",
    "    Y1 = p[i].get_height()\n",
    "    Y2 = p[i+n].get_height()\n",
    "    y = Y2 + Y1+250 \n",
    "    a = Y2/(Y2 + Y1)     \n",
    "    ax.text(x, y, str(np.round(a*100,1)) + '%', rotation=90)\n",
    "plt.show()"
   ]
  },
  {
   "cell_type": "markdown",
   "id": "29b92129",
   "metadata": {},
   "source": [
    "It is clear from the plot that, the longer a user uses the platform, there is a higher chance for the user to become an adopted user. "
   ]
  },
  {
   "cell_type": "markdown",
   "id": "4a461dc8",
   "metadata": {},
   "source": [
    "## 6. Preprocessing <a class='anchor' id='process'></a>"
   ]
  },
  {
   "cell_type": "markdown",
   "id": "9e9b6108",
   "metadata": {},
   "source": [
    "### 6.1. Define features and target <a class='anchor' id='define'><a/>"
   ]
  },
  {
   "cell_type": "markdown",
   "id": "f457944e",
   "metadata": {},
   "source": [
    "To get the data ready for model training, these are the steps that I will take:\n",
    "\n",
    "1. First I define the features that I will include in the model and I will also determine the target column. \n",
    "2. I will select the categorical features and will apply One Hot Encoder to turn them into numerical columns.\n",
    "3. I will split the data into training and testing tests.\n",
    "\n",
    "The target column in our data frame is _if_adopted_. There are several features that I will drop from model training. These features are 'object_id', 'creation_time', 'name', 'email', 'last_session_creation_time', 'org_id', 'invited_by_user_id'. Name and email, org_id and obj_id are personal information and are not needed. 'creation_time' and 'last_session_creation_time' are two columns that I used to generate _Membership length_, which is a more reasonable measure to include in modeling. I also added a column to show if a user has been invited or not. Therefore I can drop 'invited_by_user_id' column.\n"
   ]
  },
  {
   "cell_type": "code",
   "execution_count": 114,
   "id": "41cba08a",
   "metadata": {},
   "outputs": [],
   "source": [
    "# Defining X and y\n",
    "\n",
    "y = df['if_adopted']\n",
    "drop_list=['if_adopted', 'object_id', 'creation_time', 'name', 'email', 'last_session_creation_time', 'org_id', 'invited_by_user_id']\n",
    "X = df.drop(columns=drop_list, axis=1)"
   ]
  },
  {
   "cell_type": "code",
   "execution_count": 115,
   "id": "0a98776b",
   "metadata": {},
   "outputs": [
    {
     "data": {
      "text/plain": [
       "creation_source                object\n",
       "opted_in_to_mailing_list        int64\n",
       "enabled_for_marketing_drip      int64\n",
       "Active_window                 float64\n",
       "if_invited                      int64\n",
       "dtype: object"
      ]
     },
     "execution_count": 115,
     "metadata": {},
     "output_type": "execute_result"
    }
   ],
   "source": [
    "# Check X data type.\n",
    "X.dtypes"
   ]
  },
  {
   "cell_type": "markdown",
   "id": "545c6f81",
   "metadata": {},
   "source": [
    "### 6.2. Apply One Hot Encoder to change categorical columns to numerical columns <a class='anchor' id='oneHot'></a>"
   ]
  },
  {
   "cell_type": "markdown",
   "id": "0be14071",
   "metadata": {},
   "source": [
    "There is a categorical column _Creation source_ and it needs to turn into numerical columns. I use One Hot Encoder."
   ]
  },
  {
   "cell_type": "code",
   "execution_count": 116,
   "id": "877420e6",
   "metadata": {},
   "outputs": [],
   "source": [
    "# Choosing the categorical columns\n",
    "categorical_columns_selector = selector(dtype_include=object)\n",
    "categorical_columns = categorical_columns_selector(X)\n",
    "\n",
    "# creating instance of one-hot-encoder\n",
    "\n",
    "enc = OneHotEncoder(drop='if_binary')\n",
    "enc_df = pd.DataFrame(enc.fit_transform(X[categorical_columns]).toarray())\n",
    "feature_names = enc.get_feature_names(input_features=categorical_columns)\n",
    "enc_df.columns = feature_names\n",
    "X.drop(columns=categorical_columns, inplace=True)\n",
    "# merge with main df bridge_df on key values\n",
    "X =X.join(enc_df)"
   ]
  },
  {
   "cell_type": "markdown",
   "id": "88aa0f06",
   "metadata": {},
   "source": [
    "### 6.3. Split the data <a class='anchor' id='split'><a/>\n",
    "    \n",
    "To ensure that I have non-exposed data to test my model, I split my data into train and test. I do all modeling on training set and I will apply the result on test set."
   ]
  },
  {
   "cell_type": "code",
   "execution_count": 117,
   "id": "64c5da63",
   "metadata": {},
   "outputs": [],
   "source": [
    "# split the data\n",
    "X_train, X_test, y_train, y_test = train_test_split(X, y, test_size=0.3, random_state=47)"
   ]
  },
  {
   "cell_type": "markdown",
   "id": "52175655",
   "metadata": {},
   "source": [
    "## 7. Model training <a class='anchor' id='model'><a/>\n"
   ]
  },
  {
   "cell_type": "markdown",
   "id": "8ee5c44e",
   "metadata": {},
   "source": [
    "I will use random forest classifier.\n",
    "\n",
    "These are the steps that I will follow.\n",
    "\n",
    "\n",
    "1. Make a pipeline, that includes the model, imputing and scaling steps.\n",
    "\n",
    "2. Using cross validation to train a general model and look at the scores.\n",
    "\n",
    "3. Grid search to find the hyperparameters\n",
    "\n",
    "4. training the model with the best hyperparameters\n",
    "\n",
    "5. Model score and feature importance assessment"
   ]
  },
  {
   "cell_type": "markdown",
   "id": "96ee83ce",
   "metadata": {},
   "source": [
    "### 7.1. Make pipeline and hyperparameter tune with GridSearchCV <a class='anchor' id='pipe'><a/>"
   ]
  },
  {
   "cell_type": "markdown",
   "id": "c06e45ce",
   "metadata": {},
   "source": [
    "I use make_pipeline to create a pipe which includes imputing missing data in _Active window_, then sacle the data and finally apply Random Forest. I use cross validation with 6 folds to avoid overfitting.\n",
    "\n",
    "I use SimpleImputer to impute the data and I use median values of _Active window_ to fill the missing values.\n",
    "\n",
    "For scaling, I use MinMaxScaler. This scaler allocate 1 to the highest value and 0 to he smallest value and scale the rest of values accordingly. Given that there are categorical column such as creation source, which are presented by zeros and ones, I do not want these columns be affected by scaling. MinMaxScaler insures these columns will be intact.\n",
    "\n",
    "There are several parameters in tuning a random forest classifier. Given the limitation in the computational power, I choose three of the important ones and include them in the grid search.  \n",
    "\n",
    "Furthermore given that our data is imbalanced, I use f1 score to evalute model performance. f1 score is a harmonic mean of precision and recall and is better metric for imbalance data compared with accuracy. "
   ]
  },
  {
   "cell_type": "code",
   "execution_count": 118,
   "id": "cbf25f69",
   "metadata": {},
   "outputs": [
    {
     "name": "stdout",
     "output_type": "stream",
     "text": [
      "[0.86684073 0.87792208 0.88297872 0.89405685 0.84102564 0.85063291]\n",
      "0.8689094887266825 0.018381973886920477\n"
     ]
    }
   ],
   "source": [
    "# Make pipeline\n",
    "pipe = make_pipeline(\n",
    "    SimpleImputer(strategy='median'), \n",
    "    MinMaxScaler(), \n",
    "    RandomForestClassifier(random_state=47)\n",
    ")\n",
    "\n",
    "cv_results = cross_validate(pipe, X_train, y_train, cv=6, scoring='f1')\n",
    "cv_scores = cv_results['test_score']\n",
    "\n",
    "print(cv_scores)\n",
    "print(cv_scores.mean(), cv_scores.std())"
   ]
  },
  {
   "cell_type": "code",
   "execution_count": 119,
   "id": "e07b5fc3",
   "metadata": {},
   "outputs": [
    {
     "data": {
      "text/plain": [
       "{'minmaxscaler': MinMaxScaler(),\n",
       " 'randomforestclassifier__criterion': 'entropy',\n",
       " 'randomforestclassifier__max_depth': 3,\n",
       " 'randomforestclassifier__n_estimators': 600}"
      ]
     },
     "execution_count": 119,
     "metadata": {},
     "output_type": "execute_result"
    }
   ],
   "source": [
    "# Define parameters for grid search\n",
    "param_grid = { \n",
    "    'minmaxscaler': [MinMaxScaler(), None],\n",
    "    'randomforestclassifier__n_estimators': [12, 20, 50, 100, 200, 400, 600, 1000],\n",
    "    'randomforestclassifier__max_depth' : [2, 3, 4, 5, 6, 7, 8, 9, 10],\n",
    "    'randomforestclassifier__criterion' :['gini', 'entropy']\n",
    "}\n",
    "\n",
    "# perform Grid search on training data with 5 fold cross validation\n",
    "\n",
    "rf_grid_cv  = GridSearchCV(pipe, param_grid = param_grid, scoring='f1', cv = 6, n_jobs = -1)\n",
    "rf_grid_cv.fit(X_train, y_train)\n",
    "\n",
    "# Best hyperparameters\n",
    "rf_grid_cv.best_params_"
   ]
  },
  {
   "cell_type": "markdown",
   "id": "db4f4fb9",
   "metadata": {},
   "source": [
    "###  7.2.  Random forest classifier with best hyperparameter <a class='anchor' id='best'><a/>"
   ]
  },
  {
   "cell_type": "markdown",
   "id": "5fc5308b",
   "metadata": {},
   "source": [
    "Using the tuned hyperparameters I found by doing the grid search, I train random forest on training data while doing cross validation. Compared with the default first training, grid search has imporved the result from 86% to 90%"
   ]
  },
  {
   "cell_type": "code",
   "execution_count": 120,
   "id": "ab5f887c",
   "metadata": {},
   "outputs": [
    {
     "name": "stdout",
     "output_type": "stream",
     "text": [
      "[0.89528796 0.91578947 0.91935484 0.91666667 0.8976378  0.8987013 ]\n"
     ]
    },
    {
     "data": {
      "text/plain": [
       "(0.9072396718587713, 0.010138112264217127)"
      ]
     },
     "execution_count": 120,
     "metadata": {},
     "output_type": "execute_result"
    }
   ],
   "source": [
    "rf_best_cv_results = cross_validate(rf_grid_cv.best_estimator_, X_train, y_train, cv=6, scoring='f1')\n",
    "rf_best_scores = rf_best_cv_results['test_score']\n",
    "print(rf_best_scores)\n",
    "np.mean(rf_best_scores), np.std(rf_best_scores)"
   ]
  },
  {
   "cell_type": "markdown",
   "id": "701928a1",
   "metadata": {},
   "source": [
    "###  7.4. Feature importance assessment <a class='anchor' id='fi'><a/>"
   ]
  },
  {
   "cell_type": "markdown",
   "id": "1a2dee22",
   "metadata": {},
   "source": [
    "Using the grid search parameters, I check the most important features in the random forest classifier and plot them in a bar chart."
   ]
  },
  {
   "cell_type": "code",
   "execution_count": 121,
   "id": "62ac5868",
   "metadata": {},
   "outputs": [
    {
     "data": {
      "text/html": [
       "<div>\n",
       "<style scoped>\n",
       "    .dataframe tbody tr th:only-of-type {\n",
       "        vertical-align: middle;\n",
       "    }\n",
       "\n",
       "    .dataframe tbody tr th {\n",
       "        vertical-align: top;\n",
       "    }\n",
       "\n",
       "    .dataframe thead th {\n",
       "        text-align: right;\n",
       "    }\n",
       "</style>\n",
       "<table border=\"1\" class=\"dataframe\">\n",
       "  <thead>\n",
       "    <tr style=\"text-align: right;\">\n",
       "      <th></th>\n",
       "      <th>Importance</th>\n",
       "    </tr>\n",
       "  </thead>\n",
       "  <tbody>\n",
       "    <tr>\n",
       "      <th>Active_window</th>\n",
       "      <td>0.940285</td>\n",
       "    </tr>\n",
       "    <tr>\n",
       "      <th>creation_source_PERSONAL_PROJECTS</th>\n",
       "      <td>0.029430</td>\n",
       "    </tr>\n",
       "    <tr>\n",
       "      <th>creation_source_GUEST_INVITE</th>\n",
       "      <td>0.010726</td>\n",
       "    </tr>\n",
       "    <tr>\n",
       "      <th>creation_source_SIGNUP_GOOGLE_AUTH</th>\n",
       "      <td>0.005254</td>\n",
       "    </tr>\n",
       "    <tr>\n",
       "      <th>opted_in_to_mailing_list</th>\n",
       "      <td>0.004322</td>\n",
       "    </tr>\n",
       "    <tr>\n",
       "      <th>if_invited</th>\n",
       "      <td>0.003373</td>\n",
       "    </tr>\n",
       "    <tr>\n",
       "      <th>enabled_for_marketing_drip</th>\n",
       "      <td>0.002880</td>\n",
       "    </tr>\n",
       "    <tr>\n",
       "      <th>creation_source_ORG_INVITE</th>\n",
       "      <td>0.002045</td>\n",
       "    </tr>\n",
       "    <tr>\n",
       "      <th>creation_source_SIGNUP</th>\n",
       "      <td>0.001684</td>\n",
       "    </tr>\n",
       "  </tbody>\n",
       "</table>\n",
       "</div>"
      ],
      "text/plain": [
       "                                    Importance\n",
       "Active_window                         0.940285\n",
       "creation_source_PERSONAL_PROJECTS     0.029430\n",
       "creation_source_GUEST_INVITE          0.010726\n",
       "creation_source_SIGNUP_GOOGLE_AUTH    0.005254\n",
       "opted_in_to_mailing_list              0.004322\n",
       "if_invited                            0.003373\n",
       "enabled_for_marketing_drip            0.002880\n",
       "creation_source_ORG_INVITE            0.002045\n",
       "creation_source_SIGNUP                0.001684"
      ]
     },
     "execution_count": 121,
     "metadata": {},
     "output_type": "execute_result"
    }
   ],
   "source": [
    "model_features = pd.DataFrame(rf_grid_cv.best_estimator_.named_steps.randomforestclassifier.feature_importances_)\n",
    "model_features.index = X.columns\n",
    "model_features.columns=['Importance']\n",
    "model_features.sort_values(by='Importance', ascending=False)"
   ]
  },
  {
   "cell_type": "code",
   "execution_count": 122,
   "id": "22e2fc7b",
   "metadata": {},
   "outputs": [
    {
     "data": {
      "text/plain": [
       "Text(0, 0.5, 'Coefficient')"
      ]
     },
     "execution_count": 122,
     "metadata": {},
     "output_type": "execute_result"
    },
    {
     "data": {
      "image/png": "[encoded data removed]",
      "text/plain": [
       "<Figure size 576x432 with 1 Axes>"
      ]
     },
     "metadata": {
      "needs_background": "light"
     },
     "output_type": "display_data"
    }
   ],
   "source": [
    "fig, ax=plt.subplots()\n",
    "model_features.sort_values(by='Importance', ascending=False).iloc[:, model_features.columns.get_loc('Importance')].plot(kind='bar', figsize=(8,6))\n",
    "ax.set_title('Feature importance of random forest classifier')\n",
    "ax.set_ylabel('Coefficient')\n"
   ]
  },
  {
   "cell_type": "markdown",
   "id": "9714c8d6",
   "metadata": {},
   "source": [
    "As seen in the plot _Active window_, which is the diffirence between the time a user creates its account and the last time he/she login, is the most influential parameter in determining if a user will be an adopted user or not. This finding is align with exploratory analysis that was done earlier."
   ]
  },
  {
   "cell_type": "markdown",
   "id": "cde6b41a",
   "metadata": {},
   "source": [
    "## Apply the model to the test data"
   ]
  },
  {
   "cell_type": "code",
   "execution_count": 123,
   "id": "a57a9927",
   "metadata": {},
   "outputs": [],
   "source": [
    "y_pred = rf_grid_cv.best_estimator_.predict(X_test)"
   ]
  },
  {
   "cell_type": "code",
   "execution_count": 124,
   "id": "2056845c",
   "metadata": {},
   "outputs": [
    {
     "name": "stdout",
     "output_type": "stream",
     "text": [
      "0.924543807155801\n"
     ]
    },
    {
     "data": {
      "text/plain": [
       "<sklearn.metrics._plot.roc_curve.RocCurveDisplay at 0x157751fbd00>"
      ]
     },
     "execution_count": 124,
     "metadata": {},
     "output_type": "execute_result"
    },
    {
     "data": {
      "image/png": "[encoded data removed]",
      "text/plain": [
       "<Figure size 432x288 with 1 Axes>"
      ]
     },
     "metadata": {
      "needs_background": "light"
     },
     "output_type": "display_data"
    }
   ],
   "source": [
    "print(roc_auc_score(y_test, y_pred))\n",
    "metrics.plot_roc_curve(rf_grid_cv.best_estimator_, X_test, y_test)"
   ]
  },
  {
   "cell_type": "code",
   "execution_count": 125,
   "id": "698de1f9",
   "metadata": {},
   "outputs": [
    {
     "name": "stdout",
     "output_type": "stream",
     "text": [
      "              precision    recall  f1-score   support\n",
      "\n",
      "           0       0.98      0.99      0.98      3112\n",
      "           1       0.92      0.86      0.89       488\n",
      "\n",
      "    accuracy                           0.97      3600\n",
      "   macro avg       0.95      0.92      0.94      3600\n",
      "weighted avg       0.97      0.97      0.97      3600\n",
      "\n"
     ]
    }
   ],
   "source": [
    "print(classification_report(y_test, y_pred))"
   ]
  },
  {
   "cell_type": "markdown",
   "id": "e615ef45",
   "metadata": {},
   "source": [
    "## 8. Summary <a class='anchor' id='summary'><a/>"
   ]
  },
  {
   "cell_type": "markdown",
   "id": "6e99f718",
   "metadata": {},
   "source": [
    "In this notebook, I generated a predictive model to predict future user adoptation. Two data files were available; one a history of users' login and a second one which includes users' info such as name and email.\n",
    "\n",
    "These are the steps I did to clean, explore and analyze the data:\n",
    "\n",
    "1. Addressed the missing data points. \n",
    "2. Generated a new feature to estimate the time period a user has been on the platform\n",
    "3. Defined a function and found adopted users based on the given definition.\n",
    "3. Checked if the data is imbalanced\n",
    "4. Explored the data and ploted several features to explore effects of various features on adoption\n",
    "5. Changed categorical data to numerical columns\n",
    "6. Splited the data\n",
    "7. Made a pipeline and trained a random forest classifier\n",
    "8. Performed grid search\n",
    "9. Studied feature importance.\n",
    "10. Applied the model to the testing data set and evaluate its performance\n",
    " \n",
    "\n",
    "What I found can be summarized as follow:\n",
    "\n",
    "1. Only 13% of users are adopted users. Therefore, our data set is imbalanced.\n",
    "2. The majority of users use the platform shorter than 100 days.\n",
    "3. Plotting user adoption versus different factors did not show any specific correlation with being in the mailing list or the marketing list. However, the _Active window_, the time length a user has been using the platforme was effective.\n",
    "4. The random forest classifier modeled with .89 f score and the area under the ROC curve was 0.93. So the model performs pretty well in predicting user adoption\n",
    "5. _Active window_, which is the diffirence between the time a user creates its account and the last time he/she login, is the most influential parameter in determining if a user will be an adopted user or not. Creation source was the second influential parameter followed by if the user is in the mailing list or not.\n",
    "\n",
    "What can be done better?\n",
    "\n",
    "1. I did not look at the emails and if email domains used by users have any influence on user adoption or not.\n",
    "2. The data is imbalanced and while the model performed pretty well, it can still be improved by addressing the imbalanced data.\n",
    "3. There is computational restrictions. With more computational power,  a bigger grid with more parameters can be searched for hyperparameter tunning.   \n",
    "4. A learning curve can be provided to show if further data is needed or not. However, given the good performance of the model, we can conclude that we have enough data.\n",
    "\n",
    "5. Other models such as logistic regression can be applied to the data to compare the result with random forest and improve the classification.\n",
    "\n",
    "\n",
    "\n",
    "\n"
   ]
  },
  {
   "cell_type": "code",
   "execution_count": null,
   "id": "9541faaf",
   "metadata": {},
   "outputs": [],
   "source": []
  }
 ],
 "metadata": {
  "kernelspec": {
   "display_name": "Python 3",
   "language": "python",
   "name": "python3"
  },
  "language_info": {
   "codemirror_mode": {
    "name": "ipython",
    "version": 3
   },
   "file_extension": ".py",
   "mimetype": "text/x-python",
   "name": "python",
   "nbconvert_exporter": "python",
   "pygments_lexer": "ipython3",
   "version": "3.8.8"
  }
 },
 "nbformat": 4,
 "nbformat_minor": 5
}
